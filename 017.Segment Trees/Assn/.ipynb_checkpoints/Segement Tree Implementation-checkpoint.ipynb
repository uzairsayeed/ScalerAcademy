{
 "cells": [
  {
   "cell_type": "code",
   "execution_count": 129,
   "metadata": {},
   "outputs": [
    {
     "name": "stdout",
     "output_type": "stream",
     "text": [
      "48\n",
      "[78, 21, 57, 6, 15, 24, 33, 3, 3, 9, 6, 15, 9, 21, 12, 1, 2, -1, -1, 4, 5, -1, -1, 7, 8, -1, -1, 10, 11, -1, -1, -1, -1, -1, -1, -1, -1, -1, -1, -1, -1, -1, -1, -1, -1, -1, -1, -1]\n",
      "9\n",
      "[76, 19, 57, 4, 15, 24, 33, 3, 1, 9, 6, 15, 9, 21, 12, 1, 2, -1, -1, 4, 5, -1, -1, 7, 8, -1, -1, 10, 11, -1, -1, -1, -1, -1, -1, -1, -1, -1, -1, -1, -1, -1, -1, -1, -1, -1, -1, -1]\n",
      "7\n"
     ]
    }
   ],
   "source": [
    "def buildTree(a):\n",
    "    n = len(a)\n",
    "    tree = [-1 for i in range(4*n)]\n",
    "    print(len(tree))\n",
    "    def build(s, e, node_pos):\n",
    "        #print(s,e,node_pos)\n",
    "        if s == e:\n",
    "            #print('ooo', s, e, node_pos)\n",
    "            tree[node_pos] = a[s]\n",
    "            #print(tree)\n",
    "            return\n",
    "        m = (s+e)//2\n",
    "        #print('yess', s, m, e, node_pos)\n",
    "        build(s, m, 2*node_pos+1)\n",
    "        build(m+1, e, 2*node_pos+2)\n",
    "        #print('nooo', tree)\n",
    "        tree[node_pos] = tree[2*node_pos+1] + tree[2*node_pos+2]\n",
    "    build(0, n-1, 0)\n",
    "    return tree\n",
    "\n",
    "def rangeQuery(tree, a, qL, qR):\n",
    "    n = len(a)\n",
    "    def query(qL, qR, s, e, node_pos):\n",
    "        if qL <= s and qR >= e:\n",
    "            return tree[node_pos]\n",
    "        if qL > e or qR < s:\n",
    "            return 0\n",
    "        m = (s+e)//2\n",
    "        return query(qL, qR, s, m, 2*node_pos+1) + query(qL, qR, m+1, e, 2*node_pos+2)\n",
    "    return query(qL, qR, 0, n-1, 0)\n",
    "\n",
    "def updateQuery(tree, a, idx, val):\n",
    "    n = len(a)\n",
    "    def update(idx, val, s, e, node_pos):\n",
    "        if s == e:\n",
    "            a[idx] = val\n",
    "            tree[node_pos] = val\n",
    "        else:\n",
    "            m = (s+e)//2\n",
    "            if s <= idx and idx <= m:\n",
    "                update(idx, val, s, m, 2*node_pos+1)\n",
    "            else:\n",
    "                update(idx, val, m+1, e, 2*node_pos+2)\n",
    "            tree[node_pos] = tree[2*node_pos+1] + tree[2*node_pos+2]\n",
    "    update(idx, val, 0, n-1, 0)\n",
    "    return tree\n",
    "\n",
    "\n",
    "a = [1, 2, 3, 4, 5, 6, 7, 8, 9, 10, 11, 12]\n",
    "tree = buildTree(a)\n",
    "print(tree)\n",
    "print(rangeQuery(tree, a, 1, 3))\n",
    "print(updateQuery(tree, a, 2, 1))\n",
    "print(rangeQuery(tree, a, 1, 3))"
   ]
  }
 ],
 "metadata": {
  "kernelspec": {
   "display_name": "Python 3",
   "language": "python",
   "name": "python3"
  },
  "language_info": {
   "codemirror_mode": {
    "name": "ipython",
    "version": 3
   },
   "file_extension": ".py",
   "mimetype": "text/x-python",
   "name": "python",
   "nbconvert_exporter": "python",
   "pygments_lexer": "ipython3",
   "version": "3.7.3"
  }
 },
 "nbformat": 4,
 "nbformat_minor": 2
}
