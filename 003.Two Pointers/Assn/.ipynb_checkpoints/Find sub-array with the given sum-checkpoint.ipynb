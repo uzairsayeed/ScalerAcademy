{
 "cells": [
  {
   "cell_type": "markdown",
   "metadata": {},
   "source": [
    "## Find sub-array with the given sum:\n",
    "Given an array of positive integers A and an integer B, find and return first continuous subarray which adds to B. If the answer does not exist return an array with a single element \"-1\".\n",
    "\n",
    "### Note: First sub-array means the sub-array for which starting index in minimum. \n",
    "\n",
    "### Input Format\n",
    "The first argument given is the integer array A.\n",
    "\n",
    "The second argument given is integer B.\n",
    "\n",
    "### Output Format\n",
    "Return the first continuous sub-array which adds to B and if the answer does not exist return an array with a single element \"-1\".\n",
    "\n",
    "### Constraints\n",
    "1 <= length of the array <= 100000\n",
    "\n",
    "1 <= A[i] <= 10^9 \n",
    "\n",
    "1 <= B <= 10^9\n",
    "\n",
    "## For Example\n",
    "### Input 1:\n",
    "    A = [1, 2, 3, 4, 5]\n",
    "    \n",
    "    B = 5\n",
    "\n",
    "### Output 1:\n",
    "    [2, 3]\n",
    "\n",
    "### Input 2:\n",
    "    A = [5, 10, 20, 100, 105]\n",
    "    \n",
    "    B = 110\n",
    "\n",
    "### Output 2:\n",
    "    [-1]"
   ]
  },
  {
   "cell_type": "code",
   "execution_count": 45,
   "metadata": {},
   "outputs": [
    {
     "name": "stdout",
     "output_type": "stream",
     "text": [
      "[1000000000]\n"
     ]
    }
   ],
   "source": [
    "class Solution:\n",
    "    # @param A : list of integers\n",
    "    # @param B : integer\n",
    "    # @return a list of integers\n",
    "    def solve(self, a, k):\n",
    "        n = len(a)\n",
    "        s, e = -1, -1\n",
    "        i, j = 0, 0\n",
    "        sum = 0\n",
    "        while i<=j and j<n:\n",
    "            if n == 2:\n",
    "                n+=1\n",
    "            if sum < k:\n",
    "                sum += a[j]\n",
    "                j+=1\n",
    "                #print(sum, i, j)\n",
    "            elif sum > k:\n",
    "                #print(i, a[i], sum, sum-a[i])\n",
    "                i+=1\n",
    "                sum = sum - a[i-1]\n",
    "                #print(sum)\n",
    "            else:\n",
    "                #print(i, j)\n",
    "                s, e = i, j\n",
    "                break\n",
    "        if s == -1 and e == -1:\n",
    "            return [-1]\n",
    "        else:\n",
    "            res = []\n",
    "            for i in range(s, e):\n",
    "                res.append(a[i])\n",
    "            return res\n",
    "        \n",
    "o = Solution()\n",
    "a = [1, 1000000000]\n",
    "k = 1000000000 \n",
    "print(o.solve(a, k))\n"
   ]
  }
 ],
 "metadata": {
  "kernelspec": {
   "display_name": "Python 3",
   "language": "python",
   "name": "python3"
  },
  "language_info": {
   "codemirror_mode": {
    "name": "ipython",
    "version": 3
   },
   "file_extension": ".py",
   "mimetype": "text/x-python",
   "name": "python",
   "nbconvert_exporter": "python",
   "pygments_lexer": "ipython3",
   "version": "3.7.3"
  }
 },
 "nbformat": 4,
 "nbformat_minor": 2
}
