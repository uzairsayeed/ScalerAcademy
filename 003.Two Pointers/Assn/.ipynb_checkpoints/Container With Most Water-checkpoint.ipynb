{
 "cells": [
  {
   "cell_type": "markdown",
   "metadata": {},
   "source": [
    "## Container With Most Water:\n",
    "Problem Description\n",
    "\n",
    "Given n non-negative integers A[0], A[1], ..., A[n-1] , where each represents a point at coordinate (i, A[i]). N vertical lines are drawn such that the two endpoints of line i is at (i, A[i]) and (i, 0). Find two lines, which together with x-axis forms a container, such that the container contains the most water.\n",
    "\n",
    "### Note: You may not slant the container. \n",
    "\n",
    "### Problem Constraints\n",
    "0 <= N <= 105 1 <= A[i] <= 105 \n",
    "\n",
    "### Input Format\n",
    "Single Argument representing a 1-D array A.\n",
    "\n",
    "### Output Format\n",
    "Single Integer denoting the maximum area you can obtain.\n",
    "\n",
    "### Example Input\n",
    "A = [1,5,4,3]\n",
    "\n",
    "### Example Output\n",
    "6\n",
    "\n",
    "### Example Explanation\n",
    "5 and 3 are distance 2 apart. So size of the base = 2. Height of container = min(5, 3) = 3. \n",
    "\n",
    "So total area = 3 * 2 = 6"
   ]
  },
  {
   "cell_type": "code",
   "execution_count": 24,
   "metadata": {},
   "outputs": [
    {
     "name": "stdout",
     "output_type": "stream",
     "text": [
      "12\n"
     ]
    }
   ],
   "source": [
    "class Solution:\n",
    "\t# @param A : list of integers\n",
    "\t# @return an integer\n",
    "    def maxArea(self, h):\n",
    "        n = len(h)\n",
    "        i, j = 0, n-1\n",
    "        area = 0\n",
    "        while i < j:\n",
    "            #print(i, j, h[j], h[i])\n",
    "            curr = min(h[i], h[j]) * (j-i)\n",
    "            area = max(area, curr)\n",
    "            if h[j] >= h[i]:\n",
    "                i+=1\n",
    "            else:\n",
    "                j-=1\n",
    "        return area\n",
    "    \n",
    "o = Solution()\n",
    "a = [3,1,4,2,5]\n",
    "print(o.maxArea(a))"
   ]
  }
 ],
 "metadata": {
  "kernelspec": {
   "display_name": "Python 3",
   "language": "python",
   "name": "python3"
  },
  "language_info": {
   "codemirror_mode": {
    "name": "ipython",
    "version": 3
   },
   "file_extension": ".py",
   "mimetype": "text/x-python",
   "name": "python",
   "nbconvert_exporter": "python",
   "pygments_lexer": "ipython3",
   "version": "3.7.3"
  }
 },
 "nbformat": 4,
 "nbformat_minor": 2
}
