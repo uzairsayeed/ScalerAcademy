{
 "cells": [
  {
   "cell_type": "markdown",
   "metadata": {},
   "source": [
    "## Count of rectangles with area less than the given number:\n",
    "Given a sorted array of distinct integers A and an integer B, find and return how many rectangles with distinct configurations can be created using elements of this array as length and breadth whose area is lesser than B.\n",
    "\n",
    "(Note that a rectangle of 2 x 3 is different from 3 x 2 if we take configuration into view) \n",
    "\n",
    "### For example:\n",
    "\n",
    "A = [2 3 5],  B = 15\n",
    "\n",
    "Answer = 6 (2 x 2, 2 x 3, 2 x 5, 3 x 2, 3 x 3, 5 x 2)\n",
    "\n",
    "### Note: As the answer may be large return the answer modulo (10^9 + 7). \n",
    "\n",
    "### Input Format\n",
    "The first argument given is the integer array A.\n",
    "\n",
    "The second argument given is integer B.\n",
    "\n",
    "### Output Format\n",
    "Return the number of rectangles with distinct configurations with area less than B modulo (10^9 + 7).\n",
    "\n",
    "### Constraints\n",
    "1 <= length of the array <= 100000\n",
    "\n",
    "1 <= A[i] <= 10^9 \n",
    "\n",
    "1 <= B <= 10^9\n",
    "\n",
    "## For Example\n",
    "### Input 1:\n",
    "    A = [1, 2, 3, 4, 5]\n",
    "    \n",
    "    B = 5\n",
    "\n",
    "### Output 1:\n",
    "    8\n",
    "\n",
    "### Input 2:\n",
    "    A = [5, 10, 20, 100, 105]\n",
    "    \n",
    "    B = 110\n",
    "\n",
    "### Output 2:\n",
    "    6"
   ]
  },
  {
   "cell_type": "code",
   "execution_count": 2,
   "metadata": {},
   "outputs": [
    {
     "name": "stdout",
     "output_type": "stream",
     "text": [
      "8\n"
     ]
    }
   ],
   "source": [
    "class Solution:\n",
    "    # @param A : list of integers\n",
    "    # @param B : integer\n",
    "    # @return an integer\n",
    "    def solve(self, a, k):\n",
    "        n = len(a)\n",
    "        i, j, cnt = 0, n-1, 0\n",
    "        while i <= j:\n",
    "            area = a[i]*a[j]\n",
    "            if area >= k:\n",
    "                j-=1\n",
    "            else:\n",
    "                cnt += 2*(j-i+1) - 1\n",
    "                i+=1\n",
    "        return cnt%m\n",
    "    \n",
    "o = Solution()\n",
    "a = [1,2,3,4,5]\n",
    "k = 5\n",
    "print(o.solve(a,k))\n"
   ]
  }
 ],
 "metadata": {
  "kernelspec": {
   "display_name": "Python 3",
   "language": "python",
   "name": "python3"
  },
  "language_info": {
   "codemirror_mode": {
    "name": "ipython",
    "version": 3
   },
   "file_extension": ".py",
   "mimetype": "text/x-python",
   "name": "python",
   "nbconvert_exporter": "python",
   "pygments_lexer": "ipython3",
   "version": "3.7.3"
  }
 },
 "nbformat": 4,
 "nbformat_minor": 2
}
