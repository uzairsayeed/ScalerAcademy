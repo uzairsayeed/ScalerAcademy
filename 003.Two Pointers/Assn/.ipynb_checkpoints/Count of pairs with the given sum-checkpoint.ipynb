{
 "cells": [
  {
   "cell_type": "markdown",
   "metadata": {},
   "source": [
    "## Count of pairs with the given sum:\n",
    "Given a sorted array of distinct integers A and an integer B, find and return how many pair of integers ( A[i], A[j] ) such that i != j have sum equal to B. \n",
    "\n",
    "### Input Format\n",
    "The first argument given is the integer array A.\n",
    "\n",
    "The second argument given is integer B.\n",
    "\n",
    "### Output Format\n",
    "Return the number of pairs for which sum is equal to B.\n",
    "\n",
    "### Constraints\n",
    "1 <= length of the array <= 100000\n",
    "\n",
    "1 <= A[i] <= 10^9 \n",
    "\n",
    "1 <= B <= 10^9\n",
    "\n",
    "## For Example\n",
    "### Input 1:\n",
    "    A = [1, 2, 3, 4, 5]\n",
    "    \n",
    "    B = 5\n",
    "\n",
    "### Output 1:\n",
    "    2\n",
    "\n",
    "### Input 2:\n",
    "    A = [5, 10, 20, 100, 105]\n",
    "    \n",
    "    B = 110\n",
    "\n",
    "### Output 2:\n",
    "    2"
   ]
  },
  {
   "cell_type": "code",
   "execution_count": 6,
   "metadata": {},
   "outputs": [
    {
     "name": "stdout",
     "output_type": "stream",
     "text": [
      "2\n"
     ]
    }
   ],
   "source": [
    "class Solution:\n",
    "    # @param A : list of integers\n",
    "    # @param B : integer\n",
    "    # @return an integer\n",
    "    def solve(self, a, k):\n",
    "        n = len(a)\n",
    "        i, j = 0, n-1\n",
    "        cnt = 0\n",
    "        while i < j:\n",
    "            sum = a[i] + a[j]\n",
    "            #print(sum)\n",
    "            if sum > k:\n",
    "                j-=1\n",
    "            elif sum < k:\n",
    "                i+=1\n",
    "            else:\n",
    "                cnt+=1\n",
    "                i+=1\n",
    "        return cnt\n",
    "    \n",
    "o = Solution()\n",
    "a = [5, 10, 20, 100, 105]\n",
    "k = 110\n",
    "print(o.solve(a,k))\n"
   ]
  }
 ],
 "metadata": {
  "kernelspec": {
   "display_name": "Python 3",
   "language": "python",
   "name": "python3"
  }
 },
 "nbformat": 4,
 "nbformat_minor": 2
}
