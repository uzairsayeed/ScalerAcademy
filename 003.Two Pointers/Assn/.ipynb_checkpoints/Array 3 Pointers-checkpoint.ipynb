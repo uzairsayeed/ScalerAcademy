{
 "cells": [
  {
   "cell_type": "markdown",
   "metadata": {},
   "source": [
    "## Array 3 Pointers:\n",
    "Problem Description\n",
    "\n",
    "You are given 3 arrays A, B and C. All 3 of the arrays are sorted. Find i, j, k such that : max(abs(A[i] - B[j]), abs(B[j] - C[k]), abs(C[k] - A[i])) is minimized. Return the minimum max(abs(A[i] - B[j]), abs(B[j] - C[k]), abs(C[k] - A[i])). abs(x) is absolute value of x and is implemented in the following manner : if (x < 0) return (-x)\n",
    "else return (x) \n",
    "\n",
    "### Problem Constraints\n",
    "0 <= len(A),len(B),len(c) <= 106 0 <= A[i],B[i],C[i] <= 107 \n",
    "\n",
    "### Input Format\n",
    "First argument is an integer array A. Second argument is an integer array B. Third argument is an integer array C. \n",
    "\n",
    "### Output Format\n",
    "Return an single integer denoting the minimum max(abs(A[i] - B[j]), abs(B[j] - C[k]), abs(C[k] - A[i])).\n",
    "\n",
    "### Example Input\n",
    "A = [1, 4, 10]\n",
    "\n",
    "B = [2, 15, 20]\n",
    "\n",
    "C = [10, 12]\n",
    "\n",
    "### Example Output\n",
    "5\n",
    "\n",
    "### Example Explanation\n",
    "With 10 from A, 15 from B and 10 from C."
   ]
  },
  {
   "cell_type": "code",
   "execution_count": 17,
   "metadata": {},
   "outputs": [
    {
     "name": "stdout",
     "output_type": "stream",
     "text": [
      "10 1 9\n",
      "10 2 8\n",
      "15 4 11\n",
      "15 10 5\n",
      "5\n"
     ]
    }
   ],
   "source": [
    "class Solution:\n",
    "\t# @param A : tuple of integers\n",
    "\t# @param B : tuple of integers\n",
    "\t# @param C : tuple of integers\n",
    "\t# @return an integer\n",
    "    def minimize(self, a, b, c):\n",
    "        i, j, k = 0, 0, 0\n",
    "        l, m, n = len(a), len(b), len(c)\n",
    "        res = float('inf')\n",
    "        while i<l and j<m and k<n:\n",
    "            x, y = max(a[i], b[j], c[k]), min(a[i], b[j], c[k])\n",
    "            ans = x-y\n",
    "            res = min(res, ans)\n",
    "            #print(ans, x, y, z)\n",
    "            if y == a[i]:\n",
    "                i+=1\n",
    "            elif y == b[j]:\n",
    "                j+=1\n",
    "            else:\n",
    "                k+=1\n",
    "        return res\n",
    "    \n",
    "o = Solution()\n",
    "A = [1, 4, 10]\n",
    "\n",
    "B = [2, 15, 20]\n",
    "\n",
    "C = [10, 12]\n",
    "\n",
    "print(o.minimize(A,B,C))\n"
   ]
  },
  {
   "cell_type": "code",
   "execution_count": 9,
   "metadata": {},
   "outputs": [
    {
     "name": "stdout",
     "output_type": "stream",
     "text": [
      "3\n"
     ]
    }
   ],
   "source": [
    "a,b,c = 2,3,3\n",
    "print(max(a,b,c))"
   ]
  }
 ],
 "metadata": {
  "kernelspec": {
   "display_name": "Python 3",
   "language": "python",
   "name": "python3"
  },
  "language_info": {
   "codemirror_mode": {
    "name": "ipython",
    "version": 3
   },
   "file_extension": ".py",
   "mimetype": "text/x-python",
   "name": "python",
   "nbconvert_exporter": "python",
   "pygments_lexer": "ipython3",
   "version": "3.7.3"
  }
 },
 "nbformat": 4,
 "nbformat_minor": 2
}
