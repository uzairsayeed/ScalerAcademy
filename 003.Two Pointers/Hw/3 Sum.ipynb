{
 "cells": [
  {
   "cell_type": "markdown",
   "metadata": {},
   "source": [
    "## 3 Sum:\n",
    "Problem Description\n",
    "\n",
    "Given an array A of N integers, find three integers in A such that the sum is closest to a given number B. Return the sum of those three integers. Assume that there will only be one solution.    \n",
    "\n",
    "### Problem Constraints\n",
    "-108 <= B <= 108\n",
    "\n",
    "1 <= N <= 104\n",
    "\n",
    "-108 <= A[i] <= 108\n",
    "\n",
    "### Input Format\n",
    "First argument is an integer array A of size N. Second argument is an integer B denoting the sum you need to get close to.    \n",
    "### Output Format\n",
    "Return a single integer denoting the sum of three integers which is closest to B.\n",
    "\n",
    "## Example Input\n",
    "### Input 1:\n",
    "A = [-1, 2, 1, -4]\n",
    "\n",
    "B = 1\n",
    "\n",
    "### Input 2:        \n",
    "A = [1, 2, 3]\n",
    "\n",
    "B = 6\n",
    "\n",
    "## Example Output\n",
    "### Output 1:\n",
    "2\n",
    "\n",
    "###  Output 2:        \n",
    "6\n",
    "     \n",
    "## Example Explanation\n",
    "### Explanation 1:\n",
    " The sum that is closest to the target is 2. (-1 + 2 + 1 = 2)\n",
    "\n",
    "### Explanation 2:        \n",
    " Take all elements to get exactly 6."
   ]
  },
  {
   "cell_type": "code",
   "execution_count": null,
   "metadata": {},
   "outputs": [],
   "source": [
    "class Solution:\n",
    "    # @param A : list of integers\n",
    "    # @param B : integer\n",
    "    # @return an integer\n",
    "    def threeSumClosest(self, A, B):\n",
    "        n = len(A)\n",
    "        if n == 0:\n",
    "            return B\n",
    "        A.sort()\n",
    "        minDiff = 2147483648\n",
    "        ret = 0\n",
    "        for i in range(n):\n",
    "            j = i + 1\n",
    "            k = n - 1\n",
    "            while j < k :\n",
    "                temp = A[i]+A[j]+A[k]\n",
    "                diff = abs(temp-B)\n",
    "                if diff == 0:\n",
    "                    return temp\n",
    "                if diff < minDiff:\n",
    "                    minDiff = diff\n",
    "                    ret = temp\n",
    "                if temp <= B:\n",
    "                    j += 1\n",
    "                else:\n",
    "                    k -= 1\n",
    "        return ret    "
   ]
  }
 ],
 "metadata": {
  "kernelspec": {
   "display_name": "Python 3",
   "language": "python",
   "name": "python3"
  },
  "language_info": {
   "codemirror_mode": {
    "name": "ipython",
    "version": 3
   },
   "file_extension": ".py",
   "mimetype": "text/x-python",
   "name": "python",
   "nbconvert_exporter": "python",
   "pygments_lexer": "ipython3",
   "version": "3.7.3"
  }
 },
 "nbformat": 4,
 "nbformat_minor": 2
}
