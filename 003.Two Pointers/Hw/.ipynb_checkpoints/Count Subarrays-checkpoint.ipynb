{
 "cells": [
  {
   "cell_type": "markdown",
   "metadata": {},
   "source": [
    "## Count Subarrays:\n",
    "Problem Description\n",
    "\n",
    "Misha likes finding all Subarrays of an Array. Now she gives you an array A of N elements and told you to find the number of subarrays of A, that have unique elements. Since the number of subarrays could be large, return value % 109 +7. \n",
    "\n",
    "### Problem Constraints\n",
    "1 <= N <= 105 1 <= A[i] <= 106  \n",
    "\n",
    "### Input Format\n",
    "The only argument given is an Array A, having N integers.\n",
    "\n",
    "### Output Format\n",
    "Return the number of subarrays of A, that have unique elements.\n",
    "\n",
    "### Example Input\n",
    "A = [1, 1, 3]\n",
    "\n",
    "### Example Output\n",
    "4\n",
    "\n",
    "### Example Explanation\n",
    "Subarrays of A that have unique elements only:\n",
    "\n",
    "[1], [1], [1, 3], [3]"
   ]
  },
  {
   "cell_type": "code",
   "execution_count": 118,
   "metadata": {
    "scrolled": true
   },
   "outputs": [
    {
     "name": "stdout",
     "output_type": "stream",
     "text": [
      "775\n"
     ]
    }
   ],
   "source": [
    "class Solution:\n",
    "    # @param A : list of integers\n",
    "    # @return an integer\n",
    "    def solve(self, a):\n",
    "        m = 10**9+7\n",
    "        n = len(a)\n",
    "        d = {}\n",
    "        i, j = 0, 0\n",
    "        ans = 0\n",
    "        while i < n and j < n:\n",
    "            check_in_d = d.get(a[j], -1)\n",
    "            if check_in_d != -1:\n",
    "                k = j-i\n",
    "                ans += ((k * (k+1)) // 2)%m\n",
    "                t = i\n",
    "                i = d[a[j]]+1\n",
    "                for x in range(t, i):\n",
    "                    d.pop(a[x])\n",
    "                ans -= ((j-i) * (j-i+1))//2\n",
    "                d[a[j]] = j\n",
    "                j+=1\n",
    "                #print(ans)\n",
    "            else:\n",
    "                d[a[j]] = j\n",
    "                j+=1\n",
    "                    \n",
    "        if j!=i:\n",
    "            ans += ((j-i) * (j-i+1))//2\n",
    "            ans%m\n",
    "        return ans%m\n",
    "\n",
    "o = Solution()\n",
    "a = [ 93, 9, 12, 32, 97, 75, 32, 77, 40, 79, 61, 42, 57, 19, 64, 16, 86, 47, 41, 67, 76, 63, 24, 10, 25, 96, 1, 30, 73, 91, 70, 65, 53, 75, 5, 19, 65, 6, 96, 33, 73, 55, 4, 90, 72, 83, 54, 78, 67, 56, 8, 70, 43, 63 ]\n",
    "b = [1,2,3,4,5,6,7,3,9,10,11,12]\n",
    "c = [1,1,2,2]\n",
    "print(o.solve(a))"
   ]
  }
 ],
 "metadata": {
  "kernelspec": {
   "display_name": "Python 3",
   "language": "python",
   "name": "python3"
  },
  "language_info": {
   "codemirror_mode": {
    "name": "ipython",
    "version": 3
   },
   "file_extension": ".py",
   "mimetype": "text/x-python",
   "name": "python",
   "nbconvert_exporter": "python",
   "pygments_lexer": "ipython3",
   "version": "3.7.3"
  }
 },
 "nbformat": 4,
 "nbformat_minor": 2
}
