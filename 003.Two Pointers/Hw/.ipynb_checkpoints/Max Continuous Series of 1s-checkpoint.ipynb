{
 "cells": [
  {
   "cell_type": "markdown",
   "metadata": {},
   "source": [
    "## Max Continuous Series of 1s:\n",
    "Problem Description\n",
    "\n",
    "Given a binary array A, find the maximum sequence of continuous 1's that can be formed by replacing at-most B ones. For this problem, return the indices of maximum continuous series of 1s in order. If there are multiple possible solutions, return the sequence which has the minimum start index.  \n",
    "\n",
    "### Problem Constraints\n",
    "0 <= M <= 105 1 <= size(A) <= 105 A[i]==0 or A[i]==1  \n",
    "\n",
    "### Input Format\n",
    "First argument is an binary array A. Second argument is an integer B.  \n",
    "\n",
    "### Output Format\n",
    "Return an array of integers denoting the indices(0-based) of 1's in the maximum continuous series.\n",
    "\n",
    "### Example Input\n",
    "A = [1 1 0 1 1 0 0 1 1 1 ]\n",
    "B = 1\n",
    "\n",
    "### Example Output\n",
    "[0,1,2,3,4]\n",
    "\n",
    "### Example Explanation\n",
    "Flipping 0 present at index 2 gives us the longest continous series of 1's i.e subarray [0:4]."
   ]
  },
  {
   "cell_type": "code",
   "execution_count": 84,
   "metadata": {},
   "outputs": [
    {
     "name": "stdout",
     "output_type": "stream",
     "text": [
      "[5, 6]\n"
     ]
    }
   ],
   "source": [
    "class Solution:\n",
    "    # @param A : list of integers\n",
    "    # @param B : integer\n",
    "    # @return a list of integers\n",
    "    def maxone(self, a, k):\n",
    "        n = len(a)\n",
    "        i, j = 0, 0\n",
    "        final = []\n",
    "        if k == 0:\n",
    "            s, e = 0, 0\n",
    "            l = float('-inf')\n",
    "            while i < len(a):\n",
    "                if a[i] == 1:\n",
    "                    i+=1\n",
    "                else:\n",
    "                    c = i-j\n",
    "                    #print(c,s, e, j, i)\n",
    "                    if c > l:\n",
    "                        l = c\n",
    "                        s,e= j, i\n",
    "                    elif c == l:\n",
    "                        if s > j:\n",
    "                            s,e = j, i\n",
    "                    j = i+1\n",
    "                    i = i+1\n",
    "            #print(s, e, j, i)\n",
    "            if (e-s) >= (i-j):\n",
    "                t1, t2 = s, e\n",
    "            else:\n",
    "                t1, t2 = j, i\n",
    "            for i in range(t1, t2):\n",
    "                final.append(i)\n",
    "        else:\n",
    "            ans = {} \n",
    "            max_len = float('-inf')\n",
    "            while i < n:\n",
    "                if a[i] == 0:\n",
    "                    k-=1\n",
    "                if k < 0:\n",
    "                    if a[j] == 0:\n",
    "                        k+=1\n",
    "                    j+=1\n",
    "                curr = i-j\n",
    "                if curr >= max_len:\n",
    "                    max_len = curr\n",
    "                    ans[tuple([j,i])] = i-j\n",
    "                i+=1\n",
    "            max_val = max(ans.values())\n",
    "            res = [float('inf'), float('inf')]\n",
    "            for key, value in ans.items(): \n",
    "                 if value == max_val:\n",
    "                        curr = key  \n",
    "                        if curr[0] < res[0]:\n",
    "                            res[0],res[1] = curr[0],curr[1]\n",
    "            for i in range(res[0], res[1]+1):\n",
    "                final.append(i)\n",
    "        return final                          \n",
    "                    \n",
    "        \n",
    "o = Solution()\n",
    "a = [ 0, 0, 1, 0, 0, 1, 1, 0, 1, 1 ]\n",
    "k = 0\n",
    "print(o.maxone(a,k))"
   ]
  }
 ],
 "metadata": {
  "kernelspec": {
   "display_name": "Python 3",
   "language": "python",
   "name": "python3"
  },
  "language_info": {
   "codemirror_mode": {
    "name": "ipython",
    "version": 3
   },
   "file_extension": ".py",
   "mimetype": "text/x-python",
   "name": "python",
   "nbconvert_exporter": "python",
   "pygments_lexer": "ipython3",
   "version": "3.7.3"
  }
 },
 "nbformat": 4,
 "nbformat_minor": 2
}
