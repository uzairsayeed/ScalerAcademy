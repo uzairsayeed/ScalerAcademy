{
 "cells": [
  {
   "cell_type": "markdown",
   "metadata": {},
   "source": [
    "## Diffk:\n",
    "Given an array 'A' of sorted integers and another non negative integer k, find if there exists 2 indices i and j such that A[i] - A[j] = k, i != j.\n",
    "\n",
    "### Example: Input : \n",
    "    A : [1 3 5] \n",
    "    \n",
    "    k : 4\n",
    "\n",
    "### Output : \n",
    "\n",
    "YES as 5 - 1 = 4 \n",
    "\n",
    "Return 0 / 1 ( 0 for false, 1 for true ) for this problem Try doing this in less than linear space complexity."
   ]
  },
  {
   "cell_type": "code",
   "execution_count": 29,
   "metadata": {},
   "outputs": [
    {
     "name": "stdout",
     "output_type": "stream",
     "text": [
      "0\n"
     ]
    }
   ],
   "source": [
    "class Solution:\n",
    "    # @param A : list of integers\n",
    "    # @param B : integer\n",
    "    # @return an integer\n",
    "    def diffPossible(self, A, B):\n",
    "        if len(A)<2:\n",
    "            return 0\n",
    "        i=0\n",
    "        j=1\n",
    "        while j<len(A) and i<len(A):\n",
    "            if A[j]-A[i]-B == 0 and i!=j:\n",
    "                return 1\n",
    "            elif A[j]-A[i]-B >0:\n",
    "                i+=1\n",
    "            elif A[j]-A[i]-B <0:\n",
    "                j+=1\n",
    "            else :\n",
    "                j+=1\n",
    "        return 0\n",
    "                \n",
    "o = Solution()\n",
    "a = [1,2,2,3,4]\n",
    "k = 0\n",
    "print(o.diffPossible(a,k))"
   ]
  }
 ],
 "metadata": {
  "kernelspec": {
   "display_name": "Python 3",
   "language": "python",
   "name": "python3"
  },
  "language_info": {
   "codemirror_mode": {
    "name": "ipython",
    "version": 3
   },
   "file_extension": ".py",
   "mimetype": "text/x-python",
   "name": "python",
   "nbconvert_exporter": "python",
   "pygments_lexer": "ipython3",
   "version": "3.7.3"
  }
 },
 "nbformat": 4,
 "nbformat_minor": 2
}
