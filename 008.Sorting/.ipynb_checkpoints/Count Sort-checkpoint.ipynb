{
 "cells": [
  {
   "cell_type": "code",
   "execution_count": 42,
   "metadata": {},
   "outputs": [
    {
     "name": "stdout",
     "output_type": "stream",
     "text": [
      "[2, 2, 2, 3, 5, 6, 9]\n"
     ]
    }
   ],
   "source": [
    "def count_sort(a):\n",
    "    n = len(a)\n",
    "    s = max(a)+1\n",
    "    cnt_arr = [0]*s\n",
    "    res = []\n",
    "    #print(cnt_arr)\n",
    "    for x in a:\n",
    "        #print(x, cnt_arr[x])\n",
    "        cnt_arr[x]+=1\n",
    "        #print(cnt_arr)\n",
    "    #print(cnt_arr)\n",
    "    for i in range(s):\n",
    "        #print(i, cnt_arr[i])\n",
    "        while cnt_arr[i] != 0:\n",
    "            #print('yesss', i, cnt_arr[i])\n",
    "            res.append(i)\n",
    "            cnt_arr[i]-=1\n",
    "            \n",
    "    return res\n",
    "a = [2,9,3,6,2,2,5]\n",
    "print(count_sort(a))"
   ]
  }
 ],
 "metadata": {
  "kernelspec": {
   "display_name": "Python 3",
   "language": "python",
   "name": "python3"
  },
  "language_info": {
   "codemirror_mode": {
    "name": "ipython",
    "version": 3
   },
   "file_extension": ".py",
   "mimetype": "text/x-python",
   "name": "python",
   "nbconvert_exporter": "python",
   "pygments_lexer": "ipython3",
   "version": "3.7.3"
  }
 },
 "nbformat": 4,
 "nbformat_minor": 2
}
