{
 "cells": [
  {
   "cell_type": "markdown",
   "metadata": {},
   "source": [
    "## B Closest Points to Origin:\n",
    "Problem Description\n",
    "\n",
    "We have a list A, of points(x,y) on the plane. Find the B closest points to the origin (0, 0). Here, the distance between two points on a plane is the Euclidean distance. You may return the answer in any order. The answer is guaranteed to be unique (except for the order that it is in.) NOTE: Euclidean distance between two points P1(x1,y1) and P2(x2,y2) is sqrt( (x1-x2)^2 + (y1-y2)^2 ).     \n",
    "\n",
    "### Problem Constraints\n",
    "1 <= B <= length of the list A <= 100000\n",
    "\n",
    "-100000 <= A[i][0] <= 100000\n",
    "\n",
    "-100000 <= A[i][1] <= 100000\n",
    "\n",
    "### Input Format\n",
    "The argument given is list A and an integer B.\n",
    "\n",
    "### Output Format\n",
    "Return the B closest points to the origin (0, 0) in any order.\n",
    "\n",
    "## Example Input\n",
    "### Input 1:\n",
    " A = [ \n",
    "       \n",
    "       [1, 3],\n",
    "       \n",
    "       [-2, 2] \n",
    "     \n",
    "     ]\n",
    "     \n",
    " B = 1\n",
    " \n",
    "### Input 2:\n",
    " A = [\n",
    "       \n",
    "       [1, -1],\n",
    "       \n",
    "       [2, -1]\n",
    "     ]\n",
    "     \n",
    " B = 1\n",
    " \n",
    "## Example Output\n",
    "### Output 1:\n",
    " [ [-2, 2] ]\n",
    "### Output 2:\n",
    " [ [1, -1] ]\n",
    " \n",
    "## Example Explanation\n",
    "### Explanation 1:\n",
    " The Euclidean distance will be sqrt(10) for point [1,3] and sqrt(8) for point [-2,2]. \n",
    " So one closest point will be [-2,2].\n",
    " \n",
    "### Explanation 2:\n",
    " The Euclidean distance will be sqrt(2) for point [1,-1] and sqrt(5) for point [2,-1].\n",
    " So one closest point will be [1,-1]."
   ]
  },
  {
   "cell_type": "code",
   "execution_count": 55,
   "metadata": {},
   "outputs": [
    {
     "name": "stdout",
     "output_type": "stream",
     "text": [
      "[[-2, 2]]\n"
     ]
    }
   ],
   "source": [
    "class Solution:\n",
    "    # @param A : list of list of integers\n",
    "    # @param B : integer\n",
    "    # @return a list of list of integers\n",
    "    def solve(self, a, b):\n",
    "        n = len(a)\n",
    "        d = []\n",
    "        for i in range(n):\n",
    "            curr = a[i][0]*a[i][0] + a[i][1]*a[i][1]\n",
    "            d.append([curr, i])\n",
    "        d.sort()\n",
    "        #print(d)\n",
    "        res = []\n",
    "        k = 0\n",
    "        while k<b:\n",
    "            res.append(a[d[k][1]])\n",
    "            k+=1\n",
    "        return res\n",
    "            \n",
    "        \n",
    "        \n",
    "o = Solution()\n",
    "A = [\n",
    "\n",
    "   [1, 3],\n",
    "\n",
    "   [-2, 2] \n",
    "\n",
    " ]\n",
    "B = 1\n",
    "print(o.solve(A,B))"
   ]
  }
 ],
 "metadata": {
  "kernelspec": {
   "display_name": "Python 3",
   "language": "python",
   "name": "python3"
  },
  "language_info": {
   "codemirror_mode": {
    "name": "ipython",
    "version": 3
   },
   "file_extension": ".py",
   "mimetype": "text/x-python",
   "name": "python",
   "nbconvert_exporter": "python",
   "pygments_lexer": "ipython3",
   "version": "3.7.3"
  }
 },
 "nbformat": 4,
 "nbformat_minor": 2
}
