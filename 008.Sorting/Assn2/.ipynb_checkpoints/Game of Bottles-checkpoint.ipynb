{
 "cells": [
  {
   "cell_type": "markdown",
   "metadata": {},
   "source": [
    "## Game of Bottles:\n",
    "Problem Description\n",
    "\n",
    "Given an array of integers A of size N which denotes N cylindrical empty bottles. The radius of the ith bottle is A[i]. You can put the ith bottle into the jth bottle if the following conditions are met:\n",
    "\n",
    "ith bottle is not put into another bottle.\n",
    "\n",
    "jth bottle dosen't contain any other bottle.\n",
    "\n",
    "The radius of bottle i is smaller than bottle j (A[i] < A[j]).\n",
    "\n",
    "You can put bottles into each other any number of times. You want to MINIMIZE the number of visible bottles. A bottle is called visible if it is not put into any other bottle. Find and return the minimum number of visible bottles.  \n",
    "\n",
    "### Problem Constraints\n",
    "1 <= N <= 100000 1<= A[i] <= 100000000   \n",
    "\n",
    "### Input Format\n",
    "First argument is an integer array A denoting the radius of the cyclindrical bottles.\n",
    "\n",
    "### Output Format\n",
    "Return a single integer corresponding to the minimum number of visible bottles.\n",
    "\n",
    "## Example Input\n",
    "### Input 1:\n",
    "A = [1, 2, 3]\n",
    "### Input 2:          \n",
    "A = [1, 1]\n",
    "      \n",
    "## Example Output\n",
    "### Output 1:\n",
    " 1\n",
    "### Output 2:          \n",
    " 2\n",
    "      \n",
    "## Example Explanation\n",
    "### Explanation 1:\n",
    " In example 1 it is possible to put bottle 1 into bottle 2, and 2 into 3.\n",
    "### Explanation 2:          \n",
    " Both bottles will be visible."
   ]
  },
  {
   "cell_type": "code",
   "execution_count": 1,
   "metadata": {},
   "outputs": [
    {
     "name": "stdout",
     "output_type": "stream",
     "text": [
      "1\n"
     ]
    }
   ],
   "source": [
    "class Solution:\n",
    "    # @param A : list of integers\n",
    "    # @return an integer\n",
    "    def solve(self, A):\n",
    "        d = {}\n",
    "        for i in A:\n",
    "            d[i] = d.get(i, 0)+1\n",
    "        return max(d.values())\n",
    "o = Solution()\n",
    "a = [1,2,3]\n",
    "print(o.solve(a))"
   ]
  }
 ],
 "metadata": {
  "kernelspec": {
   "display_name": "Python 3",
   "language": "python",
   "name": "python3"
  },
  "language_info": {
   "codemirror_mode": {
    "name": "ipython",
    "version": 3
   },
   "file_extension": ".py",
   "mimetype": "text/x-python",
   "name": "python",
   "nbconvert_exporter": "python",
   "pygments_lexer": "ipython3",
   "version": "3.7.3"
  }
 },
 "nbformat": 4,
 "nbformat_minor": 2
}
