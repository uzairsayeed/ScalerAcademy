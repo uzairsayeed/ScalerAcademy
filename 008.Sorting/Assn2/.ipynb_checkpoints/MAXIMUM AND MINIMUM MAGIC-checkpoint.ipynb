{
 "cells": [
  {
   "cell_type": "markdown",
   "metadata": {},
   "source": [
    "## MAXIMUM AND MINIMUM MAGIC:\n",
    "Problem Description\n",
    "Given an array of integers A of size N where N is even. Divide the array into two subsets such that\n",
    "\n",
    "1.Length of both subset is equal.\n",
    "\n",
    "2.Each element of A occurs in exactly one of these subset.\n",
    "\n",
    "Magic number = sum of absolute difference of corresponding elements of subset. \n",
    "\n",
    "### Note: \n",
    "You can reorder the position of elements within the subset to find the value of magic number.\n",
    "\n",
    "### For Ex:- \n",
    "subset 1 = {1, 5, 1}, \n",
    "\n",
    "subset 2 = {1, 7, 11}\n",
    "\n",
    "Magic number = abs(1 - 1) + abs(5 - 7) + abs(1 - 11) = 12\n",
    "\n",
    "Return an array B of size 2, where B[0] = maximum possible value of Magic number modulo 109 + 7, B[1] = minimum possible value of a Magic number modulo 109 + 7.      \n",
    "\n",
    "### Problem Constraints\n",
    "1 <= N <= 105\n",
    "\n",
    "-109 <= A[i] <= 109\n",
    "\n",
    "N is even\n",
    "\n",
    "### Input Format\n",
    "The first argument given is the integer array A.\n",
    "\n",
    "### Output Format\n",
    "Return an array B of size 2, where B[0] = maximum possible value of Magic number % 109 + 7,B[1] = minimum possible value of a Magic number % 109 + 7.\n",
    "\n",
    "## Example Input\n",
    "### Input 1:\n",
    "   A = [3, 11, -1, 5]\n",
    "### Input 2:\n",
    "   A = [2, 2]\n",
    "     \n",
    "## Example Output\n",
    "### Output 1:\n",
    "   [14, 10]\n",
    "### Output 2:\n",
    "   [0, 0]\n",
    "     \n",
    "## Example Explanation\n",
    "### Explanation 1:\n",
    "    All possible magical numbers:-\n",
    "    \n",
    "    sub1 = {3, 11}, sub2 = {-1, 5}, Magic Number = abs(3 - -1) + abs(11 - 5) = 10\n",
    "    \n",
    "    sub1 = {3, -1}, sub2 = {11, 5}, Magic Number = abs(3 - 11) + abs(-1 - 5) = 14\n",
    "    \n",
    "    sub1 = {3, 5}, sub2 = {11, -1}, Magic Number = abs(3 - 11) + abs(5 - -1) = 14\n",
    "    \n",
    "    sub1 = {11, -1}, sub2 = {3, 5}, Magic Number = abs(11 - 3) + abs(-1 - 5) = 14\n",
    "    \n",
    "    sub1 = {11, 5}, sub2 = {3, -1}, Magic Number = abs(11 - 3) + abs(5 - -1) = 14\n",
    "    \n",
    "    sub1 = {-1, 5}, sub2 = {3, 11}, Magic Number = abs(-1 - 3) + abs(5 - 11) = 10 \n",
    "    \n",
    "    maximum of all magic number = 14 % 10^9 + 7 = 14\n",
    "    \n",
    "    minimum of all magic number = 10 % 10^9 + 7 = 10\n",
    "    \n",
    "### Explanation 2:    \n",
    "Answer is evident."
   ]
  },
  {
   "cell_type": "code",
   "execution_count": 25,
   "metadata": {},
   "outputs": [
    {
     "name": "stdout",
     "output_type": "stream",
     "text": [
      "[528, 76]\n"
     ]
    }
   ],
   "source": [
    "class Solution:\n",
    "    # @param A : list of integers\n",
    "    # @return a list of integers\n",
    "    def solve(self, a):\n",
    "        n = len(a)\n",
    "        a.sort()\n",
    "        #print(a, a[:n//2], a[n//2:])\n",
    "        max_sum = sum(a[n//2:]) - sum(a[:n//2])\n",
    "        #print(max_sum)\n",
    "        min_sum = 0\n",
    "        for i in range(1, n, 2):\n",
    "            min_sum += a[i]-a[i-1]\n",
    "        return [max_sum, min_sum]\n",
    "o = Solution()\n",
    "a = [ -98, 54, -52, 15, 23, -97, 12, -64, 52, 85 ]\n",
    "print(o.solve(a))"
   ]
  }
 ],
 "metadata": {
  "kernelspec": {
   "display_name": "Python 3",
   "language": "python",
   "name": "python3"
  },
  "language_info": {
   "codemirror_mode": {
    "name": "ipython",
    "version": 3
   },
   "file_extension": ".py",
   "mimetype": "text/x-python",
   "name": "python",
   "nbconvert_exporter": "python",
   "pygments_lexer": "ipython3",
   "version": "3.7.3"
  }
 },
 "nbformat": 4,
 "nbformat_minor": 2
}
