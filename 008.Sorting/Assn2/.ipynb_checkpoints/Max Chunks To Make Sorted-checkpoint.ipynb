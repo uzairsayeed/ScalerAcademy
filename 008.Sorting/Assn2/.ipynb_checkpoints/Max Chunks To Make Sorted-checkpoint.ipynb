{
 "cells": [
  {
   "cell_type": "markdown",
   "metadata": {},
   "source": [
    "## Max Chunks To Make Sorted:\n",
    "Problem Description\n",
    "\n",
    "Given an array of integers A of size N that is a permutation of [0, 1, 2, ..., (N-1)], if we split the array into some number of \"chunks\" (partitions), and individually sort each chunk. After concatenating them, the result equals the sorted array. What is the most number of chunks we could have made?  \n",
    "\n",
    "### Problem Constraints\n",
    "1 <= N <= 100000\n",
    "\n",
    "0 <= A[i] < N\n",
    "\n",
    "### Input Format\n",
    "The only argument given is the integer array A.\n",
    "\n",
    "### Output Format\n",
    "Return the maximum number of chunks that we could have made.\n",
    "\n",
    "## Example Input\n",
    "### Input 1:\n",
    " A = [1, 2, 3, 4, 0]\n",
    "### Input 2:\n",
    " A = [2, 0, 1, 3]\n",
    " \n",
    "## Example Output\n",
    "### Output 1:\n",
    " 1\n",
    "### Output 2:\n",
    " 2\n",
    " \n",
    "## Example Explanation\n",
    "### Explanation 1:\n",
    " A = [1, 2, 3, 4, 0]\n",
    " \n",
    " To get the 0 in the first index, we have to take all elements in a single chunk.\n",
    "### Explanation 2:\n",
    " A = [2, 0, 1, 3] \n",
    " \n",
    " We can divide the array into 2 chunks.\n",
    " \n",
    " First chunk is [2, 0, 1] and second chunk is [3]."
   ]
  },
  {
   "cell_type": "code",
   "execution_count": 11,
   "metadata": {},
   "outputs": [
    {
     "name": "stdout",
     "output_type": "stream",
     "text": [
      "[2, 2, 2, 3]\n",
      "2\n"
     ]
    }
   ],
   "source": [
    "class Solution:\n",
    "    # @param A : list of integers\n",
    "    # @return an integer\n",
    "    def solve(self, a):\n",
    "        n = len(a)\n",
    "        max_arr = [0]*n\n",
    "        max_arr[0] = a[0]\n",
    "        for i in range(1, n):\n",
    "            max_arr[i] = max(a[i], max_arr[i-1])\n",
    "        print(max_arr)\n",
    "        cnt = 0\n",
    "        for i in range(n):\n",
    "            if a[i] >= max_arr[a[i]]:\n",
    "                cnt+=1\n",
    "        return cnt\n",
    "        \n",
    "o = Solution()\n",
    "a = [2,0,1,3]\n",
    "print(o.solve(a))"
   ]
  }
 ],
 "metadata": {
  "kernelspec": {
   "display_name": "Python 3",
   "language": "python",
   "name": "python3"
  },
  "language_info": {
   "codemirror_mode": {
    "name": "ipython",
    "version": 3
   },
   "file_extension": ".py",
   "mimetype": "text/x-python",
   "name": "python",
   "nbconvert_exporter": "python",
   "pygments_lexer": "ipython3",
   "version": "3.7.3"
  }
 },
 "nbformat": 4,
 "nbformat_minor": 2
}
