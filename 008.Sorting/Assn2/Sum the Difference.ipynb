{
 "cells": [
  {
   "cell_type": "markdown",
   "metadata": {},
   "source": [
    "## Sum the Difference:\n",
    "Problem Description\n",
    "\n",
    "Given an integer array A of size N. You have to find all possible non-empty subsequence of the array of numbers and then, for each subsequence, find the difference between the largest and smallest numbers in that subsequence Then add up all the differences to get the number. As the number may be large, output the number modulo 1e9 + 7 (1000000007).\n",
    "\n",
    "### NOTE: \n",
    "Subsequence can be non-contiguous.    \n",
    "\n",
    "### Problem Constraints\n",
    "1 <= N <= 10000 1<= A[i] <=1000    \n",
    "\n",
    "### Input Format\n",
    "First argument is an integer array A.\n",
    "\n",
    "### Output Format\n",
    "Return an integer denoting the output.\n",
    "\n",
    "## Example Input\n",
    "### Input 1:\n",
    "A = [1, 2]\n",
    "### Input 2:          \n",
    "A = [1]\n",
    "      \n",
    "## Example Output\n",
    "### Output 1:\n",
    " 1\n",
    "### Output 2:          \n",
    " 0\n",
    "      \n",
    "## Example Explanation\n",
    "### Explanation 1:\n",
    "All possible non-empty subsets are:\n",
    "\n",
    "[1]    largest-smallest = 1 - 1 = 0\n",
    "\n",
    "[2]    largest-smallest = 2 - 2 = 0\n",
    "\n",
    "[1 2]  largest-smallest = 2 - 1 = 1\n",
    "\n",
    "Sum of the differences = 0 + 0 + 1 = 1\n",
    "\n",
    "So, the resultant number is 1\n",
    "### Explanation 2:          \n",
    " Only 1 subsequence of 1 element is formed."
   ]
  },
  {
   "cell_type": "code",
   "execution_count": 38,
   "metadata": {},
   "outputs": [
    {
     "name": "stdout",
     "output_type": "stream",
     "text": [
      "9\n"
     ]
    }
   ],
   "source": [
    "class Solution:\n",
    "    # @param A : list of integers\n",
    "    # @return an integer\n",
    "    def solve(self, a):\n",
    "        n = len(a)\n",
    "        m = 10**9+7\n",
    "        a.sort()\n",
    "        sum = 0\n",
    "        for i in range(n):\n",
    "            as_min = 2**(n-1-i)\n",
    "            as_max = 2**(i)\n",
    "            #print(as_max, as_min)\n",
    "            sum = (sum + (a[i]*(as_max-as_min)))%m\n",
    "            #print(sum)\n",
    "        return sum%m\n",
    "    \n",
    "o = Solution()\n",
    "a = [2,3,5]\n",
    "print(o.solve(a))"
   ]
  }
 ],
 "metadata": {
  "kernelspec": {
   "display_name": "Python 3",
   "language": "python",
   "name": "python3"
  },
  "language_info": {
   "codemirror_mode": {
    "name": "ipython",
    "version": 3
   },
   "file_extension": ".py",
   "mimetype": "text/x-python",
   "name": "python",
   "nbconvert_exporter": "python",
   "pygments_lexer": "ipython3",
   "version": "3.7.3"
  }
 },
 "nbformat": 4,
 "nbformat_minor": 2
}
