{
 "cells": [
  {
   "cell_type": "markdown",
   "metadata": {},
   "source": [
    "## Maximum Unsorted Subarray:\n",
    "Problem Description\n",
    "\n",
    "Given an array A of non-negative integers of size N. Find the minimum sub-array Al, Al+1 ,..., Ar such that if we sort(in ascending order) that sub-array, then the whole array should get sorted. If A is already sorted, output -1.\n",
    "\n",
    "\n",
    "### Problem Constraints\n",
    "1 <= N <= 1000000\n",
    "\n",
    "1 <= A[i] <= 1000000\n",
    "\n",
    "### Input Format\n",
    "First and only argument is an array of non-negative integers of size N.\n",
    "\n",
    "### Output Format\n",
    "Return an array of length 2 where First element denotes the starting index(0-based) and second element denotes the ending index(0-based) of the sub-array. If the array is already sorted, return an array containing only one element i.e. -1.\n",
    "\n",
    "## Example Input\n",
    "### Input 1:\n",
    "A = [1, 3, 2, 4, 5]\n",
    "\n",
    "### Input 2:\n",
    "A = [1, 2, 3, 4, 5]\n",
    "   \n",
    "## Example Output\n",
    "### Output 1:\n",
    "[1, 2]\n",
    "### Output 2:\n",
    "[-1]\n",
    "   \n",
    "## Example Explanation\n",
    "### Explanation 1:\n",
    "If we sort the sub-array A1, A2, then the whole array A gets sorted.\n",
    "### Explanation 2:  \n",
    "A is already sorted."
   ]
  },
  {
   "cell_type": "code",
   "execution_count": 30,
   "metadata": {},
   "outputs": [
    {
     "name": "stdout",
     "output_type": "stream",
     "text": [
      "[-1]\n"
     ]
    }
   ],
   "source": [
    "class Solution:\n",
    "    # @param A : list of integers\n",
    "    # @return an integer\n",
    "    def subUnsort(self, a):\n",
    "        b = a.copy()\n",
    "        #print(b)\n",
    "        b.sort()\n",
    "        #print(a,b)\n",
    "        s,e = -1, -1\n",
    "        i = 0\n",
    "        while i < len(a):\n",
    "            if a[i] != b[i]:\n",
    "                s = i\n",
    "                break\n",
    "            i+=1\n",
    "        j = len(a)-1\n",
    "        while j > i:\n",
    "            #print(j)\n",
    "            if a[j] != b[j]:\n",
    "                #print(j, i)\n",
    "                e = j\n",
    "                break\n",
    "            j-=1\n",
    "        if s==-1:\n",
    "            return [-1]\n",
    "        if e == -1:\n",
    "            return [s, len(a)-1]\n",
    "        return [s,e]\n",
    "o = Solution()\n",
    "a = [1,2,3,4]\n",
    "print(o.subUnsort(a))"
   ]
  },
  {
   "cell_type": "code",
   "execution_count": null,
   "metadata": {},
   "outputs": [],
   "source": [
    "class Solution:\n",
    "    # @param A : list of integers\n",
    "    # @return a list of integers\n",
    "    def subUnsort(self, A):\n",
    "        \n",
    "        B = sorted([x for x in A])\n",
    "        s = len(A)\n",
    "        e = 0\n",
    "        for i in range(len(A)-1, -1, -1):\n",
    "            \n",
    "            if B[i] != A[i]:\n",
    "                s = min(s, i)\n",
    "                e = max (e, i)\n",
    "                \n",
    "        if e-s >=0:\n",
    "            return [s,e]\n",
    "        else:\n",
    "            return [-1]"
   ]
  }
 ],
 "metadata": {
  "kernelspec": {
   "display_name": "Python 3",
   "language": "python",
   "name": "python3"
  },
  "language_info": {
   "codemirror_mode": {
    "name": "ipython",
    "version": 3
   },
   "file_extension": ".py",
   "mimetype": "text/x-python",
   "name": "python",
   "nbconvert_exporter": "python",
   "pygments_lexer": "ipython3",
   "version": "3.7.3"
  }
 },
 "nbformat": 4,
 "nbformat_minor": 2
}
