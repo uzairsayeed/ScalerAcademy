{
 "cells": [
  {
   "cell_type": "markdown",
   "metadata": {},
   "source": [
    "## Wave Array:\n",
    "Problem Description\n",
    "\n",
    "Given an array of integers A, sort the array into a wave like array and return it, In other words, arrange the elements into a sequence such that a1 >= a2 <= a3 >= a4 <= a5..... \n",
    "\n",
    "### NOTE : \n",
    "If there are multiple answers possible, return the one that's lexicographically smallest.   \n",
    "\n",
    "### Problem Constraints\n",
    "1 <= len(A) <= 106\n",
    "\n",
    "1 <= A[i] <= 106\n",
    "\n",
    "### Input Format\n",
    "First argument is an integer array A.\n",
    "\n",
    "### Output Format\n",
    "Return an array arranged in the sequence as described.\n",
    "\n",
    "## Example Input\n",
    "### Input 1:\n",
    "A = [1, 2, 3, 4]\n",
    "  \n",
    "### Input 2:  \n",
    "A = [1, 2]\n",
    "  \n",
    "## Example Output\n",
    "### Output 1:\n",
    "[2, 1, 4, 3]\n",
    "  \n",
    "### Output 2:  \n",
    "[2, 1]\n",
    "  \n",
    "## Example Explanation\n",
    "### Explanation 1:\n",
    "One possible answer : [2, 1, 4, 3]\n",
    "Another possible answer : [4, 1, 3, 2]\n",
    "\n",
    "First answer is lexicographically smallest. So, return [2, 1, 4, 3].\n",
    "\n",
    "### Explanation 1:  \n",
    "Only possible answer is [2, 1].\n",
    "  "
   ]
  },
  {
   "cell_type": "code",
   "execution_count": 5,
   "metadata": {},
   "outputs": [
    {
     "name": "stdout",
     "output_type": "stream",
     "text": [
      "[2, 1]\n"
     ]
    }
   ],
   "source": [
    "class Solution:\n",
    "    # @param A : list of integers\n",
    "    # @return a list of integers\n",
    "    def wave(self, a):\n",
    "        if len(a) == 1:\n",
    "            return a\n",
    "        a.sort()\n",
    "        i = 1\n",
    "        while i < len(a):\n",
    "            a[i],a[i-1] = a[i-1],a[i]\n",
    "            i+=2\n",
    "        return a\n",
    "    \n",
    "o = Solution()\n",
    "a = [1,2]\n",
    "print(o.wave(a))\n"
   ]
  }
 ],
 "metadata": {
  "kernelspec": {
   "display_name": "Python 3",
   "language": "python",
   "name": "python3"
  },
  "language_info": {
   "codemirror_mode": {
    "name": "ipython",
    "version": 3
   },
   "file_extension": ".py",
   "mimetype": "text/x-python",
   "name": "python",
   "nbconvert_exporter": "python",
   "pygments_lexer": "ipython3",
   "version": "3.7.3"
  }
 },
 "nbformat": 4,
 "nbformat_minor": 2
}
