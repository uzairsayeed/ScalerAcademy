{
 "cells": [
  {
   "cell_type": "markdown",
   "metadata": {},
   "source": [
    "## Merge Two Sorted Arrays:\n",
    "Problem Description\n",
    "\n",
    "Given two sorted integer arrays A and B, merge B and A as one sorted array and return it as an output.\n",
    "\n",
    "### Problem Constraints\n",
    "-1010 <= A[i],B[i] <= 1010\n",
    "\n",
    "### Input Format\n",
    "First Argument is a 1-D array representing A. Second Argument is also a 1-D array representing B.    \n",
    "\n",
    "### Output Format\n",
    "Return a 1-D vector which you got after merging A and B.\n",
    "\n",
    "## Example Input\n",
    "### Input 1:\n",
    "A = [4, 7, 9 ]\n",
    "\n",
    "B = [2 ,11, 19 ]\n",
    "\n",
    "### Input 2:          \n",
    "A = [1]\n",
    "\n",
    "B = [2]\n",
    "      \n",
    "## Example Output\n",
    "### Output 1:\n",
    "[2, 4, 7, 9, 11, 19]\n",
    "  \n",
    "### Output 2:          \n",
    "[1, 2]\n",
    "      \n",
    "## Example Explanation\n",
    "### Explanation 1:\n",
    "Merging A and B produces the output as described above.\n",
    "  \n",
    "### Explanation 2:          \n",
    " Merging A and B produces the output as described above."
   ]
  },
  {
   "cell_type": "code",
   "execution_count": 1,
   "metadata": {},
   "outputs": [
    {
     "name": "stdout",
     "output_type": "stream",
     "text": [
      "[2, 4, 7, 9, 11, 19]\n"
     ]
    }
   ],
   "source": [
    "class Solution:\n",
    "    # @param A : tuple of integers\n",
    "    # @param B : tuple of integers\n",
    "    # @return a list of integers\n",
    "    def solve(self, a, b):\n",
    "        res = []\n",
    "        i, j = 0, 0\n",
    "        while i<len(a) and j<len(b):\n",
    "            if a[i] > b[j]:\n",
    "                res.append(b[j])\n",
    "                j+=1\n",
    "            elif a[i] < b[j]:\n",
    "                res.append(a[i])\n",
    "                i+=1\n",
    "            else:\n",
    "                res.append(a[i])\n",
    "                res.append(b[j])\n",
    "                i+=1\n",
    "                j+=1\n",
    "        while i < len(a):\n",
    "            res.append(a[i])\n",
    "            i+=1\n",
    "        while j < len(b):\n",
    "            res.append(b[j])\n",
    "            j+=1\n",
    "        return res\n",
    "    \n",
    "o = Solution()\n",
    "A = [4, 7, 9 ]\n",
    "B = [2 ,11, 19 ]\n",
    "print(o.solve(A,B))"
   ]
  },
  {
   "cell_type": "code",
   "execution_count": 4,
   "metadata": {},
   "outputs": [
    {
     "name": "stdout",
     "output_type": "stream",
     "text": [
      "[0, 1, 2, 4, 4, 6, 8]\n"
     ]
    }
   ],
   "source": [
    "class Solution:\n",
    "    def mergeSort(self, a):\n",
    "        if len(a) == 0 or len(a) == 1:\n",
    "            return a\n",
    "        m = len(a)//2\n",
    "        self.merge(self.mergeSort(a[:m]), self.mergeSort(a[m:]), a)\n",
    "        return a\n",
    "    def merge(self, a1, a2, a):\n",
    "        i, j, k = 0, 0, 0\n",
    "        while i<len(a1) and j<len(a2):\n",
    "            if a1[i]>a2[j]:\n",
    "                a[k] = a2[j]\n",
    "                k+=1\n",
    "                j+=1\n",
    "            else:\n",
    "                a[k] = a1[i]\n",
    "                k+=1\n",
    "                i+=1\n",
    "        while i<len(a1):\n",
    "            a[k] = a1[i]\n",
    "            k+=1\n",
    "            i+=1\n",
    "        while j<len(a2):\n",
    "            a[k] = a2[j]\n",
    "            k+=1\n",
    "            j+=1\n",
    "            \n",
    "o = Solution()\n",
    "a = [4,2,6,4,1,8,0]\n",
    "print(o.mergeSort(a))"
   ]
  }
 ],
 "metadata": {
  "kernelspec": {
   "display_name": "Python 3",
   "language": "python",
   "name": "python3"
  },
  "language_info": {
   "codemirror_mode": {
    "name": "ipython",
    "version": 3
   },
   "file_extension": ".py",
   "mimetype": "text/x-python",
   "name": "python",
   "nbconvert_exporter": "python",
   "pygments_lexer": "ipython3",
   "version": "3.7.3"
  }
 },
 "nbformat": 4,
 "nbformat_minor": 2
}
