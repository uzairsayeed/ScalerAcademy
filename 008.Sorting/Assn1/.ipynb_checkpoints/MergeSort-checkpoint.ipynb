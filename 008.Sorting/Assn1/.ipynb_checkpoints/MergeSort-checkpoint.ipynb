{
 "cells": [
  {
   "cell_type": "code",
   "execution_count": null,
   "metadata": {},
   "outputs": [],
   "source": [
    "class Solution:\n",
    "    def mergeSort(self, a):\n",
    "        if len(a) == 0 or len(a) == 1:\n",
    "            return a\n",
    "        m = len(a)//2\n",
    "        self.merge(self.mergeSort(a[:m]), self.mergeSort(a[m:]), a)\n",
    "        return a\n",
    "    def merge(self, a1, a2, a):\n",
    "        i, j, k = 0, 0, 0\n",
    "        while i<len(a1) and j<len(a2):\n",
    "            if a1[i]>a2[j]:\n",
    "                a[k] = a2[j]\n",
    "                k+=1\n",
    "                j+=1\n",
    "            else:\n",
    "                a[k] = a1[i]\n",
    "                k+=1\n",
    "                i+=1\n",
    "        while i<len(a1):\n",
    "            a[k] = a1[i]\n",
    "            k+=1\n",
    "            i+=1\n",
    "        while j<len(a2):\n",
    "            a[k] = a2[j]\n",
    "            k+=1\n",
    "            j+=1\n",
    "            \n",
    "o = Solution()\n",
    "a = [4,2,6,4,1,8,0]\n",
    "print(o.mergeSort(a))"
   ]
  }
 ],
 "metadata": {
  "kernelspec": {
   "display_name": "Python 3",
   "language": "python",
   "name": "python3"
  },
  "language_info": {
   "codemirror_mode": {
    "name": "ipython",
    "version": 3
   },
   "file_extension": ".py",
   "mimetype": "text/x-python",
   "name": "python",
   "nbconvert_exporter": "python",
   "pygments_lexer": "ipython3",
   "version": "3.7.3"
  }
 },
 "nbformat": 4,
 "nbformat_minor": 2
}
