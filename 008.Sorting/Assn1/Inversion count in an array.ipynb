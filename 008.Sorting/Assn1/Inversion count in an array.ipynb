{
 "cells": [
  {
   "cell_type": "markdown",
   "metadata": {},
   "source": [
    "## Inversion count in an array:\n",
    "Problem Description\n",
    "\n",
    "Given an array of integers A. If i < j and A[i] > A[j] then the pair (i, j) is called an inversion of A. Find the total number of inversions of A modulo (109 + 7).\n",
    "\n",
    "### Problem Constraints\n",
    "1 <= length of the array <= 100000 1 <= A[i] <= 10^9  \n",
    "\n",
    "### Input Format\n",
    "The only argument given is the integer array A.\n",
    "\n",
    "### Output Format\n",
    "Return the number of inversions of A modulo (109 + 7).\n",
    "\n",
    "## Example Input\n",
    "### Input 1:\n",
    "A = [3, 2, 1]\n",
    "  \n",
    "### Input 2:          \n",
    "A = [1, 2, 3]\n",
    "      \n",
    "## Example Output\n",
    "### Output 1:\n",
    " 3\n",
    "###  Output 2:          \n",
    "0\n",
    "\n",
    "## Example Explanation\n",
    "### Explanation 1:\n",
    " All pairs are inversions.\n",
    "  \n",
    "### Explanation 2:          \n",
    " No inversions."
   ]
  },
  {
   "cell_type": "code",
   "execution_count": 2,
   "metadata": {},
   "outputs": [
    {
     "name": "stdout",
     "output_type": "stream",
     "text": [
      "1\n"
     ]
    }
   ],
   "source": [
    "class Solution:\n",
    "\t# @param A : list of integers\n",
    "\t# @return an integer\n",
    "    def solve(self, a):\n",
    "        n = len(a)\n",
    "        t = [0] * n\n",
    "        return self.mergeSort(a, t, 0, n-1)\n",
    "    def mergeSort(self, a, t, l, r):\n",
    "        cnt = 0\n",
    "        if l < r:\n",
    "            m = (l + r) // 2\n",
    "            cnt = self.mergeSort(a, t, l, m)\n",
    "            cnt += self.mergeSort(a, t, m+1, r)\n",
    "            cnt += self.merge(a, t, l, m, r)\n",
    "        return cnt%(10**9+7)\n",
    "    def merge(self, a, t, l, m, r):\n",
    "        i, j, k = l, m+1, l\n",
    "        cnt = 0\n",
    "        while i <= m and j <= r:\n",
    "            if a[i] <= a[j]:\n",
    "                t[k] = a[i]\n",
    "                k += 1\n",
    "                i += 1\n",
    "            else:\n",
    "                t[k] = a[j]\n",
    "                cnt += (m - i + 1)\n",
    "                k += 1\n",
    "                j += 1\n",
    "        while i <= m:\n",
    "            t[k] = a[i]\n",
    "            k += 1\n",
    "            i += 1\n",
    "        while j <= r:\n",
    "            t[k] = a[j]\n",
    "            k += 1\n",
    "            j += 1\n",
    "        for i in range(l, r+1):\n",
    "            a[i] = t[i]\n",
    "        return cnt%(10**9+7)\n",
    "o = Solution()\n",
    "a = [0,2,1]\n",
    "print(o.solve(a))\n"
   ]
  }
 ],
 "metadata": {
  "kernelspec": {
   "display_name": "Python 3",
   "language": "python",
   "name": "python3"
  },
  "language_info": {
   "codemirror_mode": {
    "name": "ipython",
    "version": 3
   },
   "file_extension": ".py",
   "mimetype": "text/x-python",
   "name": "python",
   "nbconvert_exporter": "python",
   "pygments_lexer": "ipython3",
   "version": "3.9.0"
  }
 },
 "nbformat": 4,
 "nbformat_minor": 2
}
