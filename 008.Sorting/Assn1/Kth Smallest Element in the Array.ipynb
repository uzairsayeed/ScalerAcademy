{
 "cells": [
  {
   "cell_type": "markdown",
   "metadata": {},
   "source": [
    "## Kth Smallest Element in the Array:\n",
    "Problem Description\n",
    "\n",
    "Find the Bth smallest element in given array A .\n",
    "\n",
    "### Problem Constraints\n",
    "1 <= |A| <= 100000 1 <= B <= |A|  \n",
    "\n",
    "### Input Format\n",
    "First argument is vector A. Second argument is integer B.  \n",
    "\n",
    "### Output Format\n",
    "Return the Bth smallest element in given array.\n",
    "\n",
    "## Example Input\n",
    "### Input 1:\n",
    "A = [2, 1, 4, 3, 2]\n",
    "\n",
    "B = 3\n",
    "\n",
    "### Input 2:          \n",
    "A = [1, 2]\n",
    "\n",
    "B = 2\n",
    "      \n",
    "## Example Output\n",
    "### Output 1:\n",
    " 2\n",
    "  \n",
    "### Output 2:          \n",
    " 2\n",
    "      \n",
    "## Example Explanation\n",
    "### Explanation 1:\n",
    " 3rd element after sorting is 2.\n",
    "### Explanation 2:          \n",
    " 2nd element after sorting is 2."
   ]
  },
  {
   "cell_type": "code",
   "execution_count": 24,
   "metadata": {},
   "outputs": [
    {
     "name": "stdout",
     "output_type": "stream",
     "text": [
      "2\n"
     ]
    }
   ],
   "source": [
    "class Solution:\n",
    "    # @param A : tuple of integers\n",
    "    # @param B : integer\n",
    "    # @return an integer\n",
    "    def kthsmallest(self, a, b):\n",
    "        a.sort()\n",
    "        return a[b-1]\n",
    "\n",
    "o = Solution()\n",
    "A = [2, 1, 4, 3, 2]\n",
    "B = 3\n",
    "print(o.kthsmallest(A,B))"
   ]
  },
  {
   "cell_type": "code",
   "execution_count": 26,
   "metadata": {},
   "outputs": [
    {
     "name": "stdout",
     "output_type": "stream",
     "text": [
      "2\n"
     ]
    }
   ],
   "source": [
    "class Solution:\n",
    "    # @param A : tuple of integers\n",
    "    # @param B : integer\n",
    "    # @return an integer\n",
    "    def kthsmallest(self, A, B):\n",
    "        lo=0\n",
    "        hi=max(A)\n",
    "        mid=-1\n",
    "        ans=-1\n",
    "        while(lo<=hi):\n",
    "            mid=(hi+lo)//2;\n",
    "            count=0;\n",
    "            for i in A:\n",
    "                if(i<=mid):\n",
    "                    count=count+1\n",
    "            if(count<B):\n",
    "                lo=mid+1\n",
    "            else:\n",
    "                ans=mid\n",
    "                hi=mid-1\n",
    "        return ans\n",
    "    \n",
    "o = Solution()\n",
    "A = [2, 1, 4, 3, 2]\n",
    "B = 3\n",
    "print(o.kthsmallest(A,B))"
   ]
  }
 ],
 "metadata": {
  "kernelspec": {
   "display_name": "Python 3",
   "language": "python",
   "name": "python3"
  },
  "language_info": {
   "codemirror_mode": {
    "name": "ipython",
    "version": 3
   },
   "file_extension": ".py",
   "mimetype": "text/x-python",
   "name": "python",
   "nbconvert_exporter": "python",
   "pygments_lexer": "ipython3",
   "version": "3.7.3"
  }
 },
 "nbformat": 4,
 "nbformat_minor": 2
}
