{
 "cells": [
  {
   "cell_type": "markdown",
   "metadata": {},
   "source": [
    "## Array with consecutive elements:\n",
    "Problem Description\n",
    "\n",
    "Given an array of positive integers A, check and return whether the array elements are consecutive or not. NOTE: Try this with O(1) extra space.  \n",
    "\n",
    "### Problem Constraints\n",
    "1 <= length of the array <= 100000\n",
    "\n",
    "1 <= A[i] <= 10^9\n",
    "\n",
    "### Input Format\n",
    "The only argument given is the integer array A.\n",
    "\n",
    "### Output Format\n",
    "Return 1 if the array elements are consecutive else return 0.\n",
    "\n",
    "## Example Input\n",
    "### Input 1:\n",
    " A = [3, 2, 1, 4, 5]\n",
    "\n",
    "### Input 2:\n",
    " A = [1, 3, 2, 5]\n",
    "\n",
    "## Example Output\n",
    "### Output 1:\n",
    " 1\n",
    "\n",
    "### Output 2:\n",
    " 0\n",
    "\n",
    "## Example Explanation\n",
    "### Explanation 1:\n",
    " As you can see all the elements are consecutive, so we return 1.\n",
    "\n",
    "### Explanation 2:\n",
    " Element 4 is missing, so we return 0."
   ]
  },
  {
   "cell_type": "code",
   "execution_count": 2,
   "metadata": {},
   "outputs": [
    {
     "name": "stdout",
     "output_type": "stream",
     "text": [
      "0\n"
     ]
    }
   ],
   "source": [
    "class Solution:\n",
    "    # @param A : list of integers\n",
    "    # @return an integer\n",
    "    def solve(self, a):\n",
    "        a.sort()\n",
    "        res = 1\n",
    "        for i in range(1, len(a)):\n",
    "            if abs(a[i]-a[i-1]) != 1:\n",
    "                res = 0\n",
    "                break\n",
    "        return res\n",
    "    \n",
    "o = Solution()\n",
    "a = [3,2,1,5]\n",
    "print(o.solve(a))"
   ]
  }
 ],
 "metadata": {
  "kernelspec": {
   "display_name": "Python 3",
   "language": "python",
   "name": "python3"
  },
  "language_info": {
   "codemirror_mode": {
    "name": "ipython",
    "version": 3
   },
   "file_extension": ".py",
   "mimetype": "text/x-python",
   "name": "python",
   "nbconvert_exporter": "python",
   "pygments_lexer": "ipython3",
   "version": "3.7.3"
  }
 },
 "nbformat": 4,
 "nbformat_minor": 2
}
