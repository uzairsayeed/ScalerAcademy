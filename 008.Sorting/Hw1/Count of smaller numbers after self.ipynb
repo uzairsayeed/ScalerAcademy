{
 "cells": [
  {
   "cell_type": "markdown",
   "metadata": {},
   "source": [
    "## Count of smaller numbers after self:\n",
    "Problem Description\n",
    "\n",
    "Given an array of integers A, find and return new integer array B. Array B has the property where B[i] is the number of smaller elements to the right of A[i]. \n",
    "\n",
    "### Problem Constraints\n",
    "1 <= length of the array <= 100000 1 <= A[i] <= 109 \n",
    "\n",
    "### Input Format\n",
    "The only argument given is the integer array A.\n",
    "\n",
    "### Output Format\n",
    "Return the new integer array B.\n",
    "\n",
    "### Example Input\n",
    "A = [1, 5, 4, 2, 1]\n",
    "\n",
    "### Example Output\n",
    "[0, 3, 2, 1, 0]\n",
    "\n",
    "### Example Explanation\n",
    "Number of smaller elements to the right of 1 are 0.\n",
    "\n",
    "Number of smaller elements to the right of 5 are 3 (4, 2, 1).\n",
    "\n",
    "Number of smaller elements to the right of 4 are 2 (2, 1).\n",
    "\n",
    "Number of smaller elements to the right of 2 are 1 (1).\n",
    "\n",
    "Number of smaller elements to the right of 1 are 0.\n"
   ]
  },
  {
   "cell_type": "code",
   "execution_count": null,
   "metadata": {},
   "outputs": [],
   "source": [
    "class Solution:\n",
    "    def countSmaller(self, nums):\n",
    "        res = []; visited = []\n",
    "        for i in range(len(nums))[::-1]:\n",
    "            tmp_cnt = bisect.bisect_left(visited, nums[i])\n",
    "            #print(1, i, nums[i], tmp_cnt)\n",
    "            res.append(tmp_cnt)\n",
    "            #print(2, res)\n",
    "            visited.insert(tmp_cnt, nums[i])\n",
    "            #print(3, visited)\n",
    "        return res[::-1]\n",
    "o = Solution()\n",
    "a = [1,5,4,2,1]\n",
    "print(o.countSmaller(a))"
   ]
  },
  {
   "cell_type": "code",
   "execution_count": 2,
   "metadata": {},
   "outputs": [
    {
     "name": "stdout",
     "output_type": "stream",
     "text": [
      "[0, 3, 2, 1, 0]\n"
     ]
    }
   ],
   "source": [
    "import bisect\n",
    "class Solution:\n",
    "    def countSmaller(self, nums):\n",
    "        results = []\n",
    "        visited = []\n",
    "        for i in range(len(nums)-1, -1, -1):\n",
    "            insert_idx = bisect.bisect_left(visited, nums[i])\n",
    "            results.append(insert_idx)\n",
    "            bisect.insort(visited, nums[i])\n",
    "        return list(reversed(results))\n",
    "    \n",
    "o = Solution()\n",
    "a = [1,5,4,2,1]\n",
    "print(o.countSmaller(a))"
   ]
  }
 ],
 "metadata": {
  "kernelspec": {
   "display_name": "Python 3",
   "language": "python",
   "name": "python3"
  },
  "language_info": {
   "codemirror_mode": {
    "name": "ipython",
    "version": 3
   },
   "file_extension": ".py",
   "mimetype": "text/x-python",
   "name": "python",
   "nbconvert_exporter": "python",
   "pygments_lexer": "ipython3",
   "version": "3.9.0"
  }
 },
 "nbformat": 4,
 "nbformat_minor": 2
}
