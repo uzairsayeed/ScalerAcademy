{
 "cells": [
  {
   "cell_type": "markdown",
   "metadata": {},
   "source": [
    "## Minimum Absolute Difference:\n",
    "Problem Description\n",
    "\n",
    "Given an array of integers A, find and return the minimum value of | A [ i ] - A [ j ] | where i != j and |x| denotes the absolute value of x. \n",
    "\n",
    "### Problem Constraints\n",
    "1 <= length of the array <= 100000 -109 <= A[i] <= 109 \n",
    "\n",
    "### Input Format\n",
    "The only argument given is the integer array A.\n",
    "\n",
    "### Output Format\n",
    "Return the minimum value of | A[i] - A[j] |.\n",
    "\n",
    "## Example Input\n",
    "### Input 1:\n",
    " A = [1, 2, 3, 4, 5]\n",
    "\n",
    "### Input 2:\n",
    " A = [5, 17, 100, 11]\n",
    " \n",
    "## Example Output\n",
    "### Output 1:\n",
    " 1\n",
    "### Output 2:\n",
    " 6\n",
    "\n",
    "## Example Explanation\n",
    "### Explanation 1:\n",
    " The absolute difference between any two adjacent elements is 1, which is the minimum value.\n",
    "\n",
    "### Explanation 2:\n",
    " The minimum value is 6 (|11 - 5| or |17 - 11|).\n",
    "\n",
    "\n"
   ]
  },
  {
   "cell_type": "code",
   "execution_count": 6,
   "metadata": {},
   "outputs": [
    {
     "name": "stdout",
     "output_type": "stream",
     "text": [
      "6\n"
     ]
    }
   ],
   "source": [
    "class Solution:\n",
    "    # @param A : list of integers\n",
    "    # @return an integer\n",
    "    def solve(self, a):\n",
    "        a.sort()\n",
    "        #print(a)\n",
    "        res = float('inf')\n",
    "        for i in range(len(a)-1):\n",
    "            res = min(res, a[i+1]-a[i])\n",
    "            if res == 0:\n",
    "                break\n",
    "        return res\n",
    "\n",
    "o = Solution()\n",
    "a = [5,17,100,11]\n",
    "print(o.solve(a))"
   ]
  }
 ],
 "metadata": {
  "kernelspec": {
   "display_name": "Python 3",
   "language": "python",
   "name": "python3"
  },
  "language_info": {
   "codemirror_mode": {
    "name": "ipython",
    "version": 3
   },
   "file_extension": ".py",
   "mimetype": "text/x-python",
   "name": "python",
   "nbconvert_exporter": "python",
   "pygments_lexer": "ipython3",
   "version": "3.7.3"
  }
 },
 "nbformat": 4,
 "nbformat_minor": 2
}
