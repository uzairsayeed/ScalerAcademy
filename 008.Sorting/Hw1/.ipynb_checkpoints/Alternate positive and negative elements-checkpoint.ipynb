{
 "cells": [
  {
   "cell_type": "markdown",
   "metadata": {},
   "source": [
    "## Alternate positive and negative elements:\n",
    "Problem Description\n",
    "\n",
    "Given an array of integers A, arrange them in an alternate fashion such that every non-negative number is followed by negative and vice-versa, starting from a negative number, maintaining the order of appearance. The number of non-negative and negative numbers need not be equal. If there are more non-negative numbers they appear at the end of the array. If there are more negative numbers, they too appear at the end of the array. Note: Try solving with O(1) extra space.   \n",
    "\n",
    "### Problem Constraints\n",
    "1 <= length of the array <= 7000\n",
    "\n",
    "-109 <= A[i] <= 109\n",
    "\n",
    "### Input Format\n",
    "The first argument given is the integer array A.\n",
    "\n",
    "### Output Format\n",
    "Return the modified array.\n",
    "\n",
    "## Example Input\n",
    "### Input 1:\n",
    " A = [-1, -2, -3, 4, 5]\n",
    "### Input 2:\n",
    " A = [5, -17, -100, -11]\n",
    "  \n",
    "## Example Output\n",
    "### Output 1:\n",
    " [-1, 4, -2, 5, -3]\n",
    "### Output 2:\n",
    " [-17, 5, -100, -11]\n",
    "  \n",
    "## Example Explanation\n",
    "### Explanation 1:\n",
    "A = [-1, -2, -3, 4, 5]\n",
    "\n",
    "Move 4 in between -1 and -2, A => [-1, 4, -2, -3, 5]\n",
    "\n",
    "Move 5 in between -2 and -3, A => [-1, 4, -2, 5, -3]\n",
    "  "
   ]
  },
  {
   "cell_type": "code",
   "execution_count": 116,
   "metadata": {},
   "outputs": [
    {
     "name": "stdout",
     "output_type": "stream",
     "text": [
      "[-8, 24, -19, 7, -13, 20, -3, 25, -10, 10, -25, 7, -15, 22, -2, 23, -14, 6, -8, 26, -7, 10, -28, 5, -30, 27, -19, 19, -30, 15, -2, 9, -27, 4, -9, 14, -8, 15, -4, 24, -8, 1, -27, 18, -16, 9, -11, 28, -2, 23, -5, 8, -23, 20, -26, 5, -17, 8, -7, 20, -18, 1, -24, 26, -20, 14, -28, 15, -3, 9, -18, 12, -8, 29, -6, 8, -1, 23, -12, 0, -3, 10, -21, 1, -7, 11, -4, 11, -25, 15, -18, 12, -12, 1, -17, 7, -15, 11, -11, 7, -3, 15, -29, 21, -13, 17, -9, 1, -29, 28, -21, 9, -17, 29, -4, 26, -20, 25, -8, 25, -3, 17, -8, 3, -29, 11, -16, 26, -21, 14, -23, 12, -5, 29, -13, 21, -1, 8, -29, 11, -30, -4, -25, -4, -28, -16, -26]\n"
     ]
    }
   ],
   "source": [
    "# TC = O(n), SC = O(n)\n",
    "class Solution:\n",
    "    # @param a : list of integers\n",
    "    # @return a list of integers\n",
    "    def solve(self, a):\n",
    "        n = len(a)\n",
    "        pos = []\n",
    "        negs = []        \n",
    "        for x in a:\n",
    "            if x < 0:\n",
    "                negs.append(x)\n",
    "            else:\n",
    "                pos.append(x)        \n",
    "        i,j,k = 0,0,0\n",
    "        while j < len(negs) and k < len(pos):\n",
    "            a[i] = negs[j]\n",
    "            a[i+1] = pos[k]\n",
    "            i += 2\n",
    "            j += 1\n",
    "            k += 1\n",
    "        while j < len(negs):\n",
    "            a[i] = negs[j]\n",
    "            i += 1\n",
    "            j += 1        \n",
    "        while k < len(pos):\n",
    "            a[i] = pos[k]\n",
    "            i += 1\n",
    "            k += 1\n",
    "        return a\n",
    "\n",
    "\n",
    "o = Solution()\n",
    "a = [ 24, -8, 7, 20, -19, -13, -3, 25, -10, 10, -25, 7, 22, -15, 23, 6, -2, 26, 10, -14, -8, 5, -7, 27, 19, 15, -28, -30, 9, -19, -30, -2, -27, -9, 4, 14, -8, -4, 15, 24, -8, -27, -16, -11, 1, 18, -2, -5, 9, 28, -23, 23, -26, 8, -17, 20, -7, 5, -18, 8, -24, -20, 20, -28, -3, -18, 1, -8, 26, 14, -6, 15, 9, 12, -1, 29, -12, -3, 8, 23, -21, 0, -7, -4, -25, -18, -12, -17, -15, -11, -3, -29, -13, 10, 1, 11, 11, 15, -9, -29, 12, -21, -17, 1, 7, 11, 7, 15, 21, -4, -20, 17, -8, 1, -3, 28, -8, -29, 9, 29, 26, -16, -21, -23, -5, 25, -13, -1, -29, 25, 17, 3, 11, 26, 14, -30, 12, -4, 29, 21, -25, 8, -4, 11, -28, -16, -26 ]\n",
    "print(o.solve(a))"
   ]
  },
  {
   "cell_type": "code",
   "execution_count": 163,
   "metadata": {},
   "outputs": [
    {
     "name": "stdout",
     "output_type": "stream",
     "text": [
      "[-8, 24, -19, 7, -13, 20, -3, 25, -10, 10, -25, 7, -15, 22, -2, 23, -14, 6, -8, 26, -7, 10, -28, 5, -30, 27, -19, 19, -30, 15, -2, 9, -27, 4, -9, 14, -8, 15, -4, 24, -8, 1, -27, 18, -16, 9, -11, 28, -2, 23, -5, 8, -23, 20, -26, 5, -17, 8, -7, 20, -18, 1, -24, 26, -20, 14, -28, 15, -3, 9, -18, 12, -8, 29, -6, 8, -1, 23, -12, 10, -3, 1, -21, 0, -7, 11, -4, 11, -25, 15, -18, 12, -12, 1, -17, 7, -15, 11, -11, 7, -3, 15, -29, 21, -13, 17, -9, 1, -29, 28, -21, 9, -17, 29, -4, 26, -20, 25, -8, 25, -3, 17, -8, 3, -29, 11, -16, 26, -21, 14, -23, 12, -5, 29, -13, 21, -1, 8, -29, 11, -30, -4, -25, -4, -28, -16, -26]\n"
     ]
    }
   ],
   "source": [
    "class Solution:\n",
    "    def solve(self, a):\n",
    "        n = len(a)\n",
    "        m = min(a)\n",
    "        for i in range(n):\n",
    "            if a[i] < 0 and i%2 != 0:\n",
    "                next_pos = -1\n",
    "                for j in range(i, n):\n",
    "                    if a[j] > 0:\n",
    "                        next_pos = j\n",
    "                        break\n",
    "                if next_pos != -1:\n",
    "                    b = a[i:next_pos+1]\n",
    "                    a = a[:i] + b[-1:] + b[:-1] + a[next_pos+1:]\n",
    "                \n",
    "            elif a[i] >= 0 and i%2 == 0:\n",
    "                next_neg = -1\n",
    "                for j in range(i, n):\n",
    "                    if a[j] < 0:\n",
    "                        next_neg = j\n",
    "                        break\n",
    "                if next_neg != -1:\n",
    "                    #print(next_neg)\n",
    "                    b = a[i:next_neg+1]\n",
    "                    a = a[:i] + b[-1:] + b[:-1] + a[next_neg+1:]\n",
    "                    #print(a)\n",
    "                \n",
    "        return a\n",
    "                    \n",
    "o = Solution()\n",
    "a = [ 24, -8, 7, 20, -19, -13, -3, 25, -10, 10, -25, 7, 22, -15, 23, 6, -2, 26, 10, -14, -8, 5, -7, 27, 19, 15, -28, -30, 9, -19, -30, -2, -27, -9, 4, 14, -8, -4, 15, 24, -8, -27, -16, -11, 1, 18, -2, -5, 9, 28, -23, 23, -26, 8, -17, 20, -7, 5, -18, 8, -24, -20, 20, -28, -3, -18, 1, -8, 26, 14, -6, 15, 9, 12, -1, 29, -12, -3, 8, 23, -21, 0, -7, -4, -25, -18, -12, -17, -15, -11, -3, -29, -13, 10, 1, 11, 11, 15, -9, -29, 12, -21, -17, 1, 7, 11, 7, 15, 21, -4, -20, 17, -8, 1, -3, 28, -8, -29, 9, 29, 26, -16, -21, -23, -5, 25, -13, -1, -29, 25, 17, 3, 11, 26, 14, -30, 12, -4, 29, 21, -25, 8, -4, 11, -28, -16, -26 ]\n",
    "print(o.solve(a))                    \n",
    "                "
   ]
  },
  {
   "cell_type": "code",
   "execution_count": 183,
   "metadata": {},
   "outputs": [
    {
     "name": "stdout",
     "output_type": "stream",
     "text": [
      "Yesss 141 -4\n",
      "Yesss 143 -4\n",
      "Yesss 145 -16\n",
      "10\n"
     ]
    }
   ],
   "source": [
    "class Solution:\n",
    "    def solve(self, a):\n",
    "        n = len(a)\n",
    "        m = min(a)\n",
    "        for i in range(n):\n",
    "            if a[i] < 0 and i%2 != 0:\n",
    "                next_pos = -1\n",
    "                for j in range(i, n):\n",
    "                    if a[j] > 0:\n",
    "                        next_pos = j\n",
    "                        break\n",
    "                if next_pos != -1:\n",
    "                    b = a[i:next_pos+1]\n",
    "                    a = a[:i] + b[-1:] + b[:-1] + a[next_pos+1:]\n",
    "                else:\n",
    "                    print('Yesss',i, a[i])\n",
    "                    continue\n",
    "            elif a[i] >= 0 and i%2 == 0:\n",
    "                next_neg = -1\n",
    "                for j in range(i, n):\n",
    "                    if a[j] < 0:\n",
    "                        next_neg = j\n",
    "                        break\n",
    "                if next_neg != -1:\n",
    "                    #print(next_neg)\n",
    "                    b = a[i:next_neg+1]\n",
    "                    a = a[:i] + b[-1:] + b[:-1] + a[next_neg+1:]\n",
    "                    #print(a)\n",
    "                else:\n",
    "                    print('noo', i, a[i])\n",
    "                    continue\n",
    "                \n",
    "        return a[79]\n",
    "                    \n",
    "o = Solution()\n",
    "a = [ 24, -8, 7, 20, -19, -13, -3, 25, -10, 10, -25, 7, 22, -15, 23, 6, -2, 26, 10, -14, -8, 5, -7, 27, 19, 15, -28, -30, 9, -19, -30, -2, -27, -9, 4, 14, -8, -4, 15, 24, -8, -27, -16, -11, 1, 18, -2, -5, 9, 28, -23, 23, -26, 8, -17, 20, -7, 5, -18, 8, -24, -20, 20, -28, -3, -18, 1, -8, 26, 14, -6, 15, 9, 12, -1, 29, -12, -3, 8, 23, -21, 0, -7, -4, -25, -18, -12, -17, -15, -11, -3, -29, -13, 10, 1, 11, 11, 15, -9, -29, 12, -21, -17, 1, 7, 11, 7, 15, 21, -4, -20, 17, -8, 1, -3, 28, -8, -29, 9, 29, 26, -16, -21, -23, -5, 25, -13, -1, -29, 25, 17, 3, 11, 26, 14, -30, 12, -4, 29, 21, -25, 8, -4, 11, -28, -16, -26 ]\n",
    "print(o.solve(a))                    \n",
    "                "
   ]
  }
 ],
 "metadata": {
  "kernelspec": {
   "display_name": "Python 3",
   "language": "python",
   "name": "python3"
  },
  "language_info": {
   "codemirror_mode": {
    "name": "ipython",
    "version": 3
   },
   "file_extension": ".py",
   "mimetype": "text/x-python",
   "name": "python",
   "nbconvert_exporter": "python",
   "pygments_lexer": "ipython3",
   "version": "3.7.3"
  }
 },
 "nbformat": 4,
 "nbformat_minor": 2
}
