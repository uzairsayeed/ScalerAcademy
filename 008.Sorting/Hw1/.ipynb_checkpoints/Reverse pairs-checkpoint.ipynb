{
 "cells": [
  {
   "cell_type": "markdown",
   "metadata": {},
   "source": [
    "## Reverse pairs:\n",
    "Problem Description\n",
    "\n",
    "Given an array of integers A, we call (i, j) an important reverse pair if i < j and A[i] > 2*A[j]. Return the number of important reverse pairs in the given array A. \n",
    "\n",
    "### Problem Constraints\n",
    "1 <= length of the array <= 100000 1 <= A[i] <= 10^9  \n",
    "\n",
    "### Input Format\n",
    "The only argument given is the integer array A.\n",
    "\n",
    "### Output Format\n",
    "Return the number of important reverse pairs in the given array A.\n",
    "\n",
    "## Example Input\n",
    "### Input 1:\n",
    " A = [1, 3, 2, 3, 1]\n",
    "### Input 2:\n",
    " A = [4, 1, 2]\n",
    "\n",
    "## Example Output\n",
    "### Output 1:\n",
    " 2\n",
    "### Output 2:\n",
    " 1\n",
    "\n",
    "## Example Explanation\n",
    "### Explanation 1:\n",
    " There are two pairs which are important reverse i.e (3, 1) and (3, 1).\n",
    "### Explanation 2:\n",
    " There is only one pair i.e (4, 1)."
   ]
  },
  {
   "cell_type": "code",
   "execution_count": 34,
   "metadata": {},
   "outputs": [
    {
     "name": "stdout",
     "output_type": "stream",
     "text": [
      "51\n"
     ]
    }
   ],
   "source": [
    "import bisect\n",
    "class Solution():\n",
    "    def solve(self, a):\n",
    "        if not a:\n",
    "            return 0        \n",
    "        res = self.mergesort(a)  \n",
    "        return res[1]\n",
    "    def mergesort(self, a):\n",
    "        if len(a) <= 1:\n",
    "            return a, 0\n",
    "        m = len(a)//2\n",
    "        left, countl = self.mergesort(a[:m])\n",
    "        right, countr = self.mergesort(a[m:])\n",
    "        count = countl + countr\n",
    "        for r in right:\n",
    "            temp = len(left) - bisect.bisect(left, 2*r)\n",
    "            if temp == 0:\n",
    "                break\n",
    "            count += temp        \n",
    "        return sorted(left+right), count    \n",
    "o = Solution()\n",
    "a = [ 14046, 57239, 78362, 99387, 27609, 55100, 65536, 62099, 40820, 33056, 88380, 78549, 57512, 33137, 81212, 32365, 42276, 65368, 52459, 74924, 25355, 76044, 78056, 45190, 94365, 58869, 20611 ]\n",
    "print(o.solve(a))\n"
   ]
  },
  {
   "cell_type": "code",
   "execution_count": 35,
   "metadata": {},
   "outputs": [
    {
     "name": "stdout",
     "output_type": "stream",
     "text": [
      "[1, 1, 2, 3, 3]\n"
     ]
    }
   ],
   "source": [
    "a = [1,2,3]\n",
    "b = [1, 3]\n",
    "print(sorted(a+b))"
   ]
  }
 ],
 "metadata": {
  "kernelspec": {
   "display_name": "Python 3",
   "language": "python",
   "name": "python3"
  },
  "language_info": {
   "codemirror_mode": {
    "name": "ipython",
    "version": 3
   },
   "file_extension": ".py",
   "mimetype": "text/x-python",
   "name": "python",
   "nbconvert_exporter": "python",
   "pygments_lexer": "ipython3",
   "version": "3.7.3"
  }
 },
 "nbformat": 4,
 "nbformat_minor": 2
}
