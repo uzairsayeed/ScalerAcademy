{
 "cells": [
  {
   "cell_type": "code",
   "execution_count": null,
   "metadata": {},
   "outputs": [],
   "source": [
    "944. Delete Columns to Make Sorted:\n",
    "Easy\n",
    "\n",
    "129\n",
    "\n",
    "1460\n",
    "\n",
    "Add to List\n",
    "\n",
    "Share\n",
    "We are given an array A of N lowercase letter strings, all of the same length.\n",
    "\n",
    "Now, we may choose any set of deletion indices, and for each string, we delete all the characters in those indices.\n",
    "\n",
    "For example, if we have an array A = [\"abcdef\",\"uvwxyz\"] and deletion indices {0, 2, 3}, then the final array after deletions is [\"bef\", \"vyz\"], and the remaining columns of A are [\"b\",\"v\"], [\"e\",\"y\"], and [\"f\",\"z\"].  (Formally, the c-th column is [A[0][c], A[1][c], ..., A[A.length-1][c]]).\n",
    "\n",
    "Suppose we chose a set of deletion indices D such that after deletions, each remaining column in A is in non-decreasing sorted order.\n",
    "\n",
    "Return the minimum possible value of D.length.\n",
    "\n",
    " \n",
    "\n",
    "Example 1:\n",
    "\n",
    "Input: A = [\"cba\",\"daf\",\"ghi\"]\n",
    "Output: 1\n",
    "Explanation: \n",
    "After choosing D = {1}, each column [\"c\",\"d\",\"g\"] and [\"a\",\"f\",\"i\"] are in non-decreasing sorted order.\n",
    "If we chose D = {}, then a column [\"b\",\"a\",\"h\"] would not be in non-decreasing sorted order.\n",
    "Example 2:\n",
    "\n",
    "Input: A = [\"a\",\"b\"]\n",
    "Output: 0\n",
    "Explanation: D = {}\n",
    "Example 3:\n",
    "\n",
    "Input: A = [\"zyx\",\"wvu\",\"tsr\"]\n",
    "Output: 3\n",
    "Explanation: D = {0, 1, 2}\n",
    " \n",
    "\n",
    "Constraints:\n",
    "\n",
    "1 <= A.length <= 100\n",
    "1 <= A[i].length <= 1000"
   ]
  },
  {
   "cell_type": "code",
   "execution_count": 35,
   "metadata": {},
   "outputs": [
    {
     "name": "stdout",
     "output_type": "stream",
     "text": [
      "0\n"
     ]
    }
   ],
   "source": [
    "class Solution:\n",
    "    def minDeletionSize(self, a):\n",
    "        d = 0\n",
    "        for i in zip(*a):\n",
    "            curr = i[0]\n",
    "            for j in i[1:]:\n",
    "                if curr > j:\n",
    "                    d+=1\n",
    "                    break\n",
    "                else:\n",
    "                    curr = j\n",
    "        return d\n",
    "o = Solution()\n",
    "A = [\"cekjd\",\"ihpzr\",\"zvzzx\"]\n",
    "print(o.minDeletionSize(A))"
   ]
  },
  {
   "cell_type": "code",
   "execution_count": 29,
   "metadata": {},
   "outputs": [
    {
     "name": "stdout",
     "output_type": "stream",
     "text": [
      "('c', 'i', 'z')\n",
      "('e', 'h', 'v')\n",
      "('k', 'p', 'z')\n",
      "('j', 'z', 'z')\n",
      "('d', 'r', 'x')\n"
     ]
    }
   ],
   "source": [
    "A = [\"cekjd\",\"ihpzr\",\"zvzzx\"]\n",
    "for i in zip(*A):\n",
    "    print(i)"
   ]
  }
 ],
 "metadata": {
  "kernelspec": {
   "display_name": "Python 3",
   "language": "python",
   "name": "python3"
  },
  "language_info": {
   "codemirror_mode": {
    "name": "ipython",
    "version": 3
   },
   "file_extension": ".py",
   "mimetype": "text/x-python",
   "name": "python",
   "nbconvert_exporter": "python",
   "pygments_lexer": "ipython3",
   "version": "3.7.3"
  }
 },
 "nbformat": 4,
 "nbformat_minor": 2
}
