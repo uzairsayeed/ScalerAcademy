{
 "cells": [
  {
   "cell_type": "markdown",
   "metadata": {},
   "source": [
    "## Largest Number:\n",
    "Problem Description\n",
    "Given a array A of non negative integers, arrange them such that they form the largest number. Note: The result may be very large, so you need to return a string instead of an integer.   \n",
    "\n",
    "### Problem Constraints\n",
    "1 <= len(A) <= 100000\n",
    "\n",
    "0 <= A[i] <= 2*109\n",
    "\n",
    "### Input Format\n",
    "First argument is an array of integers.\n",
    "\n",
    "### Output Format\n",
    "Return a string representing the largest number.\n",
    "\n",
    "## Example Input\n",
    "### Input 1:\n",
    " A = [3, 30, 34, 5, 9]\n",
    "### Input 2:\n",
    " A = [2, 3, 9, 0]\n",
    "  \n",
    "## Example Output\n",
    "### Output 1:\n",
    " \"9534330\"\n",
    "### Output 2:\n",
    " \"9320\"\n",
    " \n",
    "## Example Explanation\n",
    "### Explanation 1:\n",
    " A = [3, 30, 34, 5, 9]\n",
    " \n",
    " Reorder the numbers to [9, 5, 34, 3, 30] to form the largest number.\n",
    "### Explanation 2:\n",
    " Reorder the numbers to [9, 3, 2, 0] to form the largest number 9320. "
   ]
  },
  {
   "cell_type": "code",
   "execution_count": 18,
   "metadata": {},
   "outputs": [
    {
     "name": "stdout",
     "output_type": "stream",
     "text": [
      "['9', '5', '34', '3', '30']\n",
      "9534330\n"
     ]
    }
   ],
   "source": [
    "class Solution:\n",
    "    # @param A : tuple of integers\n",
    "    # @return a strings\n",
    "    def largestNumber(self, a):\n",
    "        a = list(map(str, a))\n",
    "        #print(a)\n",
    "        m = max([len(n) for n in a])\n",
    "        #print(m)\n",
    "        a = sorted(a, key=lambda n: n * (m // len(n) + 1), reverse=True)\n",
    "        print(a)\n",
    "        return str(int(''.join(a)))\n",
    "o = Solution()\n",
    "a =  [3, 30, 34, 5, 9]\n",
    "print(o.largestNumber(a))"
   ]
  },
  {
   "cell_type": "code",
   "execution_count": null,
   "metadata": {},
   "outputs": [],
   "source": [
    "30 * (2//3)"
   ]
  }
 ],
 "metadata": {
  "kernelspec": {
   "display_name": "Python 3",
   "language": "python",
   "name": "python3"
  },
  "language_info": {
   "codemirror_mode": {
    "name": "ipython",
    "version": 3
   },
   "file_extension": ".py",
   "mimetype": "text/x-python",
   "name": "python",
   "nbconvert_exporter": "python",
   "pygments_lexer": "ipython3",
   "version": "3.7.3"
  }
 },
 "nbformat": 4,
 "nbformat_minor": 2
}
