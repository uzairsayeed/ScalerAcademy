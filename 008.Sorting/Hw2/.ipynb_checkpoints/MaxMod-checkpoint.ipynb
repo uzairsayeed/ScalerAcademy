{
 "cells": [
  {
   "cell_type": "markdown",
   "metadata": {},
   "source": [
    "## MaxMod:\n",
    "Problem Description\n",
    "\n",
    "Given an array A of size N, groot wants you to pick 2 indices i and j such that\n",
    "\n",
    "1 <= i, j <= N\n",
    "\n",
    "A[i] % A[j] is maximum among all possible pairs of (i, j).\n",
    "\n",
    "Help Groot in finding the maximum value of A[i] % A[j] for some i, j.     \n",
    "\n",
    "### Problem Constraints\n",
    "1 <= N <= 100000\n",
    "\n",
    "0 <= A[i] <= 100000\n",
    "\n",
    "### Input Format\n",
    "First and only argument in an integer array A.\n",
    "\n",
    "### Output Format\n",
    "Return an integer denoting the maximum value of A[i] % A[j] for any valid i, j.\n",
    "\n",
    "## Example Input\n",
    "### Input 1:\n",
    " A = [1, 2, 44, 3]\n",
    "### Input 2:\n",
    " A = [2, 6, 4]\n",
    "   \n",
    "## Example Output\n",
    "### Output 1:\n",
    " 3\n",
    "### Output 2:\n",
    " 4\n",
    "   \n",
    "## Example Explanation\n",
    "### Explanation 1:\n",
    " For i = 3, j = 2  A[i] % A[j] = 3 % 44 = 3.\n",
    " \n",
    " No pair exists which has more value than 3.\n",
    "### Explanation 2:\n",
    " For i = 2, j = 1  A[i] % A[j] = 4 % 6 = 4."
   ]
  },
  {
   "cell_type": "code",
   "execution_count": 10,
   "metadata": {},
   "outputs": [
    {
     "name": "stdout",
     "output_type": "stream",
     "text": [
      "4\n"
     ]
    }
   ],
   "source": [
    "import bisect\n",
    "class Solution:\n",
    "    # @param A : list of integers\n",
    "    # @return an integer\n",
    "    def solve(self, a):\n",
    "        a.sort()\n",
    "        n = len(a)\n",
    "        max_index = bisect.bisect_left(a, max(a))\n",
    "        #print(max_index)\n",
    "        i, j = 0, max_index\n",
    "        ans = 0\n",
    "        while i < j:\n",
    "            ans = max(ans, a[i]%a[j])\n",
    "            i+=1\n",
    "        return ans\n",
    "o = Solution()\n",
    "a = [2,6,4]\n",
    "print(o.solve(a))"
   ]
  }
 ],
 "metadata": {
  "kernelspec": {
   "display_name": "Python 3",
   "language": "python",
   "name": "python3"
  },
  "language_info": {
   "codemirror_mode": {
    "name": "ipython",
    "version": 3
   },
   "file_extension": ".py",
   "mimetype": "text/x-python",
   "name": "python",
   "nbconvert_exporter": "python",
   "pygments_lexer": "ipython3",
   "version": "3.7.3"
  }
 },
 "nbformat": 4,
 "nbformat_minor": 2
}
