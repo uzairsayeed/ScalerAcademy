{
 "cells": [
  {
   "cell_type": "markdown",
   "metadata": {},
   "source": [
    "## Minimum Swaps 2:\n",
    "Problem Description\n",
    "\n",
    "Given an array of integers A of size N that is a permutation of [0, 1, 2, ..., (N-1)]. It is allowed to swap any two elements (not necessarily consecutive). Find the minimum number of swaps required to sort the array in ascending order.   \n",
    "\n",
    "### Problem Constraints\n",
    "1 <= N <= 100000\n",
    "\n",
    "0 <= A[i] < N\n",
    "\n",
    "### Input Format\n",
    "The only argument given is the integer array A.\n",
    "\n",
    "### Output Format\n",
    "Return the minimum number of swaps.\n",
    "\n",
    "## Example Input\n",
    "### Input 1:\n",
    "A = [1, 2, 3, 4, 0]\n",
    "### Input 2:\n",
    "A = [2, 0, 1, 3]\n",
    "  \n",
    "## Example Output\n",
    "### Output 1:\n",
    "4\n",
    "### Output 2:\n",
    "2\n",
    "  \n",
    "## Example Explanation\n",
    "### Explanation 1:\n",
    " If you swap (1, 2) -> (2, 3) -> (4, 0) -> (3, 0). You will get a sorted array.\n",
    " \n",
    " You cannot sort it with lesser swaps.\n",
    "### Explanation 2:\n",
    " You cannot sort it with lesser than 2 swaps."
   ]
  },
  {
   "cell_type": "code",
   "execution_count": 79,
   "metadata": {},
   "outputs": [
    {
     "name": "stdout",
     "output_type": "stream",
     "text": [
      "2\n"
     ]
    }
   ],
   "source": [
    "class Solution:\n",
    "    # @param A : list of integers\n",
    "    # @return an integer\n",
    "    def solve(self, A):\n",
    "        n = len(A)\n",
    "        a = []\n",
    "        for i in range(n):\n",
    "            #print([A[i], i])\n",
    "            a.append([A[i], i])\n",
    "        a.sort(key = lambda x: x[0])\n",
    "        #print(a)\n",
    "        ans = 0\n",
    "        v = [False] * n\n",
    "        for i in range(n):\n",
    "            j = i\n",
    "            cycle_size = 0\n",
    "            while j < n:\n",
    "                #print(i, j)\n",
    "                if not v[j]:\n",
    "                    v[j] = True\n",
    "                    j = a[j][1]  \n",
    "                    cycle_size += 1\n",
    "                    #print('yess',j, cycle_size)\n",
    "                else:\n",
    "                    break\n",
    "            if cycle_size != 0:\n",
    "                ans= ans + cycle_size - 1\n",
    "            #print('noo',ans, cycle_size)\n",
    "        return ans\n",
    "    \n",
    "o = Solution()\n",
    "a = [2,0,1,3]\n",
    "print(o.solve(a))"
   ]
  },
  {
   "cell_type": "code",
   "execution_count": null,
   "metadata": {},
   "outputs": [],
   "source": [
    "class Solution:\n",
    "    # @param A : list of integers\n",
    "    # @return an integer\n",
    "    def solve(self, A):\n",
    "        ans = 0        \n",
    "        for i in range(0, len(A)):            \n",
    "            while A[i] != i:\n",
    "                ans+=1\n",
    "                t = A[A[i]]\n",
    "                A[A[i]] = A[i]\n",
    "                A[i] = t        \n",
    "        return ans"
   ]
  }
 ],
 "metadata": {
  "kernelspec": {
   "display_name": "Python 3",
   "language": "python",
   "name": "python3"
  },
  "language_info": {
   "codemirror_mode": {
    "name": "ipython",
    "version": 3
   },
   "file_extension": ".py",
   "mimetype": "text/x-python",
   "name": "python",
   "nbconvert_exporter": "python",
   "pygments_lexer": "ipython3",
   "version": "3.7.3"
  }
 },
 "nbformat": 4,
 "nbformat_minor": 2
}
