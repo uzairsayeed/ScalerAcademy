{
 "cells": [
  {
   "cell_type": "markdown",
   "metadata": {},
   "source": [
    "## Unique Elements:\n",
    "Problem Description\n",
    "\n",
    "You are given an array A of N elements. You have to make all elements unique, to do so in one step you can increase any number by one. Find the minimum number of steps.   \n",
    "\n",
    "### Problem Constraints\n",
    "1 <= N <= 104\n",
    "\n",
    "1 <= A[i] <= 104\n",
    "\n",
    "### Input Format\n",
    "The only argument given is an Array A, having N integers.\n",
    "\n",
    "### Output Format\n",
    "Return the Minimum number of steps required to make all elements unique.\n",
    "\n",
    "## Example Input\n",
    "### Input 1:\n",
    " A = [1, 1, 3]\n",
    "### Input 2:\n",
    " A = [2, 4, 5]\n",
    "  \n",
    "## Example Output\n",
    "### Output 1:\n",
    " 1\n",
    "### Output 2:\n",
    " 0\n",
    " \n",
    "## Example Explanation\n",
    "### Explanation 1:\n",
    " We can increase the value of 1st element by 1 in 1 step and will get all unique elements. i.e [2, 1, 3].\n",
    "### Explanation 2:\n",
    " All elements are distinct.\n",
    " "
   ]
  },
  {
   "cell_type": "code",
   "execution_count": 17,
   "metadata": {},
   "outputs": [
    {
     "name": "stdout",
     "output_type": "stream",
     "text": [
      "[2, 5, 6, 6, 7, 8, 9, 10, 10, 13, 14, 14, 14, 14, 15, 16, 17, 18, 18, 18, 20, 21, 22, 22, 23, 23, 23, 24, 25, 26, 30, 31, 31, 32, 32, 34, 35, 36, 37, 39, 41, 45, 46, 47, 48, 48, 51, 51, 51, 53, 54, 54, 54, 55, 56, 56, 56, 60, 61, 62, 66, 66, 66, 67, 68, 69, 69, 71, 72, 73, 73, 75, 76, 76, 79, 80, 81, 81, 81, 83, 83, 85, 85, 85, 85, 86, 88, 92, 95, 97, 98, 99, 100, 100]\n",
      "239\n"
     ]
    }
   ],
   "source": [
    "class Solution:\n",
    "    # @param A : list of integers\n",
    "    # @return an integer\n",
    "    def solve(self, a):\n",
    "        n = len(a)\n",
    "        s = 10**6\n",
    "        a.sort()\n",
    "        #print(a)\n",
    "        cnt = 0\n",
    "        visited = [False]*s\n",
    "        for i in range(n):\n",
    "            if visited[a[i]]:\n",
    "                t = a[i]\n",
    "                while visited[t]:\n",
    "                    t+=1\n",
    "                    cnt+=1\n",
    "                a[i] = t\n",
    "                visited[t] = True\n",
    "                \n",
    "            else:\n",
    "                visited[a[i]] = True\n",
    "        return cnt\n",
    "    \n",
    "o = Solution()\n",
    "a = [ 51, 6, 10, 8, 22, 61, 56, 48, 88, 85, 21, 98, 81, 76, 71, 68, 18, 6, 14, 23, 72, 18, 56, 30, 97, 100, 81, 5, 99, 2, 85, 67, 46, 32, 66, 51, 76, 53, 36, 31, 81, 56, 26, 75, 69, 54, 54, 54, 83, 41, 86, 48, 7, 32, 85, 23, 47, 23, 18, 45, 79, 95, 73, 15, 55, 16, 66, 73, 13, 85, 14, 80, 39, 92, 66, 20, 22, 25, 34, 14, 51, 14, 17, 10, 100, 35, 9, 83, 31, 60, 24, 37, 69, 62 ]\n",
    "b = [1,1,3,3,4,5]\n",
    "c = [1,2,3]\n",
    "print(o.solve(a))"
   ]
  }
 ],
 "metadata": {
  "kernelspec": {
   "display_name": "Python 3",
   "language": "python",
   "name": "python3"
  },
  "language_info": {
   "codemirror_mode": {
    "name": "ipython",
    "version": 3
   },
   "file_extension": ".py",
   "mimetype": "text/x-python",
   "name": "python",
   "nbconvert_exporter": "python",
   "pygments_lexer": "ipython3",
   "version": "3.7.3"
  }
 },
 "nbformat": 4,
 "nbformat_minor": 2
}
