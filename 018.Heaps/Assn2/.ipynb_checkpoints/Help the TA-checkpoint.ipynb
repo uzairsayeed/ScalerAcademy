{
 "cells": [
  {
   "cell_type": "markdown",
   "metadata": {},
   "source": [
    "## Help the TA:\n",
    "Ayush has recently joined InterviewBit Academy as TA (Teaching Assistant). He has been assigned a job to keep record of all the errors each student is having in his batch and report it to the Mentor.\n",
    "\n",
    "Since, the mentor gives extra attention to weak students, he resolves the issues of student having maximum number of errors first. But, to keep equality among students, he gives one minute to each student to resolve one of his errors and then ask the TA for next student.\n",
    "\n",
    "Also, the lecture would not last more than B minutes and whenever a student has no more errors left, he leaves the lecture immediately.\n",
    "\n",
    "Ayush, being confused each time, needs your help to shout out the roll number of student who should be helped at any time i.\n",
    "\n",
    "You are given an array of integers, where A[i] denotes number of errors in code of student with roll number i.\n",
    "\n",
    "Return a list containing the roll numbers,where element at index i denotes the roll number to be helped at minute i.\n",
    "\n",
    "Ayush should keep on shouting roll numbers unless the B minutes are over or, the class is empty(everyone has left).\n",
    "\n",
    "### HINT: The returning array size will depend on the time till which roll numbers are shouted.\n",
    "\n",
    "### NOTE :\n",
    "\n",
    "1.Roll Numbers are 0-indexed (i.e, Roll numbers start from 0) \n",
    "\n",
    "2. In case of tie(same number of errors), the least roll number is given preference. \n",
    "\n",
    "3. There is no restriction on spending more than one minute consecutively on one student, as far as the mentor's condtions are met \n",
    "\n",
    "4. Your code will be run on multiple test cases(<=10), try to come up with optimised solution. \n",
    "\n",
    "### Constraints:\n",
    "\n",
    "1 <= Number of Students <= 10^6\n",
    "\n",
    "0 <= A[i] : Errors for each student <= 10^5\n",
    "\n",
    "0 <= Sum of All Errors <= 10^6\n",
    "\n",
    "1 <= B <= 10^6\n",
    "\n",
    "### Sample Input\n",
    "\n",
    "4 2 5 3 6\n",
    "\n",
    "4\n",
    "\n",
    "### Sample Output\n",
    "\n",
    "4 2 4 0\n",
    "\n",
    "### Explanation\n",
    "\n",
    "At i-th minute, the roll number to be help is announced :\n",
    "\n",
    "0th minute: Roll 4 is having 6 errors\n",
    "\n",
    "1st minute: Roll 2 and 4 are having 5 errors\n",
    "\n",
    "2nd minute: Roll 4 is having 5 errors\n",
    "\n",
    "3rd minute: Roll 0, 2 and 4 are having 4 errors\n",
    "\n",
    "4th minute: Lecture ends!\n",
    "\n",
    "So output would be [4 2 4 0]"
   ]
  },
  {
   "cell_type": "code",
   "execution_count": 37,
   "metadata": {},
   "outputs": [
    {
     "name": "stdout",
     "output_type": "stream",
     "text": [
      "[1, 1, 1, 1, 1, 1, 2, 1, 2, 1, 2, 0, 1, 2, 0, 1, 2, 3, 4]\n"
     ]
    }
   ],
   "source": [
    "import heapq\n",
    "class Solution:\n",
    "    # @param A : list of integers\n",
    "    # @param B : integer\n",
    "    # @return a list of integers\n",
    "    def solve(self, a, b):\n",
    "        res = []\n",
    "        h = []\n",
    "        for i in range(len(a)):\n",
    "            a[i] = a[i] * -1\n",
    "            heapq.heappush(h, [a[i], i])\n",
    "        #print(h)\n",
    "        while b != 0 and h:\n",
    "            curr = h[0]\n",
    "            if curr[0] == 0:\n",
    "                heapq.heappop(h)\n",
    "            else:\n",
    "                heapq.heapreplace(h, [curr[0]+1, curr[1]])\n",
    "                #print(h)\n",
    "                res.append(curr[1])\n",
    "                #print(res)\n",
    "            b -= 1\n",
    "        return res\n",
    "                \n",
    "o = Solution()\n",
    "print(o.solve([ 2, 10, 5, 1, 1 ], 46))"
   ]
  }
 ],
 "metadata": {
  "kernelspec": {
   "display_name": "Python 3",
   "language": "python",
   "name": "python3"
  },
  "language_info": {
   "codemirror_mode": {
    "name": "ipython",
    "version": 3
   },
   "file_extension": ".py",
   "mimetype": "text/x-python",
   "name": "python",
   "nbconvert_exporter": "python",
   "pygments_lexer": "ipython3",
   "version": "3.7.3"
  }
 },
 "nbformat": 4,
 "nbformat_minor": 2
}
