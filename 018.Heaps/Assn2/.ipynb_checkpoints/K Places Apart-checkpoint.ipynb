{
 "cells": [
  {
   "cell_type": "markdown",
   "metadata": {},
   "source": [
    "## K Places Apart\n",
    "Problem Description\n",
    "\n",
    "Given N persons with different priorities standing in a queue.\n",
    "\n",
    "Queue is following a property that Each person is standing atmost B places away from it's sorted position.\n",
    "\n",
    "Your task is to sort the queue in the increasing order of priorities.\n",
    "\n",
    "NOTE:\n",
    "\n",
    "No two persons can have the same priority.\n",
    "Use the property of the queue to sort the queue with complexity O(NlogB).\n",
    "\n",
    "\n",
    "Problem Constraints\n",
    "1 <= N <= 100000\n",
    "0 <= B <= N\n",
    "\n",
    "\n",
    "\n",
    "Input Format\n",
    "First argument is an integer array A representing the priorities of N persons.\n",
    "Second argument is an integer B.\n",
    "\n",
    "\n",
    "\n",
    "Output Format\n",
    "Return an integer array representing the sorted queue.\n",
    "\n",
    "\n",
    "\n",
    "Example Input\n",
    "Input 1:\n",
    "\n",
    " A = [1, 40, 2, 3]\n",
    " B = 2\n",
    "Input 2:\n",
    "\n",
    " A = [2, 1, 17, 10, 21, 95]\n",
    " B = 1\n",
    "\n",
    "\n",
    "Example Output\n",
    "Output 1:\n",
    "\n",
    " [1, 2, 3, 40]\n",
    "Output 2:\n",
    "\n",
    " [1, 2, 10, 17, 21, 95]\n",
    "\n",
    "\n",
    "Example Explanation\n",
    "Explanation 1:\n",
    "\n",
    " Given array A = [1, 40, 2, 3]\n",
    " After sorting, A = [1, 2, 3, 40].\n",
    " We can see that difference between initial position of elements amd the final position <= 2.\n",
    "Explanation 2:\n",
    "\n",
    " After sorting, the array becomes [1, 2, 10, 17, 21, 95]."
   ]
  },
  {
   "cell_type": "code",
   "execution_count": 19,
   "metadata": {},
   "outputs": [
    {
     "name": "stdout",
     "output_type": "stream",
     "text": [
      "[3, 8, 11, 16, 20, 25, 28, 31]\n"
     ]
    }
   ],
   "source": [
    "import heapq\n",
    "class Solution:\n",
    "    # @param A : list of integers\n",
    "    # @param B : integer\n",
    "    # @return a list of integers\n",
    "    def solve(self, a, k):\n",
    "        h = []\n",
    "        res = []\n",
    "        for i in range(k+1):\n",
    "            heapq.heappush(h, a[i])\n",
    "        #print(h)\n",
    "        for j in range(i+1, len(a)):\n",
    "            res.append(heapq.heapreplace(h, a[j]))\n",
    "            #print(res, h, j, a[j])            \n",
    "        while h:\n",
    "            res.append(heapq.heappop(h))\n",
    "        return res\n",
    "            \n",
    "            \n",
    "o = Solution()\n",
    "A = [ 25, 16, 11, 31, 28, 20, 3, 8 ]\n",
    "B = 6\n",
    "print(o.solve(A,B))"
   ]
  }
 ],
 "metadata": {
  "kernelspec": {
   "display_name": "Python 3",
   "language": "python",
   "name": "python3"
  },
  "language_info": {
   "codemirror_mode": {
    "name": "ipython",
    "version": 3
   },
   "file_extension": ".py",
   "mimetype": "text/x-python",
   "name": "python",
   "nbconvert_exporter": "python",
   "pygments_lexer": "ipython3",
   "version": "3.7.3"
  }
 },
 "nbformat": 4,
 "nbformat_minor": 2
}
