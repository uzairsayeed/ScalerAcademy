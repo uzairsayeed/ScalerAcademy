{
 "cells": [
  {
   "cell_type": "markdown",
   "metadata": {},
   "source": [
    "## N max pair combinations:\n",
    "Given two arrays A & B of size N each. Find the maximum N elements from the sum combinations (Ai + Bj) formed from elements in array A and B. \n",
    "\n",
    "For example if A = [1,2], B = [3,4], then possible pair sums can be 1+3 = 4 , 1+4=5 , 2+3=5 , 2+4=6 and maximum 2 elements are 6, 5 \n",
    "\n",
    "### Example: \n",
    "\n",
    "N = 4 \n",
    "\n",
    "a[]={1,4,2,3} \n",
    "\n",
    "b[]={2,5,1,6}\n",
    "\n",
    "Maximum 4 elements of combinations sum are\n",
    "\n",
    "10   (4+6), \n",
    "\n",
    "9    (3+6),\n",
    "\n",
    "9    (4+5),\n",
    "\n",
    "8    (2+6)"
   ]
  },
  {
   "cell_type": "code",
   "execution_count": 5,
   "metadata": {},
   "outputs": [
    {
     "name": "stdout",
     "output_type": "stream",
     "text": [
      "[10, 9, 9, 8]\n"
     ]
    }
   ],
   "source": [
    "# Since Python's heapq implementation does not have built in support for max heap,\n",
    "# We can just invert the values stored into the heap so it functions as a max heap. \n",
    "import heapq\n",
    "class Solution:\n",
    "    # @param A : list of integers\n",
    "    # @param B : list of integers\n",
    "    # @return a list of integers\n",
    "    def solve(self, A, B):\n",
    "        N = len(A)\n",
    "        visited = set()\n",
    "        A = sorted(A, reverse=True)\n",
    "        B = sorted(B, reverse=True)\n",
    "        result = []\n",
    "        heap = []\n",
    "        visited.add((0, 0))\n",
    "        heapq.heappush(heap, (-(A[0] + B[0]), (0, 0)))\n",
    "        for _ in range(N):\n",
    "            sum, (iA, iB) = heapq.heappop(heap)\n",
    "            result.append(-sum)\n",
    "            #print(heap)\n",
    "            tuple1 = (iA + 1, iB)\n",
    "            if iA < N - 1 and tuple1 not in visited:\n",
    "                heapq.heappush(heap, (-(A[iA + 1] + B[iB]), tuple1))\n",
    "                visited.add(tuple1)\n",
    "            #print(heap)\n",
    "            tuple2 = (iA, iB + 1)\n",
    "            if iB < N - 1 and tuple2 not in visited:\n",
    "                heapq.heappush(heap, (-(A[iA] + B[iB + 1]), tuple2))\n",
    "                visited.add(tuple2)\n",
    "        #print(heap)        \n",
    "        return result\n",
    "            \n",
    "\n",
    "o = Solution()\n",
    "print(o.solve([1,2,3,4],[2,5,1,6]))"
   ]
  }
 ],
 "metadata": {
  "kernelspec": {
   "display_name": "Python 3",
   "language": "python",
   "name": "python3"
  },
  "language_info": {
   "codemirror_mode": {
    "name": "ipython",
    "version": 3
   },
   "file_extension": ".py",
   "mimetype": "text/x-python",
   "name": "python",
   "nbconvert_exporter": "python",
   "pygments_lexer": "ipython3",
   "version": "3.9.0"
  }
 },
 "nbformat": 4,
 "nbformat_minor": 2
}
