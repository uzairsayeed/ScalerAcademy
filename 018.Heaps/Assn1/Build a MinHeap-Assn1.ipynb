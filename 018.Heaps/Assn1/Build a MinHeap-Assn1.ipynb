{
 "cells": [
  {
   "cell_type": "code",
   "execution_count": 2,
   "metadata": {},
   "outputs": [
    {
     "name": "stdout",
     "output_type": "stream",
     "text": [
      "10\n",
      "10\n",
      "40\n",
      "2\n",
      "2\n",
      "40\n"
     ]
    }
   ],
   "source": [
    "class BinaryHeap:\n",
    "    def __init__(self):\n",
    "        self.items = []\n",
    "\n",
    "    def size(self):\n",
    "        return len(self.items)\n",
    " \n",
    "    def parent(self, i):\n",
    "        return (i - 1)//2\n",
    " \n",
    "    def left(self, i):\n",
    "        return 2*i + 1\n",
    " \n",
    "    def right(self, i):\n",
    "        return 2*i + 2\n",
    " \n",
    "    def get(self, i):\n",
    "        return self.items[i]\n",
    " \n",
    "    def get_min(self):\n",
    "        if self.size() == 0:\n",
    "            return None\n",
    "        return self.items[0]\n",
    " \n",
    "    def delete_min(self):\n",
    "        if self.size() == 0:\n",
    "            return None\n",
    "        smallest = self.get_min()\n",
    "        self.items[0] = self.items[-1]\n",
    "        del self.items[-1]\n",
    "        self.min_heapify(0)\n",
    "        return smallest\n",
    " \n",
    "    def min_heapify(self, i):\n",
    "        l = self.left(i)\n",
    "        r = self.right(i)\n",
    "        if (l <= self.size() - 1 and self.get(l) < self.get(i)):\n",
    "            smallest = l\n",
    "        else:\n",
    "            smallest = i\n",
    "        if (r <= self.size() - 1 and self.get(r) < self.get(smallest)):\n",
    "            smallest = r\n",
    "        if (smallest != i):\n",
    "            self.swap(smallest, i)\n",
    "            self.min_heapify(smallest)\n",
    " \n",
    "    def swap(self, i, j):\n",
    "        self.items[i], self.items[j] = self.items[j], self.items[i]\n",
    " \n",
    "    def insert(self, key):\n",
    "        index = self.size()\n",
    "        self.items.append(key)\n",
    "        while (index != 0):\n",
    "            p = self.parent(index)\n",
    "            if self.get(p) > self.get(index):\n",
    "                self.swap(p, index)\n",
    "            index = p\n",
    "    \n",
    "    def buildMinHeap(self, a):\n",
    "        for i in a:\n",
    "            self.insert(i)\n",
    "     \n",
    "o = BinaryHeap()\n",
    "o.buildMinHeap([10,40,50,50,60,100])\n",
    "print(o.get_min())\n",
    "print(o.delete_min())\n",
    "print(o.get_min())\n",
    "(o.insert(2))\n",
    "print(o.get_min())\n",
    "print(o.delete_min())\n",
    "print(o.get_min())\n"
   ]
  }
 ],
 "metadata": {
  "kernelspec": {
   "display_name": "Python 3",
   "language": "python",
   "name": "python3"
  },
  "language_info": {
   "codemirror_mode": {
    "name": "ipython",
    "version": 3
   },
   "file_extension": ".py",
   "mimetype": "text/x-python",
   "name": "python",
   "nbconvert_exporter": "python",
   "pygments_lexer": "ipython3",
   "version": "3.9.0"
  }
 },
 "nbformat": 4,
 "nbformat_minor": 2
}
