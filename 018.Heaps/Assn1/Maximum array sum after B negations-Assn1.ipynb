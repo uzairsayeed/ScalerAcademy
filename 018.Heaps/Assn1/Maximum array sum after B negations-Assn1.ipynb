{
 "cells": [
  {
   "cell_type": "markdown",
   "metadata": {},
   "source": [
    "## Maximum array sum after B negations:\n",
    "Problem Description\n",
    "\n",
    "Given an array of integers A and an integer B. You must modify the array exactly B number of times. In single modification, we can replace any one array element A[i] by -A[i].\n",
    "\n",
    "You need to perform these modifications in such a way that after exactly B modifications, sum of the array must be maximum.\n",
    "### Problem Constraints\n",
    "1 <= length of the array <= 5*105\n",
    "\n",
    "1 <= B <= 5 * 106\n",
    "\n",
    "-100 <= A[i] <= 100\n",
    "### Input Format\n",
    "First argument given is an integer array A.\n",
    "\n",
    "Second argument given is an integer B.\n",
    "### Output Format\n",
    "Return an integer denoting the maximum array sum after B modifications.\n",
    "## Example Input\n",
    "### Input 1:\n",
    " A = [24, -68, -29, -9, 84]\n",
    " \n",
    " B = 4\n",
    "### Input 2:\n",
    " A = [57, 3, -14, -87, 42, 38, 31, -7, -28, -61]\n",
    " \n",
    " B = 10\n",
    "## Example Output\n",
    "### Output 1:\n",
    " 196\n",
    "### Output 2:\n",
    " 362\n",
    "## Example Explanation\n",
    "### Explanation 1:\n",
    " Final array after B modifications = [24, 68, 29, -9, 84]\n",
    "### Explanation 2:\n",
    " Final array after B modifications = [57, -3, 14, 87, 42, 38, 31, 7, 28, 61]"
   ]
  },
  {
   "cell_type": "code",
   "execution_count": 31,
   "metadata": {},
   "outputs": [
    {
     "name": "stdout",
     "output_type": "stream",
     "text": [
      "362\n"
     ]
    }
   ],
   "source": [
    "import heapq\n",
    "class Solution:\n",
    "    # @param A : list of integers\n",
    "    # @param B : integer\n",
    "    # @return an integer\n",
    "    def solve(self, a, k):\n",
    "        heapq.heapify(a)\n",
    "        #print(a)\n",
    "        while k:\n",
    "            #print('yess', a[0], a, k)\n",
    "            if a[0] < 0:\n",
    "                heapq.heapreplace(a, -a[0])\n",
    "                k -= 1\n",
    "                #print(a[0], a, k)\n",
    "            else:\n",
    "                if k%2:\n",
    "                    a[0] = -a[0]\n",
    "                    break\n",
    "                else:\n",
    "                    break        \n",
    "        return sum(a)\n",
    "\n",
    "        \n",
    "o = Solution()\n",
    "A = [57, 3, -14, -87, 42, 38, 31, -7, -28, -61]\n",
    "\n",
    "B = 10\n",
    "print(o.solve(A, B))\n"
   ]
  }
 ],
 "metadata": {
  "kernelspec": {
   "display_name": "Python 3",
   "language": "python",
   "name": "python3"
  },
  "language_info": {
   "codemirror_mode": {
    "name": "ipython",
    "version": 3
   },
   "file_extension": ".py",
   "mimetype": "text/x-python",
   "name": "python",
   "nbconvert_exporter": "python",
   "pygments_lexer": "ipython3",
   "version": "3.9.0"
  }
 },
 "nbformat": 4,
 "nbformat_minor": 2
}
