{
 "cells": [
  {
   "cell_type": "markdown",
   "metadata": {},
   "source": [
    "## Product of 3:\n",
    "Problem Description\n",
    "\n",
    "Given an integer array A of size N.\n",
    "\n",
    "You have to find the product of the 3 largest integers in array A from range 1 to i, where i goes from 1 to N.\n",
    "\n",
    "Return an array B where B[i] is the product of the largest 3 integers in range 1 to i in array A. If i < 3, then the integer at index i is -1.\n",
    "### Problem Constraints\n",
    "1 <= N <= 105\n",
    "\n",
    "0 <= A[i] <= 103\n",
    "### Input Format\n",
    "First and only argument is an integer array A.\n",
    "### Output Format\n",
    "Return an integer array B. B[i] denotes the product of the largest 3 integers in range 1 to i in array A.\n",
    "### Example Input\n",
    "## Input 1:\n",
    " A = [1, 2, 3, 4, 5]\n",
    "### Input 2:\n",
    " A = [10, 2, 13, 4]\n",
    "## Example Output\n",
    "### Output 1:\n",
    " [-1, -1, 6, 24, 60]\n",
    "### Output 2:\n",
    " [-1, -1, 260, 520]\n",
    "## Example Explanation\n",
    "### Explanation 1:\n",
    " For i = 1, ans = -1\n",
    " \n",
    " For i = 2, ans = -1\n",
    " \n",
    " For i = 3, ans = 1 * 2 * 3 = 6\n",
    " \n",
    " For i = 4, ans = 2 * 3 * 4 = 24\n",
    " \n",
    " For i = 5, ans = 3 * 4 * 5 = 60\n",
    "\n",
    " So, the output is [-1, -1, 6, 24, 60].\n",
    "### Explanation 2:\n",
    " For i = 1, ans = -1\n",
    " \n",
    " For i = 2, ans = -1\n",
    " \n",
    " For i = 3, ans = 10 * 2 * 13 = 260\n",
    " \n",
    " For i = 4, ans = 10 * 13 * 4 = 520\n",
    "\n",
    " So, the output is [-1, -1, 260, 520]."
   ]
  },
  {
   "cell_type": "code",
   "execution_count": 11,
   "metadata": {},
   "outputs": [
    {
     "name": "stdout",
     "output_type": "stream",
     "text": [
      "[-1, -1, 260, 520]\n"
     ]
    }
   ],
   "source": [
    "import heapq\n",
    "class Solution:\n",
    "    # @param A : list of integers\n",
    "    # @return a list of integers\n",
    "    def solve(self, a):\n",
    "        n = len(a)\n",
    "        res = [-1] * n\n",
    "        if n < 3:\n",
    "            return res\n",
    "        h = []\n",
    "        for i in range(3):\n",
    "            heapq.heappush(h, a[i])\n",
    "        res[2] = h[0]*h[1]*h[2]\n",
    "        for i in range(3, n):\n",
    "            #print(h)\n",
    "            if a[i] > h[0]:\n",
    "                heapq.heapreplace(h, a[i])\n",
    "            res[i] = h[0]*h[1]*h[2]\n",
    "        return res\n",
    "            \n",
    "o = Solution()          \n",
    "A = [10,2,13,4]\n",
    "print(o.solve(A))"
   ]
  }
 ],
 "metadata": {
  "kernelspec": {
   "display_name": "Python 3",
   "language": "python",
   "name": "python3"
  },
  "language_info": {
   "codemirror_mode": {
    "name": "ipython",
    "version": 3
   },
   "file_extension": ".py",
   "mimetype": "text/x-python",
   "name": "python",
   "nbconvert_exporter": "python",
   "pygments_lexer": "ipython3",
   "version": "3.9.0"
  }
 },
 "nbformat": 4,
 "nbformat_minor": 2
}
