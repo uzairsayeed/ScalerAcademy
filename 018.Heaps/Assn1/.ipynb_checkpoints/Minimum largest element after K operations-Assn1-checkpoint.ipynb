{
 "cells": [
  {
   "cell_type": "markdown",
   "metadata": {},
   "source": [
    "## Minimum largest element after K operations:\n",
    "Given an array A of N numbers, you have to perform B operations. In each operation, you have to pick any one of the N elements and add original value(value stored at index before we did any operations) to it's current value. You can choose any of the N elements in each operation. Perform B operations in such a way that the largest element of the modified array(after B operations) is minimised. Return an integer corresponding to the minimum possible largest element after K operations.\n",
    "\n",
    "## Example:\n",
    "\n",
    "### Input : \n",
    "  \n",
    "  A = [1, 2, 3, 4] \n",
    "  \n",
    "  B = 3\n",
    "\n",
    "### Output : \n",
    "\n",
    "4\n",
    "\n",
    "### Explanation : \n",
    "\n",
    "After the 1st operation the array would change to [2, 2, 3, 4]\n",
    "\n",
    "After the 2nd operation the array would change to [3, 2, 3, 4]\n",
    "\n",
    "After the 3rd operation the array would change to [4, 2, 3, 4]"
   ]
  },
  {
   "cell_type": "code",
   "execution_count": 2,
   "metadata": {},
   "outputs": [
    {
     "name": "stdout",
     "output_type": "stream",
     "text": [
      "4\n"
     ]
    }
   ],
   "source": [
    "import heapq\n",
    "class Solution:\n",
    "\t# @param A : list of integers\n",
    "\t# @param B : integer\n",
    "\t# @return an integer\n",
    "    def solve(self, a, k):\n",
    "        if k == 0:\n",
    "            return max(a)\n",
    "        res = []\n",
    "        for i in a:\n",
    "            res.append(i)\n",
    "        heap = []\n",
    "        for i in range(len(a)):\n",
    "            heapq.heappush(heap,[a[i]*2, i])\n",
    "        curr = heap[0]\n",
    "        res[curr[1]] = curr[0]\n",
    "        #print(heap)\n",
    "        #print(res)\n",
    "        k -= 1\n",
    "        #print(k)\n",
    "        while k != 0:\n",
    "            #print(heap)\n",
    "            #print(res)\n",
    "            curr = heap[0]\n",
    "            curr[0] += a[curr[1]]\n",
    "            heapq.heapreplace(heap,curr)\n",
    "            curr = heap[0]\n",
    "            res[curr[1]] = curr[0]\n",
    "            k -= 1\n",
    "        return max(res)\n",
    "        \n",
    "        \n",
    "o = Solution()\n",
    "print(o.solve([1,2,3,4],3))"
   ]
  }
 ],
 "metadata": {
  "kernelspec": {
   "display_name": "Python 3",
   "language": "python",
   "name": "python3"
  },
  "language_info": {
   "codemirror_mode": {
    "name": "ipython",
    "version": 3
   },
   "file_extension": ".py",
   "mimetype": "text/x-python",
   "name": "python",
   "nbconvert_exporter": "python",
   "pygments_lexer": "ipython3",
   "version": "3.9.0"
  }
 },
 "nbformat": 4,
 "nbformat_minor": 2
}
