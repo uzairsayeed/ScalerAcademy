{
 "cells": [
  {
   "cell_type": "code",
   "execution_count": 1,
   "metadata": {},
   "outputs": [
    {
     "name": "stdout",
     "output_type": "stream",
     "text": [
      "None\n",
      "40\n",
      "35\n",
      "200\n",
      "200\n",
      "35\n"
     ]
    }
   ],
   "source": [
    "class BinaryHeap:\n",
    "    def __init__(self):\n",
    "        self.items = []\n",
    "\n",
    "    def size(self):\n",
    "        return len(self.items)\n",
    " \n",
    "    def parent(self, i):\n",
    "        return (i - 1)//2\n",
    " \n",
    "    def left(self, i):\n",
    "        return 2*i + 1\n",
    " \n",
    "    def right(self, i):\n",
    "        return 2*i + 2\n",
    " \n",
    "    def get(self, i):\n",
    "        return self.items[i]\n",
    " \n",
    "    def get_max(self):\n",
    "        if self.size() == 0:\n",
    "            return None\n",
    "        return self.items[0]\n",
    " \n",
    "    def delete_max(self):\n",
    "        if self.size() == 0:\n",
    "            return None\n",
    "        largest = self.get_max()\n",
    "        self.items[0] = self.items[-1]\n",
    "        del self.items[-1]\n",
    "        self.max_heapify(0)\n",
    "        return largest\n",
    " \n",
    "    def max_heapify(self, i):\n",
    "        l = self.left(i)\n",
    "        r = self.right(i)\n",
    "        if (l <= self.size() - 1 and self.get(l) > self.get(i)):\n",
    "            largest = l\n",
    "        else:\n",
    "            largest = i\n",
    "        if (r <= self.size() - 1 and self.get(r) > self.get(largest)):\n",
    "            largest = r\n",
    "        if (largest != i):\n",
    "            self.swap(largest, i)\n",
    "            self.max_heapify(largest)\n",
    " \n",
    "    def swap(self, i, j):\n",
    "        self.items[i], self.items[j] = self.items[j], self.items[i]\n",
    " \n",
    "    def insert(self, key):\n",
    "        index = self.size()\n",
    "        self.items.append(key)\n",
    "        while (index != 0):\n",
    "            p = self.parent(index)\n",
    "            if self.get(p) < self.get(index):\n",
    "                self.swap(p, index)\n",
    "            index = p\n",
    "    \n",
    "    def buildMaxHeap(self, a):\n",
    "        for i in a:\n",
    "            self.insert(i)\n",
    "     \n",
    "o = BinaryHeap()\n",
    "o.buildMaxHeap([40, 30, 20, 10, 15, 16, 17, 8, 4])\n",
    "print(o.insert(35))\n",
    "print(o.delete_max())\n",
    "print(o.get_max())\n",
    "(o.insert(200))\n",
    "print(o.get_max())\n",
    "print(o.delete_max())\n",
    "print(o.get_max())\n"
   ]
  }
 ],
 "metadata": {
  "kernelspec": {
   "display_name": "Python 3",
   "language": "python",
   "name": "python3"
  },
  "language_info": {
   "codemirror_mode": {
    "name": "ipython",
    "version": 3
   },
   "file_extension": ".py",
   "mimetype": "text/x-python",
   "name": "python",
   "nbconvert_exporter": "python",
   "pygments_lexer": "ipython3",
   "version": "3.9.0"
  }
 },
 "nbformat": 4,
 "nbformat_minor": 2
}
