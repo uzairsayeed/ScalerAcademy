{
 "cells": [
  {
   "cell_type": "markdown",
   "metadata": {},
   "source": [
    "## Merge K Sorted Lists:\n",
    "Merge k sorted linked lists and return it as one sorted list.\n",
    "\n",
    "### Example :\n",
    "\n",
    "1 -> 10 -> 20\n",
    "\n",
    "4 -> 11 -> 13\n",
    "\n",
    "3 -> 8 -> 9\n",
    "\n",
    "will result in\n",
    "\n",
    "1 -> 3 -> 4 -> 8 -> 9 -> 10 -> 11 -> 13 -> 20"
   ]
  },
  {
   "cell_type": "code",
   "execution_count": 1,
   "metadata": {},
   "outputs": [
    {
     "ename": "SyntaxError",
     "evalue": "invalid syntax (<ipython-input-1-032c576410c3>, line 22)",
     "output_type": "error",
     "traceback": [
      "\u001b[1;36m  File \u001b[1;32m\"<ipython-input-1-032c576410c3>\"\u001b[1;36m, line \u001b[1;32m22\u001b[0m\n\u001b[1;33m    1->4->5,\u001b[0m\n\u001b[1;37m      ^\u001b[0m\n\u001b[1;31mSyntaxError\u001b[0m\u001b[1;31m:\u001b[0m invalid syntax\n"
     ]
    }
   ],
   "source": [
    "from heapq import *\n",
    "class Solution():\n",
    "    def mergeKLists(self, lists):\n",
    "        n = len(lists)\n",
    "        if n==0:\n",
    "            return \n",
    "        dummy = ListNode(0)\n",
    "        head = dummy\n",
    "        h = []\n",
    "        for i in range(n):\n",
    "            if lists[i]:\n",
    "                heappush(h,(lists[i].val,lists[i]))\n",
    "        while h:\n",
    "            val,node = heappop(h)\n",
    "            head.next = node\n",
    "            if node.next:\n",
    "                heappush(h,(node.next.val,node.next))\n",
    "            head = head.next\n",
    "        return dummy.next\n"
   ]
  },
  {
   "cell_type": "code",
   "execution_count": null,
   "metadata": {},
   "outputs": [],
   "source": [
    "# Editorial Code\n",
    "\n",
    "# Definition for singly-linked list.\n",
    "# class ListNode:\n",
    "#     def __init__(self, x):\n",
    "#         self.val = x\n",
    "#         self.next = None\n",
    "\n",
    "class Solution:\n",
    "    # @param A : list of linked list\n",
    "    # @return the head node in the linked list\n",
    "    def mergeKLists(self, A):\n",
    "        lists=A\n",
    "        vals = []\n",
    "        for head in lists:\n",
    "            while head is not None:\n",
    "                vals.append(head.val)\n",
    "                head = head.next\n",
    "        vals.sort()\n",
    "\n",
    "        head = ListNode(vals[0])\n",
    "        itr = head\n",
    "        for i in vals[1:]:\n",
    "            itr.next = ListNode(i)\n",
    "            itr = itr.next\n",
    "\n",
    "        return head"
   ]
  }
 ],
 "metadata": {
  "kernelspec": {
   "display_name": "Python 3",
   "language": "python",
   "name": "python3"
  },
  "language_info": {
   "codemirror_mode": {
    "name": "ipython",
    "version": 3
   },
   "file_extension": ".py",
   "mimetype": "text/x-python",
   "name": "python",
   "nbconvert_exporter": "python",
   "pygments_lexer": "ipython3",
   "version": "3.9.0"
  }
 },
 "nbformat": 4,
 "nbformat_minor": 2
}
