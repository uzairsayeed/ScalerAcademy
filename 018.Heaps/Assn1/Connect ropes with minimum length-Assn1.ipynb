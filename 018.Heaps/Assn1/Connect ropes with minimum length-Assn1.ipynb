{
 "cells": [
  {
   "cell_type": "markdown",
   "metadata": {},
   "source": [
    "## Connect ropes with minimum length:\n",
    "Given an array of integers A representing the length of ropes. You need to connect these ropes into one rope. The cost of connecting two ropes is equal to the sum of their lengths. You need to connect the ropes with minimum cost. Find and return the minimum cost to connect these ropes into one rope. \n",
    "\n",
    "### Input Format\n",
    "\n",
    "The only argument given is the integer array A.\n",
    "\n",
    "### Output Format\n",
    "\n",
    "Return the minimum cost to connect these ropes into one rope.\n",
    "\n",
    "### Constraints\n",
    "\n",
    "1 <= length of the array <= 100000\n",
    "\n",
    "1 <= A[i] <= 10^3\n",
    "\n",
    "## For Example\n",
    "\n",
    "### Input 1:\n",
    "    \n",
    "    A = [1, 2, 3, 4, 5]\n",
    "\n",
    "### Output 1:\n",
    "    \n",
    "    33\n",
    "\n",
    "### Explanation 1:\n",
    "    \n",
    "    1 + 2 = 3\n",
    "    \n",
    "    3 + 3 = 6\n",
    "    \n",
    "    4 + 5 = 9\n",
    "    \n",
    "    6 + 9 = 15\n",
    "\n",
    "    3 + 6 + 9 + 15 = 33\n",
    "\n",
    "\n",
    "### Input 2:\n",
    "    \n",
    "    A = [5, 17, 100, 11]\n",
    "\n",
    "### Output 2:\n",
    "    \n",
    "    182\n",
    "\n",
    "### Explanation 2:\n",
    "    \n",
    "    5 + 11 = 16\n",
    "    \n",
    "    16 + 17 = 33\n",
    "    \n",
    "    33 + 100 = 133\n",
    "\n",
    "    16 + 33 + 133 = 182"
   ]
  },
  {
   "cell_type": "code",
   "execution_count": 1,
   "metadata": {},
   "outputs": [
    {
     "name": "stdout",
     "output_type": "stream",
     "text": [
      "[5, 11, 100, 17]\n",
      "182\n"
     ]
    }
   ],
   "source": [
    "from heapq import heappop, heappush, heapify\n",
    "class Solution:\n",
    "    # @param A : list of integers\n",
    "    # @return an integer\n",
    "    def solve(self, ropes):\n",
    "        if not ropes:\n",
    "            return 0\n",
    "        if len(ropes) == 1:\n",
    "            return ropes[0]\n",
    "        heapify(ropes)\n",
    "        #print(ropes)\n",
    "        cost = 0\n",
    "        while len(ropes) > 1:\n",
    "            a, b = heappop(ropes), heappop(ropes)\n",
    "            cost += a+b\n",
    "            if ropes:\n",
    "              heappush(ropes, a+b)\n",
    "        return cost\n",
    "        \n",
    "o = Solution()\n",
    "print(o.solve([5,17,100,11]))"
   ]
  },
  {
   "cell_type": "code",
   "execution_count": null,
   "metadata": {},
   "outputs": [],
   "source": [
    "def solve(a, k):\n",
    "    n = len(a)\n",
    "    if k == 1 or k =="
   ]
  }
 ],
 "metadata": {
  "kernelspec": {
   "display_name": "Python 3",
   "language": "python",
   "name": "python3"
  },
  "language_info": {
   "codemirror_mode": {
    "name": "ipython",
    "version": 3
   },
   "file_extension": ".py",
   "mimetype": "text/x-python",
   "name": "python",
   "nbconvert_exporter": "python",
   "pygments_lexer": "ipython3",
   "version": "3.9.0"
  }
 },
 "nbformat": 4,
 "nbformat_minor": 2
}
