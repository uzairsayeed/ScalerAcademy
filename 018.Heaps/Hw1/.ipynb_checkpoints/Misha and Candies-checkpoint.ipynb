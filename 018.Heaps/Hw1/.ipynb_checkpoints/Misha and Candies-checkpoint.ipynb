{
 "cells": [
  {
   "cell_type": "markdown",
   "metadata": {},
   "source": [
    "## Misha and Candies\n",
    "Problem Description\n",
    "\n",
    "Misha loves eating candies. She has given N boxes of Candies.\n",
    "\n",
    "She decides, every time she will choose a box having the minimum number of candies, eat half of the candies and put the remaining candies in the other box that has the minimum number of candies.\n",
    "Misha does not like a box if it has the number of candies greater than B so she won't eat from that box. Can you find how many candies she will eat?\n",
    "### NOTE 1: \n",
    "If a box has an odd number of candies then Misha will eat floor(odd/2).\n",
    "\n",
    "### NOTE 2: \n",
    "A same box will not be chosen again.\n",
    "### Problem Constraints\n",
    "1 <= N <= 105\n",
    "\n",
    "1 <= A[i] <= 105\n",
    "\n",
    "1 <= B <= 106\n",
    "### Input Format\n",
    "The first argument is A an Array of Integers, where A[i] is the number of candies in the ith box.\n",
    "\n",
    "The second argument is B, the maximum number of candies Misha like in a box.\n",
    "### Output Format\n",
    "Return an Integer denoting number of candies Misha will eat.\n",
    "## Example Input\n",
    "### Input 1:\n",
    " A = [3, 2, 3]\n",
    " \n",
    " B = 4\n",
    "### Input 2:\n",
    " A = [1,2,1]\n",
    " \n",
    " B = 2\n",
    "## Example Output\n",
    "### Output 1:\n",
    " 2\n",
    "### Output 2:\n",
    " 1\n",
    "## Example Explanation\n",
    "### Explanation 1:\n",
    " 1st time Misha will eat from 2nd box, i.e 1 candy she'll eat and will put the remaining 1 candy in the 1st box.\n",
    " \n",
    " 2nd time she will eat from the 3rd box, i.e 1 candy she'll eat and will put the remaining 2 candies in the 1st box.\n",
    " \n",
    " She will not eat from the 3rd box as now it has candies greater than B.\n",
    " \n",
    " So the number of candies Misha eat is 2.\n",
    "### Explanation 2:\n",
    " 1st time Misha will eat from 1st box, i.e she can't eat any and will put the remaining 1 candy in the 3rd box.\n",
    " \n",
    " 2nd time she will eat from the 3rd box, i.e 1 candy she'll eat and will put the remaining 1 candies in the 2nd box.\n",
    " \n",
    " She will not eat from the 2nd box as now it has candies greater than B.\n",
    " \n",
    " So the number of candies Misha eat is 1.\n"
   ]
  },
  {
   "cell_type": "code",
   "execution_count": 17,
   "metadata": {
    "scrolled": true
   },
   "outputs": [
    {
     "name": "stdout",
     "output_type": "stream",
     "text": [
      "1\n"
     ]
    }
   ],
   "source": [
    "import heapq\n",
    "class Solution:\n",
    "    # @param A : list of integers\n",
    "    # @param B : integer\n",
    "    # @return an integer\n",
    "    def solve(self, a, k):\n",
    "        heapq.heapify(a)\n",
    "        res = 0\n",
    "        #print(a)\n",
    "        while len(a) > 1:\n",
    "            curr = heapq.heappop(a)\n",
    "            if curr > k:\n",
    "                break\n",
    "            if curr == 1:\n",
    "                x = 0\n",
    "                y = 1\n",
    "            else:\n",
    "                x = curr//2\n",
    "                y = curr - x\n",
    "            res += x\n",
    "            z = a[0] + y\n",
    "            heapq.heapreplace(a, z)\n",
    "            #print(curr, x, y, z, a[0])\n",
    "        if a[0] <= k:\n",
    "            res += (a[0]//2)\n",
    "        return res\n",
    "        \n",
    "o = Solution()\n",
    "A = [1,2,1]\n",
    "\n",
    "B = 2\n",
    "print(o.solve(A,B))"
   ]
  }
 ],
 "metadata": {
  "kernelspec": {
   "display_name": "Python 3",
   "language": "python",
   "name": "python3"
  },
  "language_info": {
   "codemirror_mode": {
    "name": "ipython",
    "version": 3
   },
   "file_extension": ".py",
   "mimetype": "text/x-python",
   "name": "python",
   "nbconvert_exporter": "python",
   "pygments_lexer": "ipython3",
   "version": "3.7.3"
  }
 },
 "nbformat": 4,
 "nbformat_minor": 2
}
