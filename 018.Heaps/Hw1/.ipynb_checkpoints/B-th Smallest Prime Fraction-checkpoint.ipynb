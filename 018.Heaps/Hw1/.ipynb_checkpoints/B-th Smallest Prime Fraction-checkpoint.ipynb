{
 "cells": [
  {
   "cell_type": "markdown",
   "metadata": {},
   "source": [
    "## B-th Smallest Prime Fraction:\n",
    "Problem Description\n",
    "\n",
    "A sorted array of integers, A contains 1, plus some number of primes. Then, for every p < q in the list, we consider the fraction p/q.\n",
    "\n",
    "What is the B-th smallest fraction considered?\n",
    "\n",
    "Return your answer as an array of integers, where answer[0] = p and answer[1] = q.\n",
    "### Problem Constraints\n",
    "1 <= length(A) <= 2000\n",
    "\n",
    "1 <= A[i] <= 30000\n",
    "\n",
    "1 <= B <= length(A)*(length(A) - 1)/2\n",
    "### Input Format\n",
    "The first argument of input contains the integer array, A.\n",
    "\n",
    "The second argument of input contains an integer B.\n",
    "### Output Format\n",
    "Return an array of two integers, where answer[0] = p and answer[1] = q.\n",
    "## Example Input\n",
    "### Input 1:\n",
    " A = [1, 2, 3, 5]\n",
    " \n",
    " B = 3\n",
    "### Input 2:\n",
    " A = [1, 7]\n",
    " \n",
    " B = 1\n",
    "## Example Output\n",
    "### Output 1:\n",
    " [2, 5]\n",
    "### Output 2:\n",
    " [1, 7]\n",
    "## Example Explanation\n",
    "### Explanation 1:\n",
    " The fractions to be considered in sorted order are:\n",
    " \n",
    " [1/5, 1/3, 2/5, 1/2, 3/5, 2/3]\n",
    " \n",
    " The third fraction is 2/5.\n",
    "### Explanation 2:\n",
    " The fractions to be considered in sorted order are:\n",
    " \n",
    " [1/7]\n",
    " \n",
    " The first fraction is 1/7."
   ]
  },
  {
   "cell_type": "code",
   "execution_count": 78,
   "metadata": {
    "scrolled": true
   },
   "outputs": [
    {
     "name": "stdout",
     "output_type": "stream",
     "text": [
      "[1, 7]\n"
     ]
    }
   ],
   "source": [
    "import heapq\n",
    "class Solution:\n",
    "    # @param A : list of integers\n",
    "    # @param B : integer\n",
    "    # @return a list of integers\n",
    "    def solve(self, a, k):\n",
    "        n = len(a)\n",
    "        h = []\n",
    "        t = k\n",
    "        for i in range(n-1):\n",
    "            for j in range(i+1, n):\n",
    "               heapq.heappush(h, [a[i]/a[j], a[i], a[j]])\n",
    "        #print(h)\n",
    "        while k>1:\n",
    "            heapq.heappop(h)\n",
    "            k-=1\n",
    "        #print(len(h), h)\n",
    "        return [h[0][1],h[0][2]]\n",
    "                \n",
    "o = Solution()\n",
    "A = [1, 7]\n",
    "\n",
    "B = 1\n",
    "print(o.solve(A,B))\n"
   ]
  },
  {
   "cell_type": "code",
   "execution_count": 37,
   "metadata": {},
   "outputs": [
    {
     "name": "stdout",
     "output_type": "stream",
     "text": [
      "0.26366458230239775\n"
     ]
    }
   ],
   "source": [
    "print(5861/22229)\n",
    "if 0.2662517603234452 < 0.26366458230239775:\n",
    "    print(123)"
   ]
  }
 ],
 "metadata": {
  "kernelspec": {
   "display_name": "Python 3",
   "language": "python",
   "name": "python3"
  },
  "language_info": {
   "codemirror_mode": {
    "name": "ipython",
    "version": 3
   },
   "file_extension": ".py",
   "mimetype": "text/x-python",
   "name": "python",
   "nbconvert_exporter": "python",
   "pygments_lexer": "ipython3",
   "version": "3.7.3"
  }
 },
 "nbformat": 4,
 "nbformat_minor": 2
}
