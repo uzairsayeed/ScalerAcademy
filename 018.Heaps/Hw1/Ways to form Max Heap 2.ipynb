{
 "cells": [
  {
   "cell_type": "markdown",
   "metadata": {},
   "source": [
    "## Ways to form Max Heap 2:\n",
    "Max heap is a special kind of complete binary tree in which for every node the value present in that node is greater than the value present in it’s children nodes. If you want to know more about Heaps.\n",
    "\n",
    "So now the problem statement for the question is: Given an array of size n consisting of n-1 distinct elements.In other words there is exactly one element that is repeated.It is given that the element that would repeat would be either the maximum element or the minimum element. Find the number of structurally different max heaps possible using all the n elements of the array that is max heap of size n.\n",
    "\n",
    "Let us take an example with array array elements as\n",
    "1 5 5\n",
    "\n",
    "The possible max heaps using the given elements are:- \n",
    "\n",
    "First: 5 on the root. 1 as the left child of root and 5 as the right child of the root\n",
    "        \n",
    "        5\n",
    "      \n",
    "      /   \\\n",
    "    \n",
    "    1       5\n",
    "\n",
    "Second: 5 on the root. 5 as the left child of root and 1 as the right child of the root.\n",
    "        \n",
    "        5\n",
    "      \n",
    "      /   \\\n",
    "    \n",
    "    5       1\n",
    "\n",
    "There are only two structurally different max heaps using the given array elements. Implement the below function to return the number of distinct max heaps of size n. \n",
    "\n",
    "As final answer can be very large output your answer modulo 1000000007. Input constraints: n<=1000."
   ]
  },
  {
   "cell_type": "code",
   "execution_count": null,
   "metadata": {},
   "outputs": [],
   "source": [
    "MOD = 10**9+7\n",
    "\n",
    "class Solution:\n",
    "    # @param A : integer\n",
    "    # @return an integer\n",
    "    \n",
    "    def comb(self,r,n) :\n",
    "        if 2*r > n : \n",
    "            return self.comb(n-r,n)\n",
    "        c = 1\n",
    "        for i in range(r) :\n",
    "            c = c*(n-i)//(i+1)\n",
    "        return c\n",
    "    \n",
    "    def solve(self, A):\n",
    "        ans,h = [1,1], 0\n",
    "        for n in range(2,A+1) :\n",
    "            if 2<<h <= n :\n",
    "                h += 1\n",
    "            m = n-(1<<h)+1\n",
    "            l = (1<<(h-1))-1 + min(m,1<<(h-1))\n",
    "            r = (1<<(h-1))-1 + max(0,m-(1<<(h-1)))\n",
    "            ans.append((self.comb(l,n-1)*ans[l]*ans[r])%MOD)\n",
    "        return ans[A]\n",
    "\n",
    "            "
   ]
  }
 ],
 "metadata": {
  "kernelspec": {
   "display_name": "Python 3",
   "language": "python",
   "name": "python3"
  },
  "language_info": {
   "codemirror_mode": {
    "name": "ipython",
    "version": 3
   },
   "file_extension": ".py",
   "mimetype": "text/x-python",
   "name": "python",
   "nbconvert_exporter": "python",
   "pygments_lexer": "ipython3",
   "version": "3.7.3"
  }
 },
 "nbformat": 4,
 "nbformat_minor": 2
}
