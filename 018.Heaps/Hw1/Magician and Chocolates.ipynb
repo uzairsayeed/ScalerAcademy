{
 "cells": [
  {
   "cell_type": "markdown",
   "metadata": {},
   "source": [
    "## Magician and Chocolates:\n",
    "Given N bags, each bag contains Ai chocolates. There is a kid and a magician. In one unit of time, kid chooses a random bag i, eats Ai chocolates, then the magician fills the ith bag with floor(Ai/2) chocolates. Given Ai for 1 <= i <= N, find the maximum number of chocolates kid can eat in K units of time.\n",
    "\n",
    "### For example,\n",
    "\n",
    "K = 3\n",
    "\n",
    "N = 2\n",
    "\n",
    "A = 6 5\n",
    "\n",
    "Return: 14\n",
    "\n",
    "At t = 1 kid eats 6 chocolates from bag 0, and the bag gets filled by 3 chocolates At t = 2 kid eats 5 chocolates from bag 1, and the bag gets filled by 2 chocolates At t = 3 kid eats 3 chocolates from bag 0, and the bag gets filled by 1 chocolate so, total number of chocolates eaten: 6 + 5 + 3 = 14 \n",
    "\n",
    "### Note: Return your answer modulo 10^9+7"
   ]
  },
  {
   "cell_type": "code",
   "execution_count": 54,
   "metadata": {},
   "outputs": [
    {
     "name": "stdout",
     "output_type": "stream",
     "text": [
      "284628164\n"
     ]
    }
   ],
   "source": [
    "import heapq\n",
    "class Solution():\n",
    "    def nchoc(self, A, B):\n",
    "        h = []\n",
    "        for i in B:\n",
    "            heapq.heappush(h, -1 * i)\n",
    "        res = 0\n",
    "        #print(h)\n",
    "        for i in range(A):\n",
    "            #print(h)\n",
    "            curr = heapq.heappop(h)\n",
    "            res -= curr\n",
    "            #print(res)\n",
    "            #print(h)\n",
    "            curr = curr * -1\n",
    "            curr = curr // 2\n",
    "            heapq.heappush(h, (-1*curr))\n",
    "            #print(h)\n",
    "        return res % 1000000007\n",
    "    \n",
    "o = Solution()\n",
    "print(o.nchoc(10,[ 2147483647, 2000000014, 2147483647 ]))"
   ]
  }
 ],
 "metadata": {
  "kernelspec": {
   "display_name": "Python 3",
   "language": "python",
   "name": "python3"
  },
  "language_info": {
   "codemirror_mode": {
    "name": "ipython",
    "version": 3
   },
   "file_extension": ".py",
   "mimetype": "text/x-python",
   "name": "python",
   "nbconvert_exporter": "python",
   "pygments_lexer": "ipython3",
   "version": "3.7.3"
  }
 },
 "nbformat": 4,
 "nbformat_minor": 2
}
