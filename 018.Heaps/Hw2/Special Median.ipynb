{
 "cells": [
  {
   "cell_type": "markdown",
   "metadata": {},
   "source": [
    "## Special Median:\n",
    "Median finding have always been an interesting task in programming. Sometimes we need to find medians repeatedly and this task requires an optimized algorithm for finding the median. Below is one such task: You are given an array A containing N numbers.\n",
    "\n",
    "This array is called special if it satisfies one of the following properties:\n",
    "\n",
    "There exists an element A[i] in the array such that A[i] is equal to the median of elements [A[0], A[1], ...., A[i-1]]\n",
    "\n",
    "There exists an element A[i] in the array such that A[i] is equal to the median of elements [A[i+1], A[i+2], ...., A[N-1]]\n",
    "\n",
    "## Note:\n",
    "\n",
    "For A[0] consider only the median of elements [A[1], A[2], ..., A[N-1]] (as there are no elements to the left of it)\n",
    "\n",
    "For A[N-1] consider only the median of elements [A[0], A[1], ...., A[N-2]]\n",
    "\n",
    "You need to output 1/0 (1 --> if array is special, 0 otherwise)\n",
    "\n",
    "### Constraints: \n",
    "\n",
    "0 <= N <= 1000000. A[i] is in the range of a signed 32-bit integer.\n",
    "\n",
    "### Example:\n",
    "\n",
    "### Input:\n",
    "\n",
    "A = [4, 6, 8, 4]\n",
    "\n",
    "### Output:\n",
    "\n",
    "1\n",
    "\n",
    "Here, 6 is equal to the median of [8, 4]."
   ]
  },
  {
   "cell_type": "code",
   "execution_count": 1,
   "metadata": {},
   "outputs": [
    {
     "ename": "AttributeError",
     "evalue": "'Solution' object has no attribute 'find'",
     "output_type": "error",
     "traceback": [
      "\u001b[1;31m---------------------------------------------------------------------------\u001b[0m",
      "\u001b[1;31mAttributeError\u001b[0m                            Traceback (most recent call last)",
      "\u001b[1;32m<ipython-input-1-3df67ee21749>\u001b[0m in \u001b[0;36m<module>\u001b[1;34m\u001b[0m\n\u001b[0;32m     41\u001b[0m                     \u001b[1;32mreturn\u001b[0m \u001b[0mH\u001b[0m\u001b[1;33m[\u001b[0m\u001b[1;36m0\u001b[0m\u001b[1;33m]\u001b[0m\u001b[1;33m\u001b[0m\u001b[1;33m\u001b[0m\u001b[0m\n\u001b[0;32m     42\u001b[0m \u001b[0mo\u001b[0m \u001b[1;33m=\u001b[0m \u001b[0mSolution\u001b[0m\u001b[1;33m(\u001b[0m\u001b[1;33m)\u001b[0m\u001b[1;33m\u001b[0m\u001b[1;33m\u001b[0m\u001b[0m\n\u001b[1;32m---> 43\u001b[1;33m \u001b[0mprint\u001b[0m\u001b[1;33m(\u001b[0m\u001b[0mo\u001b[0m\u001b[1;33m.\u001b[0m\u001b[0msolve\u001b[0m\u001b[1;33m(\u001b[0m\u001b[1;33m[\u001b[0m\u001b[1;36m4\u001b[0m\u001b[1;33m,\u001b[0m\u001b[1;36m6\u001b[0m\u001b[1;33m,\u001b[0m\u001b[1;36m8\u001b[0m\u001b[1;33m,\u001b[0m\u001b[1;36m4\u001b[0m\u001b[1;33m]\u001b[0m\u001b[1;33m)\u001b[0m\u001b[1;33m)\u001b[0m\u001b[1;33m\u001b[0m\u001b[1;33m\u001b[0m\u001b[0m\n\u001b[0m",
      "\u001b[1;32m<ipython-input-1-3df67ee21749>\u001b[0m in \u001b[0;36msolve\u001b[1;34m(self, a)\u001b[0m\n\u001b[0;32m     20\u001b[0m                 \u001b[1;32mif\u001b[0m \u001b[0mlen\u001b[0m\u001b[1;33m(\u001b[0m\u001b[0mh\u001b[0m\u001b[1;33m)\u001b[0m \u001b[1;33m>\u001b[0m \u001b[0mlen\u001b[0m\u001b[1;33m(\u001b[0m\u001b[0mH\u001b[0m\u001b[1;33m)\u001b[0m\u001b[1;33m:\u001b[0m\u001b[1;33m\u001b[0m\u001b[1;33m\u001b[0m\u001b[0m\n\u001b[0;32m     21\u001b[0m                     \u001b[0mheapq\u001b[0m\u001b[1;33m.\u001b[0m\u001b[0mheappush\u001b[0m\u001b[1;33m(\u001b[0m\u001b[0mH\u001b[0m\u001b[1;33m,\u001b[0m \u001b[1;33m-\u001b[0m\u001b[0mheapq\u001b[0m\u001b[1;33m.\u001b[0m\u001b[0mheappop\u001b[0m\u001b[1;33m(\u001b[0m\u001b[0mh\u001b[0m\u001b[1;33m)\u001b[0m\u001b[1;33m)\u001b[0m\u001b[1;33m\u001b[0m\u001b[1;33m\u001b[0m\u001b[0m\n\u001b[1;32m---> 22\u001b[1;33m         \u001b[0mleft_res\u001b[0m \u001b[1;33m=\u001b[0m \u001b[0mself\u001b[0m\u001b[1;33m.\u001b[0m\u001b[0mfind\u001b[0m\u001b[1;33m\u001b[0m\u001b[1;33m\u001b[0m\u001b[0m\n\u001b[0m\u001b[0;32m     23\u001b[0m         \u001b[0mprint\u001b[0m\u001b[1;33m(\u001b[0m\u001b[0mh\u001b[0m\u001b[1;33m)\u001b[0m\u001b[1;33m\u001b[0m\u001b[1;33m\u001b[0m\u001b[0m\n\u001b[0;32m     24\u001b[0m         \u001b[0mprint\u001b[0m\u001b[1;33m(\u001b[0m\u001b[0mH\u001b[0m\u001b[1;33m)\u001b[0m\u001b[1;33m\u001b[0m\u001b[1;33m\u001b[0m\u001b[0m\n",
      "\u001b[1;31mAttributeError\u001b[0m: 'Solution' object has no attribute 'find'"
     ]
    }
   ],
   "source": [
    "import heapq\n",
    "class Solution:\n",
    "    # @param A : list of integers\n",
    "    # @return an integer\n",
    "    def solve(self, a):\n",
    "        h = []\n",
    "        H = []\n",
    "        res = []\n",
    "        curr = a[0]\n",
    "        for i in range(1,len(a)):\n",
    "            num = a[i]\n",
    "            if not H:\n",
    "                heapq.heappush(H, -num)\n",
    "            elif num < -H[0]:\n",
    "                heapq.heappush(H, -num)\n",
    "                if len(H) > len(h):\n",
    "                    heapq.heappush(h, -heapq.heappop(H))\n",
    "            else:\n",
    "                heapq.heappush(h, num)\n",
    "                if len(h) > len(H):\n",
    "                    heapq.heappush(H, -heapq.heappop(h))\n",
    "        left_res = self.find\n",
    "        print(h)\n",
    "        print(H)\n",
    "    def find_median(self, h, H):\n",
    "        if len(H) > len(h):\n",
    "            return -H[0]\n",
    "        elif len(h) > len(H):\n",
    "            return h[0]\n",
    "        else:\n",
    "            s = len(h) + len(H)\n",
    "            if s % 2 == 0:\n",
    "                if h[0] > -H[0]:\n",
    "                    return -H[0]\n",
    "                else:\n",
    "                    return h[0]\n",
    "            else:\n",
    "                if h[0] > -H[0]:\n",
    "                    return h[0]\n",
    "                else:\n",
    "                    return H[0]\n",
    "o = Solution()\n",
    "print(o.solve([4,6,8,4]))"
   ]
  }
 ],
 "metadata": {
  "kernelspec": {
   "display_name": "Python 3",
   "language": "python",
   "name": "python3"
  },
  "language_info": {
   "codemirror_mode": {
    "name": "ipython",
    "version": 3
   },
   "file_extension": ".py",
   "mimetype": "text/x-python",
   "name": "python",
   "nbconvert_exporter": "python",
   "pygments_lexer": "ipython3",
   "version": "3.7.3"
  }
 },
 "nbformat": 4,
 "nbformat_minor": 2
}
