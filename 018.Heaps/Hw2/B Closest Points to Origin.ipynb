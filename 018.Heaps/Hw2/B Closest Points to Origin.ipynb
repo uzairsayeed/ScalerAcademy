{
 "cells": [
  {
   "cell_type": "markdown",
   "metadata": {},
   "source": [
    "## B Closest Points to Origin:\n",
    "We have a list A, of points(x,y) on the plane. Find the B closest points to the origin (0, 0). Here, the distance between two points on a plane is the Euclidean distance. You may return the answer in any order. The answer is guaranteed to be unique (except for the order that it is in.) \n",
    "\n",
    "### Note: Euclidean distance between two points P1(x1,y1) and P2(x2,y2) is sqrt( (x1-x2)^2 + (y1-y2)^2 ). \n",
    "\n",
    "### Input Format\n",
    "\n",
    "The argument given is list A and an integer B.\n",
    "\n",
    "### Output Format\n",
    "\n",
    "Return the B closest points to the origin (0, 0) in any order.\n",
    "\n",
    "### Constraints\n",
    "\n",
    "1 <= B <= length of the list A <= 100000\n",
    "\n",
    "-100000 <= A[i][0] <= 100000\n",
    "\n",
    "-100000 <= A[i][1] <= 100000\n",
    "\n",
    "## For Example\n",
    "\n",
    "### Input 1:\n",
    "    \n",
    "    A = [   [1, 3],\n",
    "            \n",
    "            [-2, 2]  ]\n",
    "    \n",
    "    B = 1\n",
    "    \n",
    "### Output 1:\n",
    "    \n",
    "    [ [-2, 2] ]\n",
    "\n",
    "### Input 2:\n",
    "    \n",
    "    A =[    [3, 3],\n",
    "            \n",
    "            [5, -1],\n",
    "            \n",
    "            [-2, 4]  ]\n",
    "    \n",
    "    B = 2\n",
    "\n",
    "### Output 2:\n",
    "    \n",
    "    [ [3, 3], [-2, 4] ]"
   ]
  },
  {
   "cell_type": "code",
   "execution_count": 4,
   "metadata": {},
   "outputs": [
    {
     "name": "stdout",
     "output_type": "stream",
     "text": [
      "[[-2, 2]]\n"
     ]
    }
   ],
   "source": [
    "import heapq\n",
    "class Solution:\n",
    "    def solve(self, points, K):\n",
    "        heap = []\n",
    "        for each in points:\n",
    "            if len(heap) == K:\n",
    "                heapq.heappushpop(heap, (self.distance(each[0], each[1]), each[0], each[1]))   \n",
    "            else:\n",
    "                heapq.heappush(heap, (self.distance(each[0], each[1]), each[0], each[1]))  \n",
    "        ans = []\n",
    "        for d, x, y in heap:\n",
    "            ans.append([x, y])            \n",
    "        return ans\n",
    "    def distance(self, x, y):\n",
    "            return -(x ** 2 + y ** 2)    \n",
    "        \n",
    "o = Solution()\n",
    "A = [   [1, 3],\n",
    "\n",
    "        [-2, 2]  ]\n",
    "\n",
    "print(o.solve(A,1))"
   ]
  }
 ],
 "metadata": {
  "kernelspec": {
   "display_name": "Python 3",
   "language": "python",
   "name": "python3"
  },
  "language_info": {
   "codemirror_mode": {
    "name": "ipython",
    "version": 3
   },
   "file_extension": ".py",
   "mimetype": "text/x-python",
   "name": "python",
   "nbconvert_exporter": "python",
   "pygments_lexer": "ipython3",
   "version": "3.7.3"
  }
 },
 "nbformat": 4,
 "nbformat_minor": 2
}
