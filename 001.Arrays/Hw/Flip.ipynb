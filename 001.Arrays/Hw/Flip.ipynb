{
 "cells": [
  {
   "cell_type": "markdown",
   "metadata": {},
   "source": [
    "### Flip:\n",
    "    \n",
    "Problem Description\n",
    "\n",
    "You are given a binary string A(i.e. with characters 0 and 1) consisting of characters A1, A2, ..., AN. In a single operation, you can choose two indices L and R such that 1 ≤ L ≤ R ≤ N and flip the characters AL, AL+1, ..., AR. By flipping, we mean change character 0 to 1 and vice-versa. Your aim is to perform ATMOST one operation such that in final string number of 1s is maximised. If you don't want to perform the operation, return an empty array. Else, return an array consisting of two elements denoting L and R. If there are multiple solutions, return the lexicographically smallest pair of L and R. NOTE: Pair (a, b) is lexicographically smaller than pair (c, d) if a < c or, if a == c and b < d.  \n",
    "\n",
    "\n",
    "Problem Constraints\n",
    "\n",
    "1 <= size of string <= 100000\n",
    "\n",
    "\n",
    "Input Format\n",
    "\n",
    "First and only argument is a string A.\n",
    "\n",
    "\n",
    "Output Format\n",
    "\n",
    "Return an array of integers denoting the answer.\n",
    "\n",
    "\n",
    "Example Input\n",
    "\n",
    "Input 1:\n",
    "\n",
    "A = \"010\"\n",
    "\n",
    "Input 2:\n",
    "\n",
    "A = \"111\"\n",
    " \n",
    "\n",
    "\n",
    "Example Output\n",
    "\n",
    "Output 1:\n",
    "\n",
    "[1, 1]\n",
    "\n",
    "Output 2:\n",
    "\n",
    "[]\n",
    " \n",
    "\n",
    "Example Explanation\n",
    "\n",
    "Explanation 1:\n",
    "\n",
    "A = \"010\"\n",
    "\n",
    "Pair of [L, R] | Final string\n",
    "_______________|_____________\n",
    "\n",
    "[1 1]          | \"110\"\n",
    "\n",
    "[1 2]          | \"100\"\n",
    "\n",
    "[1 3]          | \"101\"\n",
    "\n",
    "[2 2]          | \"000\"\n",
    "\n",
    "[2 3]          | \"001\"\n",
    "\n",
    "We see that two pairs [1, 1] and [1, 3] give same number of 1s in final string. So, we return [1, 1].\n",
    "\n",
    "Explanation 2:\n",
    "\n",
    "No operation can give us more than three 1s in final string. So, we return empty array []."
   ]
  },
  {
   "cell_type": "code",
   "execution_count": 3,
   "metadata": {},
   "outputs": [
    {
     "name": "stdout",
     "output_type": "stream",
     "text": [
      "[6, 7]\n"
     ]
    }
   ],
   "source": [
    "class Solution:    \n",
    "    def flip(self, s):\n",
    "        n = len(s)\n",
    "        ans = []\n",
    "        a = [-1] * n\n",
    "        for i in range(n):\n",
    "            if s[i] == '0':\n",
    "                a[i] = 1\n",
    "        btn, beh, l = 0, 0, 0\n",
    "        ans = [float('inf'), float('inf')]\n",
    "        for i in range(n):\n",
    "            if beh+a[i] < 0:\n",
    "                l = i + 1\n",
    "                beh = 0\n",
    "            else:\n",
    "                beh += a[i]\n",
    "            if beh > btn:\n",
    "                btn = beh\n",
    "                ans[0] = l\n",
    "                ans[1] = i\n",
    "           \n",
    "        ans[0] += 1\n",
    "        ans[1] += 1\n",
    "        return ans\n",
    "                \n",
    "o = Solution()\n",
    "print(o.flip('1101100111'))"
   ]
  },
  {
   "cell_type": "code",
   "execution_count": 10,
   "metadata": {},
   "outputs": [
    {
     "name": "stdout",
     "output_type": "stream",
     "text": [
      "1 4\n"
     ]
    }
   ],
   "source": [
    "a = [0,1,1,1]\n",
    "i, j = 0, 0\n",
    "while i < len(a):\n",
    "    if a[i] == 1:\n",
    "        i+=1\n",
    "    else:\n",
    "        j = i+1\n",
    "        i = i+1\n",
    "print(j,i)"
   ]
  },
  {
   "cell_type": "code",
   "execution_count": 1,
   "metadata": {},
   "outputs": [
    {
     "name": "stdout",
     "output_type": "stream",
     "text": [
      "10\n",
      "11\n",
      "12\n",
      "13\n",
      "14\n",
      "15\n",
      "16\n",
      "17\n",
      "18\n",
      "19\n",
      "20\n"
     ]
    }
   ],
   "source": [
    "# Nos from n to n + 10\n",
    "# n = 10 --> 10, 11, 12 ----20\n",
    "# Print list \n",
    "def calc(n):\n",
    "    for i in range(n, n+11):\n",
    "        print(i)\n",
    "        \n",
    "calc(10)\n",
    "\n",
    "#S.C = O(1) # Auxilary Space === No extra space"
   ]
  },
  {
   "cell_type": "code",
   "execution_count": 6,
   "metadata": {},
   "outputs": [
    {
     "name": "stdout",
     "output_type": "stream",
     "text": [
      "[10, 11, 12, 13, 14, 15, 16, 17, 18, 19, 20] <class 'list'>\n"
     ]
    }
   ],
   "source": [
    "def calc(n):\n",
    "    # O/P arr/list\n",
    "    res = []\n",
    "    for i in range(n, n+11):\n",
    "        res.append(i)\n",
    "    return res\n",
    "\n",
    "output = calc(10)\n",
    "print(output, type(output))\n",
    "\n",
    "#S.C = O(N), where N = size of 'res' array."
   ]
  },
  {
   "cell_type": "code",
   "execution_count": 38,
   "metadata": {},
   "outputs": [
    {
     "name": "stdout",
     "output_type": "stream",
     "text": [
      "[1, 2, 3, 5, 6, 4]\n"
     ]
    }
   ],
   "source": [
    "# Duplicates ==> array ==> unique elements \n",
    "# [1,1,2,3,1,5,3,6,4,5,5] ==> [1,2,3,4,5,6]\n",
    "\n",
    "def unique(a):\n",
    "    res = []\n",
    "    for i in range(len(a)): \n",
    "        for j in range(i+1, len(a)):\n",
    "            if a[i] == a[j] and a[j] not in res:\n",
    "                res.append(a[i]) \n",
    "                break\n",
    "        if a[i] not in res:\n",
    "            res.append(a[i])\n",
    "    return res\n",
    "    \n",
    "    \n",
    "print(unique([1,1,2,3,1,5,3,6,4,5,5]))"
   ]
  },
  {
   "cell_type": "code",
   "execution_count": 40,
   "metadata": {},
   "outputs": [
    {
     "name": "stdout",
     "output_type": "stream",
     "text": [
      "{1, 2, 3, 4, 5, 6}\n"
     ]
    }
   ],
   "source": [
    "# Duplicates ==> array ==> unique elements \n",
    "# [1,1,2,3,1,5,3,6,4,5,5] ==> [1,2,3,4,5,6]\n",
    "\n",
    "def unique(a):\n",
    "    s = set()\n",
    "    for i in range(len(a)): # a[i] = 1\n",
    "        s.add(a[i])\n",
    "    return s\n",
    "    \n",
    "    \n",
    "print(unique([1,1,2,3,1,5,3,6,4,5,5]))"
   ]
  }
 ],
 "metadata": {
  "kernelspec": {
   "display_name": "Python 3",
   "language": "python",
   "name": "python3"
  },
  "language_info": {
   "codemirror_mode": {
    "name": "ipython",
    "version": 3
   },
   "file_extension": ".py",
   "mimetype": "text/x-python",
   "name": "python",
   "nbconvert_exporter": "python",
   "pygments_lexer": "ipython3",
   "version": "3.9.0"
  }
 },
 "nbformat": 4,
 "nbformat_minor": 2
}
