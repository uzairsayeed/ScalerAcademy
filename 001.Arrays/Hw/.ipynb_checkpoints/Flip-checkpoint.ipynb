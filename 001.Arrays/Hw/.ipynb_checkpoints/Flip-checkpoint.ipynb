{
 "cells": [
  {
   "cell_type": "code",
   "execution_count": null,
   "metadata": {},
   "outputs": [],
   "source": [
    "Flip:\n",
    "    \n",
    "Problem Description\n",
    "You are given a binary string A(i.e. with characters 0 and 1) consisting of characters A1, A2, ..., AN. In a single operation, you can choose two indices L and R such that 1 ≤ L ≤ R ≤ N and flip the characters AL, AL+1, ..., AR. By flipping, we mean change character 0 to 1 and vice-versa. Your aim is to perform ATMOST one operation such that in final string number of 1s is maximised. If you don't want to perform the operation, return an empty array. Else, return an array consisting of two elements denoting L and R. If there are multiple solutions, return the lexicographically smallest pair of L and R. NOTE: Pair (a, b) is lexicographically smaller than pair (c, d) if a < c or, if a == c and b < d.  \n",
    "\n",
    "\n",
    "Problem Constraints\n",
    "1 <= size of string <= 100000\n",
    "\n",
    "\n",
    "Input Format\n",
    "First and only argument is a string A.\n",
    "\n",
    "\n",
    "Output Format\n",
    "Return an array of integers denoting the answer.\n",
    "\n",
    "\n",
    "Example Input\n",
    "Input 1:\n",
    "A = \"010\"\n",
    "Input 2:\n",
    "A = \"111\"\n",
    " \n",
    "\n",
    "\n",
    "Example Output\n",
    "Output 1:\n",
    "[1, 1]\n",
    "Output 2:\n",
    "[]\n",
    " \n",
    "\n",
    "\n",
    "Example Explanation\n",
    "Explanation 1:\n",
    "A = \"010\"\n",
    "\n",
    "Pair of [L, R] | Final string\n",
    "_______________|_____________\n",
    "[1 1]          | \"110\"\n",
    "[1 2]          | \"100\"\n",
    "[1 3]          | \"101\"\n",
    "[2 2]          | \"000\"\n",
    "[2 3]          | \"001\"\n",
    "\n",
    "We see that two pairs [1, 1] and [1, 3] give same number of 1s in final string. So, we return [1, 1].\n",
    "Explanation 2:\n",
    "No operation can give us more than three 1s in final string. So, we return empty array []."
   ]
  },
  {
   "cell_type": "code",
   "execution_count": 71,
   "metadata": {},
   "outputs": [
    {
     "name": "stdout",
     "output_type": "stream",
     "text": [
      "[1, 1]\n"
     ]
    }
   ],
   "source": [
    "class Solution:    \n",
    "    def flip(self, s):\n",
    "        n = len(s)\n",
    "        ans = []\n",
    "        a = [-1] * n\n",
    "        for i in range(n):\n",
    "            if s[i] == '0':\n",
    "                a[i] = 1\n",
    "        btn, beh, l = 0, 0, 0\n",
    "        ans = [float('inf'), float('inf')]\n",
    "        for i in range(n):\n",
    "            if beh+a[i] < 0:\n",
    "                l = i + 1\n",
    "                beh = 0\n",
    "            else:\n",
    "                beh += a[i]\n",
    "            if beh > btn:\n",
    "                btn = beh\n",
    "                ans[0] = l\n",
    "                ans[1] = i\n",
    "        if ans[0] == float('inf'):\n",
    "            return []\n",
    "        ans[0] += 1\n",
    "        ans[1] += 1\n",
    "        return ans\n",
    "                \n",
    "o = Solution()\n",
    "print(o.flip('010'))"
   ]
  }
 ],
 "metadata": {
  "kernelspec": {
   "display_name": "Python 3",
   "language": "python",
   "name": "python3"
  },
  "language_info": {
   "codemirror_mode": {
    "name": "ipython",
    "version": 3
   },
   "file_extension": ".py",
   "mimetype": "text/x-python",
   "name": "python",
   "nbconvert_exporter": "python",
   "pygments_lexer": "ipython3",
   "version": "3.7.3"
  }
 },
 "nbformat": 4,
 "nbformat_minor": 2
}
