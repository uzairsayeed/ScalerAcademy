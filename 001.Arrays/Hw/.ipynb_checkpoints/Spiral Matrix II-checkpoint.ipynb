{
 "cells": [
  {
   "cell_type": "code",
   "execution_count": 2,
   "metadata": {},
   "outputs": [
    {
     "name": "stdout",
     "output_type": "stream",
     "text": [
      "[[1, 2, 3, 4], [12, 13, 14, 5], [11, 16, 15, 6], [10, 9, 8, 7]]\n"
     ]
    }
   ],
   "source": [
    "class Solution:\n",
    "\t# @param A : integer\n",
    "\t# @return a list of list of integers\n",
    "    def generateMatrix(self, n):\n",
    "        res = [[0 for i in range(n)]for j in range(n)]\n",
    "        l,r,t,d = 0, n-1, 0, n-1\n",
    "        v = 1\n",
    "        while l <= r and t <= d:\n",
    "            for i in range(l, r+1):\n",
    "                res[t][i] = v\n",
    "                v += 1\n",
    "            t += 1\n",
    "            for i in range(t, d+1):\n",
    "                res[i][r] = v\n",
    "                v += 1\n",
    "            r -= 1\n",
    "            for i in range(r, l-1, -1):\n",
    "                res[d][i] = v\n",
    "                v += 1\n",
    "            d -= 1\n",
    "            for i in range(d, t-1, -1):\n",
    "                res[i][l] = v\n",
    "                v += 1\n",
    "            l += 1\n",
    "        return res\n",
    "\n",
    "o = Solution()\n",
    "print(o.generateMatrix(4))"
   ]
  }
 ],
 "metadata": {
  "kernelspec": {
   "display_name": "Python 3",
   "language": "python",
   "name": "python3"
  },
  "language_info": {
   "codemirror_mode": {
    "name": "ipython",
    "version": 3
   },
   "file_extension": ".py",
   "mimetype": "text/x-python",
   "name": "python",
   "nbconvert_exporter": "python",
   "pygments_lexer": "ipython3",
   "version": "3.7.3"
  }
 },
 "nbformat": 4,
 "nbformat_minor": 2
}
