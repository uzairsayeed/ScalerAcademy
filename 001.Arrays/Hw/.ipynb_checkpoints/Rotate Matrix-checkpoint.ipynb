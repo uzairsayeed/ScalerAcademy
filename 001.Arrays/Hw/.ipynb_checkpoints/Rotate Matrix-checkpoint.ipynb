{
 "cells": [
  {
   "cell_type": "code",
   "execution_count": null,
   "metadata": {},
   "outputs": [],
   "source": [
    "Rotate Matrix:\n",
    "    \n",
    "Problem Description\n",
    "You are given an n x n 2D matrix representing an image. \n",
    "Rotate the image by 90 degrees (clockwise). \n",
    "You need to do this in place. \n",
    "\n",
    "Note: if you end up using an additional array, you will only receive partial score. \n",
    "\n",
    "\n",
    "Problem Constraints\n",
    "1 <= n <= 1000\n",
    "\n",
    "\n",
    "Input Format\n",
    "First argument is a 2D matrix of integers\n",
    "\n",
    "\n",
    "Output Format\n",
    "Return the 2D rotated matrix.\n",
    "\n",
    "\n",
    "Example Input\n",
    "Input 1:\n",
    "[\n",
    "    [1, 2],\n",
    "    [3, 4]\n",
    "]\n",
    "\n",
    "\n",
    "Example Output\n",
    "Output 1:\n",
    "[\n",
    "    [3, 1],\n",
    "    [4, 2]\n",
    "]\n",
    "\n",
    "\n",
    "Example Explanation\n",
    "Explanation 1:\n",
    "After rotating the matrix by 90 degree:\n",
    "1 goes to 2, 2 goes to 4\n",
    "4 goes to 3, 3 goes to 1"
   ]
  },
  {
   "cell_type": "code",
   "execution_count": 1,
   "metadata": {},
   "outputs": [
    {
     "name": "stdout",
     "output_type": "stream",
     "text": [
      "[[1, 5, 9, 13], [2, 6, 10, 14], [3, 7, 11, 15], [4, 8, 12, 16]]\n",
      "[[13, 9, 5, 1], [14, 10, 6, 2], [15, 11, 7, 3], [16, 12, 8, 4]]\n"
     ]
    }
   ],
   "source": [
    "# First find Transpose of given matrix (Transpose ==> rows into cols and cols into rows)\n",
    "# Swap 1st-col with last col , 2nd-col with 2nd last col and so on\n",
    "\n",
    "class Solution:\n",
    "    # @param A : list of list of integers\n",
    "    def solve(self, a):\n",
    "        n = len(a)\n",
    "        \n",
    "        for i in range(n):\n",
    "            for j in range(i):\n",
    "                a[i][j], a[j][i] = a[j][i], a[i][j]\n",
    "                                \n",
    "        print(a)\n",
    "        \n",
    "        for i in range(n):\n",
    "            for j in range(n//2):\n",
    "                a[i][j], a[i][n-1-j] = a[i][n-1-j], a[i][j]\n",
    "        return a\n",
    "    \n",
    "o = Solution()\n",
    "a = [\n",
    "    [1,2,3,4],\n",
    "    [5,6,7,8],\n",
    "    [9,10,11,12],\n",
    "    [13,14,15,16]\n",
    "]\n",
    "print(o.solve(a))\n",
    "\n"
   ]
  }
 ],
 "metadata": {
  "kernelspec": {
   "display_name": "Python 3",
   "language": "python",
   "name": "python3"
  },
  "language_info": {
   "codemirror_mode": {
    "name": "ipython",
    "version": 3
   },
   "file_extension": ".py",
   "mimetype": "text/x-python",
   "name": "python",
   "nbconvert_exporter": "python",
   "pygments_lexer": "ipython3",
   "version": "3.9.0"
  }
 },
 "nbformat": 4,
 "nbformat_minor": 2
}
