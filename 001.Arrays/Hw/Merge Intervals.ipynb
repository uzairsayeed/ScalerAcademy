{
 "cells": [
  {
   "cell_type": "markdown",
   "metadata": {},
   "source": [
    "## Merge Intervals:\n",
    "\n",
    "Given a set of non-overlapping intervals, insert a new interval into the intervals (merge if necessary). You may assume that the intervals were initially sorted according to their start times.\n",
    "\n",
    "Example 1: Given intervals [1,3],[6,9] insert and merge [2,5] would result in [1,5],[6,9].\n",
    "\n",
    "Example 2: Given [1,2],[3,5],[6,7],[8,10],[12,16], insert and merge [4,9] would result in [1,2],[3,10],[12,16].\n",
    "This is because the new interval [4,9] overlaps with [3,5],[6,7],[8,10]. \n",
    "Make sure the returned intervals are also sorted."
   ]
  },
  {
   "cell_type": "code",
   "execution_count": null,
   "metadata": {},
   "outputs": [],
   "source": [
    "# Definition for an interval.\n",
    "# class Interval:\n",
    "#     def __init__(self, s=0, e=0):\n",
    "#         self.start = s\n",
    "#         self.end = e\n",
    "\n",
    "class Solution:\n",
    "    def insert(self, intervals, newInterval):\n",
    "        start = newInterval.start\n",
    "        end = newInterval.end\n",
    "        right = left = 0\n",
    "        while right < len(intervals):\n",
    "            if start <= intervals[right].end:\n",
    "                if end < intervals[right].start:\n",
    "                    break\n",
    "                start = min(start, intervals[right].start)\n",
    "                end = max(end, intervals[right].end)\n",
    "            else:\n",
    "                left += 1\n",
    "            right += 1\n",
    "        return intervals[:left] + [Interval(start, end)] + intervals[right:]"
   ]
  },
  {
   "cell_type": "code",
   "execution_count": null,
   "metadata": {},
   "outputs": [],
   "source": [
    "# Definition for an interval.\n",
    "# class Interval:\n",
    "#     def __init__(self, s=0, e=0):\n",
    "#         self.start = s\n",
    "#         self.end = e\n",
    "\n",
    "class Solution:\n",
    "    def insert(self, intervals, newInterval):\n",
    "        intervals.append(newInterval)\n",
    "        intervals.sort(key=lambda x:x.start)\n",
    "        x = 1\n",
    "        while x < len(intervals):\n",
    "            if intervals[x].start <= intervals[x-1].end:\n",
    "                intervals[x-1].start = min(intervals[x-1].start, intervals[x].start)\n",
    "                intervals[x-1].end = max(intervals[x-1].end, intervals[x].end)\n",
    "                intervals.pop(x)\n",
    "            else:\n",
    "                x += 1\n",
    "        return intervals"
   ]
  }
 ],
 "metadata": {
  "kernelspec": {
   "display_name": "Python 3",
   "language": "python",
   "name": "python3"
  },
  "language_info": {
   "codemirror_mode": {
    "name": "ipython",
    "version": 3
   },
   "file_extension": ".py",
   "mimetype": "text/x-python",
   "name": "python",
   "nbconvert_exporter": "python",
   "pygments_lexer": "ipython3",
   "version": "3.7.3"
  }
 },
 "nbformat": 4,
 "nbformat_minor": 2
}
