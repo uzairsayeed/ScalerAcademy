{
 "cells": [
  {
   "cell_type": "code",
   "execution_count": null,
   "metadata": {},
   "outputs": [],
   "source": [
    "N/3 Repeat Number:\n",
    "    \n",
    "You're given a read only array of n integers. Find out if any integer occurs more than n/3 times in the array in linear time and constant additional space. If so, return the integer. If not, return -1. If there are multiple solutions, return any one. Example :\n",
    "Input : [1 2 3 1 1]\n",
    "Output : 1 \n",
    "1 occurs 3 times which is more than 5/3 times. "
   ]
  },
  {
   "cell_type": "code",
   "execution_count": 37,
   "metadata": {},
   "outputs": [
    {
     "name": "stdout",
     "output_type": "stream",
     "text": [
      "1\n"
     ]
    }
   ],
   "source": [
    "class Solution:\n",
    "    # @param A : tuple of integers\n",
    "    # @return an integer\n",
    "    def repeatedNumber(self, a):\n",
    "        n = len(a)\n",
    "        m1, m2 = float('inf'), float('inf')\n",
    "        c1, c2 = 0, 0\n",
    "        for i in range(n):\n",
    "            if a[i] == m1:\n",
    "                c1 += 1\n",
    "            elif a[i] == m2:\n",
    "                c2 += 1\n",
    "            elif c1 == 0:\n",
    "                m1 = a[i]\n",
    "                c1 += 1\n",
    "            elif c2 == 0:\n",
    "                m2 = a[i]\n",
    "                c2 += 1\n",
    "            else:\n",
    "                c1 -= 1\n",
    "                c2 -= 1\n",
    "        cnt1, cnt2 = 0, 0\n",
    "        for x in a:\n",
    "            if x == m1:\n",
    "                cnt1 += 1\n",
    "            elif x == m2:\n",
    "                cnt2 += 1\n",
    "        if cnt1 > n//3:\n",
    "            return m1\n",
    "        elif cnt2 > n//3:\n",
    "            return m2\n",
    "        return -1\n",
    "    \n",
    "o = Solution()\n",
    "a = [1,1,1,2,3,5,7]\n",
    "print(o.repeatedNumber(a))"
   ]
  },
  {
   "cell_type": "code",
   "execution_count": 28,
   "metadata": {},
   "outputs": [
    {
     "name": "stdout",
     "output_type": "stream",
     "text": [
      "14\n",
      "1000040 5\n",
      "1000459 1\n",
      "1000930 1\n",
      "1000301 1\n",
      "1000280 1\n",
      "1000106 1\n",
      "1000787 1\n",
      "1000696 1\n",
      "1000378 1\n",
      "1000836 1\n"
     ]
    }
   ],
   "source": []
  }
 ],
 "metadata": {
  "kernelspec": {
   "display_name": "Python 3",
   "language": "python",
   "name": "python3"
  },
  "language_info": {
   "codemirror_mode": {
    "name": "ipython",
    "version": 3
   },
   "file_extension": ".py",
   "mimetype": "text/x-python",
   "name": "python",
   "nbconvert_exporter": "python",
   "pygments_lexer": "ipython3",
   "version": "3.7.3"
  }
 },
 "nbformat": 4,
 "nbformat_minor": 2
}
