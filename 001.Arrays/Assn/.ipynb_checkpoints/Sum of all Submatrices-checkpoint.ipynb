{
 "cells": [
  {
   "cell_type": "code",
   "execution_count": null,
   "metadata": {},
   "outputs": [],
   "source": [
    "Sum of all Submatrices:\n",
    "    \n",
    "Problem Description\n",
    "Given a 2D Matrix A of dimensions N*N, we need to return sum of all possible submatrices.\n",
    "\n",
    "\n",
    "Problem Constraints\n",
    "1 <= N <=30 0 <= A[i][j] <= 10   \n",
    "\n",
    "\n",
    "Input Format\n",
    "Single argument representing a 2-D array A of size N x N.\n",
    "\n",
    "\n",
    "Output Format\n",
    "Return an integer denoting the sum of all possible submatrices in the given matrix.\n",
    "\n",
    "\n",
    "Example Input\n",
    "A = [ [1, 1]\n",
    "      [1, 1] ]\n",
    "\n",
    "\n",
    "Example Output\n",
    "16\n",
    "\n",
    "\n",
    "Example Explanation\n",
    "Number of submatrices with 1 elements = 4, so sum of all such submatrices = 4 * 1 = 4\n",
    "Number of submatrices with 2 elements = 4, so sum of all such submatrices = 4 * 2 = 8\n",
    "Number of submatrices with 3 elements = 0\n",
    "Number of submatrices with 4 elements = 1, so sum of such submatrix = 4\n",
    "Total Sum = 4+8+4 = 16"
   ]
  },
  {
   "cell_type": "code",
   "execution_count": null,
   "metadata": {},
   "outputs": [],
   "source": [
    "Explanation:\n",
    "    \n",
    "The idea is to determine the total contribution that each cell(i,j) is providing to the total sum.\n",
    "To do that we need to find the no. of submatrices which contains the cell(i,j).\n",
    "For that we need to find the cnt of TL and cnt of BR which will contain the cell(i,j) // Assume it as x and y\n",
    "k = x * y // k == Total no. of submatrices containing the cell(i,j)\n",
    "Now multiply k with the cell value."
   ]
  },
  {
   "cell_type": "code",
   "execution_count": 2,
   "metadata": {},
   "outputs": [
    {
     "name": "stdout",
     "output_type": "stream",
     "text": [
      "16\n"
     ]
    }
   ],
   "source": [
    "class Solution:\n",
    "    # @param A : list of list of integers\n",
    "    # @return an integer\n",
    "    def solve(self, a):\n",
    "        res = 0\n",
    "        n, m = len(a), len(a[0])\n",
    "        for i in range(n):\n",
    "            for j in range(m):\n",
    "                cnt_TL = (i+1) * (j+1)\n",
    "                cnt_BR = (n-i) * (m-j)\n",
    "                k = cnt_TL * cnt_BR\n",
    "                res += k*a[i][j]\n",
    "        return res\n",
    "    \n",
    "o = Solution()\n",
    "A = [ [1, 1],\n",
    "      [1, 1] ]\n",
    "print(o.solve(A))\n"
   ]
  }
 ],
 "metadata": {
  "kernelspec": {
   "display_name": "Python 3",
   "language": "python",
   "name": "python3"
  },
  "language_info": {
   "codemirror_mode": {
    "name": "ipython",
    "version": 3
   },
   "file_extension": ".py",
   "mimetype": "text/x-python",
   "name": "python",
   "nbconvert_exporter": "python",
   "pygments_lexer": "ipython3",
   "version": "3.7.3"
  }
 },
 "nbformat": 4,
 "nbformat_minor": 2
}
