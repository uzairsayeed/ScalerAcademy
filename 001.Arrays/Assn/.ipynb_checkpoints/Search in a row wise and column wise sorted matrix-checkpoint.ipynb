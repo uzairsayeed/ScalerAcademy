{
 "cells": [
  {
   "cell_type": "code",
   "execution_count": null,
   "metadata": {},
   "outputs": [],
   "source": [
    "Search in a row wise and column wise sorted matrix:\n",
    "    \n",
    "Problem Description\n",
    "Given a matrix of integers A of size N x M and an integer B. In the given matrix every row and column is sorted in increasing order. Find and return the position of B in the matrix in the given form:\n",
    "If A[i][j] = B then return (i * 1009 + j)\n",
    "If B is not present return -1.\n",
    "\n",
    "Note 1: Rows are numbered from top to bottom and columns are numbered from left to right.\n",
    "Note 2: If there are multiple B in A then return the smallest value of i*1009 +j such that A[i][j]=B.\n",
    "\n",
    "\n",
    "Problem Constraints\n",
    "1 <= N, M <= 1000\n",
    "-100000 <= A[i] <= 100000\n",
    "-100000 <= B <= 100000\n",
    "\n",
    "\n",
    "Input Format\n",
    "The first argument given is the integer matrix A.\n",
    "The second argument given is the integer B.\n",
    "\n",
    "\n",
    "Output Format\n",
    "Return the position of B and if it is not present in A return -1 instead.\n",
    "\n",
    "\n",
    "Example Input\n",
    "A = [ [1, 2, 3]\n",
    "          [4, 5, 6]\n",
    "          [7, 8, 9] ]\n",
    "B = 2\n",
    "\n",
    "\n",
    "Example Output\n",
    "1011\n",
    "\n",
    "\n",
    "Example Explanation\n",
    "A[1][2]= 2\n",
    "1*1009 + 2 =1011"
   ]
  },
  {
   "cell_type": "code",
   "execution_count": 2,
   "metadata": {},
   "outputs": [
    {
     "name": "stdout",
     "output_type": "stream",
     "text": [
      "1011\n"
     ]
    }
   ],
   "source": [
    "class Solution:\n",
    "    # @param A : list of list of integers\n",
    "    # @param B : integer\n",
    "    # @return an integer\n",
    "    def solve(self, a, k):\n",
    "        m, n = len(a), len(a[0])\n",
    "        i, j = 0, n -1\n",
    "        res, mod = -1, 1009\n",
    "        while i != m and j != -1:\n",
    "            if a[i][j] > k:\n",
    "                j -= 1\n",
    "            elif a[i][j] < k:\n",
    "                i += 1\n",
    "            else:\n",
    "                res_i = i+1\n",
    "                res_j = j+1\n",
    "                res = res_i*mod + res_j\n",
    "                break\n",
    "        return res\n",
    "    \n",
    "o = Solution()\n",
    "A = [ [1, 2, 3],\n",
    "          [4, 5, 6],\n",
    "          [7, 8, 9] ]\n",
    "B = 2\n",
    "print(o.solve(A,B))\n"
   ]
  }
 ],
 "metadata": {
  "kernelspec": {
   "display_name": "Python 3",
   "language": "python",
   "name": "python3"
  },
  "language_info": {
   "codemirror_mode": {
    "name": "ipython",
    "version": 3
   },
   "file_extension": ".py",
   "mimetype": "text/x-python",
   "name": "python",
   "nbconvert_exporter": "python",
   "pygments_lexer": "ipython3",
   "version": "3.7.3"
  }
 },
 "nbformat": 4,
 "nbformat_minor": 2
}
