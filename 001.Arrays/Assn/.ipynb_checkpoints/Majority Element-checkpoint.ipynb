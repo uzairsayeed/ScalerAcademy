{
 "cells": [
  {
   "cell_type": "code",
   "execution_count": null,
   "metadata": {},
   "outputs": [],
   "source": [
    "N/2 Repeat Number:\n",
    "    \n",
    "You're given a read only array of n integers.\n",
    "Find out if any integer occurs more than n/2 times in the array in linear time and constant additional space.\n",
    "If so, return the integer. If not, return -1. If there are multiple solutions, return any one. \n",
    "\n",
    "Example :\n",
    "Input : [1 2 3 1 1]\n",
    "Output : 1 \n",
    "1 occurs 3 times which is more than 5/2 times. "
   ]
  },
  {
   "cell_type": "code",
   "execution_count": 2,
   "metadata": {},
   "outputs": [
    {
     "output_type": "stream",
     "name": "stdout",
     "text": [
      "5\n"
     ]
    }
   ],
   "source": [
    "class Solution:\n",
    "    # @param A : tuple of integers\n",
    "    # @return an integer\n",
    "    def major(self, a):\n",
    "        n = len(a)\n",
    "        m, c = a[0], 1\n",
    "        for i in range(1, n):\n",
    "            if c != 0:\n",
    "                if a[i] == m:\n",
    "                    c += 1\n",
    "                else:\n",
    "                    c-=1\n",
    "            else:\n",
    "                m = a[i]\n",
    "                c += 1\n",
    "        cnt = 0\n",
    "        for x in a:\n",
    "            if x == m:\n",
    "                cnt += 1\n",
    "        if cnt > n//2:\n",
    "            return m\n",
    "        return -1\n",
    "    \n",
    "o = Solution()\n",
    "print(o.major([1,5,5,5,5,2]))\n"
   ]
  },
  {
   "cell_type": "code",
   "execution_count": 4,
   "metadata": {},
   "outputs": [
    {
     "name": "stdout",
     "output_type": "stream",
     "text": [
      "4\n"
     ]
    }
   ],
   "source": [
    "def majorityElement(a):\n",
    "    n = len(a)\n",
    "    m, c = a[0], 1\n",
    "    for i in range(1, n):\n",
    "        if a[i] == m:\n",
    "            c += 1\n",
    "        else:\n",
    "            c -= 1\n",
    "            if c == 0:\n",
    "                m = a[i]\n",
    "                c = 1\n",
    "    cnt = 0\n",
    "    for x in a:\n",
    "        if x == m:\n",
    "            cnt += 1\n",
    "    if cnt > n//2:\n",
    "        return m\n",
    "    return -1\n",
    "\n",
    "print(majorityElement([3,3,4,2,4,4,2,4,4]))"
   ]
  }
 ],
 "metadata": {
  "kernelspec": {
   "display_name": "Python 3",
   "language": "python",
   "name": "python3"
  },
  "language_info": {
   "codemirror_mode": {
    "name": "ipython",
    "version": 3
   },
   "file_extension": ".py",
   "mimetype": "text/x-python",
   "name": "python",
   "nbconvert_exporter": "python",
   "pygments_lexer": "ipython3",
   "version": "3.9.0-final"
  }
 },
 "nbformat": 4,
 "nbformat_minor": 2
}