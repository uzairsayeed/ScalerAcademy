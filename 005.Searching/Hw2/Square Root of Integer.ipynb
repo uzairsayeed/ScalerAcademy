{
 "cells": [
  {
   "cell_type": "markdown",
   "metadata": {},
   "source": [
    "## Square Root of Integer:\n",
    "Problem Description\n",
    "\n",
    "Given an integer A. Compute and return the square root of A. If A is not a perfect square, return floor(sqrt(A)). DO NOT USE SQRT FUNCTION FROM STANDARD LIBRARY.       \n",
    "\n",
    "### Problem Constraints\n",
    "0 <= A <= 1010\n",
    "\n",
    "### Input Format\n",
    "The first and only argument given is the integer A.\n",
    "\n",
    "### Output Format\n",
    "Return floor(sqrt(A))\n",
    "\n",
    "## Example Input\n",
    "### Input 1:\n",
    " 11\n",
    " \n",
    "### Input 2:\n",
    " 9\n",
    "        \n",
    "## Example Output\n",
    "### Output 1:\n",
    " 3\n",
    " \n",
    "### Output 2:\n",
    " 3\n",
    "        \n",
    "## Example Explanation\n",
    "### Explanation:\n",
    " When A = 11 , square root of A = 3.316. It is not a perfect square so we return the floor which is 3.\n",
    " \n",
    " When A = 9 which is a perfect square of 3, so we return 3."
   ]
  },
  {
   "cell_type": "code",
   "execution_count": null,
   "metadata": {},
   "outputs": [],
   "source": [
    "class Solution:\n",
    "    # @param A : integer\n",
    "    # @return an integer\n",
    "    def sqrt(self, n):\n",
    "        lo, hi = 1, n\n",
    "        ans = n\n",
    "        while lo<=hi:\n",
    "            m = lo+(hi-lo)//2\n",
    "            if m*m > n:\n",
    "                hi = m-1\n",
    "            else:\n",
    "                ans = m\n",
    "                lo = m+1\n",
    "        return ans\n",
    "            "
   ]
  }
 ],
 "metadata": {
  "kernelspec": {
   "display_name": "Python 3",
   "language": "python",
   "name": "python3"
  },
  "language_info": {
   "codemirror_mode": {
    "name": "ipython",
    "version": 3
   },
   "file_extension": ".py",
   "mimetype": "text/x-python",
   "name": "python",
   "nbconvert_exporter": "python",
   "pygments_lexer": "ipython3",
   "version": "3.9.0"
  }
 },
 "nbformat": 4,
 "nbformat_minor": 2
}
