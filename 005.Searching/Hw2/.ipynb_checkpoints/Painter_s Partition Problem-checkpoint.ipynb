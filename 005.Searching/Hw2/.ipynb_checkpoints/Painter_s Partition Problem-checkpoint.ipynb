{
 "cells": [
  {
   "cell_type": "markdown",
   "metadata": {},
   "source": [
    "## Painter's Partition Problem:\n",
    "You have to paint N boards of length {A0, A1, A2, A3 … AN-1}. There are K painters available and you are also given how much time a painter takes to paint 1 unit of board. You have to get this job done as soon as possible under the constraints that any painter will only paint contiguous sections of board.\n",
    "\n",
    "2 painters cannot share a board to paint. That is to say, a board cannot be painted partially by one painter, and partially by another.\n",
    "\n",
    "A painter will only paint contiguous boards. Which means a configuration where painter 1 paints board 1 and 3 but not 2 is invalid.\n",
    "\n",
    "Return the ans % 10000003\n",
    "\n",
    "### Input :\n",
    "K : Number of painters\n",
    "\n",
    "T : Time taken by painter to paint 1 unit of board\n",
    "\n",
    "L : A List which will represent length of each board\n",
    "\n",
    "### Output:\n",
    "     return minimum time to paint all boards % 10000003\n",
    "\n",
    "## Example\n",
    "### Input : \n",
    "  K : 2\n",
    "  \n",
    "  T : 5\n",
    "  \n",
    "  L : [1, 10]\n",
    "\n",
    "### Output :\n",
    "  50"
   ]
  },
  {
   "cell_type": "code",
   "execution_count": 13,
   "metadata": {},
   "outputs": [
    {
     "name": "stdout",
     "output_type": "stream",
     "text": [
      "10\n"
     ]
    }
   ],
   "source": [
    "class Solution:\n",
    "\t# @param A : integer\n",
    "\t# @param B : integer\n",
    "\t# @param C : list of integers\n",
    "\t# @return an integer\n",
    "    def paint(self, k, t, a):\n",
    "        m = 10**9+7\n",
    "        lo, hi = max(a), sum(a)\n",
    "        while lo<=hi:\n",
    "            m= lo+(hi-lo)//2\n",
    "            "
   ]
  }
 ],
 "metadata": {
  "kernelspec": {
   "display_name": "Python 3",
   "language": "python",
   "name": "python3"
  },
  "language_info": {
   "codemirror_mode": {
    "name": "ipython",
    "version": 3
   },
   "file_extension": ".py",
   "mimetype": "text/x-python",
   "name": "python",
   "nbconvert_exporter": "python",
   "pygments_lexer": "ipython3",
   "version": "3.7.3"
  }
 },
 "nbformat": 4,
 "nbformat_minor": 2
}
