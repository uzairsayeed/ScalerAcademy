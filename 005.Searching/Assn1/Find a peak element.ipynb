{
 "cells": [
  {
   "cell_type": "markdown",
   "metadata": {},
   "source": [
    "## Find a peak element:\n",
    "Problem Description\n",
    "\n",
    "Given an array of integers A, find and return the peak element in it. An array element is peak if it is NOT smaller than its neighbors. For corner elements, we need to consider only one neighbor. We ensure that answer will be unique \n",
    "\n",
    "### Problem Constraints\n",
    "1 <= |A| <= 100000 1 <= A[i] <= 10^9 \n",
    "\n",
    "### Input Format\n",
    "The only argument given is the integer array A.\n",
    "\n",
    "### Output Format\n",
    "Return the peak element.\n",
    "\n",
    "## Example Input\n",
    "### Input 1:\n",
    "A = [1, 2, 3, 4, 5]\n",
    "  \n",
    "###  Input 2:      \n",
    "A = [5, 17, 100, 11]\n",
    "    \n",
    "## Example Output\n",
    "### Output 1:\n",
    " 5\n",
    "\n",
    "### Output 2:      \n",
    " 100\n",
    "    \n",
    "## Example Explanation\n",
    "### Explanation 1:\n",
    " 5 is the peak\n",
    "\n",
    "### Explanation 2:      \n",
    " 100 is the peak."
   ]
  },
  {
   "cell_type": "code",
   "execution_count": 9,
   "metadata": {},
   "outputs": [
    {
     "name": "stdout",
     "output_type": "stream",
     "text": [
      "1000000\n"
     ]
    }
   ],
   "source": [
    "class Solution:\n",
    "    # @param A : list of integers\n",
    "    # @return an integer\n",
    "    def solve(self, a):\n",
    "        n = len(a)\n",
    "        lo, hi = 0, n-1\n",
    "        while lo <= hi:\n",
    "            mid = lo + (hi-lo) // 2\n",
    "            if (mid == 0 or a[mid-1] <= a[mid]) and (mid == n-1 or a[mid+1] <= a[mid]):\n",
    "                return a[mid]\n",
    "            elif mid > 0 and a[mid-1] > a[mid]:\n",
    "                hi = mid-1\n",
    "            else:\n",
    "                lo = mid+1\n",
    "        return -1\n",
    "    \n",
    "o = Solution()\n",
    "a = [1, 1000000, 1000000]\n",
    "print(o.solve(a))"
   ]
  }
 ],
 "metadata": {
  "kernelspec": {
   "display_name": "Python 3",
   "language": "python",
   "name": "python3"
  },
  "language_info": {
   "codemirror_mode": {
    "name": "ipython",
    "version": 3
   },
   "file_extension": ".py",
   "mimetype": "text/x-python",
   "name": "python",
   "nbconvert_exporter": "python",
   "pygments_lexer": "ipython3",
   "version": "3.7.3"
  }
 },
 "nbformat": 4,
 "nbformat_minor": 2
}
