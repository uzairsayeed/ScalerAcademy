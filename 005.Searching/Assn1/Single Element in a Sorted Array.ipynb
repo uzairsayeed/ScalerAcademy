{
 "cells": [
  {
   "cell_type": "markdown",
   "metadata": {},
   "source": [
    "## Single Element in a Sorted Array:\n",
    "Problem Description\n",
    "\n",
    "Given a sorted array of integers A where every element appears twice except for one element which appears once, find and return this single element that appears only once.\n",
    "\n",
    "### Problem Constraints\n",
    "1 <= |A| <= 100000 1 <= A[i] <= 10^9 \n",
    "\n",
    "### Input Format\n",
    "The only argument given is the integer array A.\n",
    "\n",
    "### Output Format\n",
    "Return the single element that appears only once.\n",
    "\n",
    "## Example Input\n",
    "### Input 1:\n",
    "A = [1, 1, 7]\n",
    "\n",
    "### Input 2:      \n",
    "A = [2, 3, 3]\n",
    "    \n",
    "## Example Output\n",
    "### Output 1:\n",
    " 7\n",
    "\n",
    "### Output 2:      \n",
    " 2\n",
    "    \n",
    "## Example Explanation\n",
    "### Explanation 1:\n",
    " 7 appears once\n",
    "\n",
    "### Explanation 2:      \n",
    " 2 appears once"
   ]
  },
  {
   "cell_type": "code",
   "execution_count": 27,
   "metadata": {},
   "outputs": [
    {
     "name": "stdout",
     "output_type": "stream",
     "text": [
      "1\n"
     ]
    }
   ],
   "source": [
    "class Solution:\n",
    "    # @param A : list of integers\n",
    "    # @return an integer\n",
    "    def solve(self, a):\n",
    "        n = len(a)\n",
    "        lo, hi = 0, n-1\n",
    "        ans = -1\n",
    "        while lo <= hi:\n",
    "            m = lo+(hi-lo)//2\n",
    "            #print(m)\n",
    "            if m >= 0 and m < n-1 and a[m] == a[m+1]:\n",
    "                first_index = m\n",
    "            elif m > 0 and m <= n-1 and a[m-1] == a[m]:\n",
    "                first_index = m-1\n",
    "            else:\n",
    "                ans = m\n",
    "                break\n",
    "            if first_index%2 == 0:\n",
    "                lo = first_index+2\n",
    "            else:\n",
    "                hi = first_index-1\n",
    "        return a[ans]\n",
    "    \n",
    "o = Solution()\n",
    "a = [1,2,2,3,3,5,5,6,6]\n",
    "print(o.solve(a))\n"
   ]
  }
 ],
 "metadata": {
  "kernelspec": {
   "display_name": "Python 3",
   "language": "python",
   "name": "python3"
  },
  "language_info": {
   "codemirror_mode": {
    "name": "ipython",
    "version": 3
   },
   "file_extension": ".py",
   "mimetype": "text/x-python",
   "name": "python",
   "nbconvert_exporter": "python",
   "pygments_lexer": "ipython3",
   "version": "3.9.0"
  }
 },
 "nbformat": 4,
 "nbformat_minor": 2
}
