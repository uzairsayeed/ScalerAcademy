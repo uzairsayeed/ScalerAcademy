{
 "cells": [
  {
   "cell_type": "markdown",
   "metadata": {},
   "source": [
    "## Rotated Sorted Array Search:\n",
    "Problem Description\n",
    "\n",
    "Given a sorted array of integers A of size N and an integer B. array A is rotated at some pivot unknown to you beforehand. (i.e., 0 1 2 4 5 6 7 might become 4 5 6 7 0 1 2 ). You are given a target value B to search. If found in the array, return its index, otherwise return -1. You may assume no duplicate exists in the array. \n",
    "\n",
    "### Problem Constraints\n",
    "1 <= N <= 1000000 1 <= A[i] <= 10^9 all elements in A are disitinct. \n",
    "\n",
    "### Input Format\n",
    "The first argument given is the integer array A.The second argument given is the integer B.\n",
    "\n",
    "### Output Format\n",
    "Return index of B in array A, otherwise return -1\n",
    "\n",
    "## Example Input\n",
    "### Input 1:\n",
    "A = [4, 5, 6, 7, 0, 1, 2, 3]\n",
    "\n",
    "B = 4\n",
    "\n",
    "### Input 2:      \n",
    "A = [1]\n",
    "\n",
    "B = 1\n",
    "    \n",
    "## Example Output\n",
    "### Output 1:\n",
    " 0\n",
    "  \n",
    "###  Output 2:      \n",
    " 0\n",
    "    \n",
    "## Example Explanation\n",
    "### Explanation 1:\n",
    "Target 4 is found at index 0 in A.\n",
    "\n",
    "### Explanation 2:      \n",
    "Target 1 is found at index 0 in A."
   ]
  },
  {
   "cell_type": "code",
   "execution_count": 73,
   "metadata": {},
   "outputs": [
    {
     "name": "stdout",
     "output_type": "stream",
     "text": [
      "-1\n"
     ]
    }
   ],
   "source": [
    "class Solution:\n",
    "    # @param A : tuple of integers\n",
    "    # @param B : integer\n",
    "    # @return an integer\n",
    "    def search(self, a, k):\n",
    "        n = len(a)\n",
    "        pi = self.pivot(a)\n",
    "        if pi == -1:\n",
    "            return self.binarySearch(a, 0, n-1, k)\n",
    "        if a[pi] == k:\n",
    "            return pi\n",
    "        elif a[0] <= k:\n",
    "            return self.binarySearch(a, 0, pi-1, k)\n",
    "        else:\n",
    "            return self.binarySearch(a, pi+1, n-1, k)\n",
    "    def pivot(self, a):\n",
    "        n = len(a)\n",
    "        lo, hi = 0, n-1\n",
    "        if a[lo] <= a[hi]:\n",
    "            return -1\n",
    "        while lo <= hi:\n",
    "            mid = lo+(hi-lo)//2\n",
    "            if mid > 0 and a[mid] < a[mid-1]:\n",
    "                return mid\n",
    "            elif a[mid] >= a[0]:\n",
    "                lo = mid+1\n",
    "            else:\n",
    "                hi = mid-1\n",
    "    def binarySearch(self, a, lo, hi, k):\n",
    "        while lo <= hi:\n",
    "            mid = lo + (hi-lo) // 2\n",
    "            if a[mid] == k:\n",
    "                return mid\n",
    "            elif a[mid] > k:\n",
    "                hi = mid-1\n",
    "            else:\n",
    "                lo = mid+1\n",
    "        return -1\n",
    "    \n",
    "        \n",
    "o = Solution()\n",
    "A = [ 7,5,3,2,0]\n",
    "print(o.search(A, 5))\n",
    "        \n",
    "        \n",
    "    \n"
   ]
  }
 ],
 "metadata": {
  "kernelspec": {
   "display_name": "Python 3",
   "language": "python",
   "name": "python3"
  },
  "language_info": {
   "codemirror_mode": {
    "name": "ipython",
    "version": 3
   },
   "file_extension": ".py",
   "mimetype": "text/x-python",
   "name": "python",
   "nbconvert_exporter": "python",
   "pygments_lexer": "ipython3",
   "version": "3.7.3"
  }
 },
 "nbformat": 4,
 "nbformat_minor": 2
}
