{
 "cells": [
  {
   "cell_type": "markdown",
   "metadata": {},
   "source": [
    "## Maximum height of the staircase:\n",
    "Problem Description\n",
    "\n",
    "Given an integer A representing the number of square blocks. The height of each square block is 1. The task is to create a staircase of max height using these blocks. The first stair would require only one block, the second stair would require two blocks and so on. Find and return the maximum height of the staircase. \n",
    "\n",
    "### Problem Constraints\n",
    "0 <= A <= 109\n",
    "\n",
    "### Input Format\n",
    "The only argument given is integer A.\n",
    "\n",
    "### Output Format\n",
    "Return the maximum height of the staircase using these blocks.\n",
    "\n",
    "## Example Input\n",
    "### Input 1:\n",
    " A = 10\n",
    "\n",
    "### Input 2:\n",
    " 20\n",
    "\n",
    "## Example Output\n",
    "### Output 1:\n",
    " 4\n",
    "\n",
    "### Output 2:\n",
    " 5"
   ]
  },
  {
   "cell_type": "code",
   "execution_count": 4,
   "metadata": {},
   "outputs": [
    {
     "name": "stdout",
     "output_type": "stream",
     "text": [
      "5\n"
     ]
    }
   ],
   "source": [
    "class Solution:\n",
    "    # @param A : integer\n",
    "    # @return an integer\n",
    "    def solve(self, n):\n",
    "        lo, hi = 1, n\n",
    "        ans = 1\n",
    "        while lo <= hi:\n",
    "            m = lo+(hi-lo)//2\n",
    "            curr = m*(m+1)//2\n",
    "            #print(m, curr)\n",
    "            if curr > n:\n",
    "                hi = m-1\n",
    "            else:\n",
    "                ans = m\n",
    "                lo = m+1\n",
    "        return ans\n",
    "    \n",
    "o = Solution()\n",
    "print(o.solve(20))"
   ]
  }
 ],
 "metadata": {
  "kernelspec": {
   "display_name": "Python 3",
   "language": "python",
   "name": "python3"
  },
  "language_info": {
   "codemirror_mode": {
    "name": "ipython",
    "version": 3
   },
   "file_extension": ".py",
   "mimetype": "text/x-python",
   "name": "python",
   "nbconvert_exporter": "python",
   "pygments_lexer": "ipython3",
   "version": "3.7.3"
  }
 },
 "nbformat": 4,
 "nbformat_minor": 2
}
