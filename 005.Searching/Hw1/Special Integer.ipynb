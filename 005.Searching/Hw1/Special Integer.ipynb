{
 "cells": [
  {
   "cell_type": "markdown",
   "metadata": {},
   "source": [
    "## Special Integer:\n",
    "Problem Description\n",
    "\n",
    "Given an array of integers A and an integer B, find and return the maximum value K such that there is no subarray in A of size K with sum of elements greater than B.\n",
    "\n",
    "### Problem Constraints\n",
    "1 <= |A| <= 100000 1 <= A[i] <= 10^9 1 <= B <= 10^9\n",
    "\n",
    "### Input Format\n",
    "The first argument given is the integer array A. The second argument given is integer B.  \n",
    "\n",
    "### Output Format\n",
    "Return the maximum value of K (sub array length).\n",
    "\n",
    "## Example Input\n",
    "### Input 1:\n",
    "A = [1, 2, 3, 4, 5]\n",
    "\n",
    "B = 10\n",
    "\n",
    "### Input 2:        \n",
    "A = [5, 17, 100, 11]\n",
    "\n",
    "B = 130\n",
    "     \n",
    "## Example Output\n",
    "### Output 1:\n",
    " 2\n",
    "  \n",
    "###  Output 2:        \n",
    " 3\n",
    "     \n",
    "## Example Explanation\n",
    "### Explanation 1:\n",
    "Constraints are satisfied for maximal value of 2.\n",
    "  \n",
    "### Explanation 2:        \n",
    "Constraints are satisfied for maximal value of 3."
   ]
  },
  {
   "cell_type": "code",
   "execution_count": 62,
   "metadata": {},
   "outputs": [
    {
     "name": "stdout",
     "output_type": "stream",
     "text": [
      "1\n"
     ]
    }
   ],
   "source": [
    "class Solution:\n",
    "    # @param A : list of integers\n",
    "    # @param B : integer\n",
    "    # @return an integer\n",
    "    def solve(self, a, b):\n",
    "        n = len(a)\n",
    "        ps = [0]*n\n",
    "        ps[0] = a[0]\n",
    "        ans = -1\n",
    "        for i in range(1, n):\n",
    "            ps[i] = a[i] + ps[i-1]\n",
    "        lo, hi = 1, n\n",
    "        while lo <= hi:\n",
    "            m = lo+(hi-lo)//2\n",
    "            check = self.find(a, ps, b, m)\n",
    "            if not check:\n",
    "                ans = m\n",
    "                lo = m+1\n",
    "            else:\n",
    "                hi = m-1\n",
    "        return ans\n",
    "    \n",
    "    def find(self, a, ps, b, k):\n",
    "        #print(a, ps)\n",
    "        i, j = 0, k-1\n",
    "        n = len(a)\n",
    "        ans = False\n",
    "        while i < j and j < n:\n",
    "            #print(i,j)\n",
    "            if i > 0:\n",
    "                curr = ps[j]-ps[i-1]\n",
    "            else:\n",
    "                curr = ps[j]\n",
    "            #print(curr, i, j)\n",
    "            if curr > b:\n",
    "                ans = True\n",
    "                break\n",
    "            i+=1\n",
    "            j+=1\n",
    "        return ans\n",
    "    \n",
    "o = Solution()\n",
    "ps = [1,3,6,10,15]\n",
    "a = [2,2,2,2]\n",
    "print(o.solve(a, 1))"
   ]
  }
 ],
 "metadata": {
  "kernelspec": {
   "display_name": "Python 3",
   "language": "python",
   "name": "python3"
  },
  "language_info": {
   "codemirror_mode": {
    "name": "ipython",
    "version": 3
   },
   "file_extension": ".py",
   "mimetype": "text/x-python",
   "name": "python",
   "nbconvert_exporter": "python",
   "pygments_lexer": "ipython3",
   "version": "3.7.3"
  }
 },
 "nbformat": 4,
 "nbformat_minor": 2
}
