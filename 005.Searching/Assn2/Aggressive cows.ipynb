{
 "cells": [
  {
   "cell_type": "markdown",
   "metadata": {},
   "source": [
    "## Aggressive cows:\n",
    "Problem Description\n",
    "\n",
    "Farmer John has built a new long barn, with N stalls. Given an array of integers A of size N where each element of the array represents the location of the stall, and an integer B which represent the number of cows. His cows don't like this barn layout and become aggressive towards each other once put into a stall. To prevent the cows from hurting each other, John wants to assign the cows to the stalls, such that the minimum distance between any two of them is as large as possible. What is the largest minimum distance?   \n",
    "\n",
    "### Problem Constraints\n",
    "2 <= N <= 100000\n",
    "\n",
    "0 <= A[i] <= 109\n",
    "\n",
    "2 <= B <= N\n",
    "\n",
    "### Input Format\n",
    "The first argument given is the integer array A.\n",
    "\n",
    "The second argument given is the integer B.\n",
    "\n",
    "### Output Format\n",
    "Return the largest minimum distance possible among the cows.\n",
    "\n",
    "## Example Input\n",
    "### Input 1:\n",
    "A = [1, 2, 3, 4, 5]\n",
    "\n",
    "B = 3\n",
    "\n",
    "### Input 2:      \n",
    "A = [1, 2]\n",
    "\n",
    "B = 2\n",
    "    \n",
    "## Example Output\n",
    "### Output 1:\n",
    " 2\n",
    "  \n",
    "### Output 2:      \n",
    " 1\n",
    "    \n",
    "## Example Explanation\n",
    "### Explanation 1:\n",
    "John can assign the stalls at location 1,3 and 5 to the 3 cows respectively.\n",
    "So the minimum distance will be 2.\n",
    "\n",
    "### Explanation 2:      \n",
    "The minimum distance will be 1."
   ]
  },
  {
   "cell_type": "code",
   "execution_count": 66,
   "metadata": {},
   "outputs": [
    {
     "name": "stdout",
     "output_type": "stream",
     "text": [
      "7\n"
     ]
    }
   ],
   "source": [
    "class Solution:\n",
    "    # @param A : list of integers\n",
    "    # @param B : integer\n",
    "    # @return an integer\n",
    "    def solve(self, a, c):\n",
    "        n = len(a)\n",
    "        a.sort()\n",
    "        lo, hi = 1, a[n-1]\n",
    "        ans = 1\n",
    "        while lo <= hi:\n",
    "            m = lo+(hi-lo)//2\n",
    "            #print(m)\n",
    "            if self.accomodate(a, c, m):\n",
    "                #print(m)\n",
    "                ans = max(ans, m)\n",
    "                lo = m+1\n",
    "            else:\n",
    "                hi = m-1\n",
    "        return ans\n",
    "    \n",
    "    def accomodate(self, a, c, x):\n",
    "        pos = a[0]\n",
    "        n = len(a)\n",
    "        c -= 1\n",
    "        for i in range(1, n):\n",
    "            if a[i] - pos >= x:\n",
    "                pos = a[i]\n",
    "                c -= 1\n",
    "                if c == 0:\n",
    "                    return 1\n",
    "        return 0\n",
    "    \n",
    "o = Solution()\n",
    "a = [ 82, 61, 38, 88, 12, 7, 6, 12, 48, 8, 31, 90, 35, 5, 88, 2, 66, 19, 5, 96, 84, 95 ]\n",
    "print(o.solve(a,8))\n"
   ]
  },
  {
   "cell_type": "code",
   "execution_count": 1,
   "metadata": {},
   "outputs": [
    {
     "name": "stdout",
     "output_type": "stream",
     "text": [
      "6\n"
     ]
    }
   ],
   "source": [
    "print(abs(2-8))"
   ]
  }
 ],
 "metadata": {
  "kernelspec": {
   "display_name": "Python 3",
   "language": "python",
   "name": "python3"
  },
  "language_info": {
   "codemirror_mode": {
    "name": "ipython",
    "version": 3
   },
   "file_extension": ".py",
   "mimetype": "text/x-python",
   "name": "python",
   "nbconvert_exporter": "python",
   "pygments_lexer": "ipython3",
   "version": "3.7.3"
  }
 },
 "nbformat": 4,
 "nbformat_minor": 2
}
