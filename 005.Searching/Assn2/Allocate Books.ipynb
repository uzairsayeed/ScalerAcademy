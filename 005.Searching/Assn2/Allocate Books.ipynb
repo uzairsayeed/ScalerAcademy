{
 "cells": [
  {
   "cell_type": "markdown",
   "metadata": {},
   "source": [
    "## Allocate Books:\n",
    "Problem Description\n",
    "\n",
    "Given an array of integers A of size N and an integer B. College library has N books,the ith book has A[i] number of pages. You have to allocate books to B number of students so that maximum number of pages alloted to a student is minimum.\n",
    "A book will be allocated to exactly one student.\n",
    "Each student has to be allocated at least one book.\n",
    "Allotment should be in contiguous order,\n",
    "\n",
    "For example: A student cannot be allocated book 1 and book 3, skipping book 2.\n",
    "Calculate and return that minimum possible number. \n",
    "\n",
    "### NOTE: Return -1 if a valid assignment is not possible. \n",
    "\n",
    "### Problem Constraints\n",
    "1 <= N <= 105\n",
    "\n",
    "1 <= A[i], B <= 105\n",
    "\n",
    "### Input Format\n",
    "The first argument given is the integer array A.\n",
    "\n",
    "The second argument given is the integer B.\n",
    "\n",
    "### Output Format\n",
    "Return that minimum possible number\n",
    "\n",
    "### Example Input\n",
    "A = [12, 34, 67, 90]\n",
    "\n",
    "B = 2\n",
    "\n",
    "### Example Output\n",
    "113\n",
    "\n",
    "### Example Explanation\n",
    "There are 2 number of students. Books can be distributed in following fashion : \n",
    "        \n",
    "        1) [12] and [34, 67, 90]\n",
    "        \n",
    "        Max number of pages is allocated to student 2 with 34 + 67 + 90 = 191 pages\n",
    "        \n",
    "        2) [12, 34] and [67, 90]\n",
    "        \n",
    "        Max number of pages is allocated to student 2 with 67 + 90 = 157 pages \n",
    "        \n",
    "        3) [12, 34, 67] and [90]\n",
    "        \n",
    "        Max number of pages is allocated to student 1 with 12 + 34 + 67 = 113 pages\n",
    "        \n",
    "        Of the 3 cases, Option 3 has the minimum pages = 113."
   ]
  },
  {
   "cell_type": "code",
   "execution_count": 28,
   "metadata": {},
   "outputs": [
    {
     "name": "stdout",
     "output_type": "stream",
     "text": [
      "-1\n"
     ]
    }
   ],
   "source": [
    "class Solution:\n",
    "    # @param A : list of integers\n",
    "    # @param B : integer\n",
    "    # @return an integer\n",
    "    def books(self, a, s):\n",
    "        n = len(a)\n",
    "        if n < s:\n",
    "            return -1\n",
    "        lo, hi = max(a), sum(a)\n",
    "        ans = -1\n",
    "        while lo<=hi:\n",
    "            m = lo+(hi-lo)//2\n",
    "            if self.allocate(a, s, m):\n",
    "                ans = m\n",
    "                hi = m-1\n",
    "            else:\n",
    "                lo = m+1\n",
    "        return ans\n",
    "    \n",
    "    def allocate(self, a, S, val):\n",
    "        s = 1\n",
    "        sum = 0\n",
    "        n = len(a)\n",
    "        for i in range(n):\n",
    "            if a[i] > val:\n",
    "                return 0\n",
    "            if sum + a[i] > val:\n",
    "                s += 1\n",
    "                sum = a[i]\n",
    "                if s > S:\n",
    "                    return 0\n",
    "            else:\n",
    "                sum += a[i]\n",
    "        return 1\n",
    "o = Solution()\n",
    "print(o.books([31, 14, 19, 75], 12))\n"
   ]
  }
 ],
 "metadata": {
  "kernelspec": {
   "display_name": "Python 3",
   "language": "python",
   "name": "python3"
  },
  "language_info": {
   "codemirror_mode": {
    "name": "ipython",
    "version": 3
   },
   "file_extension": ".py",
   "mimetype": "text/x-python",
   "name": "python",
   "nbconvert_exporter": "python",
   "pygments_lexer": "ipython3",
   "version": "3.7.3"
  }
 },
 "nbformat": 4,
 "nbformat_minor": 2
}
