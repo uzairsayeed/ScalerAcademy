{
 "cells": [
  {
   "cell_type": "markdown",
   "metadata": {},
   "source": [
    "## Smallest Good Base:\n",
    "Given an integer A, we call k >= 2 a good base of A, if all digits of A base k are 1. Now given a string representing A, you should return the smallest good base of A in string format. \n",
    "\n",
    "### Input Format\n",
    "The only argument given is the string representing A.\n",
    "\n",
    "### Output Format\n",
    "Return the smallest good base of A in string format.\n",
    "\n",
    "### Constraints\n",
    "3 <= A <= 10^18\n",
    "\n",
    "## For Example\n",
    "### Input 1:\n",
    "    A = \"13\"\n",
    "\n",
    "### Output 1:\n",
    "    \"3\"     (13 in base 3 is 111)\n",
    "\n",
    "### Input 2:\n",
    "    A = \"4681\"\n",
    "\n",
    "### Output 2:\n",
    "    \"8\"     (4681 in base 8 is 11111)."
   ]
  },
  {
   "cell_type": "code",
   "execution_count": 14,
   "metadata": {},
   "outputs": [
    {
     "name": "stdout",
     "output_type": "stream",
     "text": [
      "8\n"
     ]
    }
   ],
   "source": [
    "class Solution:\n",
    "    # @param A : string\n",
    "    # @return a strings\n",
    "    def solve(self, a):\n",
    "        a = int(a)\n",
    "        n = len(bin(a))-2\n",
    "        for i in range(n, 1, -1):\n",
    "            lo, hi = 2, a-1\n",
    "            while lo<=hi:\n",
    "                m = lo+(hi-lo)//2\n",
    "                sum = self.accomodate(i, m)\n",
    "                if sum > a:\n",
    "                    hi = m-1\n",
    "                elif sum < a:\n",
    "                    lo = m+1\n",
    "                else:\n",
    "                    return str(m)\n",
    "                \n",
    "    def accomodate(self, pos, m):\n",
    "        sum = 0\n",
    "        for i in range(pos):\n",
    "            sum = sum + (m**i)\n",
    "        return sum\n",
    "        \n",
    "o = Solution()\n",
    "print(o.solve('4681'))"
   ]
  }
 ],
 "metadata": {
  "kernelspec": {
   "display_name": "Python 3",
   "language": "python",
   "name": "python3"
  },
  "language_info": {
   "codemirror_mode": {
    "name": "ipython",
    "version": 3
   },
   "file_extension": ".py",
   "mimetype": "text/x-python",
   "name": "python",
   "nbconvert_exporter": "python",
   "pygments_lexer": "ipython3",
   "version": "3.7.3"
  }
 },
 "nbformat": 4,
 "nbformat_minor": 2
}
