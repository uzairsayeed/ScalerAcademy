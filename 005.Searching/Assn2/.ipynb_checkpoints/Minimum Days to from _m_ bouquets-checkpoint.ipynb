{
 "cells": [
  {
   "cell_type": "code",
   "execution_count": 1,
   "metadata": {},
   "outputs": [
    {
     "name": "stdout",
     "output_type": "stream",
     "text": [
      "12\n"
     ]
    }
   ],
   "source": [
    "class Solution:\n",
    "    def minDays(self, a, m, k):\n",
    "        if len(a) < m*k:\n",
    "            return -1\n",
    "        lo, hi = 1, max(a)\n",
    "        while lo < hi:\n",
    "            mid = lo + (hi-lo)//2\n",
    "            status = self.isPossible(a, m, k, mid)\n",
    "            if status:\n",
    "                hi = mid\n",
    "            else:\n",
    "                lo = mid + 1\n",
    "        return hi\n",
    "    def isPossible(self, a, m, k, mid):\n",
    "        new_k = k\n",
    "        for i in a:\n",
    "            if i <= mid:\n",
    "                new_k-=1\n",
    "            else:\n",
    "                new_k = k\n",
    "            if new_k == 0:\n",
    "                m-=1\n",
    "                new_k = k\n",
    "            if m == 0:\n",
    "                return True\n",
    "        return False\n",
    "\n",
    "o = Solution()\n",
    "print(o.minDays([7,7,7,7,12,7,7], 2, 3))"
   ]
  }
 ],
 "metadata": {
  "kernelspec": {
   "display_name": "Python 3",
   "language": "python",
   "name": "python3"
  },
  "language_info": {
   "codemirror_mode": {
    "name": "ipython",
    "version": 3
   },
   "file_extension": ".py",
   "mimetype": "text/x-python",
   "name": "python",
   "nbconvert_exporter": "python",
   "pygments_lexer": "ipython3",
   "version": "3.7.3"
  }
 },
 "nbformat": 4,
 "nbformat_minor": 2
}
