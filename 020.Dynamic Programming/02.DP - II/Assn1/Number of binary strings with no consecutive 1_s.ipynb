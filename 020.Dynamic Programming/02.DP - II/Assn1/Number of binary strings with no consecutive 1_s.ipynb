{
 "cells": [
  {
   "cell_type": "markdown",
   "metadata": {},
   "source": [
    "n = 1 ==> [0, 1] ==> O/P: 2\n",
    "\n",
    "n = 2 ==> [00, 01, 10] ==> O/P: 3\n",
    "\n",
    "n = 3 ==> [000, 001, 010, 100, 101] ==> O/P: 5"
   ]
  },
  {
   "cell_type": "code",
   "execution_count": 2,
   "metadata": {},
   "outputs": [
    {
     "data": {
      "text/plain": [
       "13"
      ]
     },
     "execution_count": 2,
     "metadata": {},
     "output_type": "execute_result"
    }
   ],
   "source": [
    "# BruteForce --> Recursive Solution --> TC = Exponential\n",
    "class Solution:\n",
    "    def binStr(self, n):\n",
    "        if n == 1:\n",
    "            return 2\n",
    "        if n == 2:\n",
    "            return 3\n",
    "        else:\n",
    "            return self.binStr(n-1) + self.binStr(n-2)\n",
    "        \n",
    "o = Solution()\n",
    "o.binStr(5)"
   ]
  },
  {
   "cell_type": "code",
   "execution_count": 7,
   "metadata": {},
   "outputs": [
    {
     "data": {
      "text/plain": [
       "8"
      ]
     },
     "execution_count": 7,
     "metadata": {},
     "output_type": "execute_result"
    }
   ],
   "source": [
    "# TopDownApproach --> TC = O(n), SC = O(n)\n",
    "class Solution:\n",
    "    def binStr(self, n):\n",
    "        if n == 1:\n",
    "            return 2\n",
    "        if n == 2:\n",
    "            return 3\n",
    "        else:\n",
    "            dp = [-1] * n\n",
    "            dp[0], dp[1] = 2, 3\n",
    "            return self.binStrHelper(n-1, dp) \n",
    "    def binStrHelper(self, n, dp):\n",
    "        if dp[n] != -1:\n",
    "            return dp[n]\n",
    "        else:\n",
    "            dp[n] = self.binStrHelper(n-1, dp) + self.binStrHelper(n-2, dp)\n",
    "            return dp[n]\n",
    "        \n",
    "o = Solution()\n",
    "o.binStr(4)"
   ]
  },
  {
   "cell_type": "code",
   "execution_count": 11,
   "metadata": {},
   "outputs": [
    {
     "data": {
      "text/plain": [
       "8"
      ]
     },
     "execution_count": 11,
     "metadata": {},
     "output_type": "execute_result"
    }
   ],
   "source": [
    "class Solution:\n",
    "    def binStr(self, n):\n",
    "        dp = [-1] * n\n",
    "        dp[0], dp[1] = 2, 3\n",
    "        for i in range(2, n):\n",
    "            dp[i] = dp[i-1] + dp[i-2]\n",
    "        #print(dp)\n",
    "        return dp[n-1]\n",
    "o = Solution()\n",
    "o.binStr(4)"
   ]
  }
 ],
 "metadata": {
  "kernelspec": {
   "display_name": "Python 3",
   "language": "python",
   "name": "python3"
  },
  "language_info": {
   "codemirror_mode": {
    "name": "ipython",
    "version": 3
   },
   "file_extension": ".py",
   "mimetype": "text/x-python",
   "name": "python",
   "nbconvert_exporter": "python",
   "pygments_lexer": "ipython3",
   "version": "3.7.3"
  }
 },
 "nbformat": 4,
 "nbformat_minor": 2
}
