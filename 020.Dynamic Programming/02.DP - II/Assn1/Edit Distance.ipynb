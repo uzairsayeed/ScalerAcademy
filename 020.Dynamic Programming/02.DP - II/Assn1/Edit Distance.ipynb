{
 "cells": [
  {
   "cell_type": "markdown",
   "metadata": {},
   "source": [
    "## Edit Distance:\n",
    "Given two strings A and B, find the minimum number of steps required to convert A to B. (each operation is counted as 1 step.) \n",
    "You have the following 3 operations permitted on a word:\n",
    "Insert a character\n",
    "Delete a character\n",
    "Replace a character\n",
    "\n",
    "### Input Format:\n",
    "The first argument of input contains a string, A.\n",
    "The second argument of input contains a string, B.\n",
    "### Output Format:\n",
    "Return an integer, representing the minimum number of steps required.\n",
    "### Constraints:\n",
    "1 <= length(A), length(B) <= 450\n",
    "## Examples:\n",
    "### Input 1:\n",
    "    A = \"abad\"\n",
    "    B = \"abac\"\n",
    "\n",
    "### Output 1:\n",
    "    1\n",
    "\n",
    "### Explanation 1:\n",
    "    Operation 1: Replace d with c.\n",
    "\n",
    "### Input 2:\n",
    "    A = \"Anshuman\"\n",
    "    B = \"Antihuman\"\n",
    "\n",
    "### Output 2:\n",
    "    2\n",
    "\n",
    "### Explanation 2:\n",
    "    => Operation 1: Replace s with t.\n",
    "    => Operation 2: Insert i."
   ]
  },
  {
   "cell_type": "code",
   "execution_count": 9,
   "metadata": {},
   "outputs": [
    {
     "data": {
      "text/plain": [
       "2"
      ]
     },
     "execution_count": 9,
     "metadata": {},
     "output_type": "execute_result"
    }
   ],
   "source": [
    "#RecursiveSolution --. Without Memoization\n",
    "class Solution:\n",
    "    def minDistance(self, a, b):\n",
    "        return self.minDistanceHelper(a, b, 0, 0)\n",
    "    def minDistanceHelper(self, a, b, i, j):\n",
    "        if i > len(a)-1:\n",
    "            return len(b)-j\n",
    "        if j > len(b)-1:\n",
    "            return len(a)-i\n",
    "        if a[i] == b[j]:\n",
    "            return self.minDistanceHelper(a, b, i+1, j+1)\n",
    "        else:\n",
    "            return min((1+self.minDistanceHelper(a, b, i, j+1)),#Insert,\n",
    "                      (1+self.minDistanceHelper(a, b, i+1, j)),#Delete,\n",
    "                      (1+self.minDistanceHelper(a, b, i+1, j+1)))\n",
    "        \n",
    "o = Solution()\n",
    "A = \"Anshuman\"\n",
    "B = \"Antihuman\"\n",
    "o.minDistance(A, B)"
   ]
  },
  {
   "cell_type": "code",
   "execution_count": 21,
   "metadata": {},
   "outputs": [
    {
     "data": {
      "text/plain": [
       "2"
      ]
     },
     "execution_count": 21,
     "metadata": {},
     "output_type": "execute_result"
    }
   ],
   "source": [
    "#IterativeSolution --> With Memoization\n",
    "class Solution:\n",
    "    def minDistance(self, a, b):\n",
    "        m, n = len(a), len(b)\n",
    "        dp = [[0 for j in range(n+1)] for i in range(m+1)]\n",
    "        dp[0][0] = 0\n",
    "        for j in range(n+1):\n",
    "            dp[0][j] = j\n",
    "        for i in range(m+1):\n",
    "            dp[i][0] = i\n",
    "        for i in range(1, m+1):\n",
    "            for j in range(1, n+1):\n",
    "                if a[i-1] == b[j-1]:\n",
    "                    dp[i][j] = dp[i-1][j-1]\n",
    "                else:\n",
    "                    dp[i][j] = min(1+dp[i-1][j-1], 1+dp[i][j-1], 1+dp[i-1][j])\n",
    "        #print(dp)\n",
    "        return dp[m][n]\n",
    "o = Solution()\n",
    "A = \"Anshuman\"\n",
    "B = \"Antihuman\"\n",
    "o.minDistance(A, B)"
   ]
  }
 ],
 "metadata": {
  "kernelspec": {
   "display_name": "Python 3",
   "language": "python",
   "name": "python3"
  },
  "language_info": {
   "codemirror_mode": {
    "name": "ipython",
    "version": 3
   },
   "file_extension": ".py",
   "mimetype": "text/x-python",
   "name": "python",
   "nbconvert_exporter": "python",
   "pygments_lexer": "ipython3",
   "version": "3.7.3"
  }
 },
 "nbformat": 4,
 "nbformat_minor": 2
}
