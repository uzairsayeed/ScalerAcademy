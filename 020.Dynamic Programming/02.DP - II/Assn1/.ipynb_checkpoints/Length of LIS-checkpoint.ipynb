{
 "cells": [
  {
   "cell_type": "markdown",
   "metadata": {},
   "source": [
    "## Length of LIS:\n",
    "Problem Description\n",
    "\n",
    "You are given an array A. You need to find the length of the Longest Increasing Subsequence in the array.\n",
    "\n",
    "In other words, you need to find a subsequence of array A in which the elements are in sorted order, (strictly increasing) and as long as possible.\n",
    "### Problem Constraints\n",
    "1 ≤ length(A), A[i] ≤ 105\n",
    "### Input Format\n",
    "The first and only argument of the input is the array A.\n",
    "### Output Format\n",
    "Output a single integer, the length of the longest increasing subsequence in array A.\n",
    "## Example Input\n",
    "### Input 1:\n",
    "A: [2, 1, 4, 3]\n",
    "### Input 2:\n",
    "A: [5, 6, 3, 7, 9]\n",
    "## Example Output\n",
    "### Output 1:\n",
    "2\n",
    "### Output 2:\n",
    "4\n",
    "## Example Explanation\n",
    "### Explanation 1:\n",
    " [2, 4] and [1, 3] are the longest increasing sequences of size 2. \n",
    "### Explanation 2:\n",
    "The longest increasing subsequence we can get is [5, 6, 7, 9] of size 4."
   ]
  },
  {
   "cell_type": "code",
   "execution_count": 8,
   "metadata": {},
   "outputs": [
    {
     "name": "stdout",
     "output_type": "stream",
     "text": [
      "3\n"
     ]
    }
   ],
   "source": [
    "# IterativeApproach --> BottomUp DP --> T.C = O(nlogn), S.C = O(n)\n",
    "import bisect\n",
    "class Solution:\n",
    "    # @param A : tuple of integers\n",
    "    # @return an integer\n",
    "    def findLIS(self, a):\n",
    "        res = []\n",
    "        res.append(a[0])\n",
    "        for i in range(1, len(a)):\n",
    "            if a[i] > res[-1]:\n",
    "                res.append(a[i])\n",
    "            else:\n",
    "                ind = bisect.bisect_left(res, a[i])\n",
    "                res[ind] = a[i]\n",
    "        return len(res)\n",
    "    \n",
    "o = Solution()\n",
    "A = [2,4,3,6,5]\n",
    "print(o.findLIS(A))"
   ]
  }
 ],
 "metadata": {
  "kernelspec": {
   "display_name": "Python 3",
   "language": "python",
   "name": "python3"
  },
  "language_info": {
   "codemirror_mode": {
    "name": "ipython",
    "version": 3
   },
   "file_extension": ".py",
   "mimetype": "text/x-python",
   "name": "python",
   "nbconvert_exporter": "python",
   "pygments_lexer": "ipython3",
   "version": "3.7.3"
  }
 },
 "nbformat": 4,
 "nbformat_minor": 2
}
