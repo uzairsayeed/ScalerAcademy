{
 "cells": [
  {
   "cell_type": "code",
   "execution_count": 2,
   "metadata": {},
   "outputs": [
    {
     "name": "stdout",
     "output_type": "stream",
     "text": [
      "35\n"
     ]
    }
   ],
   "source": [
    "# RecursiveSolution(BruteFOrce) --> TC = exponential\n",
    "class Solution:\n",
    "    def pathCnts(self, i, j):\n",
    "        if i == 0 or j == 0:\n",
    "            return 1\n",
    "        else:\n",
    "            return self.pathCnts(i-1, j) + self.pathCnts(i, j-1)\n",
    "        \n",
    "o = Solution()\n",
    "print(o.pathCnts(3, 4))"
   ]
  },
  {
   "cell_type": "code",
   "execution_count": 25,
   "metadata": {},
   "outputs": [
    {
     "name": "stdout",
     "output_type": "stream",
     "text": [
      "[[0, 1, 1, 1, 1], [1, 2, 3, 4, 5], [1, 3, 6, 10, 15], [1, 4, 10, 20, 35]] 35\n",
      "35\n"
     ]
    }
   ],
   "source": [
    "# RecursiveSolution with Memoization --> TC = O(n*m), SC = O(n*m)\n",
    "class Solution:\n",
    "    def pathCnts(self, i, j):\n",
    "        dp = [[1 if x==0 or y==0 else -1 for x in range(j+1)] for y in range(i+1)]\n",
    "        dp[0][0] = 0\n",
    "        ans = self.pathCntsHelper(i, j, dp)\n",
    "        #print(dp, ans)\n",
    "        return ans\n",
    "    def pathCntsHelper(self, i, j, dp):\n",
    "        if dp[i][j] != -1:\n",
    "            return dp[i][j]\n",
    "        else:\n",
    "            dp[i][j] = self.pathCntsHelper(i, j-1, dp) + self.pathCntsHelper(i-1, j, dp)\n",
    "            return dp[i][j]\n",
    "\n",
    "o = Solution()\n",
    "print(o.pathCnts(3, 4))"
   ]
  },
  {
   "cell_type": "code",
   "execution_count": 1,
   "metadata": {},
   "outputs": [
    {
     "name": "stdout",
     "output_type": "stream",
     "text": [
      "35\n"
     ]
    }
   ],
   "source": [
    "# IterativeSolution --> TC = O(n*m), SC = O(n*m) \n",
    "class Solution:\n",
    "    def pathCnts(self, i, j):\n",
    "        dp = [[1 if x==0 or y==0 else -1 for y in range(j+1)] for x in range(i+1)]\n",
    "        dp[0][0] = 0\n",
    "        for r in range(1, i+1):\n",
    "            for c in range(1, j+1):\n",
    "                dp[r][c] = dp[r][c-1] + dp[r-1][c]\n",
    "        #print(dp)\n",
    "        return dp[i][j]\n",
    "o = Solution()\n",
    "print(o.pathCnts(3, 4))"
   ]
  }
 ],
 "metadata": {
  "kernelspec": {
   "display_name": "Python 3",
   "language": "python",
   "name": "python3"
  },
  "language_info": {
   "codemirror_mode": {
    "name": "ipython",
    "version": 3
   },
   "file_extension": ".py",
   "mimetype": "text/x-python",
   "name": "python",
   "nbconvert_exporter": "python",
   "pygments_lexer": "ipython3",
   "version": "3.7.3"
  }
 },
 "nbformat": 4,
 "nbformat_minor": 2
}
