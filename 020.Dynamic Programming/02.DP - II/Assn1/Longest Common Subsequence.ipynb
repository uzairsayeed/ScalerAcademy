{
 "cells": [
  {
   "cell_type": "markdown",
   "metadata": {},
   "source": [
    "## Longest Common Subsequence:\n",
    "Given two strings A and B. Find the longest common sequence ( A sequence which does not need to be contiguous), which is common in both the strings. You need to return the length of such longest common subsequence.\n",
    "\n",
    "### NOTE:\n",
    "Your code will be run on multiple test cases (<=10). Try to come up with an optimised solution.\n",
    "\n",
    "### CONSTRAINTS\n",
    "1 <= Length of A, B <= 10^3 + 5\n",
    "\n",
    "### EXAMPLE INPUT\n",
    "A : \"abbcdgf\"\n",
    "\n",
    "B : \"bbadcgf\"\n",
    "\n",
    "### EXAMPLE OUTPUT\n",
    "5\n",
    "\n",
    "### EXPLANATION\n",
    "The longest common subsequence is \"bbcgf\", which has a length of 5"
   ]
  },
  {
   "cell_type": "code",
   "execution_count": 1,
   "metadata": {},
   "outputs": [
    {
     "data": {
      "text/plain": [
       "5"
      ]
     },
     "execution_count": 1,
     "metadata": {},
     "output_type": "execute_result"
    }
   ],
   "source": [
    "#RecursiveSolution --> Without Memoization\n",
    "class Solution:\n",
    "    def solve(self, a, b):\n",
    "        x, y = len(a), len(b)\n",
    "        return self.helper(a, b, x, y)\n",
    "    def helper(self, a, b, i, j):\n",
    "        if i == 0 or j == 0:\n",
    "            return 0\n",
    "        if a[i-1] == b[j-1]:\n",
    "            return 1 + self.helper(a, b, i-1, j-1)\n",
    "        else:\n",
    "            return max(self.helper(a, b, i, j-1), self.helper(a, b, i-1, j))\n",
    "        \n",
    "o = Solution()\n",
    "a = 'abbcdgf'\n",
    "b = 'bbadcgf'\n",
    "o.solve(a, b)"
   ]
  },
  {
   "cell_type": "code",
   "execution_count": 3,
   "metadata": {},
   "outputs": [
    {
     "data": {
      "text/plain": [
       "5"
      ]
     },
     "execution_count": 3,
     "metadata": {},
     "output_type": "execute_result"
    }
   ],
   "source": [
    "#IterativeSolution --> With Memoization\n",
    "class Solution:\n",
    "    def solve(self, a, b):\n",
    "        x, y = len(a), len(b)\n",
    "        dp = [[-1 for j in range(y+1)] for i in range(x+1)]\n",
    "        for i in range(y+1):\n",
    "            dp[0][i] = 0\n",
    "        for i in range(x+1):\n",
    "            dp[i][0] = 0\n",
    "        #print(dp)\n",
    "        for i in range(1, x+1):\n",
    "            for j in range(1, y+1):\n",
    "                if a[i-1] == b[j-1]:\n",
    "                    dp[i][j] = 1 + dp[i-1][j-1]\n",
    "                else:\n",
    "                    dp[i][j] = max(dp[i][j-1], dp[i-1][j])\n",
    "        return dp[x][y]\n",
    "o = Solution()\n",
    "a = 'abbcdgf'\n",
    "b = 'bbadcgf'\n",
    "o.solve(a, b)       "
   ]
  }
 ],
 "metadata": {
  "kernelspec": {
   "display_name": "Python 3",
   "language": "python",
   "name": "python3"
  },
  "language_info": {
   "codemirror_mode": {
    "name": "ipython",
    "version": 3
   },
   "file_extension": ".py",
   "mimetype": "text/x-python",
   "name": "python",
   "nbconvert_exporter": "python",
   "pygments_lexer": "ipython3",
   "version": "3.7.3"
  }
 },
 "nbformat": 4,
 "nbformat_minor": 2
}
