{
 "cells": [
  {
   "cell_type": "markdown",
   "metadata": {},
   "source": [
    "## Longest Increasing Subsequence:\n",
    "Problem Description\n",
    "\n",
    "Find the longest increasing subsequence of a given array of integers, A.\n",
    "\n",
    "In other words, find a subsequence of array in which the subsequence's elements are in strictly increasing order, and in which the subsequence is as long as possible.\n",
    "\n",
    "In this case, return the length of the longest increasing subsequence.\n",
    "### Problem Constraints\n",
    "0 <= length(A) <= 2500\n",
    "\n",
    "1 <= A[i] <= 2500\n",
    "### Input Format\n",
    "The first and the only argument is an integer array A.\n",
    "### Output Format\n",
    "Return an integer representing the length of the longest increasing subsequence.\n",
    "## Example Input\n",
    "### Input 1:\n",
    " A = [1, 2, 1, 5]\n",
    "### Input 2:\n",
    " A = [0, 8, 4, 12, 2, 10, 6, 14, 1, 9, 5, 13, 3, 11, 7, 15]\n",
    "## Example Output\n",
    "### Output 1:\n",
    " 3\n",
    "### Output 2:\n",
    " 6\n",
    "## Example Explanation\n",
    "### Explanation 1:\n",
    " The longest increasing subsequence: [1, 2, 5]\n",
    "### Explanation 2:\n",
    " The possible longest increasing subsequences: [0, 2, 6, 9, 13, 15] or [0, 4, 6, 9, 11, 15] or [0, 4, 6, 9, 13, 15]"
   ]
  },
  {
   "cell_type": "code",
   "execution_count": 28,
   "metadata": {},
   "outputs": [
    {
     "name": "stdout",
     "output_type": "stream",
     "text": [
      "4\n"
     ]
    }
   ],
   "source": [
    "# RecursiveApproach --> TopDown DP\n",
    "class Solution:\n",
    "    # @param A : tuple of integers\n",
    "    # @return an integer\n",
    "    def lis(self, a):\n",
    "        n = len(a)\n",
    "        res = 0        \n",
    "        def lisHelper(ind):\n",
    "            curr = 1\n",
    "            for i in range(ind+1, n):\n",
    "                if a[i] > a[ind]:\n",
    "                    curr = max(curr, 1+lisHelper(i))\n",
    "                    #print(curr)\n",
    "            return curr         \n",
    "        for i in range(n):\n",
    "            res = max(res, lisHelper(i))\n",
    "            #print(res)\n",
    "        return res\n",
    "    \n",
    "o = Solution()\n",
    "A = [1,3,4,2,3,5]\n",
    "print(o.lis(A))\n"
   ]
  },
  {
   "cell_type": "code",
   "execution_count": 43,
   "metadata": {},
   "outputs": [
    {
     "name": "stdout",
     "output_type": "stream",
     "text": [
      "3\n"
     ]
    }
   ],
   "source": [
    "# RecursiveApproach + Memoization --> TopDown DP --> T.C = O(n^2), S.C = O(n)\n",
    "class Solution:\n",
    "    # @param A : tuple of integers\n",
    "    # @return an integer\n",
    "    def lis(self, a):\n",
    "        n = len(a)\n",
    "        res = 0      \n",
    "        dp = [float('-inf')] * n\n",
    "        def lisHelper(ind):\n",
    "            if dp[ind] == float('-inf'):\n",
    "                curr = 1\n",
    "                for i in range(ind+1, n):\n",
    "                    if a[i] > a[ind]:\n",
    "                        curr = max(curr, 1+lisHelper(i))\n",
    "                        #print(curr)\n",
    "                dp[ind] = curr\n",
    "            return dp[ind]         \n",
    "        for i in range(n):\n",
    "            dp[i] = max(res, lisHelper(i))\n",
    "            #print(res)\n",
    "        return max(dp)\n",
    "    \n",
    "o = Solution()\n",
    "A = [1,2,1,5]\n",
    "print(o.lis(A))"
   ]
  },
  {
   "cell_type": "code",
   "execution_count": 44,
   "metadata": {},
   "outputs": [
    {
     "name": "stdout",
     "output_type": "stream",
     "text": [
      "3\n"
     ]
    }
   ],
   "source": [
    "# IterativeApproach --> BottomUp DP --> T.C = O(n^2), S.C = O(n)\n",
    "class Solution:\n",
    "    # @param A : tuple of integers\n",
    "    # @return an integer\n",
    "    def lis(self, A):\n",
    "        # DP[i] denotes the maximum length of increasing subsequence that ends with DP[i].\n",
    "        DP = [1]*len(A)\n",
    "        for i in range(len(A)):\n",
    "            # We try appending A[i] after every such subsequence and update our DP[i].                         \n",
    "            for j in range(i):\n",
    "                if A[j] < A[i]:\n",
    "                    DP[i] = max(DP[i], DP[j]+1)\n",
    "\n",
    "        return max(DP)\n",
    "\n",
    "o = Solution()\n",
    "A = [1,2,1,5]\n",
    "print(o.lis(A))"
   ]
  },
  {
   "cell_type": "code",
   "execution_count": 47,
   "metadata": {},
   "outputs": [
    {
     "name": "stdout",
     "output_type": "stream",
     "text": [
      "(3, [2, 3, 5])\n"
     ]
    }
   ],
   "source": [
    "# IterativeApproach --> BottomUp DP --> T.C = O(nlogn), S.C = O(n)\n",
    "import bisect\n",
    "class Solution:\n",
    "    # @param A : tuple of integers\n",
    "    # @return an integer\n",
    "    def findLIS(self, a):\n",
    "        res = []\n",
    "        res.append(a[0])\n",
    "        for i in range(1, len(a)):\n",
    "            if a[i] > res[-1]:\n",
    "                res.append(a[i])\n",
    "            else:\n",
    "                ind = bisect.bisect_left(res, a[i])\n",
    "                res[ind] = a[i]\n",
    "        return len(res), res\n",
    "    \n",
    "o = Solution()\n",
    "A = [2,4,3,6,5]\n",
    "print(o.findLIS(A))"
   ]
  }
 ],
 "metadata": {
  "kernelspec": {
   "display_name": "Python 3",
   "language": "python",
   "name": "python3"
  },
  "language_info": {
   "codemirror_mode": {
    "name": "ipython",
    "version": 3
   },
   "file_extension": ".py",
   "mimetype": "text/x-python",
   "name": "python",
   "nbconvert_exporter": "python",
   "pygments_lexer": "ipython3",
   "version": "3.9.0"
  }
 },
 "nbformat": 4,
 "nbformat_minor": 2
}
