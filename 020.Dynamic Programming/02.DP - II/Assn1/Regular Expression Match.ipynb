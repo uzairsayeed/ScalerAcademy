{
 "cells": [
  {
   "cell_type": "markdown",
   "metadata": {},
   "source": [
    "## Regular Expression Match:\n",
    "Implement wildcard pattern matching with support for '?' and '*' for strings A and B.\n",
    "\n",
    "'?' : Matches any single character.\n",
    "\n",
    "'*' : Matches any sequence of characters (including the empty sequence).\n",
    "\n",
    "The matching should cover the entire input string (not partial). \n",
    "\n",
    "### Input Format:\n",
    "The first argument of input contains a string A.\n",
    "\n",
    "The second argument of input contains a string B.\n",
    "### Output Format:\n",
    "Return 0 or 1:\n",
    "    \n",
    "    => 0 : If the patterns do not match.\n",
    "    \n",
    "    => 1 : If the patterns match.\n",
    "### Constraints:\n",
    "1 <= length(A), length(B) <= 9e4\n",
    "## Examples :\n",
    "### Input 1:\n",
    "    A = \"aa\"\n",
    "    B = \"a\"\n",
    "\n",
    "### Output 1:\n",
    "    0\n",
    "\n",
    "### Input 2:\n",
    "    A = \"aa\"\n",
    "    B = \"aa\"\n",
    "\n",
    "### Output 2:\n",
    "    1\n",
    "\n",
    "### Input 3:\n",
    "    A = \"aaa\"\n",
    "    B = \"aa\"\n",
    "\n",
    "### Output 3:\n",
    "    0\n",
    "\n",
    "### Input 4:\n",
    "    A = \"aa\"\n",
    "    B = \"*\"\n",
    "\n",
    "### Output 4:\n",
    "    1\n",
    "\n",
    "### Input 5:\n",
    "    A = \"aa\"\n",
    "    B = \"a*\"\n",
    "\n",
    "### Output 5:\n",
    "    1\n",
    "\n",
    "### Input 6:\n",
    "    A = \"ab\"\n",
    "    B = \"?*\"\n",
    "\n",
    "### Output 6:\n",
    "    1\n",
    "\n",
    "### Input 7:\n",
    "    A = \"aab\"\n",
    "    B = \"c*a*b\"\n",
    "\n",
    "### Output 7:\n",
    "    0"
   ]
  },
  {
   "cell_type": "code",
   "execution_count": 52,
   "metadata": {},
   "outputs": [
    {
     "name": "stdout",
     "output_type": "stream",
     "text": [
      "1\n"
     ]
    }
   ],
   "source": [
    "#RecursiveSolution\n",
    "class Solution:\n",
    "    def isMatch(self, a, b):\n",
    "        return self.isMatchHelper(a, b)\n",
    "    def isMatchHelper(self, s, p):\n",
    "        if len(s) == 0 and len(p) == 0:\n",
    "            return 1\n",
    "        if len(p) > 1 and p[0] == '*' and len(s) == 0:\n",
    "            return 0\n",
    "        if len(p) != 0 and len(s) != 0 and ( s[0] == p[0] or p[0] == '?'):\n",
    "            return self.isMatchHelper(s[1:], p[1:])\n",
    "        if len(p) != 0 and p[0] == '*':\n",
    "            return self.isMatchHelper(s, p[1:]) or self.isMatchHelper(s[1:], p)\n",
    "        return 0\n",
    "o = Solution()\n",
    "print(o.isMatch('aab', '*a*b'))\n",
    "                "
   ]
  },
  {
   "cell_type": "code",
   "execution_count": 56,
   "metadata": {},
   "outputs": [
    {
     "name": "stdout",
     "output_type": "stream",
     "text": [
      "1\n"
     ]
    }
   ],
   "source": [
    "#RecursiveSolution\n",
    "class Solution:\n",
    "    def isMatch(self, a, b):\n",
    "        if not a and not b:\n",
    "            return 1\n",
    "        if not b:\n",
    "            return 0\n",
    "        m, n = len(a), len(b)\n",
    "        dp = [[0 for j in range(n+1)] for i in range(m+1)]\n",
    "        dp[0][0] = 1\n",
    "        for j in range(1, n+1):\n",
    "            if b[j-1] == '*':\n",
    "                dp[0][j] = dp[0][j-1]\n",
    "            if dp[0][j] == 0:\n",
    "                break\n",
    "        for i in range(1, m+1):\n",
    "            for j in range(1, n+1):\n",
    "                if b[j-1] == '*':\n",
    "                    dp[i][j] = dp[i-1][j] or dp[i][j-1]\n",
    "                elif b[j-1] == '?' or a[i-1] == b[j-1]:\n",
    "                    dp[i][j] = dp[i-1][j-1]\n",
    "                else:\n",
    "                    dp[i][j] == 0\n",
    "        return dp[m][n]\n",
    "    \n",
    "o = Solution()\n",
    "print(o.isMatch('aab', '*a*'))"
   ]
  }
 ],
 "metadata": {
  "kernelspec": {
   "display_name": "Python 3",
   "language": "python",
   "name": "python3"
  },
  "language_info": {
   "codemirror_mode": {
    "name": "ipython",
    "version": 3
   },
   "file_extension": ".py",
   "mimetype": "text/x-python",
   "name": "python",
   "nbconvert_exporter": "python",
   "pygments_lexer": "ipython3",
   "version": "3.7.3"
  }
 },
 "nbformat": 4,
 "nbformat_minor": 2
}
