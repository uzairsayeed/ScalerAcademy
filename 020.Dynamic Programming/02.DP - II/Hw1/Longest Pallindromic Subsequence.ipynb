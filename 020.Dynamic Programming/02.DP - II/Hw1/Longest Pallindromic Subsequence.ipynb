{
 "cells": [
  {
   "cell_type": "markdown",
   "metadata": {},
   "source": [
    "## Longest Pallindromic Subsequence:\n",
    "Given a strings A. Find the common pallindromic sequence ( A sequence which does not need to be contiguous and is a pallindrome), which is common in itself You need to return the length of such longest common subsequence.\n",
    "### NOTE:\n",
    "Your code will be run on multiple test cases (<=10). Try to come up with an optimised solution.\n",
    "### CONSTRAINTS\n",
    "1 <= Length of A, B <= 10^3 + 5\n",
    "### EXAMPLE INPUT\n",
    "A : \"bebeeed\"\n",
    "### EXAMPLE OUTPUT\n",
    "4\n",
    "### EXPLANATION\n",
    "The longest common pallindromic subsequence is \"eeee\", which has a length of 4"
   ]
  },
  {
   "cell_type": "code",
   "execution_count": 3,
   "metadata": {},
   "outputs": [
    {
     "name": "stdout",
     "output_type": "stream",
     "text": [
      "4\n"
     ]
    }
   ],
   "source": [
    "class Solution:\n",
    "    def solve(self, a):\n",
    "        i, j = 0, len(a)-1\n",
    "        return self.helper(a, i, j)\n",
    "    def helper(self, a, i, j):\n",
    "        if i > j:\n",
    "            return 0\n",
    "        if i == j:\n",
    "            return 1\n",
    "        if a[i] == a[j]:\n",
    "            return 2 + self.helper(a, i+1, j-1)\n",
    "        else:\n",
    "            return max(self.helper(a, i+1, j), self.helper(a, i, j-1))\n",
    "        \n",
    "o = Solution()\n",
    "a = 'bebeeed'\n",
    "print(o.solve(a))"
   ]
  },
  {
   "cell_type": "code",
   "execution_count": 26,
   "metadata": {},
   "outputs": [
    {
     "name": "stdout",
     "output_type": "stream",
     "text": [
      "4\n"
     ]
    }
   ],
   "source": [
    "class Solution:\n",
    "    def solve(self, s):\n",
    "        n = len(s)\n",
    "        #print(n)\n",
    "        dp = [[0 for j in range(n)] for i in range(n)]\n",
    "        for i in range(n):\n",
    "            dp[i][i] = 1\n",
    "        #print(dp)\n",
    "        for i in range(n-1, -1, -1):\n",
    "            for j in range(i+1, n):\n",
    "                #print(i,j)\n",
    "                if s[i] == s[j]:\n",
    "                    dp[i][j] = dp[i+1][j-1] + 2\n",
    "                else:\n",
    "                    dp[i][j] = max(dp[i+1][j], dp[i][j-1])\n",
    "        return dp[0][n-1]\n",
    "o = Solution()\n",
    "a = 'bebeeed'\n",
    "print(o.solve(a))"
   ]
  }
 ],
 "metadata": {
  "kernelspec": {
   "display_name": "Python 3",
   "language": "python",
   "name": "python3"
  },
  "language_info": {
   "codemirror_mode": {
    "name": "ipython",
    "version": 3
   },
   "file_extension": ".py",
   "mimetype": "text/x-python",
   "name": "python",
   "nbconvert_exporter": "python",
   "pygments_lexer": "ipython3",
   "version": "3.7.3"
  }
 },
 "nbformat": 4,
 "nbformat_minor": 2
}
