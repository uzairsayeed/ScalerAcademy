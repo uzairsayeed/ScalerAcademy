{
 "cells": [
  {
   "cell_type": "code",
   "execution_count": 23,
   "metadata": {},
   "outputs": [
    {
     "name": "stdout",
     "output_type": "stream",
     "text": [
      "11\n"
     ]
    }
   ],
   "source": [
    "#RecursiveApproach --> Without Memoization\n",
    "class Solution:\n",
    "    def minPath(self, a, i, j):\n",
    "        for c in range(1, j+1):\n",
    "            a[0][c] = a[0][c] + a[0][c-1]\n",
    "        for r in range(1, i+1):\n",
    "            a[r][0] = a[r][0] + a[r-1][0]\n",
    "        return self.minPathHelper(a, i, j)\n",
    "    def minPathHelper(self, a, i, j):\n",
    "        if i == 0 or j == 0:\n",
    "            return a[i][j]\n",
    "        else:\n",
    "            return min(self.minPathHelper(a, i-1, j), self.minPathHelper(a, i, j-1)) + a[i][j]\n",
    "                \n",
    "        \n",
    "o = Solution()\n",
    "a = [\n",
    "        [1,2,3],\n",
    "        [4,8,2],\n",
    "        [1,5,3]\n",
    "    ]\n",
    "print(o.minPath(a, 2, 2))"
   ]
  },
  {
   "cell_type": "code",
   "execution_count": 30,
   "metadata": {},
   "outputs": [
    {
     "name": "stdout",
     "output_type": "stream",
     "text": [
      "11\n"
     ]
    }
   ],
   "source": [
    "#RecursiveApproach --> With Memoization --> TC = O(n*m), SC = O(n*m)\n",
    "class Solution:\n",
    "    def minPath(self, a, i, j):\n",
    "        dp = [[float('inf') for c in range(j+1)] for r in range(i+1)]\n",
    "        dp[0][0] = a[0][0]\n",
    "        for c in range(1, j+1):\n",
    "            dp[0][c] = a[0][c] + dp[0][c-1]\n",
    "        for r in range(1, i+1):\n",
    "            dp[r][0] = a[r][0] + dp[r-1][0]\n",
    "        return self.minPathHelper(a, i, j, dp)\n",
    "    def minPathHelper(self, a, i, j, dp):\n",
    "        if dp[i][j] != float('inf'):\n",
    "            return dp[i][j]\n",
    "        else:\n",
    "            dp[i][j] = min(self.minPathHelper(a, i-1, j, dp), self.minPathHelper(a, i, j-1, dp)) + a[i][j]\n",
    "            return dp[i][j]\n",
    "        \n",
    "o = Solution()\n",
    "a = [\n",
    "        [1,2,3],\n",
    "        [4,8,2],\n",
    "        [1,5,3]\n",
    "    ]\n",
    "print(o.minPath(a, 2, 2))"
   ]
  },
  {
   "cell_type": "code",
   "execution_count": 33,
   "metadata": {},
   "outputs": [
    {
     "name": "stdout",
     "output_type": "stream",
     "text": [
      "8\n"
     ]
    }
   ],
   "source": [
    "#IterativeApproach --> BottomUp DP --> TC = O(n*m), SC = O(n*m)\n",
    "class Solution:\n",
    "    def minPath(self, a):\n",
    "        x, y = len(a)-1, len(a[0])-1\n",
    "        dp = [[float('inf') for c in range(y+1)] for r in range(x+1)]\n",
    "        dp[0][0] = a[0][0]\n",
    "        for c in range(1, y+1):\n",
    "            dp[0][c] = a[0][c] + dp[0][c-1]\n",
    "        for r in range(1, x+1):\n",
    "            dp[r][0] = a[r][0] + dp[r-1][0]\n",
    "        for i in range(1, x+1):\n",
    "            for j in range(1, y+1):\n",
    "                dp[i][j] = min(dp[i-1][j], dp[i][j-1]) + a[i][j]\n",
    "        return dp[x][y]\n",
    "            \n",
    "o = Solution()\n",
    "a = [\n",
    "        [1,2,3],\n",
    "        [4,8,2],\n",
    "        [1,5,3]\n",
    "    ]\n",
    "b = [  [1, 3, 2],\n",
    "       [4 ,3 ,1],\n",
    "       [5, 6, 1]\n",
    "     \n",
    "    ]\n",
    "\n",
    "print(o.minPath(b))"
   ]
  },
  {
   "cell_type": "code",
   "execution_count": 25,
   "metadata": {},
   "outputs": [
    {
     "name": "stdout",
     "output_type": "stream",
     "text": [
      "[[inf, inf, inf], [inf, inf, inf], [inf, inf, inf]]\n"
     ]
    }
   ],
   "source": [
    "i, j = 2, 2\n",
    "int_max = float('inf')\n",
    "dp = [[int_max for c in range(j+1)] for r in range(i+1)]\n",
    "print(dp)"
   ]
  }
 ],
 "metadata": {
  "kernelspec": {
   "display_name": "Python 3",
   "language": "python",
   "name": "python3"
  },
  "language_info": {
   "codemirror_mode": {
    "name": "ipython",
    "version": 3
   },
   "file_extension": ".py",
   "mimetype": "text/x-python",
   "name": "python",
   "nbconvert_exporter": "python",
   "pygments_lexer": "ipython3",
   "version": "3.7.3"
  }
 },
 "nbformat": 4,
 "nbformat_minor": 2
}
