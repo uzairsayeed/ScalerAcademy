{
 "cells": [
  {
   "cell_type": "markdown",
   "metadata": {},
   "source": [
    "## Ways to Decode:\n",
    "Problem Description\n",
    "\n",
    "A message containing letters from A-Z is being encoded to numbers using the following mapping:\n",
    "\n",
    "'A' -> 1\n",
    "'B' -> 2\n",
    "...\n",
    "'Z' -> 26\n",
    "\n",
    "Given an encoded message denoted by string A containing digits, determine the total number of ways to decode it modulo 109 + 7.\n",
    "### Problem Constraints\n",
    "1 <= length(A) <= 105\n",
    "### Input Format\n",
    "The first and the only argument is a string A.\n",
    "### Output Format\n",
    "Return an integer, representing the number of ways to decode the string modulo 109 + 7..\n",
    "## Example Input\n",
    "### Input 1:\n",
    " A = \"12\"\n",
    "### Input 2:\n",
    " A = \"8\"\n",
    "## Example Output\n",
    "### Output 1:\n",
    " 2\n",
    "### Output 2:\n",
    " 1\n",
    "## Example Explanation\n",
    "### Explanation 1:\n",
    " Given encoded message \"8\", it could be decoded as only \"H\" (8).\n",
    " \n",
    " The number of ways decoding \"8\" is 1.\n",
    "### Explanation 2:\n",
    " Given encoded message \"12\", it could be decoded as \"AB\" (1, 2) or \"L\" (12).\n",
    " \n",
    " The number of ways decoding \"12\" is 2.\n",
    "\n"
   ]
  },
  {
   "cell_type": "code",
   "execution_count": 5,
   "metadata": {},
   "outputs": [
    {
     "name": "stdout",
     "output_type": "stream",
     "text": [
      "4\n"
     ]
    }
   ],
   "source": [
    "class Solution:\n",
    "    # @param A : string\n",
    "    # @return an integer\n",
    "    def numDecodings(self, s):\n",
    "        n = len(s)\n",
    "        if n == 0:\n",
    "            return n\n",
    "        if n == 1:\n",
    "            if int(s) > 0:\n",
    "                return 1\n",
    "            return 0\n",
    "        dp = [0] * n\n",
    "        m = 10**9+7\n",
    "        dp[0] = 0 if int(s[0] == 0) else 1\n",
    "        dp[1] += 1 if int(s[:2]) <= 26 and int(s[:2]) >= 10 else 0\n",
    "        dp[1] += 0 if int(s[0]) == 0 or int(s[1]) == 0 else 1\n",
    "        for i in range(2, n):\n",
    "            dp[i] += dp[i-2] if int(s[i-1:i+1]) <= 26 and int(s[i-1:i+1]) >= 10 else 0\n",
    "            dp[i]%=m\n",
    "            if int(s[i]) != 0:\n",
    "                dp[i] += dp[i-1]\n",
    "                dp[i]%=m\n",
    "        return dp[n-1]%m\n",
    "        \n",
    "o = Solution()\n",
    "print(o.numDecodings('2611055971756562'))\n",
    "        "
   ]
  }
 ],
 "metadata": {
  "kernelspec": {
   "display_name": "Python 3",
   "language": "python",
   "name": "python3"
  },
  "language_info": {
   "codemirror_mode": {
    "name": "ipython",
    "version": 3
   },
   "file_extension": ".py",
   "mimetype": "text/x-python",
   "name": "python",
   "nbconvert_exporter": "python",
   "pygments_lexer": "ipython3",
   "version": "3.7.3"
  }
 },
 "nbformat": 4,
 "nbformat_minor": 2
}
