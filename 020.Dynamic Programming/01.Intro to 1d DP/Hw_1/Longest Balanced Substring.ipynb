{
 "cells": [
  {
   "cell_type": "markdown",
   "metadata": {},
   "source": [
    "## Longest Balanced Substring:\n",
    "Problem Description\n",
    "\n",
    "Given a string A made up of multiple brackets of type \"[]\" , \"()\" and \"{}\" find the length of the longest substring which forms a balanced string .\n",
    "\n",
    "Conditions for a string to be balanced :\n",
    "\n",
    "Blank string is balanced ( However blank string will not be provided as a test case ).\n",
    "\n",
    "If B is balanced : (B) , [B] and {B} are also balanced.\n",
    "\n",
    "If B1 and B2 are balanced then B1B2 i.e the string formed by concatenating B1 and B2 is also balanced.\n",
    "### Problem Constraints\n",
    "0 <= |A| <= 106\n",
    "### Input Format\n",
    "First and only argument is an string A.\n",
    "### Output Format\n",
    "Return an single integer denoting the lenght of the longest balanced substring.\n",
    "## Example Input\n",
    "### Input 1:\n",
    " A = \"[()]\"\n",
    "### Input 2:\n",
    " A = \"[(])\"\n",
    "## Example Output\n",
    "### Output 1:\n",
    " 4\n",
    "### Output 2:\n",
    " 0\n",
    "## Example Explanation\n",
    "### Explanation 1:\n",
    " Substring [1:4] i.e \"[()]\" is the longest balanced substring of length 4.\n",
    "### Explanation 2:\n",
    " None of the substring is balanced so answer is 0."
   ]
  },
  {
   "cell_type": "code",
   "execution_count": null,
   "metadata": {},
   "outputs": [],
   "source": [
    "class Solution:\n",
    "    # @param A : string\n",
    "    # @return an integer\n",
    "    def LBSlength(self, a):\n",
    "        n = len(a)\n",
    "        s = []\n",
    "        s.append(-1)\n",
    "        for i in range(n):\n",
    "            if a[i] == '(' or a[i] == '[' or a[i] == '{':\n",
    "                s.append(i)\n",
    "            else:\n",
    "                if a[i] \n"
   ]
  }
 ],
 "metadata": {
  "kernelspec": {
   "display_name": "Python 3",
   "language": "python",
   "name": "python3"
  },
  "language_info": {
   "codemirror_mode": {
    "name": "ipython",
    "version": 3
   },
   "file_extension": ".py",
   "mimetype": "text/x-python",
   "name": "python",
   "nbconvert_exporter": "python",
   "pygments_lexer": "ipython3",
   "version": "3.7.3"
  }
 },
 "nbformat": 4,
 "nbformat_minor": 2
}
