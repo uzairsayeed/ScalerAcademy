{
 "cells": [
  {
   "cell_type": "markdown",
   "metadata": {},
   "source": [
    "## Max Product Subarray:\n",
    "Problem Description\n",
    "\n",
    "Given an integer array A of size N. Find the contiguous subarray within the given array (containing at least one number) which has the largest product.\n",
    "\n",
    "Return an integer corresponding to the maximum product possible.\n",
    "### NOTE: Answer will fit in 32-bit integer value.\n",
    "### Problem Constraints:\n",
    "1 <= N <= 5 * 105\n",
    "\n",
    "-100 <= A[i] <= 100\n",
    "### Input Format\n",
    "First and only argument is an integer array A.\n",
    "### Output Format\n",
    "Return an integer corresponding to the maximum product possible.\n",
    "## Example Input\n",
    "### Input 1:\n",
    " A = [4, 2, -5, 1]\n",
    "### Input 2:\n",
    " A = [-3, 0, -5, 0]\n",
    "## Example Output\n",
    "### Output 1:\n",
    " 8\n",
    "### Output 2:\n",
    " 0\n",
    "## Example Explanation\n",
    "### Explanation 1:\n",
    " We can choose the subarray [4, 2] such that the maximum product is 8.\n",
    "### Explanation 2:\n",
    " 0 will be the maximum product possible."
   ]
  },
  {
   "cell_type": "code",
   "execution_count": 3,
   "metadata": {},
   "outputs": [
    {
     "name": "stdout",
     "output_type": "stream",
     "text": [
      "8\n"
     ]
    }
   ],
   "source": [
    "class Solution:\n",
    "\t# @param A : tuple of integers\n",
    "\t# @return an integer\n",
    "    def maxProduct(self, a):\n",
    "        n = len(a)\n",
    "        dp_pos = [1] * n\n",
    "        dp_neg = [1] * n\n",
    "        dp_pos[0], dp_neg[0] = a[0], a[0]\n",
    "        for i in range(1, n):\n",
    "            dp_neg[i] = min((a[i]*dp_neg[i-1]), a[i], (dp_pos[i-1]*a[i]))\n",
    "            #print(dp_neg)\n",
    "            dp_pos[i] = max((a[i]*dp_neg[i-1]), a[i], (dp_pos[i-1]*a[i]))\n",
    "            #print(dp_pos)\n",
    "        return max(max(dp_neg), max(dp_pos))\n",
    "\n",
    "o = Solution()\n",
    "A = [4, 2, -5, 1]\n",
    "print(o.maxProduct(A))"
   ]
  }
 ],
 "metadata": {
  "kernelspec": {
   "display_name": "Python 3",
   "language": "python",
   "name": "python3"
  },
  "language_info": {
   "codemirror_mode": {
    "name": "ipython",
    "version": 3
   },
   "file_extension": ".py",
   "mimetype": "text/x-python",
   "name": "python",
   "nbconvert_exporter": "python",
   "pygments_lexer": "ipython3",
   "version": "3.7.3"
  }
 },
 "nbformat": 4,
 "nbformat_minor": 2
}
