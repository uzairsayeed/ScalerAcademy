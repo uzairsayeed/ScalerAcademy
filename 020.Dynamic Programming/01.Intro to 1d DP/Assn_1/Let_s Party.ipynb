{
 "cells": [
  {
   "cell_type": "code",
   "execution_count": null,
   "metadata": {},
   "outputs": [],
   "source": [
    "Let's Party\n",
    "Problem Description\n",
    "\n",
    "In Danceland, one person can party either alone or can pair up with another person.\n",
    "\n",
    "Can you find in how many ways they can party if there are A people in Danceland?\n",
    "\n",
    "Note: Return your answer modulo 10003, as the answer can be large.\n",
    "\n",
    "\n",
    "\n",
    "Problem Constraints\n",
    "1 <= A <= 105\n",
    "\n",
    "\n",
    "\n",
    "Input Format\n",
    "Given only argument A of type Integer, number of people in Danceland.\n",
    "\n",
    "\n",
    "\n",
    "Output Format\n",
    "Return an integer denoting the number of ways people of Danceland can party.\n",
    "\n",
    "\n",
    "\n",
    "Example Input\n",
    "Input 1:\n",
    "\n",
    " A = 3\n",
    "Input 2:\n",
    "\n",
    " A = 5\n",
    "\n",
    "\n",
    "Example Output\n",
    "Output 1:\n",
    "\n",
    " 4\n",
    "Output 2:\n",
    "\n",
    " 26\n",
    "\n",
    "\n",
    "Example Explanation\n",
    "Explanation 1:\n",
    "\n",
    " Let suppose three people are A, B, and C. There are only 4 ways to party\n",
    " (A, B, C) All party alone\n",
    " (AB, C) A and B party together and C party alone\n",
    " (AC, B) A and C party together and B party alone\n",
    " (BC, A) B and C party together and A\n",
    " here 4 % 10003 = 4, so answer is 4.\n",
    " \n",
    "Explanation 2:\n",
    "\n",
    " Number of ways they can party are: 26."
   ]
  },
  {
   "cell_type": "code",
   "execution_count": 2,
   "metadata": {},
   "outputs": [
    {
     "name": "stdout",
     "output_type": "stream",
     "text": [
      "26\n"
     ]
    }
   ],
   "source": [
    "class Solution:\n",
    "    # @param A : integer\n",
    "    # @return an integer\n",
    "    def solve(self, n):\n",
    "        if n < 3:\n",
    "            return n\n",
    "        p1, p2 = 1, 2\n",
    "        m = 10003\n",
    "        for i in range(3, n+1):\n",
    "            curr = (p2 + (i-1)*p1) % m\n",
    "            p1 = p2\n",
    "            p2 = curr\n",
    "        return p2 % m\n",
    "    \n",
    "o = Solution()\n",
    "print(o.solve(5))"
   ]
  }
 ],
 "metadata": {
  "kernelspec": {
   "display_name": "Python 3",
   "language": "python",
   "name": "python3"
  },
  "language_info": {
   "codemirror_mode": {
    "name": "ipython",
    "version": 3
   },
   "file_extension": ".py",
   "mimetype": "text/x-python",
   "name": "python",
   "nbconvert_exporter": "python",
   "pygments_lexer": "ipython3",
   "version": "3.7.3"
  }
 },
 "nbformat": 4,
 "nbformat_minor": 2
}
