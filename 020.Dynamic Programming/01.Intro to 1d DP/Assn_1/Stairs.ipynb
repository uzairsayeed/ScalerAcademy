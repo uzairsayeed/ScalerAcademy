{
 "cells": [
  {
   "cell_type": "code",
   "execution_count": null,
   "metadata": {},
   "outputs": [],
   "source": [
    "Stairs\n",
    "Problem Description\n",
    "\n",
    "You are climbing a stair case and it takes A steps to reach to the top.\n",
    "\n",
    "Each time you can either climb 1 or 2 steps. In how many distinct ways can you climb to the top?\n",
    "\n",
    "\n",
    "\n",
    "Problem Constraints\n",
    "1 <= A <= 36\n",
    "\n",
    "\n",
    "\n",
    "Input Format\n",
    "The first and the only argument contains an integer A, the number of steps.\n",
    "\n",
    "\n",
    "\n",
    "Output Format\n",
    "Return an integer, representing the number of ways to reach the top.\n",
    "\n",
    "\n",
    "\n",
    "Example Input\n",
    "Input 1:\n",
    "\n",
    " A = 2\n",
    "Input 2:\n",
    "\n",
    " A = 3\n",
    "\n",
    "\n",
    "Example Output\n",
    "Output 1:\n",
    "\n",
    " 2\n",
    "Output 2:\n",
    "\n",
    " 3\n",
    "\n",
    "\n",
    "Example Explanation\n",
    "Explanation 1:\n",
    "\n",
    " Distinct ways to reach top: [1, 1], [2].\n",
    "Explanation 2:\n",
    "\n",
    " Distinct ways to reach top: [1 1 1], [1 2], [2 1]."
   ]
  },
  {
   "cell_type": "code",
   "execution_count": null,
   "metadata": {},
   "outputs": [],
   "source": [
    "class Solution:\n",
    "    # @param A : integer\n",
    "    # @return an integer\n",
    "    def climbStairs(self, n):\n",
    "        if n <= 2:\n",
    "            return n\n",
    "        p1, p2 = 1, 2\n",
    "        for i in range(3, n+1):\n",
    "            curr = p1 + p2\n",
    "            p1 = p2\n",
    "            p2 = curr\n",
    "        return p2\n"
   ]
  }
 ],
 "metadata": {
  "kernelspec": {
   "display_name": "Python 3",
   "language": "python",
   "name": "python3"
  },
  "language_info": {
   "codemirror_mode": {
    "name": "ipython",
    "version": 3
   },
   "file_extension": ".py",
   "mimetype": "text/x-python",
   "name": "python",
   "nbconvert_exporter": "python",
   "pygments_lexer": "ipython3",
   "version": "3.9.0"
  }
 },
 "nbformat": 4,
 "nbformat_minor": 2
}
