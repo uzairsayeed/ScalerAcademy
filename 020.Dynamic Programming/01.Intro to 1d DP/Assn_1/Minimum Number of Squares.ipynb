{
 "cells": [
  {
   "cell_type": "code",
   "execution_count": null,
   "metadata": {},
   "outputs": [],
   "source": [
    "Minimum Number of Squares\n",
    "Problem Description\n",
    "\n",
    "Given an integer A. Return minimum count of numbers, sum of whose squares is equal to A.\n",
    "\n",
    "\n",
    "\n",
    "Problem Constraints\n",
    "1 <= A <= 105\n",
    "\n",
    "\n",
    "\n",
    "Input Format\n",
    "First and only argument is an inetegr A.\n",
    "\n",
    "\n",
    "\n",
    "Output Format\n",
    "Return an integer denoting the minimum count.\n",
    "\n",
    "\n",
    "\n",
    "Example Input\n",
    "Input 1:\n",
    "\n",
    " A = 6\n",
    "Input 2:\n",
    "\n",
    " A = 5\n",
    "\n",
    "\n",
    "Example Output\n",
    "Output 1:\n",
    "\n",
    " 3\n",
    "Output 2:\n",
    "\n",
    " 2\n",
    "\n",
    "\n",
    "Example Explanation\n",
    "Explanation 1:\n",
    "\n",
    " Possible combinations are : (12 + 12 + 12 + 12 + 12 + 12) and (12 + 12 + 22).\n",
    " Minimum count of numbers, sum of whose squares is 6 is 3. \n",
    "Explanation 2:\n",
    "\n",
    " We can represent 5 using only 2 numbers i.e. 12 + 22 = 5"
   ]
  },
  {
   "cell_type": "code",
   "execution_count": 1,
   "metadata": {},
   "outputs": [
    {
     "name": "stdout",
     "output_type": "stream",
     "text": [
      "[-1, -1, -1, -1, -1]\n"
     ]
    }
   ],
   "source": [
    "class Solution:\n",
    "\t# @param A : integer\n",
    "\t# @return an integer\n",
    "    def countMinSquares(self, n):\n",
    "        dp = [0,1,2,3]\n",
    "        for i in range(4, n+1):\n",
    "            dp.append(i)\n",
    "            x = 1\n",
    "            while x * x <= i:\n",
    "                dp[i] = min(dp[i], 1 + dp[i-x*x])\n",
    "                x += 1\n",
    "        return dp[n]"
   ]
  }
 ],
 "metadata": {
  "kernelspec": {
   "display_name": "Python 3",
   "language": "python",
   "name": "python3"
  },
  "language_info": {
   "codemirror_mode": {
    "name": "ipython",
    "version": 3
   },
   "file_extension": ".py",
   "mimetype": "text/x-python",
   "name": "python",
   "nbconvert_exporter": "python",
   "pygments_lexer": "ipython3",
   "version": "3.7.3"
  }
 },
 "nbformat": 4,
 "nbformat_minor": 2
}
