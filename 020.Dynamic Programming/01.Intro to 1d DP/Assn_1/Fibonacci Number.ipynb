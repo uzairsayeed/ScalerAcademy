{
 "cells": [
  {
   "cell_type": "code",
   "execution_count": null,
   "metadata": {},
   "outputs": [],
   "source": [
    "Fibonacci Number\n",
    "Problem Description\n",
    "\n",
    "Given a positive integer A, write a program to find the Ath Fibonacci number.\n",
    "\n",
    "In a Fibonacci series, each term is the sum of the previous two terms and the first two terms of the series are 0 and 1. i.e. f(0) = 0 and f(1) = 1. Hence, f(2) = 1, f(3) = 2, f(4) = 3 and so on.\n",
    "\n",
    "NOTE: 0th term is 0. 1th term is 1 and so on.\n",
    "\n",
    "\n",
    "\n",
    "Problem Constraints\n",
    "0 <= A <= 44\n",
    "\n",
    "\n",
    "\n",
    "Input Format\n",
    "First and only argument is an integer A.\n",
    "\n",
    "\n",
    "\n",
    "Output Format\n",
    "Return an integer denoting the Ath Fibonacci number.\n",
    "\n",
    "\n",
    "\n",
    "Example Input\n",
    "Input 1:\n",
    "\n",
    " A = 4\n",
    "Input 2:\n",
    "\n",
    " A = 6\n",
    "\n",
    "\n",
    "Example Output\n",
    "Output 1:\n",
    "\n",
    " 3\n",
    "Output 2:\n",
    "\n",
    " 8\n",
    "\n",
    "\n",
    "Example Explanation\n",
    "Explanation 1:\n",
    "\n",
    " Terms of Fibonacci series are: 0, 1, 1, 2, 3, 5, 8, 13, 21 and so on.\n",
    " 0th term is 0 So, 4th term of Fibonacci series is 3. \n",
    "Explanation 2:\n",
    "\n",
    " 6th term of Fibonacci series is 8."
   ]
  },
  {
   "cell_type": "code",
   "execution_count": 5,
   "metadata": {},
   "outputs": [
    {
     "name": "stdout",
     "output_type": "stream",
     "text": [
      "22\n",
      "17711\n"
     ]
    }
   ],
   "source": [
    "def main():\n",
    "    # YOUR CODE GOES HERE\n",
    "    # Please take input and print output to standard input/output (stdin/stdout)\n",
    "    # E.g. 'input()/raw_input()' for input & 'print' for output\n",
    "    n = int(input())\n",
    "    if n < 2:\n",
    "        print(n)\n",
    "    else:\n",
    "        p1, p2 = 0, 1\n",
    "        for i in range(2, n+1):\n",
    "            curr = p1 + p2\n",
    "            p1 = p2\n",
    "            p2 = curr\n",
    "            #print(p1,p2,curr)\n",
    "        print(p2)\n",
    "\n",
    "if __name__ == '__main__':\n",
    "    main()"
   ]
  }
 ],
 "metadata": {
  "kernelspec": {
   "display_name": "Python 3",
   "language": "python",
   "name": "python3"
  },
  "language_info": {
   "codemirror_mode": {
    "name": "ipython",
    "version": 3
   },
   "file_extension": ".py",
   "mimetype": "text/x-python",
   "name": "python",
   "nbconvert_exporter": "python",
   "pygments_lexer": "ipython3",
   "version": "3.7.3"
  }
 },
 "nbformat": 4,
 "nbformat_minor": 2
}
