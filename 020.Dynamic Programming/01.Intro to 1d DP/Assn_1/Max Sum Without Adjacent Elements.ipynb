{
 "cells": [
  {
   "cell_type": "markdown",
   "metadata": {},
   "source": [
    "## Max Sum Without Adjacent Elements\n",
    "Problem Description\n",
    "\n",
    "Given a 2 x N grid of integer, A, choose numbers such that the sum of the numbers is maximum and no two chosen numbers are adjacent horizontally, vertically or diagonally, and return it.\n",
    "### Note: \n",
    "You can choose more than 2 numbers.\n",
    "### Problem Constraints\n",
    "1 <= N <= 20000\n",
    "\n",
    "1 <= A[i] <= 2000\n",
    "### Input Format\n",
    "The first and the only argument of input contains a 2d matrix, A.\n",
    "### Output Format\n",
    "Return an integer, representing the maximum possible sum.\n",
    "## Example Input\n",
    "### Input 1:\n",
    " A = [   \n",
    "        \n",
    "        [1]\n",
    "        \n",
    "        [2]    \n",
    "     \n",
    "     ]\n",
    "### Input 2:\n",
    " A = [   \n",
    "        \n",
    "        [1, 2, 3, 4]\n",
    "        \n",
    "        [2, 3, 4, 5]    \n",
    "     \n",
    "     ]\n",
    "## Example Output\n",
    "### Output 1:\n",
    " 2\n",
    "### Output 2:\n",
    " 8\n",
    "## Example Explanation\n",
    "### Explanation 1:\n",
    " We will choose 2.\n",
    "### Explanation 2:\n",
    " We will choose 3 and 5."
   ]
  },
  {
   "cell_type": "code",
   "execution_count": null,
   "metadata": {},
   "outputs": [],
   "source": [
    "class Solution:\n",
    "\t# @param A : list of list of integers\n",
    "\t# @return an integer\n",
    "    def adjacent(self, A):\n",
    "        r = len(A)\n",
    "        c = len(A[0])\n",
    "        a = []\n",
    "        for i in range(c):\n",
    "            curr_max = A[0][i]\n",
    "            for j in range(r):\n",
    "                curr_max = max(A[j][i], curr_max)\n",
    "            a.append(curr_max)\n",
    "        #print(a)\n",
    "        return self.helper(a)\n",
    "    def helper(self, a):\n",
    "        n = len(a)\n",
    "        if n == 0:\n",
    "            return 0\n",
    "        if n == 1:\n",
    "            return a[0]\n",
    "        if n == 2:\n",
    "            return max(a[0], a[1])\n",
    "        dp = [-1] * n\n",
    "        dp[0], dp[1] = a[0], max(a[0],a[1])         \n",
    "        for i in range(2, n):\n",
    "            dp[i] = max((a[i]+dp[i-2]), dp[i-1])\n",
    "            #print(a[i],dp[i-2],dp[i-1],dp[i])\n",
    "        return max(dp)\n",
    "\n"
   ]
  }
 ],
 "metadata": {
  "kernelspec": {
   "display_name": "Python 3",
   "language": "python",
   "name": "python3"
  },
  "language_info": {
   "codemirror_mode": {
    "name": "ipython",
    "version": 3
   },
   "file_extension": ".py",
   "mimetype": "text/x-python",
   "name": "python",
   "nbconvert_exporter": "python",
   "pygments_lexer": "ipython3",
   "version": "3.7.3"
  }
 },
 "nbformat": 4,
 "nbformat_minor": 2
}
