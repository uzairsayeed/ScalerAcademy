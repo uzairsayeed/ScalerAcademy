{
 "cells": [
  {
   "cell_type": "markdown",
   "metadata": {},
   "source": [
    "## Subsets II:\n",
    "Problem Description\n",
    "\n",
    "Given a collection of integers denoted by array A of size N that might contain duplicates, return all possible subsets. \n",
    "### NOTE:  \n",
    "Elements in a subset must be in non-descending order.\n",
    "\n",
    "The solution set must not contain duplicate subsets.\n",
    "\n",
    "The subsets must be sorted lexicographically.\n",
    "    \n",
    "### Problem Constraints\n",
    "0 <= N <= 16\n",
    "\n",
    "### Input Format\n",
    "Only argument is an integer array A of size N.\n",
    "\n",
    "### Output Format\n",
    "Return a 2-D vector denoting all the possible subsets.\n",
    "\n",
    "## Example Input\n",
    "### Input 1:\n",
    " A = [1, 2, 2]\n",
    "\n",
    "### Input 2:\n",
    " A = [1, 1]\n",
    "\n",
    "## Example Output\n",
    "### Output 1:\n",
    " [\n",
    "    [],\n",
    "    \n",
    "    [1],\n",
    "    \n",
    "    [1, 2],\n",
    "    \n",
    "    [1, 2, 2],\n",
    "    \n",
    "    [2],\n",
    "    \n",
    "    [2, 2]\n",
    " ]\n",
    "\n",
    "### Output 2:\n",
    " [\n",
    "    [],\n",
    "    \n",
    "    [1],\n",
    "    \n",
    "    [1, 1]\n",
    " ]\n",
    "\n",
    "## Example Explanation\n",
    "### Explanation 1:\n",
    "All the subsets of the array [1, 2, 2] in lexicographically sorted order.\n"
   ]
  },
  {
   "cell_type": "code",
   "execution_count": 4,
   "metadata": {},
   "outputs": [
    {
     "name": "stdout",
     "output_type": "stream",
     "text": [
      "[[], [1], [1, 2], [1, 2, 2], [2], [2, 2]]\n"
     ]
    }
   ],
   "source": [
    "class Solution:\n",
    "    def subsetsWithDup(self, a):\n",
    "        a.sort()\n",
    "        return self.subsetsHelper(a, 0, [], [])\n",
    "    def subsetsHelper(self, a, i, prefix, res):\n",
    "        res.append(prefix)\n",
    "        for x in range(i, len(a)):\n",
    "            if x > i and a[x] == a[x-1]:\n",
    "                continue\n",
    "            self.subsetsHelper(a, x+1, prefix+[a[x]], res)\n",
    "        return res   \n",
    "    \n",
    "o = Solution()\n",
    "print(o.subsetsWithDup([ 1,2,2]))"
   ]
  },
  {
   "cell_type": "code",
   "execution_count": 1,
   "metadata": {},
   "outputs": [
    {
     "name": "stdout",
     "output_type": "stream",
     "text": [
      "[[0, 0, 0], [0, 0, 0]]\n"
     ]
    }
   ],
   "source": [
    "m, n = 2, 3\n",
    "dp = [[0 for v in range(n)] for v in range(m)]\n",
    "print(dp)"
   ]
  }
 ],
 "metadata": {
  "kernelspec": {
   "display_name": "Python 3",
   "language": "python",
   "name": "python3"
  },
  "language_info": {
   "codemirror_mode": {
    "name": "ipython",
    "version": 3
   },
   "file_extension": ".py",
   "mimetype": "text/x-python",
   "name": "python",
   "nbconvert_exporter": "python",
   "pygments_lexer": "ipython3",
   "version": "3.7.3"
  }
 },
 "nbformat": 4,
 "nbformat_minor": 2
}
