{
 "cells": [
  {
   "cell_type": "code",
   "execution_count": null,
   "metadata": {},
   "outputs": [],
   "source": [
    "class Solution:\n",
    "    def maxDotProduct(self, a, b)\n",
    "            m, n = len(a), len(b)\n",
    "            dp = [[0 for v in range(n)] for v in range(m)]\n",
    "            # For 1st row\n",
    "            for j in range(n):\n",
    "                if j == 0:\n",
    "                    dp[0][j] = a[0] * b[0]\n",
    "                else:\n",
    "                    dp[0][j] = max(a[0]*b[j], dp[0][j-1])\n",
    "            # For 1st col\n",
    "            for i in range(1, m):\n",
    "                dp[i][0] = max(dp[i-1][0], a[i]*b[0])\n",
    "            for i in range(1, m):\n",
    "                for j in range(1, n):\n",
    "                    dp[i][j] = max((a[i]*b[j]+dp[i-1][j-1]), dp[i-1][j], dp[i][j-1], dp[i-1][j-1], a[i]*b[j]  )\n",
    "            return dp[-1][-1]"
   ]
  }
 ],
 "metadata": {
  "kernelspec": {
   "display_name": "Python 3",
   "language": "python",
   "name": "python3"
  },
  "language_info": {
   "codemirror_mode": {
    "name": "ipython",
    "version": 3
   },
   "file_extension": ".py",
   "mimetype": "text/x-python",
   "name": "python",
   "nbconvert_exporter": "python",
   "pygments_lexer": "ipython3",
   "version": "3.7.3"
  }
 },
 "nbformat": 4,
 "nbformat_minor": 2
}
