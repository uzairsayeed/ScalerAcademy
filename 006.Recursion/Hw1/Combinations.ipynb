{
 "cells": [
  {
   "cell_type": "markdown",
   "metadata": {},
   "source": [
    "## Combinations:\n",
    "Problem Description\n",
    "\n",
    "Given two integers A and B, return all possible combinations of B numbers out of 1 2 3 ... A . Make sure the combinations are sorted. To elaborate,\n",
    "\n",
    "Within every entry, elements should be sorted. [1, 4] is a valid entry while [4, 1] is not.\n",
    "\n",
    "Entries should be sorted within themselves.\n",
    "\n",
    "### WARNING:\n",
    "DO NOT USE LIBRARY FUNCTION FOR GENERATING COMBINATIONS.    \n",
    "\n",
    "### Problem Constraints\n",
    "1 <= A, B <= 10\n",
    "\n",
    "### Input Format\n",
    "First argument is an integer A.\n",
    "\n",
    "Second argument is an integer B.\n",
    "\n",
    "### Output Format\n",
    "Return a 2-D vector denoting all possible combinations.\n",
    "\n",
    "## Example Input\n",
    "### Input 1:\n",
    " A = 4\n",
    " \n",
    " B = 2\n",
    " \n",
    "### Input 2:\n",
    " A = 3\n",
    " \n",
    " B = 2\n",
    "\n",
    "## Example Output\n",
    "### Output 1:\n",
    " [\n",
    "  \n",
    "  [1, 2],\n",
    "  \n",
    "  [1, 3],\n",
    "  \n",
    "  [1, 4],\n",
    "  \n",
    "  [2, 3],\n",
    "  \n",
    "  [2, 4],\n",
    "  \n",
    "  [3, 4],\n",
    " \n",
    " ]\n",
    "\n",
    "### Output 2:\n",
    " [\n",
    "  \n",
    "  [1, 2],\n",
    "  \n",
    "  [1, 3],\n",
    "  \n",
    "  [2, 3]\n",
    " \n",
    " ] \n",
    "\n",
    "## Example Explanation\n",
    "### Explanation 1:\n",
    "All the possible combinations of size 2 in sorted order.\n"
   ]
  },
  {
   "cell_type": "code",
   "execution_count": 16,
   "metadata": {},
   "outputs": [
    {
     "name": "stdout",
     "output_type": "stream",
     "text": [
      "None\n"
     ]
    }
   ],
   "source": [
    "class Solution:\n",
    "    # @param A : integer\n",
    "    # @param B : integer\n",
    "    # @return a list of list of integers\n",
    "    def combine(self, n, k):\n",
    "        res = []\n",
    "        return self.dfs(range(1,n+1), k, 0, [], res)\n",
    "        return res\n",
    "\n",
    "    def dfs(self, nums, k, index, path, res):\n",
    "        ##print(nums, k, index, path ,res)\n",
    "        if k == 0:\n",
    "            #print(path)\n",
    "            res.append(path)\n",
    "            return\n",
    "        for i in range(index, len(nums)):\n",
    "            #print('yess', index)\n",
    "            self.dfs(nums, k-1, i+1, path+[nums[i]], res)\n",
    "            \n",
    "o = Solution()\n",
    "print(o.combine(4,2))\n"
   ]
  },
  {
   "cell_type": "code",
   "execution_count": 4,
   "metadata": {},
   "outputs": [
    {
     "name": "stdout",
     "output_type": "stream",
     "text": [
      "[[], [], [], [], [], []]\n"
     ]
    }
   ],
   "source": [
    "class Solution:\n",
    "    # @param A : integer\n",
    "    # @param B : integer\n",
    "    # @return a list of list of integers\n",
    "    def combine(self, n, k):\n",
    "        return self.helper(range(1, n+1), k, 0, [], [])\n",
    "\n",
    "    def helper(self, a, k, s, prefix, res):\n",
    "        #print(nums, k, index, path ,res)\n",
    "        if len(prefix) == k:\n",
    "            res.append(prefix)\n",
    "            return\n",
    "        for i in range(s, len(a)):\n",
    "            #print('yess', index)\n",
    "            prefix.append(a[i])\n",
    "            self.helper(a, k, i+1, prefix, res)\n",
    "            prefix.pop()\n",
    "        return res\n",
    "            \n",
    "o = Solution()\n",
    "print(o.combine(4,2))\n"
   ]
  }
 ],
 "metadata": {
  "kernelspec": {
   "display_name": "Python 3",
   "language": "python",
   "name": "python3"
  },
  "language_info": {
   "codemirror_mode": {
    "name": "ipython",
    "version": 3
   },
   "file_extension": ".py",
   "mimetype": "text/x-python",
   "name": "python",
   "nbconvert_exporter": "python",
   "pygments_lexer": "ipython3",
   "version": "3.7.3"
  }
 },
 "nbformat": 4,
 "nbformat_minor": 2
}
