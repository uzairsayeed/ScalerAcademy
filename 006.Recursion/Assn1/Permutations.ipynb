{
 "cells": [
  {
   "cell_type": "markdown",
   "metadata": {},
   "source": [
    "## Permutations:\n",
    "Problem Description\n",
    "\n",
    "Given an integer array A of size N denoting collection of numbers , return all possible permutations. \n",
    "\n",
    "### NOTE:   \n",
    "No two entries in the permutation sequence should be the same.\n",
    "\n",
    "For the purpose of this problem, assume that all the numbers in the collection are unique.\n",
    "\n",
    "### WARNING: \n",
    "DO NOT USE LIBRARY FUNCTION FOR GENERATING PERMUTATIONS.\n",
    "\n",
    "Example : next_permutations in C++ / itertools.permutations in python.\n",
    "If you do, we will disqualify your submission retroactively and give you penalty points.\n",
    "   \n",
    "### Problem Constraints\n",
    "1 <= N <= 9\n",
    "\n",
    "### Input Format\n",
    "Only argument is an integer array A of size N.\n",
    "\n",
    "### Output Format\n",
    "Return a 2-D array denoting all possible permutation of the array.\n",
    "\n",
    "### Example Input\n",
    "A = [1, 2, 3]\n",
    "\n",
    "### Example Output\n",
    "[ \n",
    "  [1, 2, 3]\n",
    "  \n",
    "  [1, 3, 2]\n",
    "  \n",
    "  [2, 1, 3] \n",
    "  \n",
    "  [2, 3, 1] \n",
    "  \n",
    "  [3, 1, 2] \n",
    "  \n",
    "  [3, 2, 1] ]\n",
    "\n",
    "### Example Explanation\n",
    "All the possible permutation of array [1, 2, 3].\n",
    "\n"
   ]
  },
  {
   "cell_type": "code",
   "execution_count": 78,
   "metadata": {},
   "outputs": [
    {
     "name": "stdout",
     "output_type": "stream",
     "text": [
      "0 [] [1, 2, 3] []\n",
      "0 [1] [2, 3] []\n",
      "0 [1, 2] [3] []\n",
      "noo [1, 2, 3]\n",
      "yess [3] [[1, 2, 3]]\n",
      "1 [1] [2, 3] [[1, 2, 3]]\n",
      "0 [1, 3] [2] [[1, 2, 3]]\n",
      "noo [1, 3, 2]\n",
      "yess [2] [[1, 2, 3], [1, 3, 2]]\n",
      "yess [2, 3] [[1, 2, 3], [1, 3, 2]]\n",
      "1 [] [1, 2, 3] [[1, 2, 3], [1, 3, 2]]\n",
      "0 [2] [1, 3] [[1, 2, 3], [1, 3, 2]]\n",
      "0 [2, 1] [3] [[1, 2, 3], [1, 3, 2]]\n",
      "noo [2, 1, 3]\n",
      "yess [3] [[1, 2, 3], [1, 3, 2], [2, 1, 3]]\n",
      "1 [2] [1, 3] [[1, 2, 3], [1, 3, 2], [2, 1, 3]]\n",
      "0 [2, 3] [1] [[1, 2, 3], [1, 3, 2], [2, 1, 3]]\n",
      "noo [2, 3, 1]\n",
      "yess [1] [[1, 2, 3], [1, 3, 2], [2, 1, 3], [2, 3, 1]]\n",
      "yess [1, 3] [[1, 2, 3], [1, 3, 2], [2, 1, 3], [2, 3, 1]]\n",
      "2 [] [1, 2, 3] [[1, 2, 3], [1, 3, 2], [2, 1, 3], [2, 3, 1]]\n",
      "0 [3] [1, 2] [[1, 2, 3], [1, 3, 2], [2, 1, 3], [2, 3, 1]]\n",
      "0 [3, 1] [2] [[1, 2, 3], [1, 3, 2], [2, 1, 3], [2, 3, 1]]\n",
      "noo [3, 1, 2]\n",
      "yess [2] [[1, 2, 3], [1, 3, 2], [2, 1, 3], [2, 3, 1], [3, 1, 2]]\n",
      "1 [3] [1, 2] [[1, 2, 3], [1, 3, 2], [2, 1, 3], [2, 3, 1], [3, 1, 2]]\n",
      "0 [3, 2] [1] [[1, 2, 3], [1, 3, 2], [2, 1, 3], [2, 3, 1], [3, 1, 2]]\n",
      "noo [3, 2, 1]\n",
      "yess [1] [[1, 2, 3], [1, 3, 2], [2, 1, 3], [2, 3, 1], [3, 1, 2], [3, 2, 1]]\n",
      "yess [1, 2] [[1, 2, 3], [1, 3, 2], [2, 1, 3], [2, 3, 1], [3, 1, 2], [3, 2, 1]]\n",
      "yess [1, 2, 3] [[1, 2, 3], [1, 3, 2], [2, 1, 3], [2, 3, 1], [3, 1, 2], [3, 2, 1]]\n",
      "[[1, 2, 3], [1, 3, 2], [2, 1, 3], [2, 3, 1], [3, 1, 2], [3, 2, 1]]\n"
     ]
    }
   ],
   "source": [
    "class Solution:\n",
    "    # @param A : list of integers\n",
    "    # @return a list of list of integers\n",
    "    def permute(self, a):\n",
    "        return self.permuteHelper(a, [], [])\n",
    "    \n",
    "    def permuteHelper(self, a, prefix, res):\n",
    "        if len(a) == 0:\n",
    "             print('noo', prefix)\n",
    "             res.append(prefix)\n",
    "             return res\n",
    "        for i in range(len(a)):\n",
    "            curr = [a[i]]\n",
    "            rem = a[:i] + a[i+1:]\n",
    "            print(i, prefix, a, res)\n",
    "            self.permuteHelper(rem, prefix+curr, res)\n",
    "        print('yess',a, res)\n",
    "        return res\n",
    "        \n",
    "o = Solution()\n",
    "print(o.permute([1,2,3]))\n"
   ]
  },
  {
   "cell_type": "code",
   "execution_count": 3,
   "metadata": {},
   "outputs": [
    {
     "name": "stdout",
     "output_type": "stream",
     "text": [
      "[1, 2, 3]\n",
      "[1, 3, 2]\n",
      "[2, 1, 3]\n",
      "[2, 3, 1]\n",
      "[3, 1, 2]\n",
      "[3, 2, 1]\n"
     ]
    }
   ],
   "source": [
    "def perm(a, prefix):\n",
    "    if len(a) == 0:\n",
    "        print(prefix)\n",
    "        return\n",
    "    for i in range(len(a)):\n",
    "        perm(a[:i]+a[i+1:], prefix+[a[i]])\n",
    "\n",
    "perm([1,2,3], [])"
   ]
  }
 ],
 "metadata": {
  "kernelspec": {
   "display_name": "Python 3",
   "language": "python",
   "name": "python3"
  },
  "language_info": {
   "codemirror_mode": {
    "name": "ipython",
    "version": 3
   },
   "file_extension": ".py",
   "mimetype": "text/x-python",
   "name": "python",
   "nbconvert_exporter": "python",
   "pygments_lexer": "ipython3",
   "version": "3.7.3"
  }
 },
 "nbformat": 4,
 "nbformat_minor": 2
}
