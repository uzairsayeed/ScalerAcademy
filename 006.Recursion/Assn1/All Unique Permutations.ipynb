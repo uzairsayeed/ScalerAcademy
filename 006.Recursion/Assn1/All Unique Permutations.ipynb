{
 "cells": [
  {
   "cell_type": "markdown",
   "metadata": {},
   "source": [
    "## All Unique Permutations:\n",
    "Problem Description\n",
    "\n",
    "Given an array A of size N denoting collection of numbers that might contain duplicates, return all possible unique permutations. \n",
    "\n",
    "### NOTE: No 2 entries in the permutation sequence should be the same.\n",
    "\n",
    "### WARNING: \n",
    "DO NOT USE LIBRARY FUNCTION FOR GENERATING PERMUTATIONS. \n",
    "\n",
    "Example : next_permutations in C++ / itertools.permutations in python.\n",
    "\n",
    "If you do, we will disqualify your submission retroactively and give you penalty points.\n",
    " \n",
    "### Problem Constraints\n",
    "1 <= N <= 9\n",
    "\n",
    "### Input Format\n",
    "Only argument is an integer array A of size N.\n",
    "\n",
    "### Output Format\n",
    "Return a 2-D array denoting all possible unique permutation of the array.\n",
    "\n",
    "### Example Input\n",
    "A = [1, 1, 2]\n",
    "\n",
    "### Example Output\n",
    "[ \n",
    "  [1,1,2]\n",
    "  \n",
    "  [1,2,1]\n",
    "  \n",
    "  [2,1,1]\n",
    "]\n",
    "\n",
    "### Example Explanation\n",
    "All the possible unique permutation of array [1, 1, 2].\n"
   ]
  },
  {
   "cell_type": "code",
   "execution_count": 82,
   "metadata": {},
   "outputs": [
    {
     "name": "stdout",
     "output_type": "stream",
     "text": [
      "[[9, 9, 10, 10, 10], [9, 10, 9, 10, 10], [9, 10, 10, 9, 10], [9, 10, 10, 10, 9], [10, 9, 9, 10, 10], [10, 9, 10, 9, 10], [10, 9, 10, 10, 9], [10, 10, 9, 9, 10], [10, 10, 9, 10, 9], [10, 10, 10, 9, 9]]\n"
     ]
    }
   ],
   "source": [
    "class Solution:\n",
    "    # @param A : list of integers\n",
    "    # @return a list of list of integers\n",
    "    def permute(self, a):\n",
    "        a.sort()\n",
    "        return self.permuteHelper(a, [], [])\n",
    "    \n",
    "    def permuteHelper(self, a, prefix, res):\n",
    "        if len(a) == 0:\n",
    "             #print('noo', prefix)\n",
    "             res.append(prefix)\n",
    "             return res\n",
    "        for i in range(len(a)):\n",
    "            if i>0 and a[i] == a[i-1]:\n",
    "                #print('WWWWWWWw',i, a[i], a[i-1])\n",
    "                continue\n",
    "            curr = [a[i]]\n",
    "            rem = a[:i] + a[i+1:]\n",
    "            #print(i, prefix, a, res)\n",
    "            self.permuteHelper(rem, prefix+curr, res)\n",
    "        #print('yess',a, res)\n",
    "        return res\n",
    "        \n",
    "o = Solution()\n",
    "print(o.permute([10,9,10,9,10]))\n"
   ]
  },
  {
   "cell_type": "code",
   "execution_count": 8,
   "metadata": {},
   "outputs": [
    {
     "name": "stdout",
     "output_type": "stream",
     "text": [
      "[[1, 2, 2, 10, 10], [1, 2, 10, 2, 10], [1, 2, 10, 10, 2], [1, 10, 2, 2, 10], [1, 10, 2, 10, 2], [1, 10, 10, 2, 2], [2, 1, 2, 10, 10], [2, 1, 10, 2, 10], [2, 1, 10, 10, 2], [2, 2, 1, 10, 10], [2, 2, 10, 1, 10], [2, 2, 10, 10, 1], [2, 10, 1, 2, 10], [2, 10, 1, 10, 2], [2, 10, 2, 1, 10], [2, 10, 2, 10, 1], [2, 10, 10, 1, 2], [2, 10, 10, 2, 1], [10, 1, 2, 2, 10], [10, 1, 2, 10, 2], [10, 1, 10, 2, 2], [10, 2, 1, 2, 10], [10, 2, 1, 10, 2], [10, 2, 2, 1, 10], [10, 2, 2, 10, 1], [10, 2, 10, 1, 2], [10, 2, 10, 2, 1], [10, 10, 1, 2, 2], [10, 10, 2, 1, 2], [10, 10, 2, 2, 1]]\n"
     ]
    }
   ],
   "source": [
    "class Solution:\n",
    "    def permute(self, a):\n",
    "        cnt = [0 for i in range(max(a)+1)]\n",
    "        for i in a:\n",
    "            cnt[i] += 1\n",
    "        #print(cnt)\n",
    "        return self.permutehelper(cnt, [], [])  \n",
    "    def permutehelper(self,cnt, prefix, res):\n",
    "        if max(cnt) == 0:                        \n",
    "            res.append(prefix)\n",
    "            return\n",
    "        for i in range(len(cnt)):  \n",
    "            if cnt[i] == 0:\n",
    "                continue\n",
    "            cnt[i] -= 1 \n",
    "            self.permutehelper(cnt, prefix + [i], res)\n",
    "            cnt[i] += 1\n",
    "        return res\n",
    "o = Solution()\n",
    "print(o.permute([1,2,2,10,10]))\n"
   ]
  }
 ],
 "metadata": {
  "kernelspec": {
   "display_name": "Python 3",
   "language": "python",
   "name": "python3"
  },
  "language_info": {
   "codemirror_mode": {
    "name": "ipython",
    "version": 3
   },
   "file_extension": ".py",
   "mimetype": "text/x-python",
   "name": "python",
   "nbconvert_exporter": "python",
   "pygments_lexer": "ipython3",
   "version": "3.7.3"
  }
 },
 "nbformat": 4,
 "nbformat_minor": 2
}
