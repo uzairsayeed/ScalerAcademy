{
 "cells": [
  {
   "cell_type": "markdown",
   "metadata": {},
   "source": [
    "## Permutations:\n",
    "Problem Description\n",
    "\n",
    "You are given two strings A and B of size N and M respectively.\n",
    "\n",
    "You have to find the count of all permutations of A present in B as a substring. You can assume a string will have only lowercase letters.\n",
    "\n",
    "### Problem Constraints\n",
    "1 <= N < M <= 105\n",
    "\n",
    "### Input Format\n",
    "Given two argument, A and B of type String.\n",
    "\n",
    "### Output Format\n",
    "Return a single Integer, i.e number of permutations of A present in B as a substring.\n",
    "\n",
    "## Example Input\n",
    "### Input 1:\n",
    " A = \"abc\"\n",
    " \n",
    " B = \"abcbacabc\"\n",
    "### Input 2:\n",
    " A = \"aca\"\n",
    " \n",
    " B = \"acaa\"\n",
    "## Example Output\n",
    "### Output 1:\n",
    " 5\n",
    "### Output 2:\n",
    " 2\n",
    "## Example Explanation\n",
    "### Explanation 1:\n",
    " Permutations of A that are present in B as substring are:\n",
    "    \n",
    "    1. abc\n",
    "    \n",
    "    2. cba\n",
    "    \n",
    "    3. bac\n",
    "    \n",
    "    4. cab\n",
    "    \n",
    "    5. abc\n",
    "    \n",
    "    So ans is 5.\n",
    "### Explanation 2:\n",
    " Permutations of A that are present in B as substring are:\n",
    "    \n",
    "    1. aca\n",
    "    \n",
    "    2. caa "
   ]
  },
  {
   "cell_type": "code",
   "execution_count": 107,
   "metadata": {},
   "outputs": [
    {
     "name": "stdout",
     "output_type": "stream",
     "text": [
      "2\n"
     ]
    }
   ],
   "source": [
    "from collections import Counter\n",
    "class Solution:\n",
    "    # @param A : string\n",
    "    # @param B : string\n",
    "    # @return an integer\n",
    "    def solve(self, a, b):\n",
    "        p, q = len(a), len(b)\n",
    "        if p == 0 or q == 0 or p > q:\n",
    "            return 0\n",
    "        cnt = 0\n",
    "        #print(p)\n",
    "        dA = Counter(a)\n",
    "        i, j = 0, 0\n",
    "        wnd = 0\n",
    "        cnt = 0\n",
    "        while j < q:\n",
    "            wnd +=1\n",
    "            if wnd == p:\n",
    "                wnd-=1\n",
    "                dB = Counter(b[i:j+1])\n",
    "                if dA == dB:\n",
    "                    cnt += 1\n",
    "                i+=1             \n",
    "            j+=1\n",
    "        return cnt\n",
    "        \n",
    "o = Solution()\n",
    "A = \"aca\"\n",
    "\n",
    "B = \"acaa\"\n",
    "\n",
    "print(o.solve(A,B))\n"
   ]
  },
  {
   "cell_type": "code",
   "execution_count": 92,
   "metadata": {},
   "outputs": [
    {
     "name": "stdout",
     "output_type": "stream",
     "text": [
      "123\n"
     ]
    }
   ],
   "source": [
    "a = [2,4,6,8]\n",
    "x = [12,43,66,2,8,4,6,76,45]\n",
    "d = Counter(a)\n",
    "b = Counter(x[3:7])\n",
    "if d==b:\n",
    "    print(123)"
   ]
  }
 ],
 "metadata": {
  "kernelspec": {
   "display_name": "Python 3",
   "language": "python",
   "name": "python3"
  },
  "language_info": {
   "codemirror_mode": {
    "name": "ipython",
    "version": 3
   },
   "file_extension": ".py",
   "mimetype": "text/x-python",
   "name": "python",
   "nbconvert_exporter": "python",
   "pygments_lexer": "ipython3",
   "version": "3.7.3"
  }
 },
 "nbformat": 4,
 "nbformat_minor": 2
}
