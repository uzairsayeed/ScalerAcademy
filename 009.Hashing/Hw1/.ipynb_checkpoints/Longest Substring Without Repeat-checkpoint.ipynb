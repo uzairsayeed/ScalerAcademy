{
 "cells": [
  {
   "cell_type": "markdown",
   "metadata": {},
   "source": [
    "## Longest Substring Without Repeat:\n",
    "Problem Description\n",
    "\n",
    "Given a string A, find the length of the longest substring without repeating characters.\n",
    "\n",
    "### Problem Constraints\n",
    "1 <= size(A) <= 106 String consists of lowerCase,upperCase characters and digits are also present in the string A.    \n",
    "\n",
    "### Input Format\n",
    "Single Argument representing string A.\n",
    "\n",
    "### Output Format\n",
    "Return an integer denoting the maximum possible length of substring without repeating characters.\n",
    "\n",
    "## Example Input\n",
    "### Input 1:\n",
    " A = \"abcabcbb\"\n",
    "### Input 2:\n",
    " A = \"AaaA\"\n",
    "\n",
    "## Example Output\n",
    "### Output 1:\n",
    " 3\n",
    "### Output 2:\n",
    " 2\n",
    "\n",
    "## Example Explanation\n",
    "### Explanation 1:\n",
    " Substring \"abc\" is the longest substring without repeating characters in string A.\n",
    "### Explanation 2:\n",
    " Substring \"Aa\" or \"aA\" is the longest substring without repeating characters in string A."
   ]
  },
  {
   "cell_type": "code",
   "execution_count": 28,
   "metadata": {},
   "outputs": [
    {
     "name": "stdout",
     "output_type": "stream",
     "text": [
      "2\n"
     ]
    }
   ],
   "source": [
    "class Solution:\n",
    "    # @param A : string\n",
    "    # @return an integer\n",
    "    def lengthOfLongestSubstring(self, a):\n",
    "        n = len(a)\n",
    "        d = {}\n",
    "        s = 0\n",
    "        max_len = 0\n",
    "        curr_len = 0\n",
    "        i = 0\n",
    "        while i < len(a):\n",
    "            if d.get(a[i], 0):\n",
    "                s = i - curr_len + 1\n",
    "                max_len = max(max_len, curr_len)\n",
    "                #print(i, s, max_len)\n",
    "                d.clear()\n",
    "                curr_len = 0\n",
    "                i = s\n",
    "                #print('yess', i)\n",
    "            d[a[i]] = 1\n",
    "            curr_len +=1\n",
    "            i+=1\n",
    "        max_len = max(max_len, curr_len)\n",
    "        return max_len\n",
    "\n",
    "o = Solution()\n",
    "A = \"AaaA\"\n",
    "print(o.lengthOfLongestSubstring(A))\n"
   ]
  },
  {
   "cell_type": "code",
   "execution_count": 32,
   "metadata": {},
   "outputs": [
    {
     "name": "stdout",
     "output_type": "stream",
     "text": [
      "4\n"
     ]
    }
   ],
   "source": [
    "class Solution:\n",
    "    def lengthOfLongestSubstring(self, s):\n",
    "        max_len = 0\n",
    "        d = dict()\n",
    "        i, j = 0, 0\n",
    "\n",
    "        while j < len(s):\n",
    "            if s[j] in d:\n",
    "                i = max(d[s[j]], i)\n",
    "            max_len = max(j - i + 1, max_len)\n",
    "            d[s[j]] = j + 1\n",
    "            j += 1\n",
    "        return max_len\n",
    "o = Solution()\n",
    "A = \"dadbc\"\n",
    "print(o.lengthOfLongestSubstring(A))\n"
   ]
  }
 ],
 "metadata": {
  "kernelspec": {
   "display_name": "Python 3",
   "language": "python",
   "name": "python3"
  },
  "language_info": {
   "codemirror_mode": {
    "name": "ipython",
    "version": 3
   },
   "file_extension": ".py",
   "mimetype": "text/x-python",
   "name": "python",
   "nbconvert_exporter": "python",
   "pygments_lexer": "ipython3",
   "version": "3.7.3"
  }
 },
 "nbformat": 4,
 "nbformat_minor": 2
}
