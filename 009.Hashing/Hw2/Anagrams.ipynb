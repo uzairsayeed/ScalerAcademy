{
 "cells": [
  {
   "cell_type": "markdown",
   "metadata": {},
   "source": [
    "## Anagrams:\n",
    "Problem Description\n",
    "\n",
    "Given an array A of N strings, return all groups of strings that are anagrams.\n",
    "\n",
    "Represent a group by a list of integers representing the index(1-based) in the original list. Look at the sample case for clarification.\n",
    "\n",
    "### NOTE:\n",
    "\n",
    "Anagram is a word, phrase, or name formed by rearranging the letters of another, such as 'spar', formed from 'rasp'.\n",
    "### Problem Constraints\n",
    "1 <= N <= 104\n",
    "\n",
    "1 <= |A[i]| <= 104\n",
    "\n",
    "Each string consists only of lowercase characters.\n",
    "\n",
    "Sum of length of all the strings doesn't exceed 107\n",
    "### Input Format\n",
    "Single Argument A which is an array of strings.\n",
    "### Output Format\n",
    "Return a two-dimensional array where each row describes a group.\n",
    "### Note:\n",
    "Ordering of the result :\n",
    "\n",
    "You should not change the relative ordering of the strings within the group suppose within a group containing A[i] and A[j], A[i] comes before A[j] if i < j.\n",
    "\n",
    "## Example Input\n",
    "### Input 1:\n",
    " A = [cat, dog, god, tca]\n",
    "### Input 2:\n",
    " A = [rat, tar, art]\n",
    "## Example Output\n",
    "### Output 1:\n",
    " [ \n",
    "     [1, 4],\n",
    "     \n",
    "     [2, 3]\n",
    " ]\n",
    "### Output 2:\n",
    " [ [1, 2, 3] ]\n",
    "## Example Explanation\n",
    "### Explanation 1:\n",
    " \"cat\" and \"tca\" are anagrams which correspond to index 1 and 4 and \"dog\" and \"god\" are another set of anagrams which correspond to index 2 and 3.\n",
    "\n",
    "The indices are 1 based ( the first element has index 1 instead of index 0).\n",
    "### Explanation 2:\n",
    " All three strings are anagrams."
   ]
  },
  {
   "cell_type": "code",
   "execution_count": 10,
   "metadata": {},
   "outputs": [
    {
     "name": "stdout",
     "output_type": "stream",
     "text": [
      "{'a': 39, 'b': 58}\n",
      "frozenset({('a', 39), ('b', 58)})\n",
      "{'a': 52, 'b': 45}\n",
      "frozenset({('b', 45), ('a', 52)})\n",
      "{'b': 51, 'a': 46}\n",
      "frozenset({('a', 46), ('b', 51)})\n",
      "{'b': 42, 'a': 55}\n",
      "frozenset({('a', 55), ('b', 42)})\n",
      "{'a': 46, 'b': 51}\n",
      "frozenset({('a', 46), ('b', 51)})\n",
      "{'a': 42, 'b': 55}\n",
      "frozenset({('b', 55), ('a', 42)})\n",
      "{'a': 41, 'b': 56}\n",
      "frozenset({('b', 56), ('a', 41)})\n",
      "{'a': 54, 'b': 43}\n",
      "frozenset({('a', 54), ('b', 43)})\n",
      "[[1], [2], [3, 5], [4], [6], [7], [8]]\n"
     ]
    }
   ],
   "source": [
    "class Solution:\n",
    "\t# @param A : tuple of strings\n",
    "\t# @return a list of list of integers\n",
    "    def anagrams(self, str):\n",
    "        h = {}\n",
    "        index = 1\n",
    "        for s in str:\n",
    "            #print(s)\n",
    "            freq = self.freqMap(s)\n",
    "            print(freq)\n",
    "            temp = frozenset(freq.items())\n",
    "            print(temp)\n",
    "            curr = h.get(temp, None)\n",
    "            \n",
    "            if curr:\n",
    "                h[temp].append(index)\n",
    "            else:\n",
    "                h[temp] = [index]\n",
    "            index += 1\n",
    "        #print(h)\n",
    "        return list(h.values())\n",
    "        \n",
    "    def freqMap(self, word):\n",
    "        h = {}\n",
    "        for c in word:\n",
    "            h[c] = h.get(c, 0) + 1\n",
    "        #print(h)\n",
    "        return h\n",
    "o = Solution()\n",
    "A =[ \"abbbaabbbabbbbabababbbbbbbaabaaabbaaababbabbabbaababbbaaabbabaabbaabbabbbbbababbbababbbbaabababba\", \"abaaabbbabaaabbbbabaabbabaaaababbbbabbbaaaabaababbbbaaaabbbaaaabaabbaaabbaabaaabbabbaaaababbabbaa\", \"babbabbaaabbbbabaaaabaabaabbbabaabaaabbbbbbabbabababbbabaabaabbaabaabaabbaabbbabaabbbabaaaabbbbab\", \"bbbabaaabaaaaabaabaaaaaaabbabaaaabbababbabbabbaabbabaaabaabbbabbaabaabaabaaaabbabbabaaababbaababb\", \"abbbbbbbbbbbbabaabbbbabababaabaabbbababbabbabaaaabaabbabbaaabbaaaabbaabbbbbaaaabaaaaababababaabab\", \"aabbbbaaabbaabbbbabbbbbaabbababbbbababbbabaabbbbbbababaaaabbbabaabbbbabbbababbbaaabbabaaaabaaaaba\", \"abbaaababbbabbbbabababbbababbbaaaaabbbbbbaaaabbaaabbbbbbabbabbabbaabbbbaabaabbababbbaabbbaababbaa\", \"aabaaabaaaaaabbbbaabbabaaaabbaababaaabbabbaaaaababaaabaabbbabbababaabababbaabaababbaabbabbbaaabbb\" ]\n",
    "\n",
    "print(o.anagrams(A))"
   ]
  },
  {
   "cell_type": "code",
   "execution_count": 17,
   "metadata": {},
   "outputs": [
    {
     "name": "stdout",
     "output_type": "stream",
     "text": [
      "Counter({'b': 58, 'a': 39})\n",
      "frozenset({('a', 39), ('b', 58)})\n",
      "Counter({'a': 52, 'b': 45})\n",
      "frozenset({('b', 45), ('a', 52)})\n",
      "Counter({'b': 51, 'a': 46})\n",
      "frozenset({('a', 46), ('b', 51)})\n",
      "Counter({'a': 55, 'b': 42})\n",
      "frozenset({('a', 55), ('b', 42)})\n",
      "Counter({'b': 51, 'a': 46})\n",
      "frozenset({('a', 46), ('b', 51)})\n",
      "Counter({'b': 55, 'a': 42})\n",
      "frozenset({('b', 55), ('a', 42)})\n",
      "Counter({'b': 56, 'a': 41})\n",
      "frozenset({('b', 56), ('a', 41)})\n",
      "Counter({'a': 54, 'b': 43})\n",
      "frozenset({('a', 54), ('b', 43)})\n",
      "[[1], [2], [3, 5], [4], [6], [7], [8]]\n"
     ]
    }
   ],
   "source": [
    "from collections import Counter\n",
    "class Solution:\n",
    "\t# @param A : tuple of strings\n",
    "\t# @return a list of list of integers\n",
    "    def anagrams(self, str):\n",
    "        h = {}\n",
    "        index = 1\n",
    "        for s in str:\n",
    "            #print(s)\n",
    "            freq = Counter(s)\n",
    "            print(freq)\n",
    "            temp = frozenset(freq.items())\n",
    "            print(temp)\n",
    "            curr = h.get(temp, None)\n",
    "            \n",
    "            if curr:\n",
    "                h[temp].append(index)\n",
    "            else:\n",
    "                h[temp] = [index]\n",
    "            index += 1\n",
    "        #print(h)\n",
    "        return list(h.values())\n",
    "o = Solution()\n",
    "A =[ \"abbbaabbbabbbbabababbbbbbbaabaaabbaaababbabbabbaababbbaaabbabaabbaabbabbbbbababbbababbbbaabababba\", \"abaaabbbabaaabbbbabaabbabaaaababbbbabbbaaaabaababbbbaaaabbbaaaabaabbaaabbaabaaabbabbaaaababbabbaa\", \"babbabbaaabbbbabaaaabaabaabbbabaabaaabbbbbbabbabababbbabaabaabbaabaabaabbaabbbabaabbbabaaaabbbbab\", \"bbbabaaabaaaaabaabaaaaaaabbabaaaabbababbabbabbaabbabaaabaabbbabbaabaabaabaaaabbabbabaaababbaababb\", \"abbbbbbbbbbbbabaabbbbabababaabaabbbababbabbabaaaabaabbabbaaabbaaaabbaabbbbbaaaabaaaaababababaabab\", \"aabbbbaaabbaabbbbabbbbbaabbababbbbababbbabaabbbbbbababaaaabbbabaabbbbabbbababbbaaabbabaaaabaaaaba\", \"abbaaababbbabbbbabababbbababbbaaaaabbbbbbaaaabbaaabbbbbbabbabbabbaabbbbaabaabbababbbaabbbaababbaa\", \"aabaaabaaaaaabbbbaabbabaaaabbaababaaabbabbaaaaababaaabaabbbabbababaabababbaabaababbaabbabbbaaabbb\" ]\n",
    "\n",
    "print(o.anagrams(A))"
   ]
  },
  {
   "cell_type": "code",
   "execution_count": 13,
   "metadata": {},
   "outputs": [
    {
     "name": "stdout",
     "output_type": "stream",
     "text": [
      "frozenset({'a', 'b'})\n"
     ]
    }
   ],
   "source": [
    "from collections import Counter\n",
    "A =[ \"abbbaabbbabbbbabababbbbbbbaabaaabbaaababbabbabbaababbbaaabbabaabbaabbabbbbbababbbababbbbaabababba\", \"abaaabbbabaaabbbbabaabbabaaaababbbbabbbaaaabaababbbbaaaabbbaaaabaabbaaabbaabaaabbabbaaaababbabbaa\", \"babbabbaaabbbbabaaaabaabaabbbabaabaaabbbbbbabbabababbbabaabaabbaabaabaabbaabbbabaabbbabaaaabbbbab\", \"bbbabaaabaaaaabaabaaaaaaabbabaaaabbababbabbabbaabbabaaabaabbbabbaabaabaabaaaabbabbabaaababbaababb\", \"abbbbbbbbbbbbabaabbbbabababaabaabbbababbabbabaaaabaabbabbaaabbaaaabbaabbbbbaaaabaaaaababababaabab\", \"aabbbbaaabbaabbbbabbbbbaabbababbbbababbbabaabbbbbbababaaaabbbabaabbbbabbbababbbaaabbabaaaabaaaaba\", \"abbaaababbbabbbbabababbbababbbaaaaabbbbbbaaaabbaaabbbbbbabbabbabbaabbbbaabaabbababbbaabbbaababbaa\", \"aabaaabaaaaaabbbbaabbabaaaabbaababaaabbabbaaaaababaaabaabbbabbababaabababbaabaababbaabbabbbaaabbb\" ]\n",
    "a = frozenset(Counter(A[0]))\n",
    "print(a)"
   ]
  }
 ],
 "metadata": {
  "kernelspec": {
   "display_name": "Python 3",
   "language": "python",
   "name": "python3"
  },
  "language_info": {
   "codemirror_mode": {
    "name": "ipython",
    "version": 3
   },
   "file_extension": ".py",
   "mimetype": "text/x-python",
   "name": "python",
   "nbconvert_exporter": "python",
   "pygments_lexer": "ipython3",
   "version": "3.7.3"
  }
 },
 "nbformat": 4,
 "nbformat_minor": 2
}
