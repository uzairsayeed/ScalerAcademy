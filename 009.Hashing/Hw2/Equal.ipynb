{
 "cells": [
  {
   "cell_type": "markdown",
   "metadata": {},
   "source": [
    "## Equal:\n",
    "Problem Description\n",
    "\n",
    "Given an array A of N integers, find the index of values that satisfy P + Q = R + S, where P,Q,R & S are integers values in the array\n",
    "### NOTE:\n",
    "1) Return the indices `A1 B1 C1 D1`, so that \n",
    "  \n",
    "  A[A1] + A[B1] = A[C1] + A[D1]\n",
    "  \n",
    "  A1 < B1, C1 < D1\n",
    "  \n",
    "  A1 < C1, B1 != D1, B1 != C1 \n",
    "\n",
    "2) If there are more than one solutions, \n",
    "   \n",
    "   then return the tuple of values which are lexicographical smallest. \n",
    "\n",
    "Assume we have two solutions\n",
    "\n",
    "S1 : A1 B1 C1 D1 ( these are values of indices in the array )  \n",
    "\n",
    "S2 : A2 B2 C2 D2\n",
    "\n",
    "S1 is lexicographically smaller than S2 if:\n",
    "  \n",
    "  A1 < A2 OR\n",
    "  \n",
    "  A1 = A2 AND B1 < B2 OR\n",
    "  \n",
    "  A1 = A2 AND B1 = B2 AND C1 < C2 OR \n",
    "  \n",
    "  A1 = A2 AND B1 = B2 AND C1 = C2 AND D1 < D2\n",
    "### Problem Constraints\n",
    "1 <= N <= 1000\n",
    "\n",
    "0 <= A[i] <= 1000\n",
    "### Input Format\n",
    "Single argument which is an integer array A of size N.\n",
    "### Output Format\n",
    "Return an array of size 4 which indexes of values P,Q,R and S.\n",
    "## Example Input\n",
    "### Input 1:\n",
    " A = [3, 4, 7, 1, 2, 9, 8]\n",
    "### Input 2:\n",
    " A = [2, 5, 1, 6]\n",
    "## Example Output\n",
    "### Output 1:\n",
    " [0, 2, 3, 5]\n",
    "### Output 2:\n",
    " [0, 1, 2, 3]\n",
    "## Example Explanation\n",
    "### Explanation 1:\n",
    " A[0] + A[2] = A[3] + A[5]\n",
    "### Note: \n",
    " Indexes returned should be 0-based.\n",
    "### Explanation 2:\n",
    " A[0] + A[1] = A[2] + A[3]"
   ]
  },
  {
   "cell_type": "code",
   "execution_count": 2,
   "metadata": {},
   "outputs": [
    {
     "name": "stdout",
     "output_type": "stream",
     "text": [
      "2\n"
     ]
    }
   ],
   "source": [
    "from collections import defaultdict\n",
    "class Solution():\n",
    "    def solve(self, a, k):\n",
    "        d = defaultdict(int)\n",
    "        d[0] += 1\n",
    "        curr_sum, cnt = 0, 0\n",
    "        for x in a:\n",
    "            curr_sum += x\n",
    "            cnt += d[curr_sum - k]\n",
    "            d[curr_sum] += 1\n",
    "        return cnt\n",
    "    \n",
    "o = Solution()\n",
    "a = [1,1,1]\n",
    "print(o.solve(a, 2))"
   ]
  },
  {
   "cell_type": "code",
   "execution_count": 55,
   "metadata": {
    "scrolled": true
   },
   "outputs": [
    {
     "name": "stdout",
     "output_type": "stream",
     "text": [
      "[[(0, 1), (0, 2), (0, 3), (0, 4), (1, 2), (1, 3), (1, 4), (2, 3), (2, 4), (3, 4)]]\n",
      "[0, 1, 2, 3]\n"
     ]
    }
   ],
   "source": [
    "from collections import defaultdict\n",
    "class Solution:\n",
    "    # @param A : list of integers\n",
    "    # @return a list of integers\n",
    "    def equal(self, a):\n",
    "        n = len(a)\n",
    "        d = defaultdict(set)\n",
    "        for i in range(n-1):\n",
    "            for j in range(i+1, n):\n",
    "                curr = a[i]+a[j]\n",
    "                d[curr].add((i, j))\n",
    "        #print(d)\n",
    "        res = []\n",
    "        ans = [-1,-1,-1,-1]\n",
    "        for x in d:\n",
    "            if len(d[x]) >=2:\n",
    "                res.append(sorted(d[x]))\n",
    "        res.sort(key = lambda x: x[0])\n",
    "        print(res)\n",
    "        bFlag = False\n",
    "        for x in res:\n",
    "            #print(x)\n",
    "            for i in range(len(x)-1):\n",
    "                for j in range(i+1, len(x)):\n",
    "                    if x[i][1] not in x[j] and x[i][0]< x[j][0] and x[i][1] < x[j][1]:\n",
    "                        #print(123, x[i], x[j])\n",
    "                        ans[0],ans[1],ans[2],ans[3] = x[i][0],x[i][1],x[j][0],x[j][1]\n",
    "                        bFlag = True\n",
    "                        break\n",
    "                if bFlag == True:\n",
    "                    #print('xyz')\n",
    "                    break\n",
    "            if bFlag == True:\n",
    "                    #print('xyz')\n",
    "                    break\n",
    "        return ans      \n",
    "                \n",
    "o = Solution()\n",
    "A = [ 1, 1, 1, 1, 1 ]\n",
    "print(o.equal(A))"
   ]
  }
 ],
 "metadata": {
  "kernelspec": {
   "display_name": "Python 3",
   "language": "python",
   "name": "python3"
  },
  "language_info": {
   "codemirror_mode": {
    "name": "ipython",
    "version": 3
   },
   "file_extension": ".py",
   "mimetype": "text/x-python",
   "name": "python",
   "nbconvert_exporter": "python",
   "pygments_lexer": "ipython3",
   "version": "3.7.3"
  }
 },
 "nbformat": 4,
 "nbformat_minor": 2
}
