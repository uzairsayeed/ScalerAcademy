{
 "cells": [
  {
   "cell_type": "markdown",
   "metadata": {},
   "source": [
    "## Replicating Substring:\n",
    "Problem Description\n",
    "\n",
    "Given a string B, find if it is possible to re-order the characters of the string B so that it can be represented as a concatenation of A similar strings.\n",
    "\n",
    "Eg: B = aabb and A = 2, then it is possible to re-arrange the string as \"abab\" which is a concatenation of 2 similar strings \"ab\".\n",
    "\n",
    "If it is possible, return 1, else return -1.\n",
    "\n",
    "### Problem Constraints\n",
    "1 <= Length of string B <= 1000\n",
    "\n",
    "1 <= A <= 1000\n",
    "\n",
    "All the alphabets of S are lower case (a - z)\n",
    "\n",
    "### Input Format\n",
    "First argument is an integer A.\n",
    "\n",
    "Second argument is a string B.\n",
    "\n",
    "### Output Format\n",
    "Your function should return 1 if it is possible to re-arrange the characters of the string B so that it can be represented as a concatenation of A similar strings. If it is not, return -1.\n",
    "\n",
    "## Example Input\n",
    "### Input 1:\n",
    " A = 2\n",
    " \n",
    " B = \"bbaabb\"\n",
    "### Input 2:\n",
    " A = 1\n",
    "\n",
    " B = \"bc\"\n",
    "\n",
    "## Example Output\n",
    "### Output 1:\n",
    " 1\n",
    "### Output 2:\n",
    " 1\n",
    "\n",
    "## Example Explanation\n",
    "### Explanation 1:\n",
    " We can re-order the given string into \"abbabb\".\n",
    "### Explanation 2:\n",
    " String \"bc\" is already arranged."
   ]
  },
  {
   "cell_type": "code",
   "execution_count": 6,
   "metadata": {},
   "outputs": [
    {
     "name": "stdout",
     "output_type": "stream",
     "text": [
      "1\n"
     ]
    }
   ],
   "source": [
    "from collections import Counter\n",
    "class Solution:\n",
    "    # @param A : integer\n",
    "    # @param B : string\n",
    "    # @return an integer\n",
    "    def solve(self, k, a):\n",
    "        n = len(a)\n",
    "        d = Counter(a)\n",
    "        res = 1\n",
    "        for i in d.values():\n",
    "            if i%k != 0:\n",
    "                res = 0\n",
    "                break\n",
    "        return res\n",
    "    \n",
    "o = Solution()\n",
    "A = 1\n",
    "\n",
    "B = \"bc\"\n",
    "print(o.solve(A,B))"
   ]
  }
 ],
 "metadata": {
  "kernelspec": {
   "display_name": "Python 3",
   "language": "python",
   "name": "python3"
  },
  "language_info": {
   "codemirror_mode": {
    "name": "ipython",
    "version": 3
   },
   "file_extension": ".py",
   "mimetype": "text/x-python",
   "name": "python",
   "nbconvert_exporter": "python",
   "pygments_lexer": "ipython3",
   "version": "3.7.3"
  }
 },
 "nbformat": 4,
 "nbformat_minor": 2
}
