{
 "cells": [
  {
   "cell_type": "markdown",
   "metadata": {},
   "source": [
    "## Count Rectangles:\n",
    "Problem Description\n",
    "\n",
    "Given two arrays of integers A and B of size N each, where each pair (A[i], B[i]) for 0 <= i < N represents a unique point (x, y) in 2-D Cartesian plane.\n",
    "\n",
    "Find and return the number of unordered quadruplet (i, j, k, l) such that (A[i], B[i]), (A[j], B[j]), (A[k], B[k]) and (A[l], B[l]) form a rectangle with the rectangle having all the sides parallel to either x-axis or y-axis.\n",
    "\n",
    "### Problem Constraints\n",
    "1 <= N <= 2000\n",
    "\n",
    "0 <= A[i], B[i] <= 109\n",
    "\n",
    "### Input Format\n",
    "The first argument given is the integer array A.\n",
    "\n",
    "The second argument given is the integer array B.\n",
    "\n",
    "### Output Format\n",
    "Return the number of unordered quadruplet that form a rectangle.\n",
    "\n",
    "## Example Input\n",
    "### Input 1:\n",
    " A = [1, 1, 2, 2]\n",
    " \n",
    " B = [1, 2, 1, 2]\n",
    "### Input 1:\n",
    " A = [1, 1, 2, 2, 3, 3]\n",
    " \n",
    " B = [1, 2, 1, 2, 1, 2]\n",
    "## Example Output\n",
    "### Output 1:\n",
    " 1\n",
    "### Output 2:\n",
    " 3\n",
    "## Example Explanation\n",
    "### Explanation 1:\n",
    " All four given points make a rectangle. So, the answer is 1.\n",
    "### Explanation 2:\n",
    " 3 quadruplets which make a rectangle are: (1, 1), (2, 1), (2, 2), (1, 2)\n",
    "                                           \n",
    "                                           (1, 1), (3, 1), (3, 2), (1, 2)\n",
    "                                           \n",
    "                                           (2, 1), (3, 1), (3, 2), (2, 2)"
   ]
  },
  {
   "cell_type": "code",
   "execution_count": 17,
   "metadata": {},
   "outputs": [
    {
     "name": "stdout",
     "output_type": "stream",
     "text": [
      "defaultdict(<class 'set'>, {1: {1, 2}, 2: {1, 2}, 3: {1, 2}})\n",
      "3\n"
     ]
    }
   ],
   "source": [
    "from collections import defaultdict\n",
    "class Solution:\n",
    "    def solve(self, X, Y):\n",
    "        n = len(X)\n",
    "        cnt = 0\n",
    "        d = defaultdict(set)\n",
    "        for i in range(n):\n",
    "            d[X[i]].add(Y[i])\n",
    "        print(d)\n",
    "        for i in range(n-1):\n",
    "            for j in range(i+1, n):\n",
    "                if X[i] != X[j] and Y[i] != Y[j]:\n",
    "                    if Y[j] in d[X[i]] and Y[i] in d[X[j]]:\n",
    "                        cnt+=1\n",
    "        return cnt//2\n",
    "o = Solution()\n",
    "A = [1, 1, 2, 2, 3, 3]\n",
    "\n",
    "B = [1, 2, 1, 2, 1, 2]\n",
    "print(o.solve(A,B))"
   ]
  },
  {
   "cell_type": "code",
   "execution_count": 22,
   "metadata": {},
   "outputs": [
    {
     "name": "stdout",
     "output_type": "stream",
     "text": [
      "4\n"
     ]
    }
   ],
   "source": [
    "a = [1,2,3,4,4,5]\n",
    "d = {}\n",
    "for i in a:\n",
    "    d[i] = d.get(i, 0) + 1\n",
    "res = max(d.values())\n",
    "for i in range(len(a)):\n",
    "    if d[a[i]] == res:\n",
    "        print(a[i])\n",
    "        break\n"
   ]
  }
 ],
 "metadata": {
  "kernelspec": {
   "display_name": "Python 3",
   "language": "python",
   "name": "python3"
  },
  "language_info": {
   "codemirror_mode": {
    "name": "ipython",
    "version": 3
   },
   "file_extension": ".py",
   "mimetype": "text/x-python",
   "name": "python",
   "nbconvert_exporter": "python",
   "pygments_lexer": "ipython3",
   "version": "3.7.3"
  }
 },
 "nbformat": 4,
 "nbformat_minor": 2
}
