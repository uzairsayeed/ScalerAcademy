{
 "cells": [
  {
   "cell_type": "markdown",
   "metadata": {},
   "source": [
    "## Points on same line:\n",
    "Problem Description\n",
    "\n",
    "Given two array of integers A and B describing a pair of (A[i], B[i]) coordinates in 2D plane. A[i] describe x coordinates of the ith point in 2D plane whereas B[i] describes the y-coordinate of the ith point in 2D plane.\n",
    "\n",
    "Find and return the maximum number of points which lie on the same line.\n",
    "\n",
    "### Problem Constraints\n",
    "1 <= (length of the array A = length of array B) <= 1000\n",
    "\n",
    "-105 <= A[i], B[i] <= 105\n",
    "\n",
    "### Input Format\n",
    "First argument is an integer array A.\n",
    "\n",
    "Second argument is an integer array B.\n",
    "\n",
    "### Output Format\n",
    "Return the maximum number of points which lie on the same line.\n",
    "\n",
    "## Example Input\n",
    "### Input 1:\n",
    " A = [-1, 0, 1, 2, 3, 3]\n",
    "\n",
    " B = [1, 0, 1, 2, 3, 4]\n",
    "### Input 2:\n",
    " A = [3, 1, 4, 5, 7, -9, -8, 6]\n",
    " \n",
    " B = [4, -8, -3, -2, -1, 5, 7, -4]\n",
    "## Example Output\n",
    "### Output 1:\n",
    " 4\n",
    "### Output 2:\n",
    " 2\n",
    "## Example Explanation\n",
    "### Explanation 1:\n",
    " The maximum number of point which lie on same line are 4, those points are {0, 0}, {1, 1}, {2, 2}, {3, 3}.\n",
    "### Explanation 2:\n",
    " Any 2 points lie on a same line."
   ]
  },
  {
   "cell_type": "code",
   "execution_count": 111,
   "metadata": {},
   "outputs": [
    {
     "name": "stdout",
     "output_type": "stream",
     "text": [
      "4\n"
     ]
    }
   ],
   "source": [
    "class Solution:\n",
    "    # @param A : list of integers\n",
    "    # @param B : list of integers\n",
    "    # @return an integer\n",
    "    def solve(self, X, Y):\n",
    "        n = len(X)\n",
    "        ans = float('-inf')\n",
    "        P = list(zip(X, Y))\n",
    "        #print(P)\n",
    "        d = {}\n",
    "        for i in range(n-1):\n",
    "            curr_max, overlap, vertical = 0, 0, 0\n",
    "            for j in range(i+1, n):\n",
    "                if P[i][0] == P[j][0] and P[i][1] == P[j][1]:\n",
    "                    overlap += 1\n",
    "                elif P[i][0] == P[j][0]:\n",
    "                    vertical += 1\n",
    "                else:\n",
    "                    curr_slope = self.get_slope(P[i], P[j])\n",
    "                    #print(i, j, curr_slope)\n",
    "                    d[curr_slope] = d.get(curr_slope, 0)+1\n",
    "                    #print(d)\n",
    "                    curr_max = max(curr_max, d[curr_slope])\n",
    "                curr_max = max(curr_max, vertical)\n",
    "            #print(i,d)\n",
    "            ans = max(ans, curr_max+overlap+1)\n",
    "            d.clear()\n",
    "        return ans\n",
    "    def get_slope(self, x, y):\n",
    "        nr, dr = y[1]-x[1], y[0]-x[0]\n",
    "        gcd = self.gcd(nr, dr)\n",
    "        return (nr//gcd, dr//gcd)                             \n",
    "    def gcd(self, a, b):\n",
    "        if a == 0:\n",
    "            return b\n",
    "        return self.gcd(b%a, a)\n",
    "o = Solution()\n",
    "A = [ 48, 45, -3, 7, -25, 38, 2, 13, 13, 18, -44, 34, -27, -46, 48, -39, -41, -32, -16, 17, -6, 44, -28, -44, -6, -43, -16, 30, -3, -27, 32, 38, -26, 20, 4, -44, -37 ]\n",
    "B = [ 47, -42, 41, 22, -4, -35, -45, -22, 5, -20, 21, -13, 47, 32, -48, 47, 17, -23, 30, -30, 37, 42, 44, 23, 1, -40, -9, 34, -34, 49, 16, -35, 2, -19, 31, 23, -37 ]\n",
    "print(o.solve(A,B))"
   ]
  },
  {
   "cell_type": "code",
   "execution_count": 82,
   "metadata": {},
   "outputs": [
    {
     "name": "stdout",
     "output_type": "stream",
     "text": [
      "[(1, 1), (2, 2), (3, 1), (3, 3), (5, 5)]\n"
     ]
    }
   ],
   "source": [
    "A : [ 6, -7, 5, 9, -9, -7 ]\n",
    "B : [ 7, 5, 5, 9, -8, 2 ]\n",
    "P = list(zip(A,B))\n",
    "print(P)"
   ]
  }
 ],
 "metadata": {
  "kernelspec": {
   "display_name": "Python 3",
   "language": "python",
   "name": "python3"
  },
  "language_info": {
   "codemirror_mode": {
    "name": "ipython",
    "version": 3
   },
   "file_extension": ".py",
   "mimetype": "text/x-python",
   "name": "python",
   "nbconvert_exporter": "python",
   "pygments_lexer": "ipython3",
   "version": "3.7.3"
  }
 },
 "nbformat": 4,
 "nbformat_minor": 2
}
