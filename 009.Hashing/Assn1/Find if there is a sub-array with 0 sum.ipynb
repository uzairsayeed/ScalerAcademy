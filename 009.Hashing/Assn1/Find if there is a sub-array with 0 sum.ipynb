{
 "cells": [
  {
   "cell_type": "markdown",
   "metadata": {},
   "source": [
    "## Find if there is a sub-array with 0 sum:\n",
    "Problem Description\n",
    "\n",
    "Given an array of integers A, find and return whether the given array contains a non-empty subarray with a sum equal to 0. If the given array contains a sub-array with sum zero return 1 else return 0.   \n",
    "\n",
    "### Problem Constraints\n",
    "1 <= |A| <= 100000 -10^9 <= A[i] <= 10^9   \n",
    "\n",
    "### Input Format\n",
    "The only argument given is the integer array A.\n",
    "\n",
    "### Output Format\n",
    "Return whether the given array contains a subarray with a sum equal to 0.\n",
    "\n",
    "## Example Input\n",
    "### Input 1:\n",
    " A = [1, 2, 3, 4, 5]\n",
    "###  Input 2:            \n",
    " A = [-1, 1]\n",
    "       \n",
    "## Example Output\n",
    "### Output 1:\n",
    " 0\n",
    "###  Output 2:            \n",
    " 1\n",
    "       \n",
    "## Example Explanation\n",
    "### Explanation 1:\n",
    " No subarray has sum 0.\n",
    "###  Explanation 2:            \n",
    " The array has sum 0."
   ]
  },
  {
   "cell_type": "code",
   "execution_count": 37,
   "metadata": {},
   "outputs": [
    {
     "name": "stdout",
     "output_type": "stream",
     "text": [
      "1\n"
     ]
    }
   ],
   "source": [
    "class Solution:\n",
    "    # @param A : list of integers\n",
    "    # @return an integer\n",
    "    def solve(self, a):\n",
    "        s = len(a)+1\n",
    "        p = [0]*s\n",
    "        p[1] = a[0]\n",
    "        res = 0\n",
    "        for i in range(1,s-1):\n",
    "            p[i+1] = p[i]+ a[i]\n",
    "        #print(p)\n",
    "        d = {}\n",
    "        for i in range(1, s):\n",
    "            d[p[i]] = d.get(p[i], 0)+1\n",
    "        check_0 = d.get(0,-1)\n",
    "        if check_0 != -1:\n",
    "            return 1\n",
    "        for x in d.values():\n",
    "            if x > 1:\n",
    "                res = 1\n",
    "                break\n",
    "        return res\n",
    "                \n",
    "o = Solution()\n",
    "A = [1, -1]\n",
    "print(o.solve(A))"
   ]
  },
  {
   "cell_type": "code",
   "execution_count": 39,
   "metadata": {},
   "outputs": [
    {
     "name": "stdout",
     "output_type": "stream",
     "text": [
      "1\n"
     ]
    }
   ],
   "source": [
    "class Solution:\n",
    "    # @param A : list of integers\n",
    "    # @return an integer\n",
    "    def solve(self, A):\n",
    "        d = {}\n",
    "        curr_sum = 0\n",
    "        for x in A:\n",
    "            curr_sum += x\n",
    "            if curr_sum == 0 or x == 0 or curr_sum in d:\n",
    "                return 1\n",
    "            else:\n",
    "                d[curr_sum] = 1\n",
    "        return 0\n",
    "                \n",
    "o = Solution()\n",
    "A = [1, -1]\n",
    "print(o.solve(A))"
   ]
  }
 ],
 "metadata": {
  "kernelspec": {
   "display_name": "Python 3",
   "language": "python",
   "name": "python3"
  },
  "language_info": {
   "codemirror_mode": {
    "name": "ipython",
    "version": 3
   },
   "file_extension": ".py",
   "mimetype": "text/x-python",
   "name": "python",
   "nbconvert_exporter": "python",
   "pygments_lexer": "ipython3",
   "version": "3.7.3"
  }
 },
 "nbformat": 4,
 "nbformat_minor": 2
}
