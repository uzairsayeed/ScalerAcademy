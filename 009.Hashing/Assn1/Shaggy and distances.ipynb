{
 "cells": [
  {
   "cell_type": "markdown",
   "metadata": {},
   "source": [
    "## Shaggy and distances:\n",
    "Problem Description\n",
    "\n",
    "Shaggy has an array A consisting of N elements. We call a pair of distinct indices in that array as a special pair if elements at that index in the array are equal. Shaggy wants you to find a special pair such that distance between that pair is minimum. Distance between two indices is defined as |i-j|. If there is no special pair in the array then return -1.    \n",
    "\n",
    "### Problem Constraints\n",
    "1 <= |A| <= 105\n",
    "\n",
    "### Input Format\n",
    "First and only argument is the array A.\n",
    "\n",
    "### Output Format\n",
    "Return one integer corresponding to the minimum possible distance between a special pair.\n",
    "\n",
    "## Example Input\n",
    "### Input 1:\n",
    "A = [7, 1, 3, 4, 1, 7]\n",
    "###  Input 2:              \n",
    "A = [1, 1]\n",
    "        \n",
    "## Example Output\n",
    "### Output 1:\n",
    " 3\n",
    "###  Output 2:              \n",
    " 1\n",
    "        \n",
    "## Example Explanation\n",
    "### Explanation 1:\n",
    "Here we have 2 options:\n",
    "\n",
    "1. A[1] and A[4] are both 1 so (1,4) is a special pair and |1-4|=3.\n",
    "\n",
    "2. A[0] and A[5] are both 7 so (0,5) is a special pair and |0-5|=5.\n",
    "\n",
    "Therefore the minimum possible distance is 3. \n",
    "###  Explanation 2:              \n",
    "Only possibility is choosing A[1] and A[2]."
   ]
  },
  {
   "cell_type": "code",
   "execution_count": 4,
   "metadata": {},
   "outputs": [
    {
     "name": "stdout",
     "output_type": "stream",
     "text": [
      "1\n"
     ]
    }
   ],
   "source": [
    "class Solution:\n",
    "    # @param A : list of integers\n",
    "    # @return an integer\n",
    "    def solve(self, a):\n",
    "        n = len(a)\n",
    "        ans = float('inf')\n",
    "        d = {}\n",
    "        for i in range(n):\n",
    "            if a[i] in d:\n",
    "                ans = min(ans, i-d[a[i]])\n",
    "                d[a[i]] = i                \n",
    "            else:\n",
    "                d[a[i]] = i\n",
    "        if ans == float('inf'):\n",
    "            return -1\n",
    "        return ans\n",
    "o = Solution()\n",
    "A = [1, 1]\n",
    "print(o.solve(A))"
   ]
  }
 ],
 "metadata": {
  "kernelspec": {
   "display_name": "Python 3",
   "language": "python",
   "name": "python3"
  },
  "language_info": {
   "codemirror_mode": {
    "name": "ipython",
    "version": 3
   },
   "file_extension": ".py",
   "mimetype": "text/x-python",
   "name": "python",
   "nbconvert_exporter": "python",
   "pygments_lexer": "ipython3",
   "version": "3.7.3"
  }
 },
 "nbformat": 4,
 "nbformat_minor": 2
}
