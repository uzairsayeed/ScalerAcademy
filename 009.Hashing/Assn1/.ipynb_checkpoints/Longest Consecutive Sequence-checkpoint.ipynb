{
 "cells": [
  {
   "cell_type": "markdown",
   "metadata": {},
   "source": [
    "## Longest Consecutive Sequence:\n",
    "Problem Description\n",
    "\n",
    "Given an unsorted integer array A of size N. Find the length of the longest set of consecutive elements from the array A.   \n",
    "\n",
    "### Problem Constraints\n",
    "1 <= N <= 106 -106 <= A[i] <= 106     \n",
    "\n",
    "### Input Format\n",
    "First argument is an integer array A of size N.\n",
    "\n",
    "### Output Format\n",
    "Return an integer denoting the length of the longest set of consecutive elements from the array A.\n",
    "\n",
    "## Example Input\n",
    "### Input 1:\n",
    "A = [100, 4, 200, 1, 3, 2]\n",
    "###  Input 2:          \n",
    "A = [2, 1]\n",
    "      \n",
    "## Example Output\n",
    "### Output 1:\n",
    " 4\n",
    "###  Output 2:          \n",
    " 2\n",
    "      \n",
    "## Example Explanation\n",
    "### Explanation 1:\n",
    " The set of consecutive elements will be [1, 2, 3, 4].\n",
    "###  Explanation 2:          \n",
    " The set of consecutive elements will be [1, 2]."
   ]
  },
  {
   "cell_type": "code",
   "execution_count": 46,
   "metadata": {},
   "outputs": [
    {
     "name": "stdout",
     "output_type": "stream",
     "text": [
      "1\n"
     ]
    }
   ],
   "source": [
    "class Solution:\n",
    "    # @param A : tuple of integers\n",
    "    # @return an integer\n",
    "    def longestConsecutive(self, a):\n",
    "        n = len(a)\n",
    "        d = {}\n",
    "        #s, e = -1, -1\n",
    "        l = 0\n",
    "        res = []\n",
    "        for x in a:\n",
    "            d[x] = d.get(x, 0)+1\n",
    "        for i in range(n):\n",
    "            if d.get(a[i]-1, 0):\n",
    "                continue\n",
    "            else:\n",
    "                j = 1\n",
    "                while j < n:\n",
    "                    if d.get(a[i]+j, 0):\n",
    "                        j+=1\n",
    "                    else:\n",
    "                        break\n",
    "                if l < j:\n",
    "                    l = j\n",
    "                    s, e = a[i], a[i]+j-1\n",
    "        #print(l, s, e)\n",
    "        \"\"\"\n",
    "        while s<=e:\n",
    "            res.append(s)\n",
    "            s+=1\n",
    "        \"\"\"\n",
    "        return l\n",
    "o = Solution()\n",
    "A = [3,1]\n",
    "print(o.longestConsecutive(A))\n"
   ]
  }
 ],
 "metadata": {
  "kernelspec": {
   "display_name": "Python 3",
   "language": "python",
   "name": "python3"
  },
  "language_info": {
   "codemirror_mode": {
    "name": "ipython",
    "version": 3
   },
   "file_extension": ".py",
   "mimetype": "text/x-python",
   "name": "python",
   "nbconvert_exporter": "python",
   "pygments_lexer": "ipython3",
   "version": "3.7.3"
  }
 },
 "nbformat": 4,
 "nbformat_minor": 2
}
