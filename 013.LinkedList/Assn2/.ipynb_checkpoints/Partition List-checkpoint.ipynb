{
 "cells": [
  {
   "cell_type": "markdown",
   "metadata": {},
   "source": [
    "## Partition List:\n",
    "Problem Description\n",
    "\n",
    "Given a linked list A and a value B, partition it such that all nodes less than B come before nodes greater than or equal to B.\n",
    "\n",
    "You should preserve the original relative order of the nodes in each of the two partitions.\n",
    "### Problem Constraints\n",
    "1 <= |A| <= 106\n",
    "\n",
    "1 <= A[i], B <= 109\n",
    "### Input Format\n",
    "The first argument of input contains a pointer to the head to the given linked list.\n",
    "\n",
    "The second argument of input contains an integer, B.\n",
    "### Output Format\n",
    "Return a pointer to the head of the modified linked list.\n",
    "## Example Input\n",
    "### Input 1:\n",
    "A = [1, 4, 3, 2, 5, 2]\n",
    "\n",
    "B = 3\n",
    "### Input 2:\n",
    "A = [1, 2, 3, 1, 3]\n",
    "\n",
    "B = 2\n",
    "## Example Output\n",
    "### Output 1:\n",
    "[1, 2, 2, 4, 3, 5]\n",
    "### Output 2:\n",
    "[1, 1, 2, 3, 3]\n",
    "## Example Explanation\n",
    "### Explanation 1:\n",
    " [1, 2, 2] are less than B wheread [4, 3, 5] are greater than or equal to B.\n",
    "### Explanation 2:\n",
    " [1, 1] are less than B wheread [2, 3, 3] are greater than or equal to B.\n"
   ]
  },
  {
   "cell_type": "code",
   "execution_count": null,
   "metadata": {},
   "outputs": [],
   "source": [
    "# Definition for singly-linked list.\n",
    "# class ListNode:\n",
    "#\tdef __init__(self, x):\n",
    "#\t\tself.val = x\n",
    "#\t\tself.next = None\n",
    "\n",
    "class Solution:\n",
    "    # @param A : head node of linked list\n",
    "    # @param B : integer\n",
    "    # @return the head node in the linked list\n",
    "    def partition(self, head, k):\n",
    "        if not head.next:\n",
    "            return head\n",
    "        if head.val <= head.next.val:\n",
    "            h1, h2 = head, head.next\n",
    "        else:\n",
    "            h1, h2 = head.next, head\n",
    "        curr = h2.next\n",
    "        p1, p2 = h1, h2\n",
    "        while curr:\n",
    "            if curr.val < k:\n",
    "                p1.next = curr\n",
    "                p1 = curr\n",
    "            else:\n",
    "                p2.next = curr\n",
    "                p2 = curr\n",
    "            curr = curr.next\n",
    "        p1.next = None\n",
    "        p2.next = None\n",
    "        p1.next = h2\n",
    "        return head"
   ]
  },
  {
   "cell_type": "code",
   "execution_count": 7,
   "metadata": {},
   "outputs": [
    {
     "name": "stdout",
     "output_type": "stream",
     "text": [
      "1 4 3 2 5 2 -1\n",
      "3\n",
      "2\n",
      "5\n",
      "2\n"
     ]
    },
    {
     "data": {
      "text/plain": [
       "[1, 2, 2, 4, 3, 5]"
      ]
     },
     "execution_count": 7,
     "metadata": {},
     "output_type": "execute_result"
    }
   ],
   "source": [
    "class Node:\n",
    "    def __init__(self, val):\n",
    "        self.val = val\n",
    "        self.next = None\n",
    "\n",
    "def printll(head):\n",
    "  list = []\n",
    "  while head is not None:\n",
    "    list.append(head.val)\n",
    "    head = head.next\n",
    "  return list    \n",
    "\n",
    "def ll(arr):\n",
    "    if len(arr)==0:\n",
    "        return None\n",
    "    head = Node(arr[0])\n",
    "    last = head\n",
    "    for val in arr[1:]:\n",
    "        last.next = Node(val)\n",
    "        last = last.next\n",
    "    return head\n",
    "\n",
    "def partition(head, k):\n",
    "    if not head.next:\n",
    "        return head\n",
    "    if head.val <= head.next.val:\n",
    "        h1, h2 = head, head.next\n",
    "    else:\n",
    "        h1, h2 = head.next, head\n",
    "    curr = h2.next\n",
    "    p1, p2 = h1, h2\n",
    "    while curr:\n",
    "        print(curr.val)\n",
    "        if curr.val < k:\n",
    "            p1.next = curr\n",
    "            p1 = curr\n",
    "        else:\n",
    "            p2.next = curr\n",
    "            p2 = curr\n",
    "        curr = curr.next\n",
    "    p1.next = None\n",
    "    p2.next = None\n",
    "    p1.next = h2\n",
    "    return head\n",
    "    \n",
    "arr=list(int(i) for i in input().strip().split(' '))\n",
    "l = ll(arr[:-1])\n",
    "x = partition(l, 3)\n",
    "printll(x)"
   ]
  }
 ],
 "metadata": {
  "kernelspec": {
   "display_name": "Python 3",
   "language": "python",
   "name": "python3"
  },
  "language_info": {
   "codemirror_mode": {
    "name": "ipython",
    "version": 3
   },
   "file_extension": ".py",
   "mimetype": "text/x-python",
   "name": "python",
   "nbconvert_exporter": "python",
   "pygments_lexer": "ipython3",
   "version": "3.7.3"
  }
 },
 "nbformat": 4,
 "nbformat_minor": 2
}
