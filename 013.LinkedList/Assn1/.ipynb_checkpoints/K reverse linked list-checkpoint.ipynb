{
 "cells": [
  {
   "cell_type": "markdown",
   "metadata": {},
   "source": [
    "## K reverse linked list:\n",
    "Problem Description\n",
    "\n",
    "Given a singly linked list A and an integer B, reverse the nodes of the list B at a time and return modified linked list.\n",
    "### Problem Constraints\n",
    "1 <= |A| <= 103\n",
    "\n",
    "B always divides A\n",
    "### Input Format\n",
    "The first argument of input contains a pointer to the head of the linked list.\n",
    "\n",
    "The second arugment of input contains the integer, B.\n",
    "### Output Format\n",
    "Return a pointer to the head of the modified linked list.\n",
    "## Example Input\n",
    "### Input 1:\n",
    " A = [1, 2, 3, 4, 5, 6]\n",
    " \n",
    " B = 2\n",
    "### Input 2:\n",
    " A = [1, 2, 3, 4, 5, 6]\n",
    " \n",
    " B = 3\n",
    "## Example Output\n",
    "### Output 1:\n",
    " [2, 1, 4, 3, 6, 5]\n",
    "### Output 2:\n",
    " [3, 2, 1, 6, 5, 4]\n",
    "## Example Explanation\n",
    "### Explanation 1:\n",
    " For the first example, the list can be reversed in groups of 2.\n",
    "    \n",
    "    [[1, 2], [3, 4], [5, 6]]\n",
    " \n",
    " After reversing the K-linked list\n",
    "    \n",
    "    [[2, 1], [4, 3], [6, 5]]\n",
    "### Explanation 2:\n",
    " For the second example, the list can be reversed in groups of 3.\n",
    "    \n",
    "    [[1, 2, 3], [4, 5, 6]]\n",
    " \n",
    " After reversing the K-linked list\n",
    "    \n",
    "    [[3, 2, 1], [6, 5, 4]]\n"
   ]
  },
  {
   "cell_type": "code",
   "execution_count": null,
   "metadata": {},
   "outputs": [],
   "source": [
    "# Definition for singly-linked list.\n",
    "# class ListNode:\n",
    "#\tdef __init__(self, x):\n",
    "#\t\tself.val = x\n",
    "#\t\tself.next = None\n",
    "\n",
    "class Solution:\n",
    "    # @param A : head node of linked list\n",
    "    # @param B : integer\n",
    "    # @return the head node in the linked list\n",
    "    def reverseList(self, head, k):\n",
    "        prev, curr, nxt = None, head, None\n",
    "        cnt = 0\n",
    "        while curr != None and cnt < k:\n",
    "            nxt = curr.next\n",
    "            curr.next = prev\n",
    "            prev = curr\n",
    "            curr = nxt\n",
    "            cnt += 1\n",
    "        if nxt != None:\n",
    "            res = self.reverseList(nxt, k)\n",
    "            head.next = res\n",
    "        return prev\n",
    "    \n",
    "        \n"
   ]
  }
 ],
 "metadata": {
  "kernelspec": {
   "display_name": "Python 3",
   "language": "python",
   "name": "python3"
  },
  "language_info": {
   "codemirror_mode": {
    "name": "ipython",
    "version": 3
   },
   "file_extension": ".py",
   "mimetype": "text/x-python",
   "name": "python",
   "nbconvert_exporter": "python",
   "pygments_lexer": "ipython3",
   "version": "3.7.3"
  }
 },
 "nbformat": 4,
 "nbformat_minor": 2
}
