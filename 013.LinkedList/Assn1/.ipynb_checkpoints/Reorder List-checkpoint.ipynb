{
 "cells": [
  {
   "cell_type": "markdown",
   "metadata": {},
   "source": [
    "## Reorder List:\n",
    "Problem Description\n",
    "\n",
    "Given a singly linked list A\n",
    "\n",
    " A: A0 → A1 → … → An-1 → An \n",
    "reorder it to:\n",
    "\n",
    " A0 → An → A1 → An-1 → A2 → An-2 → … \n",
    "You must do this in-place without altering the nodes' values.\n",
    "### Problem Constraints\n",
    "1 <= |A| <= 106\n",
    "### Input Format\n",
    "The first and the only argument of input contains a pointer to the head of the linked list A.\n",
    "### Output Format\n",
    "Return a pointer to the head of the modified linked list.\n",
    "## Example Input\n",
    "### Input 1:\n",
    " A = [1, 2, 3, 4, 5] \n",
    "### Input 2:\n",
    " A = [1, 2, 3, 4] \n",
    "## Example Output\n",
    "### Output 1:\n",
    " [1, 5, 2, 4, 3] \n",
    "### Output 2:\n",
    " [1, 4, 2, 3] \n",
    "## Example Explanation\n",
    "### Explanation 1:\n",
    " The array will be arranged to [A0, An, A1, An-1, A2].\n",
    "### Explanation 2:\n",
    " The array will be arranged to [A0, An, A1, An-1, A2]."
   ]
  },
  {
   "cell_type": "code",
   "execution_count": null,
   "metadata": {},
   "outputs": [],
   "source": [
    "# Definition for singly-linked list.\n",
    "# class ListNode:\n",
    "#\tdef __init__(self, x):\n",
    "#\t\tself.val = x\n",
    "#\t\tself.next = None\n",
    "\n",
    "class Solution:\n",
    "    # @param A : head node of linked list\n",
    "    # @return the head node in the linked list\n",
    "    def reorderList(self, head):\n",
    "        if not head or not head.next:\n",
    "            return head\n",
    "        slow, fast = head, head\n",
    "        while fast and fast.next:\n",
    "            slow = slow.next\n",
    "            fast = fast.next.next\n",
    "        prev, curr = None, slow\n",
    "        while curr:\n",
    "            nxt = curr.next\n",
    "            curr.next = prev\n",
    "            prev = curr\n",
    "            curr = nxt\n",
    "        p1, p2 = head, prev\n",
    "        while p2 and p2.next:\n",
    "            t1 = p1.next\n",
    "            t2 = p2.next\n",
    "            p1.next = p2\n",
    "            p2.next = t1\n",
    "            p1 = t1\n",
    "            p2 = t2\n",
    "        return head"
   ]
  }
 ],
 "metadata": {
  "kernelspec": {
   "display_name": "Python 3",
   "language": "python",
   "name": "python3"
  },
  "language_info": {
   "codemirror_mode": {
    "name": "ipython",
    "version": 3
   },
   "file_extension": ".py",
   "mimetype": "text/x-python",
   "name": "python",
   "nbconvert_exporter": "python",
   "pygments_lexer": "ipython3",
   "version": "3.7.3"
  }
 },
 "nbformat": 4,
 "nbformat_minor": 2
}
