{
 "cells": [
  {
   "cell_type": "markdown",
   "metadata": {},
   "source": [
    "## Remove Nth Node from List End:\n",
    "Problem Description\n",
    "\n",
    "Given a linked list A, remove the B-th node from the end of list and return its head.\n",
    "\n",
    "For example, Given linked list: 1->2->3->4->5, and B = 2. After removing the second node from the end, the linked list becomes 1->2->3->5.\n",
    "### NOTE: \n",
    "If B is greater than the size of the list, remove the first node of the list.\n",
    "### NOTE: \n",
    "Try doing it using constant additional space.\n",
    "### Problem Constraints\n",
    "1 <= |A| <= 106\n",
    "### Input Format\n",
    "The first argument of input contains a pointer to the head of the linked list.\n",
    "\n",
    "The second argument of input contains the integer B.\n",
    "### Output Format\n",
    "Return the head of the linked list after deleting the B-th element from the end.\n",
    "## Example Input\n",
    "### Input 1:\n",
    "A = [1, 2, 3, 4, 5]\n",
    "\n",
    "B = 2\n",
    "### Input 2:\n",
    "A = [1]\n",
    "\n",
    "B = 1\n",
    "## Example Output\n",
    "### Output 1:\n",
    "[1, 2, 3, 5]\n",
    "### Output 2:\n",
    " [] \n",
    "## Example Explanation\n",
    "### Explanation 1:\n",
    "In the first example, 4 is the second last element.\n",
    "### Explanation 2:\n",
    "In the second example, 1 is the first and the last element.\n"
   ]
  },
  {
   "cell_type": "code",
   "execution_count": null,
   "metadata": {},
   "outputs": [],
   "source": [
    "# Definition for singly-linked list.\n",
    "# class ListNode:\n",
    "#\tdef __init__(self, x):\n",
    "#\t\tself.val = x\n",
    "#\t\tself.next = None\n",
    "\n",
    "class Solution:\n",
    "    # @param A : head node of linked list\n",
    "    # @param B : integer\n",
    "    # @return the head node in the linked list\n",
    "    def removeNthFromEnd(self, head, k):\n",
    "        if n == 0:\n",
    "            return None\n",
    "        if k > n:\n",
    "            k = 1\n",
    "        if k == 1:\n",
    "            head = head.next\n",
    "        else:\n",
    "            t = n-k\n",
    "            p = head\n",
    "            while t != 1:\n",
    "                p = p.next\n",
    "                t-=1\n",
    "            p.next = p.next.next\n",
    "        return head\n",
    "    def getLength(self, head):\n",
    "        if head == None:\n",
    "            return 0\n",
    "        n = 1\n",
    "        while head.next != None:\n",
    "            n += 1\n",
    "            head = head.next\n",
    "        return n"
   ]
  }
 ],
 "metadata": {
  "kernelspec": {
   "display_name": "Python 3",
   "language": "python",
   "name": "python3"
  },
  "language_info": {
   "codemirror_mode": {
    "name": "ipython",
    "version": 3
   },
   "file_extension": ".py",
   "mimetype": "text/x-python",
   "name": "python",
   "nbconvert_exporter": "python",
   "pygments_lexer": "ipython3",
   "version": "3.7.3"
  }
 },
 "nbformat": 4,
 "nbformat_minor": 2
}
