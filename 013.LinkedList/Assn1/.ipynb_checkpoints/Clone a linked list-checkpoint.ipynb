{
 "cells": [
  {
   "cell_type": "markdown",
   "metadata": {},
   "source": [
    "## Clone a linked list:\n",
    "Given a doubly linked list of integers with one pointer of each node pointing to the next node (just like in a single link list) while the second pointer, however, can point to any node in the list and not just the previous node. You have to create a copy of this list and return the head pointer of the duplicated list. \n",
    "\n",
    "### Input Format\n",
    "The only argument given is head pointer of the doubly linked list.\n",
    "\n",
    "### Output Format\n",
    "Return the head pointer of the duplicated list. \n",
    "\n",
    "### Constraints\n",
    "1 <= length of the list <= 100000\n",
    "\n",
    "1 <= Value of node <= 10^5\n",
    "\n",
    "## For Example\n",
    "### Input 1:\n",
    "     1 -> 2 -> 3 -> 4 -> 5\n",
    "     \n",
    "     random pointer of each node \n",
    "     \n",
    "     1 -> 5 2 -> 4 3 -> 3 4 -> 2 5 -> 1\n",
    "\n",
    "\n",
    "### Output 1:\n",
    "    1 -> 2 -> 3 -> 4 -> 5\n",
    "    \n",
    "    random pointer of each node \n",
    "    \n",
    "    1 -> 5 2 -> 4 3 -> 3 4 -> 2 5 -> 1"
   ]
  },
  {
   "cell_type": "code",
   "execution_count": null,
   "metadata": {},
   "outputs": [],
   "source": [
    "\"\"\"\n",
    "class ListNode: \n",
    "    def __init__(x):\n",
    "        self.val = x\n",
    "        self.next = None\n",
    "        self.random = None\n",
    "\"\"\"\n",
    "def clonelist(head):\n",
    "    if not head:\n",
    "            return None\n",
    "    curr = head\n",
    "    while curr != None:\n",
    "        newnode = ListNode(curr.val)\n",
    "        newnode.next = curr.next\n",
    "        curr.next = newnode\n",
    "        curr = curr.next.next\n",
    "    curr = head\n",
    "    newhead = curr.next\n",
    "    while curr != None:\n",
    "        curr.next.random = curr.random.next\n",
    "        curr = curr.next.next\n",
    "    prev, curr = head, head.next\n",
    "    while prev != None:\n",
    "        prev.next = curr.next\n",
    "        curr.next = curr.next.next if curr.next else None\n",
    "        prev = prev.next\n",
    "        curr = curr.next\n",
    "    return newhead"
   ]
  }
 ],
 "metadata": {
  "kernelspec": {
   "display_name": "Python 3",
   "language": "python",
   "name": "python3"
  },
  "language_info": {
   "codemirror_mode": {
    "name": "ipython",
    "version": 3
   },
   "file_extension": ".py",
   "mimetype": "text/x-python",
   "name": "python",
   "nbconvert_exporter": "python",
   "pygments_lexer": "ipython3",
   "version": "3.7.3"
  }
 },
 "nbformat": 4,
 "nbformat_minor": 2
}
