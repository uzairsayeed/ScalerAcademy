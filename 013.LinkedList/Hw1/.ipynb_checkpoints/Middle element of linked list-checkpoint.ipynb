{
 "cells": [
  {
   "cell_type": "markdown",
   "metadata": {},
   "source": [
    "## Middle element of linked list:\n",
    "Given a linked list of integers. Find and return the middle element of the linked list.\n",
    "\n",
    "Note: If there are N nodes in the linked list and N is even then return the (N/2+1)th element. \n",
    "\n",
    "### Input Format\n",
    "The only argument given head pointer of linked list.\n",
    "\n",
    "### Output Format\n",
    "Return the middle element of the linked list.\n",
    "\n",
    "### Constraints\n",
    "1 <= length of the linked list <= 100000\n",
    "\n",
    "1 <= Node value <= 10^9 \n",
    "\n",
    "## For Example\n",
    "### Input 1:\n",
    "    1->2->3->4->5\n",
    "\n",
    "### Output 1:\n",
    "   3 \n",
    "\n",
    "### Input 2:\n",
    "    A = 1->5->6->2->3->4\n",
    "\n",
    "### Output 2:\n",
    "    2"
   ]
  },
  {
   "cell_type": "code",
   "execution_count": null,
   "metadata": {},
   "outputs": [],
   "source": [
    "# Definition for singly-linked list.\n",
    "# class ListNode:\n",
    "#    def __init__(self, x):\n",
    "#        self.val = x\n",
    "#        self.next = None\n",
    "\n",
    "class Solution:\n",
    "    # @param A : head node of linked list\n",
    "    # @return an integer\n",
    "    def solve(self, head):\n",
    "        slow, fast = head, head\n",
    "        while fast != None and fast.next != None:\n",
    "            slow = slow.next\n",
    "            fast = fast.next.next\n",
    "        return slow.val\n"
   ]
  }
 ],
 "metadata": {
  "kernelspec": {
   "display_name": "Python 3",
   "language": "python",
   "name": "python3"
  },
  "language_info": {
   "codemirror_mode": {
    "name": "ipython",
    "version": 3
   },
   "file_extension": ".py",
   "mimetype": "text/x-python",
   "name": "python",
   "nbconvert_exporter": "python",
   "pygments_lexer": "ipython3",
   "version": "3.9.0"
  }
 },
 "nbformat": 4,
 "nbformat_minor": 2
}
