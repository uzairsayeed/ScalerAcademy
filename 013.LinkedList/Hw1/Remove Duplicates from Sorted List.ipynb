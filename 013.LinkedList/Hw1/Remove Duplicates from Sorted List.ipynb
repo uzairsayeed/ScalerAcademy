{
 "cells": [
  {
   "cell_type": "markdown",
   "metadata": {},
   "source": [
    "## Remove Duplicates from Sorted List:\n",
    "Problem Description\n",
    "\n",
    "Given a sorted linked list, delete all duplicates such that each element appear only once.\n",
    "### Problem Constraints\n",
    "0 <= length of linked list <= 106\n",
    "### Input Format\n",
    "First argument is the head pointer of the linked list.\n",
    "### Output Format\n",
    "Return the head pointer of the linked list after removing all duplicates.\n",
    "## Example Input\n",
    "### Input 1:\n",
    " 1->1->2\n",
    "### Input 2:\n",
    " 1->1->2->3->3\n",
    "## Example Output\n",
    "### Output 1:\n",
    " 1->2\n",
    "### Output 2:\n",
    " 1->2->3\n",
    "## Example Explanation\n",
    "### Explanation 1:\n",
    " Each element appear only once in 1->2."
   ]
  },
  {
   "cell_type": "code",
   "execution_count": null,
   "metadata": {},
   "outputs": [],
   "source": [
    "# Definition for singly-linked list.\n",
    "# class ListNode:\n",
    "#\tdef __init__(self, x):\n",
    "#\t\tself.val = x\n",
    "#\t\tself.next = None\n",
    "\n",
    "class Solution:\n",
    "    # @param A : head node of linked list\n",
    "    # @return the head node in the linked list\n",
    "    def deleteDuplicates(self, head):\n",
    "        s = set()\n",
    "        prev, curr = None, head\n",
    "        while curr != None:\n",
    "            #print(curr)\n",
    "            if curr.val not in s:\n",
    "                s.add(curr.val)\n",
    "                prev = curr\n",
    "                curr = curr.next\n",
    "            else:\n",
    "                t = curr.next\n",
    "                prev.next = t\n",
    "                curr = t\n",
    "        return head"
   ]
  }
 ],
 "metadata": {
  "kernelspec": {
   "display_name": "Python 3",
   "language": "python",
   "name": "python3"
  },
  "language_info": {
   "codemirror_mode": {
    "name": "ipython",
    "version": 3
   },
   "file_extension": ".py",
   "mimetype": "text/x-python",
   "name": "python",
   "nbconvert_exporter": "python",
   "pygments_lexer": "ipython3",
   "version": "3.7.3"
  }
 },
 "nbformat": 4,
 "nbformat_minor": 2
}
