{
 "cells": [
  {
   "cell_type": "markdown",
   "metadata": {},
   "source": [
    "## Swap List Nodes in pairs:\n",
    "Problem Description\n",
    "\n",
    "Given a linked list A, swap every two adjacent nodes and return its head.\n",
    "### NOTE: \n",
    "Your algorithm should use only constant space. You may not modify the values in the list, only nodes itself can be changed.\n",
    "### Problem Constraints\n",
    "1 <= |A| <= 106\n",
    "### Input Format\n",
    "The first and the only argument of input contains a pointer to the head of the given linked list.\n",
    "### Output Format\n",
    "Return a pointer to the head of the modified linked list.\n",
    "## Example Input\n",
    "### Input 1:\n",
    " A = 1 -> 2 -> 3 -> 4\n",
    "### Input 2:\n",
    " A = 7 -> 2 -> 1\n",
    "## Example Output\n",
    "### Output 1:\n",
    " 2 -> 1 -> 4 -> 3\n",
    "### Output 2:\n",
    " 2 -> 7 -> 1\n",
    "## Example Explanation\n",
    "### Explanation 1:\n",
    " In the first example (1, 2) and (3, 4) are the adjacent nodes. Swapping them will result in 2 -> 1 -> 4 -> 3\n",
    "### Explanation 2:\n",
    " In the second example, 3rd element i.e. 1 does not have an adjacent node, so it won't be swapped. \n"
   ]
  },
  {
   "cell_type": "code",
   "execution_count": null,
   "metadata": {},
   "outputs": [],
   "source": [
    "# Definition for singly-linked list.\n",
    "# class ListNode:\n",
    "#\tdef __init__(self, x):\n",
    "#\t\tself.val = x\n",
    "#\t\tself.next = None\n",
    "import sys\n",
    "sys.setrecursionlimit(10**6)\n",
    "class Solution:\n",
    "    # @param A : head node of linked list\n",
    "    # @return the head node in the linked list\n",
    "    def swapPairs(self, head):\n",
    "        if not head or not head.next:\n",
    "            return head\n",
    "        l, r = head, head.next\n",
    "        l.next = self.swapPairs(r.next)\n",
    "        r.next = l\n",
    "        return r"
   ]
  },
  {
   "cell_type": "code",
   "execution_count": null,
   "metadata": {},
   "outputs": [],
   "source": [
    "# Definition for singly-linked list.\n",
    "# class ListNode:\n",
    "#\tdef __init__(self, x):\n",
    "#\t\tself.val = x\n",
    "#\t\tself.next = None\n",
    "\n",
    "class Solution:\n",
    "    # @param A : head node of linked list\n",
    "    # @return the head node in the linked list\n",
    "    def swapPairs(self, A):\n",
    "        start = ListNode('dummy')\n",
    "        start.next = A\n",
    "        current = start\n",
    "        while current.next and current.next.next:\n",
    "            current.next = self.swap(current.next, current.next.next)\n",
    "            current = current.next.next\n",
    "        return start.next\n",
    "\n",
    "    def swap(self, node1, node2):\n",
    "        node1.next = node2.next\n",
    "        node2.next = node1\n",
    "        return node2"
   ]
  }
 ],
 "metadata": {
  "kernelspec": {
   "display_name": "Python 3",
   "language": "python",
   "name": "python3"
  },
  "language_info": {
   "codemirror_mode": {
    "name": "ipython",
    "version": 3
   },
   "file_extension": ".py",
   "mimetype": "text/x-python",
   "name": "python",
   "nbconvert_exporter": "python",
   "pygments_lexer": "ipython3",
   "version": "3.7.3"
  }
 },
 "nbformat": 4,
 "nbformat_minor": 2
}
