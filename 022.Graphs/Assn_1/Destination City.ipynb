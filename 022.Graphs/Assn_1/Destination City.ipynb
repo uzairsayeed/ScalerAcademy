{
 "cells": [
  {
   "cell_type": "markdown",
   "metadata": {},
   "source": [
    "## Destination City:\n",
    "You are given the array paths, where paths[i] = [cityAi, cityBi] means there exists a direct path going from cityAi to cityBi. Return the destination city, that is, the city without any path outgoing to another city.\n",
    "\n",
    "It is guaranteed that the graph of paths forms a line without any loop, therefore, there will be exactly one destination city.\n",
    "## Example 1:\n",
    "### Input: \n",
    "paths = [[\"London\",\"New York\"],[\"New York\",\"Lima\"],[\"Lima\",\"Sao Paulo\"]]\n",
    "### Output: \n",
    "\"Sao Paulo\" \n",
    "### Explanation: \n",
    "Starting at \"London\" city you will reach \"Sao Paulo\" city which is the destination city. Your trip consist of: \"London\" -> \"New York\" -> \"Lima\" -> \"Sao Paulo\".\n",
    "## Example 2:\n",
    "### Input:\n",
    "paths = [[\"B\",\"C\"],[\"D\",\"B\"],[\"C\",\"A\"]]\n",
    "### Output: \n",
    "\"A\"\n",
    "### Explanation: \n",
    "All possible trips are: \n",
    "\n",
    "\"D\" -> \"B\" -> \"C\" -> \"A\". \n",
    "\n",
    "\"B\" -> \"C\" -> \"A\". \n",
    "\n",
    "\"C\" -> \"A\". \n",
    "\n",
    "\"A\". \n",
    "\n",
    "Clearly the destination city is \"A\".\n",
    "### Constraints:\n",
    "1 <= paths.length <= 100\n",
    "\n",
    "paths[i].length == 2\n",
    "\n",
    "1 <= cityAi.length, cityBi.length <= 10\n",
    "\n",
    "cityAi != cityBi\n",
    "\n",
    "All strings consist of lowercase and uppercase English letters and the space character."
   ]
  },
  {
   "cell_type": "code",
   "execution_count": 3,
   "metadata": {},
   "outputs": [
    {
     "name": "stdout",
     "output_type": "stream",
     "text": [
      "{'A', 'C', 'D', 'B'} {'C', 'D', 'B'}\n",
      "A\n"
     ]
    }
   ],
   "source": [
    "class Solution:\n",
    "    def solve(self, paths):\n",
    "        all_cities = set()\n",
    "        origin_cities = set()\n",
    "        for path in paths:\n",
    "            all_cities.add(path[0])\n",
    "            all_cities.add(path[1])\n",
    "            origin_cities.add(path[0])\n",
    "        print(all_cities, origin_cities)\n",
    "        return (all_cities - origin_cities).pop()\n",
    "    \n",
    "o = Solution()\n",
    "paths = [[\"B\",\"C\"],[\"D\",\"B\"],[\"C\",\"A\"]]\n",
    "print(o.solve(paths))"
   ]
  }
 ],
 "metadata": {
  "kernelspec": {
   "display_name": "Python 3",
   "language": "python",
   "name": "python3"
  },
  "language_info": {
   "codemirror_mode": {
    "name": "ipython",
    "version": 3
   },
   "file_extension": ".py",
   "mimetype": "text/x-python",
   "name": "python",
   "nbconvert_exporter": "python",
   "pygments_lexer": "ipython3",
   "version": "3.7.3"
  }
 },
 "nbformat": 4,
 "nbformat_minor": 2
}
