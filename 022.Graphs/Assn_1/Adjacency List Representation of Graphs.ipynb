{
 "cells": [
  {
   "cell_type": "code",
   "execution_count": 3,
   "metadata": {},
   "outputs": [
    {
     "name": "stdout",
     "output_type": "stream",
     "text": [
      "After adding vertices, the graph looks like -->  {1: [], 2: [], 3: [], 4: []}\n",
      "1  ->  2  edge weight:  1\n",
      "1  ->  3  edge weight:  1\n",
      "2  ->  3  edge weight:  3\n",
      "3  ->  4  edge weight:  4\n",
      "4  ->  1  edge weight:  5\n",
      "Internal representation:  {1: [[2, 1], [3, 1]], 2: [[3, 3]], 3: [[4, 4]], 4: [[1, 5]]}\n"
     ]
    }
   ],
   "source": [
    "# Add a vertex to the dictionary\n",
    "def add_vertex(v):\n",
    "  global graph\n",
    "  global vertices_no\n",
    "  if v in graph:\n",
    "    print(\"Vertex \", v, \" already exists.\")\n",
    "  else:\n",
    "    vertices_no = vertices_no + 1\n",
    "    graph[v] = []\n",
    "\n",
    "# Add an edge between vertex v1 and v2 with edge weight e\n",
    "def add_edge(v1, v2, e):\n",
    "  global graph\n",
    "  # Check if vertex v1 is a valid vertex\n",
    "  if v1 not in graph:\n",
    "    print(\"Vertex \", v1, \" does not exist.\")\n",
    "  # Check if vertex v2 is a valid vertex\n",
    "  elif v2 not in graph:\n",
    "    print(\"Vertex \", v2, \" does not exist.\")\n",
    "  else:\n",
    "    # Since this code is not restricted to a directed or \n",
    "    # an undirected graph, an edge between v1 v2 does not\n",
    "    # imply that an edge exists between v2 and v1\n",
    "    temp = [v2, e]\n",
    "    graph[v1].append(temp)\n",
    "\n",
    "# Print the graph\n",
    "def print_graph():\n",
    "  global graph\n",
    "  for vertex in graph:\n",
    "    for edges in graph[vertex]:\n",
    "      print(vertex, \" -> \", edges[0], \" edge weight: \", edges[1])\n",
    "\n",
    "# driver code\n",
    "graph = {}\n",
    "# stores the number of vertices in the graph\n",
    "vertices_no = 0\n",
    "add_vertex(1)\n",
    "add_vertex(2)\n",
    "add_vertex(3)\n",
    "add_vertex(4)\n",
    "print('After adding vertices, the graph looks like --> ',graph)\n",
    "# Add the edges between the vertices by specifying\n",
    "# the from and to vertex along with the edge weights.\n",
    "add_edge(1, 2, 1)\n",
    "add_edge(1, 3, 1)\n",
    "add_edge(2, 3, 3)\n",
    "add_edge(3, 4, 4)\n",
    "add_edge(4, 1, 5)\n",
    "print_graph()\n",
    "# Reminder: the second element of each list inside the dictionary\n",
    "# denotes the edge weight.\n",
    "print (\"Internal representation: \", graph)"
   ]
  },
  {
   "cell_type": "code",
   "execution_count": 7,
   "metadata": {},
   "outputs": [
    {
     "name": "stdout",
     "output_type": "stream",
     "text": [
      "( 1 ,  2 )\n",
      "( 1 ,  3 )\n",
      "( 2 ,  3 )\n",
      "( 2 ,  1 )\n",
      "( 3 ,  1 )\n",
      "( 3 ,  2 )\n",
      "( 3 ,  4 )\n",
      "( 4 ,  3 )\n",
      "{'1': ['2', '3'], '2': ['3', '1'], '3': ['1', '2', '4'], '4': ['3']}\n"
     ]
    }
   ],
   "source": [
    "class Graph:\n",
    "    \n",
    "    graph_dict={}\n",
    "    \n",
    "    def get_graph(self):\n",
    "        return self.graph_dict\n",
    "    \n",
    "    def addEdge(self,node,neighbour):  \n",
    "        if node not in self.graph_dict:\n",
    "            self.graph_dict[node]=[neighbour]\n",
    "        else:\n",
    "            self.graph_dict[node].append(neighbour)\n",
    "            \n",
    "    def show_edges(self):\n",
    "        for node in self.graph_dict:\n",
    "            for neighbour in self.graph_dict[node]:\n",
    "                print(\"(\",node,\", \",neighbour,\")\")\n",
    "            \n",
    "\n",
    "g= Graph()\n",
    "g.addEdge('1', '2')\n",
    "g.addEdge('1', '3')\n",
    "g.addEdge('2', '3')\n",
    "g.addEdge('2', '1')\n",
    "g.addEdge('3', '1')\n",
    "g.addEdge('3', '2')\n",
    "g.addEdge('3', '4')\n",
    "g.addEdge('4', '3')\n",
    "g.show_edges()\n",
    "print(g.get_graph())"
   ]
  },
  {
   "cell_type": "code",
   "execution_count": null,
   "metadata": {},
   "outputs": [],
   "source": [
    "class Graph:\n",
    "    G = {}\n",
    "    def add_edge(self, v1, v2):\n",
    "        if v1 not in self.G:\n",
    "            self.G[v1] = [v2]\n",
    "        else:\n",
    "            self.G[v1].append(v2)\n",
    "    def\n",
    "            \n",
    "\n",
    "g= Graph()\n",
    "g.addEdge('1', '2')\n",
    "g.addEdge('1', '3')\n",
    "g.addEdge('2', '3')\n",
    "g.addEdge('2', '1')\n",
    "g.addEdge('3', '1')\n",
    "g.addEdge('3', '2')\n",
    "g.addEdge('3', '4')\n",
    "g.addEdge('4', '3')\n",
    "g.show_edges()"
   ]
  }
 ],
 "metadata": {
  "kernelspec": {
   "display_name": "Python 3",
   "language": "python",
   "name": "python3"
  },
  "language_info": {
   "codemirror_mode": {
    "name": "ipython",
    "version": 3
   },
   "file_extension": ".py",
   "mimetype": "text/x-python",
   "name": "python",
   "nbconvert_exporter": "python",
   "pygments_lexer": "ipython3",
   "version": "3.7.3"
  }
 },
 "nbformat": 4,
 "nbformat_minor": 2
}
