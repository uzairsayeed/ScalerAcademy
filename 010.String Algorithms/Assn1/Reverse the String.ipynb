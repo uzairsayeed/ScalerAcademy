{
 "cells": [
  {
   "cell_type": "markdown",
   "metadata": {},
   "source": [
    "## Reverse the String:\n",
    "Problem Description\n",
    "\n",
    "Given a string A of size N.\n",
    "\n",
    "Return the string A after reversing the string word by word.\n",
    "\n",
    "### NOTE:\n",
    "A sequence of non-space characters constitutes a word.\n",
    "\n",
    "Your reversed string should not contain leading or trailing spaces, even if it is present in the input string.\n",
    "\n",
    "If there are multiple spaces between words, reduce them to a single space in the reversed string.\n",
    "### Problem Constraints\n",
    "1 <= N <= 105\n",
    "### Input Format\n",
    "The only argument given is string A.\n",
    "### Output Format\n",
    "Return the string A after reversing the string word by word.\n",
    "## Example Input\n",
    "### Input 1:\n",
    "    A = \"the sky is blue\"\n",
    "### Input 2:\n",
    "    A = \"this is ib\"  \n",
    "## Example Output\n",
    "### Output 1:\n",
    "    \"blue is sky the\"\n",
    "### Output 2:\n",
    "    \"ib is this\"    \n",
    "## Example Explanation\n",
    "### Explanation 1:\n",
    "    We reverse the string word by word so the string becomes \"the sky is blue\".\n",
    "### Explanation 2:\n",
    "    We reverse the string word by word so the string becomes \"this is ib\".\n",
    "\n"
   ]
  },
  {
   "cell_type": "code",
   "execution_count": 106,
   "metadata": {},
   "outputs": [
    {
     "name": "stdout",
     "output_type": "stream",
     "text": [
      "ib is this\n"
     ]
    }
   ],
   "source": [
    "class Solution:\n",
    "    # @param A : string\n",
    "    # @return a strings\n",
    "    def solve(self, A):\n",
    "        return ' '.join(A.strip().split()[::-1])\n",
    "o = Solution()\n",
    "A = 'this is ib'\n",
    "print(o.solve(A))"
   ]
  }
 ],
 "metadata": {
  "kernelspec": {
   "display_name": "Python 3",
   "language": "python",
   "name": "python3"
  },
  "language_info": {
   "codemirror_mode": {
    "name": "ipython",
    "version": 3
   },
   "file_extension": ".py",
   "mimetype": "text/x-python",
   "name": "python",
   "nbconvert_exporter": "python",
   "pygments_lexer": "ipython3",
   "version": "3.7.3"
  }
 },
 "nbformat": 4,
 "nbformat_minor": 2
}
