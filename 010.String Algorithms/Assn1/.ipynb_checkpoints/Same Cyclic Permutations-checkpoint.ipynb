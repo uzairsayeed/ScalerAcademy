{
 "cells": [
  {
   "cell_type": "markdown",
   "metadata": {},
   "source": [
    "## Same Cyclic Permutations:\n",
    "Given two String A, B of same length.\n",
    "\n",
    "Find the number of cyclic permutations of B that are same as A.\n",
    "### Input Format\n",
    "Given two arguments A, B of type String.\n",
    "### Output Format\n",
    "Return a single integer N, i.e number of Cyclic Permuations of B same as A.\n",
    "### Constraints\n",
    "1 <= length(A) = length(B) <= 1e5\n",
    "## Example\n",
    "### Example Input :\n",
    "    A = aba\n",
    "    \n",
    "    B = aba\n",
    "### Example Output :\n",
    "    1\n",
    "### Explanation :\n",
    "    All cyclic permutations of B are :\n",
    "    \n",
    "    1. aba\n",
    "    \n",
    "    2. baa\n",
    "    \n",
    "    3. aab\n",
    "    \n",
    "    here cyclic permutations 1 is same as A so ans is 1.\n"
   ]
  },
  {
   "cell_type": "code",
   "execution_count": 10,
   "metadata": {},
   "outputs": [
    {
     "name": "stdout",
     "output_type": "stream",
     "text": [
      "2\n"
     ]
    }
   ],
   "source": [
    "class Solution:\n",
    "    # @param A : string\n",
    "    # @param B : string\n",
    "    # @return an integer\n",
    "    def solve(self, A, B):\n",
    "        B = B+B\n",
    "        p = A+'$'+B[:-1]\n",
    "        z = self.zFunction(p)\n",
    "        #print(z, p)\n",
    "        n = len(A)\n",
    "        res = 0\n",
    "        for x in z:\n",
    "            if x == n:\n",
    "                res+=1\n",
    "        return res\n",
    "    def zFunction(self, s):\n",
    "        n = len(s)\n",
    "        z = [0]*n\n",
    "        z[0] = n\n",
    "        l, r = 1, 1\n",
    "        for i in range(1, n):\n",
    "            if i>r:\n",
    "                l, r = i, i\n",
    "                while r<n and s[r] == s[r-l]:\n",
    "                    r+=1\n",
    "                z[i] = r-l\n",
    "                r-=1\n",
    "            else:\n",
    "                if i+z[i-l] <= r:\n",
    "                    z[i] = z[i-l]\n",
    "                else:\n",
    "                    l = i\n",
    "                    while r<n and s[r] == s[r-l]:\n",
    "                        r+=1\n",
    "                    z[i] = r-l\n",
    "                    r-=1\n",
    "        return z\n",
    "o = Solution()\n",
    "A = 'baba'\n",
    "\n",
    "B = 'abab'\n",
    "print(o.solve(A, B))\n"
   ]
  },
  {
   "cell_type": "code",
   "execution_count": 4,
   "metadata": {},
   "outputs": [
    {
     "name": "stdout",
     "output_type": "stream",
     "text": [
      "abcab\n"
     ]
    }
   ],
   "source": [
    "b = 'abc'\n",
    "b = b+b\n",
    "p = b[:-1]\n",
    "print(p)"
   ]
  }
 ],
 "metadata": {
  "kernelspec": {
   "display_name": "Python 3",
   "language": "python",
   "name": "python3"
  },
  "language_info": {
   "codemirror_mode": {
    "name": "ipython",
    "version": 3
   },
   "file_extension": ".py",
   "mimetype": "text/x-python",
   "name": "python",
   "nbconvert_exporter": "python",
   "pygments_lexer": "ipython3",
   "version": "3.7.3"
  }
 },
 "nbformat": 4,
 "nbformat_minor": 2
}
