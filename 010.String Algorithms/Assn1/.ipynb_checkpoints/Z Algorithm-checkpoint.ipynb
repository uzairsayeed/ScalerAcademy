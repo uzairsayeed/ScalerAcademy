{
 "cells": [
  {
   "cell_type": "markdown",
   "metadata": {},
   "source": [
    "## Z Algorithm:\n",
    "Suppose we are given a string s of length n. The Z-function for this string is an array of length n where the i-th element is equal to the greatest number of characters starting from the position i that coincide with the first characters of s.\n",
    "\n",
    "In other words, z[i] is the length of the longest common prefix between s and the suffix of s starting at i.\n",
    "\n",
    "### Note :\n",
    "To avoid ambiguity, we assume 0-based indexes; that is: the first character of s has index 0 and the last one has index n−1.\n",
    "\n",
    "The first element of Z-function, z[0], is generally not well defined. In this article we will assume it is zero (although it doesn't change anything in the algorithm implementation).\n",
    "\n",
    "This article presents an algorithm for calculating the Z-function in O(n) time, as well as various of its applications.\n",
    "\n",
    "### Examples\n",
    "For example, here are the values of the Z-function computed for different strings:\n",
    "\n",
    "\"aaaaa\" - [0,4,3,2,1]\n",
    "\n",
    "\"aaabaab\" - [0,2,1,0,2,1,0]\n",
    "\n",
    "\"abacaba\" - [0,0,1,0,3,0,1]\n",
    "### Applications:\n",
    "We will now consider some uses of Z-functions for specific tasks.\n",
    "\n",
    "These applications will be largely similar to applications of prefix function.\n",
    "\n",
    "### Search the substring:\n",
    "To avoid confusion, we call t the string of text, and p the pattern. The problem is: find all occurrences of the pattern p inside the text t.\n",
    "\n",
    "To solve this problem, we create a new string s=p+⋄+t, that is, we apply string concatenation to p and t but we also put a separator character ⋄ in the middle (we'll choose ⋄ so that it will certainly not be present anywhere in the strings p or t).\n",
    "\n",
    "Compute the Z-function for s. Then, for any i in the interval [0;length(t)−1], we will consider the corresponding value k=z[i+length(p)+1]. If k is equal to length(p) then we know there is one occurrence of p in the i-th position of t, otherwise there is no occurrence of p in the i-th position of t.\n",
    "\n",
    "The running time (and memory consumption) is O(length(t)+length(p)).\n",
    "\n",
    "### Number of distinct substrings in a string\n",
    "Given a string s of length n, count the number of distinct substrings of s.\n",
    "\n",
    "We'll solve this problem iteratively. That is: knowing the current number of different substrings, recalculate this amount after adding to the end of s one character.\n",
    "\n",
    "So, let k be the current number of distinct substrings of s. We append a new character c to s. Obviously, there can be some new substrings ending in this new character c (namely, all those strings that end with this symbol and that we haven't encountered yet).\n",
    "\n",
    "Take a string t=s+c and invert it (write its characters in reverse order). Our task is now to count how many prefixes of t are not found anywhere else in t. Let's compute the Z-function of t and find its maximum value zmax. Obviously, t's prefix of length zmax occurs also somewhere in the middle of t. Clearly, shorter prefixes also occur.\n",
    "\n",
    "So, we have found that the number of new substrings that appear when symbol c is appended to s is equal to length(t)−zmax.\n",
    "\n",
    "Consequently, the running time of this solution is O(n2) for a string of length n.\n",
    "\n",
    "It's worth noting that in exactly the same way we can recalculate, still in O(n) time, the number of distinct substrings when appending a character in the beginning of the string, as well as when removing it (from the end or the beginning).\n",
    "\n",
    "### String compression\n",
    "Given a string s of length n. Find its shortest \"compressed\" representation, that is: find a string t of shortest length such that s can be represented as a concatenation of one or more copies of t.\n",
    "\n",
    "A solution is: compute the Z-function of s, loop through all i such that i divides n. Stop at the first i such that i+z[i]=n. Then, the string s can be compressed to the length i.\n",
    "\n",
    "The proof for this fact is the same as the solution which uses the prefix function."
   ]
  },
  {
   "cell_type": "code",
   "execution_count": 8,
   "metadata": {},
   "outputs": [
    {
     "name": "stdout",
     "output_type": "stream",
     "text": [
      "[19, 1, 0, 0, 4, 1, 0, 0, 0, 8, 1, 0, 0, 5, 1, 0, 0, 1, 0]\n"
     ]
    }
   ],
   "source": [
    "class Solution:\n",
    "    def zFunction(self, s):\n",
    "        n = len(s)\n",
    "        z = [0]*n\n",
    "        z[0] = n\n",
    "        l, r = 1, 1\n",
    "        for i in range(1, n):\n",
    "            if i > r:\n",
    "                l, r = i, i\n",
    "                while r<n and s[r] == s[r-l]:\n",
    "                    r+=1\n",
    "                z[i] = r-l\n",
    "                r-=1\n",
    "            else:\n",
    "                if i+z[i-l] <= r:\n",
    "                    z[i] = z[i-l]\n",
    "                else:\n",
    "                    l = i\n",
    "                    while r<n and s[r] == s[r-l]:\n",
    "                        r+=1\n",
    "                    z[i] = r-l\n",
    "                    r-=1\n",
    "        return z\n",
    "    \n",
    "o = Solution()\n",
    "a = 'xxyaxxyazxxyaxxyaxz'\n",
    "print(o.zFunction(a))"
   ]
  }
 ],
 "metadata": {
  "kernelspec": {
   "display_name": "Python 3",
   "language": "python",
   "name": "python3"
  },
  "language_info": {
   "codemirror_mode": {
    "name": "ipython",
    "version": 3
   },
   "file_extension": ".py",
   "mimetype": "text/x-python",
   "name": "python",
   "nbconvert_exporter": "python",
   "pygments_lexer": "ipython3",
   "version": "3.7.3"
  }
 },
 "nbformat": 4,
 "nbformat_minor": 2
}
