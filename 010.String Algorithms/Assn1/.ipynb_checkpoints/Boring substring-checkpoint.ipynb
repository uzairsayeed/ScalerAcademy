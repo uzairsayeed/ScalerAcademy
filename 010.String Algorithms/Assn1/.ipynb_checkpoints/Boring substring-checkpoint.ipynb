{
 "cells": [
  {
   "cell_type": "markdown",
   "metadata": {},
   "source": [
    "## Boring substring:\n",
    "Problem Description\n",
    "\n",
    "Given a string A of lowercase English alphabets. Rearrange the characters of the given string A such that there is no boring substring in A.\n",
    "\n",
    "A boring substring has the following properties:\n",
    "\n",
    "Its length is 2.\n",
    "\n",
    "Both the characters are consecutive, for example - \"ab\", \"cd\", \"dc\", \"zy\" etc.(If the first character is C then the next character can be either (C+1) or (C-1)).\n",
    "\n",
    "Return 1 if it possible to rearrange the letters of A such that there are no boring substring in A, else return 0\n",
    "### Problem Constraints\n",
    "1 <= |A| <= 100\n",
    "### Input Format\n",
    "The only argument given is string A.\n",
    "### Output Format\n",
    "Return 1 if it possible to rearrange the letters of A such that there are no boring substring in A, else return 0.\n",
    "## Example Input\n",
    "### Input 1:\n",
    " A =\"abcd\"\n",
    "### Input 2:\n",
    " A = \"aab\"\n",
    "## Example Output\n",
    "### Output 1:\n",
    " 1\n",
    "### Output 2:\n",
    " 0\n",
    "## Example Explanation\n",
    "### Explanation 1:\n",
    " String A can be rearranged into \"cadb\" or \"bdac\" \n",
    "### Explanation 2:\n",
    " No arrangement of string A can make it free of boring substrings."
   ]
  },
  {
   "cell_type": "code",
   "execution_count": 8,
   "metadata": {},
   "outputs": [
    {
     "name": "stdout",
     "output_type": "stream",
     "text": [
      "0\n"
     ]
    }
   ],
   "source": [
    "class Solution:\n",
    "    # @param A : string\n",
    "    # @return an integer\n",
    "    def solve(self, A):\n",
    "        even_chars, odd_chars = [], []\n",
    "        res = 0\n",
    "        for x in A:\n",
    "            if ord(x)%2 == 0:\n",
    "                even_chars.append(x)\n",
    "            else:\n",
    "                odd_chars.append(x)\n",
    "        if len(even_chars) == 0 or len(odd_chars) == 0:\n",
    "            return 1\n",
    "        #print(even_chars, odd_chars)\n",
    "        even_max, even_min = max(even_chars), min(even_chars)\n",
    "        odd_max, odd_min = max(odd_chars), min(odd_chars)\n",
    "        #print(even_min, odd_max, even_max, odd_min)\n",
    "        if abs(ord(even_min) - ord(odd_max)) != 1 or abs(ord(even_max) - ord(odd_min)) != 1:\n",
    "            res = 1\n",
    "        return res\n",
    "            \n",
    "o = Solution()\n",
    "a = 'aab'\n",
    "print(o.solve(a))"
   ]
  }
 ],
 "metadata": {
  "kernelspec": {
   "display_name": "Python 3",
   "language": "python",
   "name": "python3"
  },
  "language_info": {
   "codemirror_mode": {
    "name": "ipython",
    "version": 3
   },
   "file_extension": ".py",
   "mimetype": "text/x-python",
   "name": "python",
   "nbconvert_exporter": "python",
   "pygments_lexer": "ipython3",
   "version": "3.7.3"
  }
 },
 "nbformat": 4,
 "nbformat_minor": 2
}
