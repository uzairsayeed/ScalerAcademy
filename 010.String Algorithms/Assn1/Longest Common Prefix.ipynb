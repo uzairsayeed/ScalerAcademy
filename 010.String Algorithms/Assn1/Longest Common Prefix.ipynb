{
 "cells": [
  {
   "cell_type": "markdown",
   "metadata": {},
   "source": [
    "## Longest Common Prefix:\n",
    "Problem Description\n",
    "\n",
    "Given the array of strings A, you need to find the longest string S which is the prefix of ALL the strings in the array.\n",
    "\n",
    "Longest common prefix for a pair of strings S1 and S2 is the longest string S which is the prefix of both S1 and S2.\n",
    "\n",
    "### For Example: \n",
    "Longest common prefix of \"abcdefgh\" and \"abcefgh\" is \"abc\".\n",
    "### Problem Constraints\n",
    "0 <= sum of length of all strings <= 1000000\n",
    "### Input Format\n",
    "The only argument given is an array of strings A.\n",
    "### Output Format\n",
    "Return the longest common prefix of all strings in A.\n",
    "## Example Input\n",
    "### Input 1:\n",
    "A = [\"abcdefgh\", \"aefghijk\", \"abcefgh\"]\n",
    "### Input 2:\n",
    "A = [\"abab\", \"ab\", \"abcd\"];\n",
    "## Example Output\n",
    "### Output 1:\n",
    "\"a\"\n",
    "### Output 2:\n",
    "\"ab\"\n",
    "## Example Explanation\n",
    "### Explanation 1:\n",
    "Longest common prefix of all the strings is \"a\".\n",
    "### Explanation 2:\n",
    "Longest common prefix of all the strings is \"ab\"."
   ]
  },
  {
   "cell_type": "code",
   "execution_count": 27,
   "metadata": {},
   "outputs": [
    {
     "name": "stdout",
     "output_type": "stream",
     "text": [
      "[('a', 'a', 'a'), ('b', 'e', 'b'), ('c', 'f', 'c'), ('d', 'g', 'e'), ('e', 'h', 'f'), ('f', 'i', 'g'), ('g', 'j', 'h')]\n",
      "a\n"
     ]
    }
   ],
   "source": [
    "class Solution:\n",
    "    # @param A : list of strings\n",
    "    # @return a strings\n",
    "    def longestCommonPrefix(self, a):\n",
    "        A = list(zip(*a))\n",
    "        print(A)\n",
    "        n = len(A)\n",
    "        res = []\n",
    "        for i in range(n):\n",
    "            p = 0\n",
    "            bFlag = True\n",
    "            while p < len(A[i])-1:\n",
    "                if A[i][p] != A[i][p+1]:\n",
    "                    bFlag = False\n",
    "                    break\n",
    "                p+=1\n",
    "            if bFlag:\n",
    "                res.append(A[i][0])\n",
    "            else:\n",
    "                break\n",
    "        return ''.join(res)\n",
    "o = Solution()\n",
    "A = [\"abcdefgh\", \"aefghijk\", \"abcefgh\"]\n",
    "print(o.longestCommonPrefix(A))"
   ]
  },
  {
   "cell_type": "code",
   "execution_count": 56,
   "metadata": {},
   "outputs": [
    {
     "name": "stdout",
     "output_type": "stream",
     "text": [
      "Microsoft Google\n"
     ]
    }
   ],
   "source": [
    "s = 'Microsoft Google'\n",
    "x = (' '.join(s.split()))[::-1] \n",
    "print(x[::-1])"
   ]
  }
 ],
 "metadata": {
  "kernelspec": {
   "display_name": "Python 3",
   "language": "python",
   "name": "python3"
  },
  "language_info": {
   "codemirror_mode": {
    "name": "ipython",
    "version": 3
   },
   "file_extension": ".py",
   "mimetype": "text/x-python",
   "name": "python",
   "nbconvert_exporter": "python",
   "pygments_lexer": "ipython3",
   "version": "3.7.3"
  }
 },
 "nbformat": 4,
 "nbformat_minor": 2
}
