{
 "cells": [
  {
   "cell_type": "markdown",
   "metadata": {},
   "source": [
    "## Closest Palindrome:\n",
    "Problem Description\n",
    "\n",
    "Groot has a profound love for palindrome which is why he keeps fooling around with strings.\n",
    "A palindrome string is one that reads the same backward as well as forward.\n",
    "\n",
    "Given a string A of size N consisting of lowercase alphabets, he wants to know if it is possible to make the given string a palindrome by changing exactly one of its character.\n",
    "### Problem Constraints\n",
    "1 <= N <= 105\n",
    "### Input Format\n",
    "First and only argument is a string A.\n",
    "### Output Format\n",
    "Return the string YES if it is possible to make the given string a palindrome by changing exactly 1 character. Else, it should return the string NO.\n",
    "## Example Input\n",
    "### Input 1:\n",
    " A = \"abbba\"\n",
    "### Input 2:\n",
    " A = \"adaddb\"\n",
    "## Example Output\n",
    "### Output 1:\n",
    " \"YES\"\n",
    "### Output 2:\n",
    " \"NO\"\n",
    "## Example Explanation\n",
    "### Explanation 1:\n",
    " We can change the character at index 3(1-based) to any other character. The string will be palindromic.\n",
    "### Explanation 2:\n",
    " To make the string palindromic we need to change 2 characters. "
   ]
  },
  {
   "cell_type": "code",
   "execution_count": 12,
   "metadata": {},
   "outputs": [
    {
     "name": "stdout",
     "output_type": "stream",
     "text": [
      "NO\n"
     ]
    }
   ],
   "source": [
    "class Solution:\n",
    "    # @param A : string\n",
    "    # @return a strings\n",
    "    def solve(self, a):\n",
    "        n = len(a)\n",
    "        ex = 1\n",
    "        res = 1\n",
    "        i, j = 0, n-1\n",
    "        while i<=j:\n",
    "            if a[i] == a[j]:\n",
    "                i+=1\n",
    "                j-=1\n",
    "            else:\n",
    "                if ex != 0:\n",
    "                    ex-=1\n",
    "                    i+=1\n",
    "                    j-=1\n",
    "                else:\n",
    "                    res = 0\n",
    "                    break\n",
    "        if res and ex == 0:\n",
    "            return 'YES'\n",
    "        if res and ex == 1:\n",
    "            if n%2!=0:\n",
    "                return 'YES'\n",
    "            return 'NO'\n",
    "        return 'NO'\n",
    "o = Solution()\n",
    "A = 'adaddb'\n",
    "print(o.solve(A))"
   ]
  }
 ],
 "metadata": {
  "kernelspec": {
   "display_name": "Python 3",
   "language": "python",
   "name": "python3"
  },
  "language_info": {
   "codemirror_mode": {
    "name": "ipython",
    "version": 3
   },
   "file_extension": ".py",
   "mimetype": "text/x-python",
   "name": "python",
   "nbconvert_exporter": "python",
   "pygments_lexer": "ipython3",
   "version": "3.7.3"
  }
 },
 "nbformat": 4,
 "nbformat_minor": 2
}
