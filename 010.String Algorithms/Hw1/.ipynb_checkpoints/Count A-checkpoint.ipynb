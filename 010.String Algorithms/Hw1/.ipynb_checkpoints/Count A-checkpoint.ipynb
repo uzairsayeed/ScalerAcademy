{
 "cells": [
  {
   "cell_type": "markdown",
   "metadata": {},
   "source": [
    "## Count A:\n",
    "Problem Description\n",
    "\n",
    "You are given a string A. Find the number of substrings that start and end with 'a'.\n",
    "### Problem Constraints\n",
    "1 <= |A| <= 105\n",
    "\n",
    "String will have only lowercase English letters.\n",
    "### Input Format\n",
    "Given the only argument is a String A.\n",
    "### Output Format\n",
    "Return number of substrings that start and end with 'a'.\n",
    "## Example Input\n",
    "### Input 1:\n",
    " A = \"aab\"\n",
    "### Input 2:\n",
    " A = \"bcbc\"\n",
    "## Example Output\n",
    "### Output 1:\n",
    " 3\n",
    "### Output 2:\n",
    " 0\n",
    "## Example Explanation\n",
    "### Explanation 1:\n",
    " Substrings that start and end with 'a' are:\n",
    "    \n",
    "    1. \"a\"\n",
    "    \n",
    "    2. \"aa\"\n",
    "    \n",
    "    3. \"a\"\n",
    "### Explanation 2:\n",
    " There are no substrings that start and end with 'a'.\n"
   ]
  },
  {
   "cell_type": "code",
   "execution_count": 1,
   "metadata": {},
   "outputs": [
    {
     "name": "stdout",
     "output_type": "stream",
     "text": [
      "3\n"
     ]
    }
   ],
   "source": [
    "class Solution:\n",
    "    # @param A : string\n",
    "    # @return an integer\n",
    "    def solve(self, A):\n",
    "        n = 0\n",
    "        for x in A:\n",
    "            if x == 'a':\n",
    "                n+=1\n",
    "        return n*(n+1)//2\n",
    "o = Solution()\n",
    "A = 'aab'\n",
    "print(o.solve(A))"
   ]
  }
 ],
 "metadata": {
  "kernelspec": {
   "display_name": "Python 3",
   "language": "python",
   "name": "python3"
  },
  "language_info": {
   "codemirror_mode": {
    "name": "ipython",
    "version": 3
   },
   "file_extension": ".py",
   "mimetype": "text/x-python",
   "name": "python",
   "nbconvert_exporter": "python",
   "pygments_lexer": "ipython3",
   "version": "3.7.3"
  }
 },
 "nbformat": 4,
 "nbformat_minor": 2
}
