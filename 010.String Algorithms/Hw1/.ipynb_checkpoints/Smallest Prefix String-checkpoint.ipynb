{
 "cells": [
  {
   "cell_type": "markdown",
   "metadata": {},
   "source": [
    "## Smallest Prefix String:\n",
    "Problem Description\n",
    "\n",
    "Given 2 strings A and B of size N and M respectively consisting of lowercase alphabets, find the lexicographically smallest string that can be formed by concatenating non empty prefixes of A and B (in that order).\n",
    "\n",
    "### Note:\n",
    "The answer string has to start with a non empty prefix of string A followed by a non empty prefix of string B.\n",
    "### Problem Constraints\n",
    "1 <= N, M <= 100000\n",
    "### Input Format\n",
    "First argument is a string A of size N.\n",
    "\n",
    "Second argument is a string B of size M.\n",
    "### Output Format\n",
    "Return a string denoting Lexicographically smallest string that can be formed by concatenating non empty prefixes of A and B (in that order).\n",
    "## Example Input\n",
    "### Input 1:\n",
    " A = \"abba\"\n",
    " \n",
    " B = \"cdd\"\n",
    "### Input 2:\n",
    " A = \"acd\"\n",
    " \n",
    " B = \"bay\"\n",
    "## Example Output\n",
    "### Output 1:\n",
    " \"abbac\"\n",
    "### Output 2:\n",
    " \"ab\"\n",
    "## Example Explanation\n",
    "### Explanation 1:\n",
    " We can concatenate prefix of A i.e \"abba\" and prefix of B i.e \"c\".\n",
    " \n",
    " The lexicographically smallest string will be \"abbac\".\n",
    "### Explanation 2:\n",
    " We can concatenate prefix of A i.e \"a\" and prefix of B i.e \"b\".\n",
    " \n",
    " The lexicographically smallest string will be \"ab\"."
   ]
  },
  {
   "cell_type": "code",
   "execution_count": 4,
   "metadata": {},
   "outputs": [
    {
     "name": "stdout",
     "output_type": "stream",
     "text": [
      "ab\n"
     ]
    }
   ],
   "source": [
    "class Solution:\n",
    "    # @4param A : string\n",
    "    # @param B : string\n",
    "    # @return a strings\n",
    "    def smallestPrefix(self, a, b):\n",
    "        n = len(a)\n",
    "        res = []\n",
    "        res.append(a[0])\n",
    "        for i in range(1, n):\n",
    "            if ord(a[i]) < ord(b[0]):\n",
    "                res.append(a[i])\n",
    "            else:\n",
    "                break\n",
    "        res.append(b[0])\n",
    "        return ''.join(res)\n",
    "o = Solution()\n",
    "A = 'acd'\n",
    "B = 'bay'\n",
    "print(o.smallestPrefix(A, B))"
   ]
  }
 ],
 "metadata": {
  "kernelspec": {
   "display_name": "Python 3",
   "language": "python",
   "name": "python3"
  },
  "language_info": {
   "codemirror_mode": {
    "name": "ipython",
    "version": 3
   },
   "file_extension": ".py",
   "mimetype": "text/x-python",
   "name": "python",
   "nbconvert_exporter": "python",
   "pygments_lexer": "ipython3",
   "version": "3.7.3"
  }
 },
 "nbformat": 4,
 "nbformat_minor": 2
}
