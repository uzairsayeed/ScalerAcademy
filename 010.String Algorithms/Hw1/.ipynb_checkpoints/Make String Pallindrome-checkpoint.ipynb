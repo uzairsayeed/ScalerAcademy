{
 "cells": [
  {
   "cell_type": "markdown",
   "metadata": {},
   "source": [
    "## Make String Pallindrome:\n",
    "Problem Description\n",
    "\n",
    "Given a string A of size N consisting only of lowercase alphabets. The only operation allowed is to insert characters in the beginning of the string.\n",
    "\n",
    "Find and return how many minimum characters are needed to be inserted to make the string a palindrome string.\n",
    "### Problem Constraints\n",
    "1 <= N <= 105\n",
    "### Input Format\n",
    "The only argument given is a string A.\n",
    "### Output Format\n",
    "Return an integer denoting the minimum characters that are needed to be inserted to make the string a palindrome string.\n",
    "## Example Input\n",
    "### Input 1:\n",
    " A = \"abc\"\n",
    "### Input 2:\n",
    " A = \"bb\"\n",
    "## Example Output\n",
    "### Output 1:\n",
    " 2\n",
    "### Output 2:\n",
    " 0\n",
    "## Example Explanation\n",
    "### Explanation 1:\n",
    " Insert 'b' at beginning, string becomes: \"babc\".\n",
    " \n",
    " Insert 'c' at beginning, string becomes: \"cbabc\".\n",
    "### Explanation 2:\n",
    " There is no need to insert any character at the beginning as the string is already a palindrome. "
   ]
  },
  {
   "cell_type": "code",
   "execution_count": 53,
   "metadata": {},
   "outputs": [
    {
     "name": "stdout",
     "output_type": "stream",
     "text": [
      "24\n"
     ]
    }
   ],
   "source": [
    "# KMP Algorithm\n",
    "class Solution:\n",
    "    # @param A : string\n",
    "    # @return an integer\n",
    "    def create_lps(self,A):\n",
    "        M=len(A)\n",
    "        lps=[None]*M\n",
    "        l=0\n",
    "        lps[0]=l\n",
    "        i=1 \n",
    "        while i<M:\n",
    "            if A[i]==A[l]:\n",
    "                l+=1\n",
    "                lps[i]=l\n",
    "                i+=1\n",
    "            else:\n",
    "                if l!=0:\n",
    "                    l=lps[l-1]\n",
    "                else:\n",
    "                    lps[i]=0\n",
    "                    i+=1\n",
    "        return lps\n",
    "    def solve(self, A):\n",
    "        lps=self.create_lps(A+\"$\"+A[::-1])\n",
    "        return len(A)-lps[-1]\n",
    "o = Solution()\n",
    "A = 'eylfpbnpljvrvipyamyehwqnq'\n",
    "print(o.solve(A))"
   ]
  },
  {
   "cell_type": "code",
   "execution_count": 52,
   "metadata": {},
   "outputs": [
    {
     "name": "stdout",
     "output_type": "stream",
     "text": [
      "25\n",
      "[51, 0, 0, 0, 0, 0, 0, 0, 0, 0, 0, 0, 0, 0, 0, 0, 0, 0, 0, 1, 0, 0, 0, 0, 0, 0, 0, 0, 0, 0, 0, 2, 0, 0, 0, 0, 0, 0, 0, 0, 0, 0, 0, 0, 0, 0, 0, 0, 0, 0, 1]\n",
      "24\n"
     ]
    }
   ],
   "source": [
    "class Solution:\n",
    "    # @param A : string\n",
    "    # @return an integer\n",
    "    def solve(self, a):\n",
    "        print(len(a))\n",
    "        p = a+'$'+a[::-1]\n",
    "        z = self.zFunction(p)\n",
    "        print(z)\n",
    "        return len(a)-z[len(z)-1]\n",
    "    def zFunction(self, s):\n",
    "        n = len(s)\n",
    "        z = [0]*n\n",
    "        z[0] = n\n",
    "        l, r = 1, 1\n",
    "        for i in range(1, n):\n",
    "            if i > r:\n",
    "                l, r = i, i\n",
    "                while r<n and s[r] == s[r-l]:\n",
    "                    r+=1\n",
    "                z[i] = r-l\n",
    "                r-=1\n",
    "            else:\n",
    "                if i+z[i-l] <= r:\n",
    "                    z[i] = z[i-l]\n",
    "                else:\n",
    "                    l = i\n",
    "                    while r<n and s[r] == s[r-l]:\n",
    "                        r+=1\n",
    "                    z[i] = r-l\n",
    "                    r-=1\n",
    "        return z\n",
    "o = Solution()\n",
    "A = 'eylfpbnpljvrvipyamyehwqnq'\n",
    "print(o.solve(A))\n"
   ]
  }
 ],
 "metadata": {
  "kernelspec": {
   "display_name": "Python 3",
   "language": "python",
   "name": "python3"
  },
  "language_info": {
   "codemirror_mode": {
    "name": "ipython",
    "version": 3
   },
   "file_extension": ".py",
   "mimetype": "text/x-python",
   "name": "python",
   "nbconvert_exporter": "python",
   "pygments_lexer": "ipython3",
   "version": "3.7.3"
  }
 },
 "nbformat": 4,
 "nbformat_minor": 2
}
