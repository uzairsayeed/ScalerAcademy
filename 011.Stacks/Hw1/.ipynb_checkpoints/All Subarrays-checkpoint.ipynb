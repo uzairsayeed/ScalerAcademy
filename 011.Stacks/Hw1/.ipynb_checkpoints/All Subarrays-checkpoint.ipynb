{
 "cells": [
  {
   "cell_type": "markdown",
   "metadata": {},
   "source": [
    "## All Subarrays:\n",
    "Problem Description\n",
    "\n",
    "Given an integer array A of size N. You have to generate it's all subarrays having the size greater than 1.\n",
    "\n",
    "Then for each subarray find Bitwise XOR of its maximum and second maximum element.\n",
    "\n",
    "Find and return the maximum value of XOR among all subarrays.\n",
    "### Problem Constraints\n",
    "2 <= N <= 105\n",
    "\n",
    "1 <= A[i] <= 107\n",
    "### Input Format\n",
    "Only argument is an integer array A.\n",
    "### Output Format\n",
    "Return an integer, i.e maximum value of XOR of maximum and 2nd maximum element among all subarrays.\n",
    "## Example Input\n",
    "### Input 1:\n",
    " A = [2, 3, 1, 4]\n",
    "### Input 2:\n",
    " A = [1, 3]\n",
    "## Example Output\n",
    "### Output 1:\n",
    " 7\n",
    "### Output 2:\n",
    " 2\n",
    "## Example Explanation\n",
    "### Explanation 1:\n",
    " All subarrays of A having size greater than 1 are:\n",
    " \n",
    " Subarray            XOR of maximum and 2nd maximum no.\n",
    " \n",
    " 1. [2, 3]           1\n",
    " \n",
    " 2. [2, 3, 1]        1\n",
    " \n",
    " 3. [2, 3, 1, 4]     7\n",
    " \n",
    " 4. [3, 1]           2\n",
    " \n",
    " 5. [3, 1, 4]        7\n",
    " \n",
    " 6. [1, 4]           5\n",
    "\n",
    "So maximum value of Xor among all subarrays is 7.\n",
    "### Explanation 2:\n",
    " Only subarray is [1, 3] and XOR of maximum and 2nd maximum is 2."
   ]
  },
  {
   "cell_type": "code",
   "execution_count": 4,
   "metadata": {},
   "outputs": [
    {
     "name": "stdout",
     "output_type": "stream",
     "text": [
      "11\n"
     ]
    }
   ],
   "source": [
    "class Solution:\n",
    "    # @param A : list of integers\n",
    "    # @return an integer\n",
    "    def solve(self, a):\n",
    "        n = len(a)        \n",
    "        sForward, sBackward = [], [] \n",
    "        ans = -1\n",
    "        for i in range(n):\n",
    "            while len(sForward) > 0 and a[i] < a[sForward[-1]]: \n",
    "                ans = max(ans, a[i] ^ a[sForward[-1]]) \n",
    "                sForward.pop()\n",
    "            sForward.append(i) \n",
    "            while len(sBackward) > 0 and a[n - i - 1] < a[sBackward[-1]]: \n",
    "                ans = max(ans, a[n - i - 1] ^ a[sBackward[-1]]) \n",
    "                sBackward.pop() \n",
    "            sBackward.append(n - i - 1) \n",
    "        return ans \n",
    "o = Solution()\n",
    "a = [ 9,8,3,5,7]\n",
    "print(o.solve(a))\n"
   ]
  }
 ],
 "metadata": {
  "kernelspec": {
   "display_name": "Python 3",
   "language": "python",
   "name": "python3"
  },
  "language_info": {
   "codemirror_mode": {
    "name": "ipython",
    "version": 3
   },
   "file_extension": ".py",
   "mimetype": "text/x-python",
   "name": "python",
   "nbconvert_exporter": "python",
   "pygments_lexer": "ipython3",
   "version": "3.7.3"
  }
 },
 "nbformat": 4,
 "nbformat_minor": 2
}
