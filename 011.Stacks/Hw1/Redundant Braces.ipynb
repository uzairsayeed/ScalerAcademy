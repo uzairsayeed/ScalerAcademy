{
 "cells": [
  {
   "cell_type": "markdown",
   "metadata": {},
   "source": [
    "## Redundant Braces:\n",
    "Given a string A denoting an expression. It contains the following operators '+', '-', '*', '/'. Chech whether A has redundant braces or not. Return 1 if A has redundant braces, else return 0.\n",
    "\n",
    "### Note: A will be always a valid expression. \n",
    "\n",
    "### Input Format\n",
    "The only argument given is string A.\n",
    "\n",
    "### Output Format\n",
    "Return 1 if string has redundant braces, else return 0.\n",
    "\n",
    "## For Example\n",
    "\n",
    "### Input 1:\n",
    "    A = \"((a + b))\"\n",
    "\n",
    "### Output 1:\n",
    "    1\n",
    "    Explanation 1:\n",
    "        ((a + b)) has redundant braces so answer will be 1.\n",
    "\n",
    "### Input 2:\n",
    "    A = \"(a + (a + b))\"\n",
    "\n",
    "### Output 2:\n",
    "    0\n",
    "### Explanation 2:\n",
    "    (a + (a + b)) doesn't have have any redundant braces so answer will be 0."
   ]
  },
  {
   "cell_type": "code",
   "execution_count": 6,
   "metadata": {},
   "outputs": [
    {
     "name": "stdout",
     "output_type": "stream",
     "text": [
      "0\n"
     ]
    }
   ],
   "source": [
    "class Solution:\n",
    "\t# @param A : string\n",
    "\t# @return an integer\n",
    "    def braces(self, s):\n",
    "        st = []\n",
    "        for ch in s:\n",
    "            if ch == ')':\n",
    "                top = st[-1]\n",
    "                st.pop()\n",
    "                bFlag = True\n",
    "                while top != '(':\n",
    "                    if top == '+' or top == '-' or top == '*' or top == '/' or top == '%':\n",
    "                         bFlag = False\n",
    "                    top = st[-1]\n",
    "                    st.pop()\n",
    "                if bFlag == True:\n",
    "                    return 1\n",
    "            else:\n",
    "                st.append(ch)\n",
    "        \n",
    "        return 0\n",
    "o = Solution()\n",
    "A = \"-(a+((b-c)-(d+e)))\"\n",
    "print(o.braces(A))"
   ]
  }
 ],
 "metadata": {
  "kernelspec": {
   "display_name": "Python 3",
   "language": "python",
   "name": "python3"
  },
  "language_info": {
   "codemirror_mode": {
    "name": "ipython",
    "version": 3
   },
   "file_extension": ".py",
   "mimetype": "text/x-python",
   "name": "python",
   "nbconvert_exporter": "python",
   "pygments_lexer": "ipython3",
   "version": "3.7.3"
  }
 },
 "nbformat": 4,
 "nbformat_minor": 2
}
