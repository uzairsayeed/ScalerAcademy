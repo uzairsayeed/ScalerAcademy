{
 "cells": [
  {
   "cell_type": "markdown",
   "metadata": {},
   "source": [
    "## Maximum Rectangle:\n",
    "Given a 2D binary matrix of integers A containing 0's and 1's of size N x M.\n",
    "\n",
    "Find the largest rectangle containing only 1's and return its area.\n",
    "### Note: \n",
    "Rows are numbered from top to bottom and columns are numbered from left to right.\n",
    "### Input Format\n",
    "The only argument given is the integer matrix A.\n",
    "### Output Format\n",
    "Return the area of the largest rectangle containing only 1's.\n",
    "### Constraints\n",
    "1 <= N, M <= 1000\n",
    "\n",
    "0 <= A[i] <= 1\n",
    "## For Example\n",
    "### Input 1:\n",
    "    A = [   \n",
    "            [0, 0, 1]\n",
    "            \n",
    "            [0, 1, 1]\n",
    "            \n",
    "            [1, 1, 1]   \n",
    "        ]\n",
    "### Output 1:\n",
    "    4\n",
    "### Input 2:\n",
    "    A = [   \n",
    "            [0, 1, 0, 1]\n",
    "            \n",
    "            [1, 0, 1, 0]    \n",
    "        ]\n",
    "### Output 2:\n",
    "    1"
   ]
  },
  {
   "cell_type": "code",
   "execution_count": null,
   "metadata": {},
   "outputs": [],
   "source": [
    "class Solution:\n",
    "    # @param A : list of list of integers\n",
    "    # @return an integer\n",
    "    def solve(self, a;):\n"
   ]
  }
 ],
 "metadata": {
  "kernelspec": {
   "display_name": "Python 3",
   "language": "python",
   "name": "python3"
  },
  "language_info": {
   "codemirror_mode": {
    "name": "ipython",
    "version": 3
   },
   "file_extension": ".py",
   "mimetype": "text/x-python",
   "name": "python",
   "nbconvert_exporter": "python",
   "pygments_lexer": "ipython3",
   "version": "3.7.3"
  }
 },
 "nbformat": 4,
 "nbformat_minor": 2
}
