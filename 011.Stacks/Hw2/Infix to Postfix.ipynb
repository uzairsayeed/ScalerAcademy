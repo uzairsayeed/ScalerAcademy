{
 "cells": [
  {
   "cell_type": "markdown",
   "metadata": {},
   "source": [
    "## Infix to Postfix:\n",
    "Problem Description\n",
    "\n",
    "Given string A denoting an infix expression. Convert the infix expression into postfix expression.\n",
    "\n",
    "String A consists of ^, /, *, +, -, (, ) and lowercase english alphabets where lowercase english alphabets are operands and ^, /, *, +, - are operators.\n",
    "\n",
    "Find and return the postfix expression of A.\n",
    "### NOTE:\n",
    "^ has highest precedence.\n",
    "\n",
    "/ and * have equal precedence but greater than + and -.\n",
    "\n",
    "+ and - have equal precedence and lowest precedence among given operators.\n",
    "\n",
    "### Problem Constraints\n",
    "1 <= length of the string <= 500000\n",
    "### Input Format\n",
    "The only argument given is string A.\n",
    "### Output Format\n",
    "Return a string denoting the postfix conversion of A.\n",
    "## Example Input\n",
    "### Input 1:\n",
    " A = \"x^y/(a*z)+b\"\n",
    "### Input 2:\n",
    " A = \"a+b*(c^d-e)^(f+g*h)-i\"\n",
    "## Example Output\n",
    "### Output 1:\n",
    " \"xy^az*/b+\"\n",
    "### Output 2:\n",
    " \"abcd^e-fgh*+^*+i-\"\n",
    "## Example Explanation\n",
    "### Explanation 1:\n",
    " Ouput dentotes the postfix expression of the given input."
   ]
  },
  {
   "cell_type": "code",
   "execution_count": 14,
   "metadata": {},
   "outputs": [
    {
     "name": "stdout",
     "output_type": "stream",
     "text": [
      "xy^az*/b+\n"
     ]
    }
   ],
   "source": [
    "class Solution:\n",
    "    # @param A : string\n",
    "    # @return a strings\n",
    "    def solve(self, a):\n",
    "        n = len(a)\n",
    "        precedence = {}\n",
    "        precedence['^'] = 4\n",
    "        precedence['*'] = 3\n",
    "        precedence['/'] = 3\n",
    "        precedence['+'] = 2\n",
    "        precedence['-'] = 2\n",
    "        precedence['('] = 1\n",
    "        res = []\n",
    "        s = []\n",
    "        for x in a:\n",
    "            if x.isidentifier():\n",
    "                res.append(x)\n",
    "            elif x == '(':\n",
    "                s.append(x)\n",
    "            elif x == ')':\n",
    "                while len(s) != 0 and s[-1] != '(':\n",
    "                    res.append(s.pop())\n",
    "                s.pop()\n",
    "            else: \n",
    "                while len(s) != 0 and precedence[x] <= precedence[s[-1]]:\n",
    "                    res.append(s.pop())\n",
    "                s.append(x)\n",
    "        while len(s) != 0:\n",
    "            res.append(s.pop())\n",
    "\n",
    "        return ''.join(res)\n",
    "o = Solution()\n",
    "A = \"x^y/(a*z)+b\"\n",
    "print(o.solve(A))\n"
   ]
  },
  {
   "cell_type": "code",
   "execution_count": 8,
   "metadata": {},
   "outputs": [
    {
     "name": "stdout",
     "output_type": "stream",
     "text": [
      "True\n"
     ]
    }
   ],
   "source": [
    "\"abcd^e-fgh+^+i-\""
   ]
  }
 ],
 "metadata": {
  "kernelspec": {
   "display_name": "Python 3",
   "language": "python",
   "name": "python3"
  },
  "language_info": {
   "codemirror_mode": {
    "name": "ipython",
    "version": 3
   },
   "file_extension": ".py",
   "mimetype": "text/x-python",
   "name": "python",
   "nbconvert_exporter": "python",
   "pygments_lexer": "ipython3",
   "version": "3.7.3"
  }
 },
 "nbformat": 4,
 "nbformat_minor": 2
}
