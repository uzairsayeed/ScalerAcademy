{
 "cells": [
  {
   "cell_type": "markdown",
   "metadata": {},
   "source": [
    "## Check two bracket expressions:\n",
    "Problem Description\n",
    "\n",
    "Given two strings A and B. Each string represents an expression consisting of lowercase english alphabets, '+', '-', '(' and ')'.\n",
    "\n",
    "The task is to compare them and check if they are similar. If they are similar return 1 else return 0.\n",
    "### NOTE: \n",
    "It may be assumed that there are at most 26 operands from ‘a’ to ‘z’ and every operand appears only once.\n",
    "### Problem Constraints\n",
    "1 <= length of the each String <= 100\n",
    "### Input Format\n",
    "The arguments given are string A and String B.\n",
    "### Output Format\n",
    "Return 1 if they represent the same expression else return 0.\n",
    "## Example Input\n",
    "### Input 1:\n",
    " A = \"-(a+b+c)\"\n",
    " \n",
    " B = \"-a-b-c\"\n",
    "### Input 2:\n",
    " A = \"a-b-(c-d)\"\n",
    " \n",
    " B = \"a-b-c-d\"\n",
    "## Example Output\n",
    "### Output 1:\n",
    " 1\n",
    "### Output 2:\n",
    " 0\n",
    "## Example Explanation\n",
    "### Explanation 1:\n",
    " The expression \"-(a+b+c)\" can be written as \"-a-b-c\" which is equal as B. \n",
    "### Explanation 2:\n",
    " Both the expression are different."
   ]
  },
  {
   "cell_type": "code",
   "execution_count": 66,
   "metadata": {},
   "outputs": [
    {
     "name": "stdout",
     "output_type": "stream",
     "text": [
      "['-', 'a', '-', 'b', '+', 'c', '+', 'd', '-', 'e']\n",
      "['-', 'a', '-', 'b', '+', 'c', '+', 'd', '-', 'e']\n",
      "0\n"
     ]
    }
   ],
   "source": [
    "class Solution:\n",
    "    # @param A : string\n",
    "    # @param B : string\n",
    "    # @return an integer\n",
    "    def solve(self, a, b):\n",
    "        if len(a) < len(b):\n",
    "            a, b = b, a\n",
    "        n = len(a)\n",
    "        #print(n)\n",
    "        s = []\n",
    "        cnt = 0\n",
    "        res = 1\n",
    "        for i in range(n):\n",
    "            #print(i, a[i])\n",
    "            if a[i] == '(' and len(s) != 0 and s[-1] == '-':\n",
    "                cnt += 1\n",
    "                continue\n",
    "            elif a[i] ==')':\n",
    "                cnt -= 1\n",
    "            elif a[i] in '+-':\n",
    "                if cnt != 0 or len(s) != 0 and s[-1] == '-':\n",
    "                    if a[i] == '+':\n",
    "                        s.append('-')\n",
    "                    else:\n",
    "                        s.append('+')\n",
    "                else:\n",
    "                    s.append(a[i])\n",
    "            elif a[i] not in '()':\n",
    "                s.append(a[i])\n",
    "        print(s)\n",
    "        st = 0\n",
    "        for i in range(len(s)-1):\n",
    "            if s[i].isidentifier() or s[i] in '+-' and s[i+1].isidentifier():\n",
    "                st = i\n",
    "                break\n",
    "        if s[i] == '-':\n",
    "            s = s[i:]\n",
    "        elif s[i] == '+':\n",
    "            s = s[i+1:]\n",
    "        print(s)\n",
    "        for i in range(len(s)):\n",
    "            if s[i] != b[i]:\n",
    "                res = 0\n",
    "                break\n",
    "        return res\n",
    "o = Solution()\n",
    "A = \"-(a+((b-c)-(d+e)))\"\n",
    "B = \"-(a+b-c-d-e)\"\n",
    "print(o.solve(A, B))"
   ]
  },
  {
   "cell_type": "code",
   "execution_count": 45,
   "metadata": {},
   "outputs": [
    {
     "name": "stdout",
     "output_type": "stream",
     "text": [
      "False\n"
     ]
    }
   ],
   "source": [
    "x = '-'\n",
    "b = 'qwerty'\n",
    "a, b = b, a\n",
    "print(x.isidentifier())"
   ]
  }
 ],
 "metadata": {
  "kernelspec": {
   "display_name": "Python 3",
   "language": "python",
   "name": "python3"
  },
  "language_info": {
   "codemirror_mode": {
    "name": "ipython",
    "version": 3
   },
   "file_extension": ".py",
   "mimetype": "text/x-python",
   "name": "python",
   "nbconvert_exporter": "python",
   "pygments_lexer": "ipython3",
   "version": "3.7.3"
  }
 },
 "nbformat": 4,
 "nbformat_minor": 2
}
