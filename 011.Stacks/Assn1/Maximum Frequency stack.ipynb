{
 "cells": [
  {
   "cell_type": "markdown",
   "metadata": {},
   "source": [
    "## Maximum Frequency stack:\n",
    "Problem Description\n",
    "\n",
    "You are given a matrix A which represent operations of size N x 2. Assume initially you have a stack-like data structure you have to perform operations on it.\n",
    "\n",
    "Operations are of two types:\n",
    "\n",
    "1 x: push an integer x onto the stack and return -1\n",
    "\n",
    "2 0: remove and return the most frequent element in the stack.\n",
    "\n",
    "If there is a tie for the most frequent element, the element closest to the top of the stack is removed and returned.\n",
    "\n",
    "A[i][0] describes the type of operation to be performed. A[i][1] describe the element x or 0 corresponding to the operation performed.\n",
    "### Problem Constraints\n",
    "1 <= N <= 100000\n",
    "\n",
    "1 <= A[i][0] <= 2\n",
    "\n",
    "0 <= A[i][1] <= 109\n",
    "### Input Format\n",
    "The only argument given is the integer array A.\n",
    "### Output Format\n",
    "Return the array of integers denoting answer to each operation.\n",
    "## Example Input\n",
    "### Input 1:\n",
    "A = [\n",
    "            \n",
    "            [1, 5]\n",
    "            \n",
    "            [1, 7]\n",
    "            \n",
    "            [1, 5]\n",
    "            \n",
    "            [1, 7]\n",
    "            \n",
    "            [1, 4]\n",
    "            \n",
    "            [1, 5]\n",
    "            \n",
    "            [2, 0]\n",
    "                        \n",
    "            [2, 0]\n",
    "            \n",
    "            [2, 0]\n",
    "            \n",
    "            [2, 0]  \n",
    "    \n",
    "    ]\n",
    "### Input 2:\n",
    " A =  [   \n",
    "        \n",
    "        [1, 5]\n",
    "        \n",
    "        [2 0]\n",
    "        \n",
    "        [1 4]   \n",
    "      ]\n",
    "## Example Output\n",
    "### Output 1:\n",
    " [-1, -1, -1, -1, -1, -1, 5, 7, 5, 4]\n",
    "### Output 2:\n",
    " [-1, 5, -1]\n",
    "## Example Explanation\n",
    "### Explanation 1:\n",
    " Just simulate given operations\n",
    "### Explanation 2:\n",
    " Just simulate given operations"
   ]
  },
  {
   "cell_type": "code",
   "execution_count": 27,
   "metadata": {},
   "outputs": [
    {
     "name": "stdout",
     "output_type": "stream",
     "text": [
      "[-1, 2, -1, -1, 7, 2, -1, -1, -1]\n"
     ]
    }
   ],
   "source": [
    "from collections import defaultdict\n",
    "class Solution:\n",
    "    # @param A : list of list of integers\n",
    "    # @return a list of integers\n",
    "    def solve(self, a):\n",
    "        n = len(a)\n",
    "        freq_map = defaultdict(int)\n",
    "        d = {}\n",
    "        res = [-1]*n\n",
    "        max_freq = 0\n",
    "        for i in range(n):\n",
    "            #print(i, max_freq)\n",
    "            if a[i][0] == 1:\n",
    "                x = a[i][1]\n",
    "                freq_map[x] += 1\n",
    "                max_freq = max(max_freq, freq_map[x])\n",
    "                if d.get(freq_map[x], 0) == 0:\n",
    "                    d[freq_map[x]] = [x]\n",
    "                else:\n",
    "                    d[freq_map[x]].append(x)\n",
    "            else:\n",
    "                if d.get(max_freq, -1) == -1:\n",
    "                    res[i] = -1\n",
    "                else:\n",
    "                    curr = d[max_freq].pop()\n",
    "                    freq_map[curr]-=1\n",
    "                    res[i] = curr\n",
    "                    if len(d[max_freq]) == 0:\n",
    "                        del d[max_freq]\n",
    "                        max_freq-=1       \n",
    "            #print(d)\n",
    "        return res\n",
    "o = Solution()\n",
    "A = [\n",
    "        \n",
    "  [1, 2],\n",
    "  [2, 0],\n",
    "  [1, 2],\n",
    "  [1, 7],\n",
    "  [2, 0],\n",
    "  [2, 0],\n",
    "  [1, 4],\n",
    "  [1, 1],\n",
    "  [1, 7]\n",
    "\n",
    "]\n",
    "print(o.solve(A))"
   ]
  },
  {
   "cell_type": "code",
   "execution_count": 10,
   "metadata": {},
   "outputs": [
    {
     "name": "stdout",
     "output_type": "stream",
     "text": [
      "{1: [], 2: [1, 2, 3]}\n",
      "{1: []}\n"
     ]
    }
   ],
   "source": [
    "\n",
    "d = {}\n",
    "d[1] = [2]\n",
    "d[2] = [1,2,3]\n",
    "d[1].pop()\n",
    "print(d)\n",
    "del d[2]\n",
    "print(d)"
   ]
  }
 ],
 "metadata": {
  "kernelspec": {
   "display_name": "Python 3",
   "language": "python",
   "name": "python3"
  },
  "language_info": {
   "codemirror_mode": {
    "name": "ipython",
    "version": 3
   },
   "file_extension": ".py",
   "mimetype": "text/x-python",
   "name": "python",
   "nbconvert_exporter": "python",
   "pygments_lexer": "ipython3",
   "version": "3.7.3"
  }
 },
 "nbformat": 4,
 "nbformat_minor": 2
}
