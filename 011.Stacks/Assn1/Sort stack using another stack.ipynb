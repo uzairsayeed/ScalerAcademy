{
 "cells": [
  {
   "cell_type": "markdown",
   "metadata": {},
   "source": [
    "## Sort stack using another stack:\n",
    "Problem Description\n",
    "\n",
    "Given a stack of integers A, sort it using another stack.\n",
    "\n",
    "Return the array of integers after sorting the stack using another stack.\n",
    "### Problem Constraints\n",
    "1 <= |A| <= 5000\n",
    "\n",
    "0 <= A[i] <= 1000000000\n",
    "### Input Format\n",
    "The only argument given is the integer array A.\n",
    "### Output Format\n",
    "Return the array of integers after sorting the stack using another stack.\n",
    "## Example Input\n",
    "### Input 1:\n",
    " A = [5, 4, 3, 2, 1]\n",
    "### Input 2:\n",
    " A = [5, 17, 100, 11]\n",
    "## Example Output\n",
    "### Output 1:\n",
    " [1, 2, 3, 4, 5]\n",
    "### Output 2:\n",
    " [5, 11, 17, 100]\n",
    "## Example Explanation\n",
    "### Explanation 1:\n",
    " Just sort the given numbers.\n",
    "### Explanation 2:\n",
    " Just sort the given numbers."
   ]
  },
  {
   "cell_type": "code",
   "execution_count": 1,
   "metadata": {},
   "outputs": [
    {
     "name": "stdout",
     "output_type": "stream",
     "text": [
      "[1, 2, 5, 7, 9]\n"
     ]
    }
   ],
   "source": [
    "class Solution:\n",
    "    # @param A : list of integers\n",
    "    # @return a list of integers\n",
    "    def solve(self, a):\n",
    "        s = self.create_stack()\n",
    "        while len(a) != 0:\n",
    "            t = self.top(a)\n",
    "            self.pop(a)\n",
    "            while len(s) != 0 and self.top(s) > t:\n",
    "                self.push(a, self.top(s))\n",
    "                self.pop(s)\n",
    "            self.push(s, t)\n",
    "        return s\n",
    "    def create_stack(self):\n",
    "        return []\n",
    "    def push(self, stack, x):\n",
    "        return stack.append(x)\n",
    "    def pop(self, stack):\n",
    "        if len(stack) != 0:\n",
    "            return stack.pop()\n",
    "        return -1\n",
    "    def top(self, stack):\n",
    "        if len(stack) != 0:\n",
    "            return stack[-1]\n",
    "        return -1\n",
    "o = Solution()\n",
    "a = [9,2,5,7,1]\n",
    "print(o.solve(a))\n"
   ]
  }
 ],
 "metadata": {
  "kernelspec": {
   "display_name": "Python 3",
   "language": "python",
   "name": "python3"
  },
  "language_info": {
   "codemirror_mode": {
    "name": "ipython",
    "version": 3
   },
   "file_extension": ".py",
   "mimetype": "text/x-python",
   "name": "python",
   "nbconvert_exporter": "python",
   "pygments_lexer": "ipython3",
   "version": "3.7.3"
  }
 },
 "nbformat": 4,
 "nbformat_minor": 2
}
