{
 "cells": [
  {
   "cell_type": "markdown",
   "metadata": {},
   "source": [
    "## Evaluate Expression:\n",
    "Problem Description\n",
    "\n",
    "An arithmetic expression is given by a charater array A of size N. Evaluate the value of an arithmetic expression in Reverse Polish Notation.\n",
    "\n",
    "Valid operators are +, -, *, /. Each operand may be an integer or operator.\n",
    "### Problem Constraints\n",
    "1 <= N <= 105\n",
    "### Input Format\n",
    "The only argument given is character array A.\n",
    "### Output Format\n",
    "Return the value of arithmetic expression formed using reverse Polish Notation.\n",
    "## Example Input\n",
    "### Input 1:\n",
    "    A =   [\"2\", \"1\", \"+\", \"3\", \"*\"]\n",
    "### Input 2:\n",
    "    A = [\"4\", \"13\", \"5\", \"/\", \"+\"]\n",
    "## Example Output\n",
    "### Output 1:\n",
    "    9\n",
    "### Output 2:\n",
    "    6\n",
    "## Example Explanation\n",
    "### Explaination 1:\n",
    "    starting from backside:\n",
    "    \n",
    "    * : () * ()\n",
    "    \n",
    "    3 : () * (3)\n",
    "    \n",
    "    + : (() + ()) * (3)\n",
    "    \n",
    "    1 : (() + (1)) * (3)\n",
    "    \n",
    "    2 : ((2) + (1)) * (3)\n",
    "    \n",
    "    ((2) + (1)) * (3) = 9\n",
    "### Explaination 2:\n",
    "    + : () + ()\n",
    "    \n",
    "    / : () + (() / ())\n",
    "    \n",
    "    5 : () + (() / (5))\n",
    "    \n",
    "    1 : () + ((13) / (5))\n",
    "    \n",
    "    4 : (4) + ((13) / (5))\n",
    "    \n",
    "    (4) + ((13) / (5)) = 6"
   ]
  },
  {
   "cell_type": "code",
   "execution_count": 5,
   "metadata": {},
   "outputs": [
    {
     "name": "stdout",
     "output_type": "stream",
     "text": [
      "6\n"
     ]
    }
   ],
   "source": [
    "class Solution:\n",
    "    # @param A : list of strings\n",
    "    # @return an integer\n",
    "    def evalRPN(self, a):\n",
    "        n = len(a)\n",
    "        s = []\n",
    "        for x in a:\n",
    "            if x not in '+-/%*':\n",
    "                s.append(x)\n",
    "            else:\n",
    "                fc = int(s.pop())\n",
    "                sc = int(s.pop())\n",
    "                if x == '+':\n",
    "                    s.append(sc+fc)\n",
    "                elif x == '-':\n",
    "                    s.append(sc-fc)\n",
    "                elif x == '*':\n",
    "                    s.append(sc*fc)\n",
    "                else:\n",
    "                    s.append(sc//fc)\n",
    "        return s[-1]\n",
    "o = Solution()\n",
    "A = [\"4\", \"13\", \"5\", \"/\", \"+\"]\n",
    "print(o.evalRPN(A))"
   ]
  }
 ],
 "metadata": {
  "kernelspec": {
   "display_name": "Python 3",
   "language": "python",
   "name": "python3"
  },
  "language_info": {
   "codemirror_mode": {
    "name": "ipython",
    "version": 3
   },
   "file_extension": ".py",
   "mimetype": "text/x-python",
   "name": "python",
   "nbconvert_exporter": "python",
   "pygments_lexer": "ipython3",
   "version": "3.7.3"
  }
 },
 "nbformat": 4,
 "nbformat_minor": 2
}
