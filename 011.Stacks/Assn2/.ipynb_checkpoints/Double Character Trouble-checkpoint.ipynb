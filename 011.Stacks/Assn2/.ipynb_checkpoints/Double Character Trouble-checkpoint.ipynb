{
 "cells": [
  {
   "cell_type": "markdown",
   "metadata": {},
   "source": [
    "## Double Character Trouble:\n",
    "Problem Description\n",
    "\n",
    "You are given a string A.\n",
    "\n",
    "An operation on the string is defined as follows:\n",
    "\n",
    "Remove the first occurrence of same consecutive characters. eg for a string \"abbcd\", the first occurrence of same consecutive characters is \"bb\".\n",
    "\n",
    "Therefore the string after this operation will be \"acd\".\n",
    "\n",
    "Keep performing this operation on the string until there are no more occurrences of same consecutive characters and return the final string.\n",
    "### Problem Constraints\n",
    "1 <= |A| <= 100000\n",
    "### Input Format\n",
    "First and only argument is string A.\n",
    "### Output Format\n",
    "Return the final string.\n",
    "## Example Input\n",
    "### Input 1:\n",
    " A = abccbc\n",
    "### Input 2:\n",
    " A = ab\n",
    "## Example Output\n",
    "### Output 1:\n",
    " \"ac\"\n",
    "### Output 2:\n",
    " \"ab\"\n",
    "## Example Explanation\n",
    "### Explanation 1:\n",
    "Remove the first occurrence of same consecutive characters. eg for a string \"abbc\", the first occurrence of same consecutive characters is \"bb\".\n",
    "\n",
    "Therefore the string after this operation will be \"ac\".\n",
    "### Explanation 2:\n",
    "\n",
    " No removals are to be done."
   ]
  },
  {
   "cell_type": "code",
   "execution_count": 4,
   "metadata": {},
   "outputs": [
    {
     "name": "stdout",
     "output_type": "stream",
     "text": [
      "\n"
     ]
    }
   ],
   "source": [
    "class Solution:\n",
    "    # @param A : string\n",
    "    # @return a strings\n",
    "    def solve(self, a):\n",
    "        n = len(a)\n",
    "        s = []\n",
    "        s.append(a[0])\n",
    "        for i in range(1, n):\n",
    "            if len(s) == 0 or a[i] != s[-1]:\n",
    "                s.append(a[i])\n",
    "            else:\n",
    "                while len(s) != 0 and a[i] == s[-1]:\n",
    "                    s.pop()\n",
    "        return ''.join(s)\n",
    "o = Solution()\n",
    "a = 'aaaa'\n",
    "print(o.solve(a))"
   ]
  }
 ],
 "metadata": {
  "kernelspec": {
   "display_name": "Python 3",
   "language": "python",
   "name": "python3"
  },
  "language_info": {
   "codemirror_mode": {
    "name": "ipython",
    "version": 3
   },
   "file_extension": ".py",
   "mimetype": "text/x-python",
   "name": "python",
   "nbconvert_exporter": "python",
   "pygments_lexer": "ipython3",
   "version": "3.7.3"
  }
 },
 "nbformat": 4,
 "nbformat_minor": 2
}
