{
 "cells": [
  {
   "cell_type": "markdown",
   "metadata": {},
   "source": [
    "## Largest Rectangle in Histogram:\n",
    "Problem Description\n",
    "\n",
    "Given an array of integers A .\n",
    "\n",
    "A represents a histogram i.e A[i] denotes height of the ith histogram's bar. Width of each bar is 1.\n",
    "\n",
    "Find the area of the largest rectangle formed by the histogram.\n",
    "### Problem Constraints\n",
    "1 <= |A| <= 100000\n",
    "\n",
    "1 <= A[i] <= 1000000000\n",
    "### Input Format\n",
    "The only argument given is the integer array A.\n",
    "### Output Format\n",
    "Return the area of largest rectangle in the histogram.\n",
    "## Example Input\n",
    "### Input 1:\n",
    " A = [2, 1, 5, 6, 2, 3]\n",
    "### Input 2:\n",
    " A = [2]\n",
    "## Example Output\n",
    "### Output 1:\n",
    " 10\n",
    "### Output 2:\n",
    " 2\n",
    "## Example Explanation\n",
    "### Explanation 1:\n",
    "The largest rectangle has area = 10 unit. Formed by A[3] to A[4].\n",
    "### Explanation 2:\n",
    "Largest rectangle has area 2."
   ]
  },
  {
   "cell_type": "code",
   "execution_count": 1,
   "metadata": {},
   "outputs": [
    {
     "name": "stdout",
     "output_type": "stream",
     "text": [
      "[-1, 0, 0, 2, 2, -1, 5, -1, 7, 8, 8, 10, 7, -1, 13, 13, 13, 13, 17, 18, 18, 17, -1, 22, 23, 22, 22, 26, 27, 27, 26, 30, 30, 32, 32, 32, 35, 26, 26, 38, 22, 40, 22, 42, 43, 22, 45, 46, 47, 48, 45, 50, 45, 45, 53, 45, 55, 55, 55, 55, 59, 55, 61, 62, 62, 55, 65, 66, 66, 55, 69, 70, 69, 72, 73, 72, 69, 76, 76, 55, 79, 80, 80, 82, 82, 80, 79, 86, 79, 88, 89, 88, 88, 88]\n",
      "[5, 2, 5, 4, 5, 7, 7, 13, 12, 10, 12, 12, 13, 94, 15, 16, 17, 22, 21, 20, 21, 22, 94, 25, 25, 26, 40, 30, 29, 30, 37, 32, 37, 34, 35, 37, 37, 38, 40, 40, 42, 42, 94, 45, 45, 94, 50, 50, 50, 50, 52, 52, 53, 55, 55, 94, 57, 58, 59, 61, 61, 65, 65, 64, 65, 69, 69, 68, 69, 94, 72, 72, 76, 76, 75, 76, 79, 78, 79, 94, 88, 82, 85, 84, 85, 86, 88, 88, 94, 91, 91, 93, 93, 94]\n",
      "418\n"
     ]
    }
   ],
   "source": [
    "class Solution:\n",
    "    # @param A : list of integers\n",
    "    # @return an integer\n",
    "    def largestRectangleArea(self, a):\n",
    "        n = len(a)\n",
    "        left = self.next_smallest_from_left(a)\n",
    "        right = self.next_smallest_from_right(a)\n",
    "        print(left)\n",
    "        print(right)\n",
    "        res = float('-inf')\n",
    "        for i in range(n):\n",
    "            res = max(res, a[i]*(right[i] - left[i] - 1))\n",
    "        return res\n",
    "    def next_smallest_from_left(self, a):\n",
    "        n = len(a)\n",
    "        s = []\n",
    "        res = [-1]*n\n",
    "        s.append(0)\n",
    "        for i in range(1, n):\n",
    "            if a[i] > a[s[-1]]:\n",
    "                res[i] = s[-1]\n",
    "                s.append(i)\n",
    "            else:\n",
    "                while len(s) != 0 and a[i] <= a[s[-1]]:\n",
    "                    s.pop()\n",
    "                if len(s) != 0:\n",
    "                    res[i] = s[-1] \n",
    "                s.append(i)\n",
    "        return res      \n",
    "    def next_smallest_from_right(self, a):\n",
    "        n = len(a)\n",
    "        s = []\n",
    "        res = [n]*n\n",
    "        for i in range(0, n): \n",
    "            if len(s) == 0 or a[i] >= a[s[-1]]:\n",
    "                s.append(i)\n",
    "            else:\n",
    "                while len(s)!=0 and a[i] < a[s[-1]]:\n",
    "                    res[s.pop()] = i\n",
    "                s.append(i)\n",
    "        return res\n",
    "o = Solution()\n",
    "a = [ 47, 69, 67, 97, 86, 34, 98, 16, 65, 95, 66, 69, 18, 1, 99, 56, 35, 9, 48, 72, 49, 47, 1, 72, 87, 52, 13, 23, 95, 55, 21, 92, 36, 88, 48, 39, 84, 16, 15, 65, 7, 58, 2, 21, 54, 2, 71, 92, 96, 100, 28, 31, 24, 10, 94, 5, 81, 80, 43, 35, 67, 33, 39, 81, 69, 12, 66, 87, 86, 11, 49, 94, 38, 44, 72, 44, 18, 97, 23, 11, 30, 72, 51, 61, 56, 41, 30, 71, 12, 44, 81, 43, 43, 27 ]\n",
    "print(o.largestRectangleArea(a))"
   ]
  }
 ],
 "metadata": {
  "kernelspec": {
   "display_name": "Python 3",
   "language": "python",
   "name": "python3"
  },
  "language_info": {
   "codemirror_mode": {
    "name": "ipython",
    "version": 3
   },
   "file_extension": ".py",
   "mimetype": "text/x-python",
   "name": "python",
   "nbconvert_exporter": "python",
   "pygments_lexer": "ipython3",
   "version": "3.9.0"
  }
 },
 "nbformat": 4,
 "nbformat_minor": 2
}
