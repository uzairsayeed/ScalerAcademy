{
 "cells": [
  {
   "cell_type": "code",
   "execution_count": 1,
   "metadata": {},
   "outputs": [
    {
     "name": "stdout",
     "output_type": "stream",
     "text": [
      "[-1, -1, 1, 5, 1, 2]\n"
     ]
    }
   ],
   "source": [
    "# Next smaller from left\n",
    "class Solution():\n",
    "    def solve(self, a):\n",
    "        n = len(a)\n",
    "        s = []\n",
    "        res = [-1]*n\n",
    "        s.append(a[0])\n",
    "        for i in range(1, n):\n",
    "            if a[i] > s[-1]:\n",
    "                res[i] = s[-1]\n",
    "                s.append(a[i])\n",
    "            else:\n",
    "                while len(s) != 0 and a[i] <= s[-1]:\n",
    "                    s.pop()\n",
    "                if len(s) != 0:\n",
    "                    res[i] = s[-1] \n",
    "                s.append(a[i])\n",
    "        return res\n",
    "o = Solution()\n",
    "a = [2,1,5,6,2,3]\n",
    "print(o.solve(a))\n",
    "                    "
   ]
  },
  {
   "cell_type": "code",
   "execution_count": 2,
   "metadata": {},
   "outputs": [
    {
     "name": "stdout",
     "output_type": "stream",
     "text": [
      "[1, -1, 2, 2, -1, -1]\n"
     ]
    }
   ],
   "source": [
    "# Next smaller from right\n",
    "class Solution():\n",
    "    def solve(self, a):\n",
    "        n = len(a)\n",
    "        s = []\n",
    "        res = [-1]*n\n",
    "        for i in range(0, n): \n",
    "            if len(s) == 0 or a[i] >= a[s[-1]]:\n",
    "                s.append(i)\n",
    "            else:\n",
    "                while len(s)!=0 and a[i] < a[s[-1]]:\n",
    "                    res[s.pop()] = a[i]\n",
    "                s.append(i)\n",
    "        return res\n",
    "o = Solution()\n",
    "a = [2,1,5,6,2,3]\n",
    "print(o.solve(a))       "
   ]
  }
 ],
 "metadata": {
  "kernelspec": {
   "display_name": "Python 3",
   "language": "python",
   "name": "python3"
  },
  "language_info": {
   "codemirror_mode": {
    "name": "ipython",
    "version": 3
   },
   "file_extension": ".py",
   "mimetype": "text/x-python",
   "name": "python",
   "nbconvert_exporter": "python",
   "pygments_lexer": "ipython3",
   "version": "3.7.3"
  }
 },
 "nbformat": 4,
 "nbformat_minor": 2
}
