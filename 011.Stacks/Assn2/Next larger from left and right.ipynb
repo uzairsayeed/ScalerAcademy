{
 "cells": [
  {
   "cell_type": "code",
   "execution_count": 30,
   "metadata": {},
   "outputs": [
    {
     "name": "stdout",
     "output_type": "stream",
     "text": [
      "[-1, -1, 23, 22, 23, 22, 22, -1, -1, 35, 35, 32, 20, 5, -1, 35, 28, 20, 20, 28, -1, 48]\n"
     ]
    }
   ],
   "source": [
    "# Next larger from left\n",
    "class Solution():\n",
    "    def solve(self, a):\n",
    "        n = len(a)\n",
    "        res = [-1]*n\n",
    "        s = []\n",
    "        s.append(a[0])\n",
    "        for i in range(1, n):\n",
    "            if a[i] < s[-1]:\n",
    "                res[i] = s[-1]\n",
    "            else:\n",
    "                while len(s) != 0 and s[-1] <= a[i]:\n",
    "                    s.pop()\n",
    "                if len(s) != 0:\n",
    "                    res[i] = s[-1]\n",
    "            s.append(a[i])\n",
    "        return res\n",
    "    \n",
    "a = [ 8, 23, 22, 16, 22, 7, 7, 27, 35, 27, 32, 20, 5, 1, 35, 28, 20, 6, 16, 26, 48, 34 ]\n",
    "o = Solution()\n",
    "print(o.solve(a))"
   ]
  },
  {
   "cell_type": "code",
   "execution_count": 1,
   "metadata": {},
   "outputs": [
    {
     "name": "stdout",
     "output_type": "stream",
     "text": [
      "[23, 27, 27, 22, 27, 27, 27, 35, 48, 32, 35, 35, 35, 35, 48, 48, 26, 16, 26, 48, -1, -1]\n"
     ]
    }
   ],
   "source": [
    "# Next larger from right\n",
    "class Solution():\n",
    "    def solve(self, a):\n",
    "        n = len(a)\n",
    "        s = []\n",
    "        res = [-1]*n\n",
    "        s.append(0)\n",
    "        for i in range(1, n):\n",
    "            if a[i] <= a[s[-1]]:\n",
    "                s.append(i)\n",
    "            else:\n",
    "                while len(s)!=0 and a[i] > a[s[-1]]:\n",
    "                    res[s.pop()] = a[i]\n",
    "                s.append(i)\n",
    "        return res\n",
    "o = Solution()\n",
    "a = [ 8, 23, 22, 16, 22, 7, 7, 27, 35, 27, 32, 20, 5, 1, 35, 28, 20, 6, 16, 26, 48, 34 ]\n",
    "print(o.solve(a))"
   ]
  }
 ],
 "metadata": {
  "kernelspec": {
   "display_name": "Python 3",
   "language": "python",
   "name": "python3"
  },
  "language_info": {
   "codemirror_mode": {
    "name": "ipython",
    "version": 3
   },
   "file_extension": ".py",
   "mimetype": "text/x-python",
   "name": "python",
   "nbconvert_exporter": "python",
   "pygments_lexer": "ipython3",
   "version": "3.9.0"
  }
 },
 "nbformat": 4,
 "nbformat_minor": 2
}
