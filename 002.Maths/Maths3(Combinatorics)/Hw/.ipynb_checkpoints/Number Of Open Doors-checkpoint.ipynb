{
 "cells": [
  {
   "cell_type": "markdown",
   "metadata": {},
   "source": [
    "## Number Of Open Doors\n",
    "Problem Description\n",
    "Given an integer A which denotes the number of doors in a row numbered 1 to A. All the doors are closed initially. A person moves to and fro changing the states of the doors as follows: the person opens a door that is already closed and closes a door that is already opened. In the first go, he/she alters the states of doors numbered 1, 2, 3, … , A.\n",
    "In the second go, he/she alters the states of doors numbered 2, 4, 6 ….\n",
    "In the third go, he/she alters the states of doors numbered 3, 6, 9 …\n",
    "This continues till the A'th go in which you alter the state of the door numbered A. Find and return the number of open doors at the end of the procedure.  \n",
    "\n",
    "### Problem Constraints\n",
    "1 <= A <= 109\n",
    "\n",
    "### Input Format\n",
    "The only argument given is integer A.\n",
    "\n",
    "### Output Format\n",
    "Return the number of open doors at the end of the procedure.\n",
    "\n",
    "## Example Input\n",
    "### Input 1:\n",
    " A = 5\n",
    "\n",
    "### Input 2:\n",
    " A = 6\n",
    " \n",
    "## Example Output\n",
    "### Output 1:\n",
    " 2\n",
    "\n",
    "### Output 2:\n",
    " 4\n",
    " \n",
    "## Example Explanation\n",
    "### Input 1:\n",
    " In the first go, he/she alters the states of doors numbered 1, 2, 3, 4, 5. Now, all doors are open.\n",
    " \n",
    " In the second go, he/she closes the doors numbered 2, 4.\n",
    " \n",
    " In the third go, he/she closes the door numbered 3.\n",
    " \n",
    " In the fourth go, he/she open the door numbered 4.\n",
    " \n",
    " In the fifth go, he/she closes the door numbered 5.\n",
    " \n",
    " Doors opened at the end are 1 and 4.\n",
    "\n",
    "### Input 2:\n",
    " In the first go, he/she alters the states of doors numbered 1, 2, 3, 4, 5, 6. Now, all doors are open.\n",
    " \n",
    " In the second go, he/she closes the doors numbered 2, 4, 6.\n",
    " \n",
    " In the third go, he/she closes the door numbered 3 and opens door 6.\n",
    " \n",
    " In the fourth go, he/she open the door numbered 4.\n",
    " \n",
    " In the fifth go, he/she closes the door numbered 5.\n",
    " \n",
    " In the sixth go, he/she closes the door numbered 6.\n",
    " \n",
    " Doors opened at the end are 1 and 4."
   ]
  },
  {
   "cell_type": "code",
   "execution_count": 1,
   "metadata": {},
   "outputs": [
    {
     "name": "stdout",
     "output_type": "stream",
     "text": [
      "2\n"
     ]
    }
   ],
   "source": [
    "import math\n",
    "class Solution:\n",
    "    # @param A : integer\n",
    "    # @return an integer\n",
    "    def solve(self, A):\n",
    "        return math.floor(math.sqrt(A))\n",
    "    \n",
    "o = Solution()\n",
    "print(o.solve(6))"
   ]
  }
 ],
 "metadata": {
  "kernelspec": {
   "display_name": "Python 3",
   "language": "python",
   "name": "python3"
  },
  "language_info": {
   "codemirror_mode": {
    "name": "ipython",
    "version": 3
   },
   "file_extension": ".py",
   "mimetype": "text/x-python",
   "name": "python",
   "nbconvert_exporter": "python",
   "pygments_lexer": "ipython3",
   "version": "3.7.3"
  }
 },
 "nbformat": 4,
 "nbformat_minor": 2
}
