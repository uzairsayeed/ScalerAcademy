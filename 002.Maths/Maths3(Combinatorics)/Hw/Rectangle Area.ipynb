{
 "cells": [
  {
   "cell_type": "markdown",
   "metadata": {},
   "source": [
    "## Rectangle Area:\n",
    "Problem Description\n",
    "Given eight integers A, B, C, D, E, F, G and H which represent two rectangles in a 2D plane. For the first rectangle it's bottom left corner is (A, B) and top right corner is (C, D) and for the second rectangle it's bottom left corner is (E, F) and top right corner is (G, H). Find and return the overlapping area of the two rectangles. \n",
    "\n",
    "### Problem Constraints\n",
    "-104 <= A <= C <= 104\n",
    "\n",
    "-104 <= B <= D <= 104\n",
    "\n",
    "-104 <= E <= G <= 104\n",
    "\n",
    "-104 <= F <= H <= 104\n",
    "\n",
    "### Input Format\n",
    "The eight arguments given are the integers A, B, C, D, E, F, G and H.\n",
    "\n",
    "### Output Format\n",
    "Return the overlapping area of the two rectangles.\n",
    "\n",
    "## Example Input\n",
    "### Input 1:\n",
    " A = 0   B = 0\n",
    " \n",
    " C = 4   D = 4\n",
    " \n",
    " E = 2   F = 2\n",
    " \n",
    " G = 6   H = 6\n",
    "\n",
    "### Input 2:\n",
    " A = 0   B = 0\n",
    " \n",
    " C = 4   D = 4\n",
    " \n",
    " E = 2   F = 2\n",
    " \n",
    " G = 3   H = 3\n",
    "\n",
    "## Example Output\n",
    "### Output 1:\n",
    " 4\n",
    "\n",
    "### Output 2:\n",
    " 1"
   ]
  },
  {
   "cell_type": "code",
   "execution_count": null,
   "metadata": {},
   "outputs": [],
   "source": [
    "class Solution:\n",
    "    # @param A : integer\n",
    "    # @param B : integer\n",
    "    # @param C : integer\n",
    "    # @param D : integer\n",
    "    # @param E : integer\n",
    "    # @param F : integer\n",
    "    # @param G : integer\n",
    "    # @param H : integer\n",
    "    # @return an integer\n",
    "    def solve(self, a, b, c, d, e, f, g, h):\n",
    "        res = c > e and a < g and d > f and b < h  \n",
    "        if res == False:\n",
    "            return 0\n",
    "        bli, blj = max(a, e), max(b, f)\n",
    "        tri, trj = min(c, g), min(d, h)\n",
    "        return (tri-bli) * (trj-blj)"
   ]
  },
  {
   "cell_type": "code",
   "execution_count": 4,
   "metadata": {},
   "outputs": [
    {
     "name": "stdout",
     "output_type": "stream",
     "text": [
      "40\n"
     ]
    }
   ],
   "source": [
    "m = 10**9+7\n",
    "print(40 % m)"
   ]
  }
 ],
 "metadata": {
  "kernelspec": {
   "display_name": "Python 3",
   "language": "python",
   "name": "python3"
  },
  "language_info": {
   "codemirror_mode": {
    "name": "ipython",
    "version": 3
   },
   "file_extension": ".py",
   "mimetype": "text/x-python",
   "name": "python",
   "nbconvert_exporter": "python",
   "pygments_lexer": "ipython3",
   "version": "3.7.3"
  }
 },
 "nbformat": 4,
 "nbformat_minor": 2
}
