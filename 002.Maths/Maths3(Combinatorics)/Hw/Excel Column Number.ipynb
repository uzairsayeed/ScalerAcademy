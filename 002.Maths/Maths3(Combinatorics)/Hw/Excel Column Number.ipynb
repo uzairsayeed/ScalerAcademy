{
 "cells": [
  {
   "cell_type": "markdown",
   "metadata": {},
   "source": [
    "## Excel Column Number:\n",
    "Problem Description\n",
    "Given a column title as appears in an Excel sheet, return its corresponding column number.\n",
    "\n",
    "### Problem Constraints\n",
    "1 <= length of the column title <= 5\n",
    "\n",
    "### Input Format\n",
    "Input a string which represents the column title in excel sheet.\n",
    "\n",
    "### Output Format\n",
    "Return a single integer which represents the corresponding column number.\n",
    "\n",
    "## Example Input\n",
    "### Input 1:\n",
    " AB\n",
    "\n",
    "### Input 2:\n",
    " ABCD\n",
    "     \n",
    "## Example Output\n",
    "### Output 1:\n",
    " 28\n",
    "\n",
    "### Output 2:\n",
    " 19010\n",
    "     \n",
    "## Example Explanation\n",
    "### Explanation 1:\n",
    " A -> 1\n",
    " \n",
    " B -> 2\n",
    " \n",
    " C -> 3\n",
    " \n",
    " ...\n",
    " \n",
    " Z -> 26\n",
    " \n",
    " AA -> 27\n",
    " \n",
    " AB -> 28"
   ]
  },
  {
   "cell_type": "code",
   "execution_count": 3,
   "metadata": {},
   "outputs": [
    {
     "name": "stdout",
     "output_type": "stream",
     "text": [
      "19010\n"
     ]
    }
   ],
   "source": [
    "class Solution:\n",
    "    # @param A : string\n",
    "    # @return an integer\n",
    "    def titleToNumber(self, a):\n",
    "        res = 0\n",
    "        for c in a:\n",
    "            res = res * 26 + (ord(c) - ord('A')) + 1\n",
    "        return res\n",
    "        \n",
    "o = Solution()\n",
    "print(o.titleToNumber('ABCD'))"
   ]
  },
  {
   "cell_type": "code",
   "execution_count": 5,
   "metadata": {},
   "outputs": [
    {
     "name": "stdout",
     "output_type": "stream",
     "text": [
      "A\n"
     ]
    }
   ],
   "source": [
    "print(chr(65))"
   ]
  }
 ],
 "metadata": {
  "kernelspec": {
   "display_name": "Python 3",
   "language": "python",
   "name": "python3"
  },
  "language_info": {
   "codemirror_mode": {
    "name": "ipython",
    "version": 3
   },
   "file_extension": ".py",
   "mimetype": "text/x-python",
   "name": "python",
   "nbconvert_exporter": "python",
   "pygments_lexer": "ipython3",
   "version": "3.7.3"
  }
 },
 "nbformat": 4,
 "nbformat_minor": 2
}
