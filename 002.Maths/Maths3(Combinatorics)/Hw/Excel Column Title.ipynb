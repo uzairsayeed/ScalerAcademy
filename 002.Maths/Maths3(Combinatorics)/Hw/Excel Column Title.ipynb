{
 "cells": [
  {
   "cell_type": "markdown",
   "metadata": {},
   "source": [
    "## Excel Column Title:\n",
    "Problem Description\n",
    "Given a positive integer A, return its corresponding column title as appear in an Excel sheet.\n",
    "\n",
    "For example:\n",
    "    1 -> A\n",
    "    2 -> B\n",
    "    3 -> C\n",
    "    ...\n",
    "    26 -> Z\n",
    "    27 -> AA\n",
    "    28 -> AB \n",
    "   \n",
    "### Problem Constraints\n",
    "1 <= A <= 109\n",
    "\n",
    "### Input Format\n",
    "First and only argument of input contains single integer A\n",
    "\n",
    "### Output Format\n",
    "Return a string denoting the corresponding title.\n",
    "\n",
    "### Example Input\n",
    " A = 27\n",
    "\n",
    "### Example Output\n",
    " \"AA\"\n",
    "\n",
    "### Example Explanation\n",
    "    1 -> A,\n",
    "    \n",
    "    2 -> B,\n",
    "    \n",
    "    3 -> C,\n",
    "    \n",
    "    ...\n",
    "    \n",
    "    26 -> Z,\n",
    "    \n",
    "    27 -> AA,\n",
    "    \n",
    "    28 -> AB "
   ]
  },
  {
   "cell_type": "code",
   "execution_count": 17,
   "metadata": {},
   "outputs": [
    {
     "name": "stdout",
     "output_type": "stream",
     "text": [
      "ABCD\n"
     ]
    }
   ],
   "source": [
    "class Solution:\n",
    "\t# @param A : integer\n",
    "\t# @return a strings\n",
    "    def convertToTitle(self, n):\n",
    "        ans = []\n",
    "        while n > 0:\n",
    "            rem = n % 26\n",
    "            if rem == 0:\n",
    "                rem = 26\n",
    "                n = n // 26\n",
    "                n -= 1\n",
    "            else:\n",
    "                n = n // 26\n",
    "            rem+=64\n",
    "            ans.append(chr(rem))\n",
    "        ans.reverse()\n",
    "        return ''.join(ans)\n",
    "    \n",
    "o = Solution()\n",
    "print(o.convertToTitle(19010))"
   ]
  }
 ],
 "metadata": {
  "kernelspec": {
   "display_name": "Python 3",
   "language": "python",
   "name": "python3"
  },
  "language_info": {
   "codemirror_mode": {
    "name": "ipython",
    "version": 3
   },
   "file_extension": ".py",
   "mimetype": "text/x-python",
   "name": "python",
   "nbconvert_exporter": "python",
   "pygments_lexer": "ipython3",
   "version": "3.7.3"
  }
 },
 "nbformat": 4,
 "nbformat_minor": 2
}
