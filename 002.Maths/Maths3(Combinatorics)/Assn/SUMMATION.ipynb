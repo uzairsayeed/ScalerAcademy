{
 "cells": [
  {
   "cell_type": "markdown",
   "metadata": {},
   "source": [
    "## SUMMATION:\n",
    "Problem Description\n",
    "Given an integer A. Calculate the sum = (ACr) * (r) * (r - 1) * (2r-2) for all r from 0 to A. Return sum % 109 + 7.  \n",
    "\n",
    "### Problem Constraints\n",
    "2 <= A <= 106\n",
    "\n",
    "### Input Format\n",
    "The first and only argument given is the integer A.\n",
    "\n",
    "### Output Format\n",
    "Return a single integer denoting sum % 109 + 7.\n",
    "\n",
    "## Example Input\n",
    "### Input 1:\n",
    " A = 3\n",
    " \n",
    "### Input 2:\n",
    " A = 4\n",
    "\n",
    "## Example Output\n",
    "### Output 1:\n",
    " 18\n",
    "\n",
    "### Output 2:\n",
    " 108\n",
    " \n",
    "## Example Explanation\n",
    "### Explaination 1:\n",
    " (ACr) * (r) * (r - 1) * (2r-2)\n",
    " \n",
    " r = 0, (1) * (0) * (1) * (1/4) = 0\n",
    " \n",
    " r = 1, (3) * (1) * (0) * (1/2) = 0\n",
    " \n",
    " r = 2, (3) * (2) * (1) * (1) = 6\n",
    " \n",
    " r = 3, (1) * (3) * (2) * (2) = 12\n",
    " \n",
    " sum = 18"
   ]
  },
  {
   "cell_type": "code",
   "execution_count": null,
   "metadata": {},
   "outputs": [],
   "source": [
    "class Solution:\n",
    "    def solve(self, n):\n",
    "        m = 10**9+7\n",
    "        return n*(n-1)*pow(3, n-2, m)"
   ]
  },
  {
   "cell_type": "code",
   "execution_count": null,
   "metadata": {},
   "outputs": [],
   "source": [
    "# FastPower function\n",
    "def powe(a,b):\n",
    "    res=1\n",
    "    while(b):\n",
    "        if(b%2):\n",
    "            res=((res)*(a))%mod\n",
    "            b-=1\n",
    "        else:\n",
    "            a=((a)*(a))%mod\n",
    "            b=b//2\n",
    "    return res%mod"
   ]
  }
 ],
 "metadata": {
  "kernelspec": {
   "display_name": "Python 3",
   "language": "python",
   "name": "python3"
  },
  "language_info": {
   "codemirror_mode": {
    "name": "ipython",
    "version": 3
   },
   "file_extension": ".py",
   "mimetype": "text/x-python",
   "name": "python",
   "nbconvert_exporter": "python",
   "pygments_lexer": "ipython3",
   "version": "3.7.3"
  }
 },
 "nbformat": 4,
 "nbformat_minor": 2
}
