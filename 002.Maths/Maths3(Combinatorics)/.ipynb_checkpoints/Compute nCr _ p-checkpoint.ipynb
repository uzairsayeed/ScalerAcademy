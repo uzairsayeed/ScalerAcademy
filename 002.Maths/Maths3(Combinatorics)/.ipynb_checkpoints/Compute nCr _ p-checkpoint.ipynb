{
 "cells": [
  {
   "cell_type": "markdown",
   "metadata": {},
   "source": [
    "## Compute nCr % p:\n",
    "Problem Description\n",
    "Given three integers A, B and C, where A represents n, B represents r and C represents p and p is a prime number greater than equal to n, find and return the value of nCr % p where nCr % p = (n! / ((n-r)! * r!)) % p. \n",
    "x! means factorial of x i.e. x! = 1 * 2 * 3... * x. \n",
    "\n",
    "NOTE: For this problem, we are considering 1 as a prime.     \n",
    "\n",
    "\n",
    "### Problem Constraints\n",
    "1 <= A <= 106\n",
    "\n",
    "1 <= B <= A\n",
    "\n",
    "A <= C <= 109+7\n",
    "    \n",
    "### Input Format\n",
    "The first argument given is the integer A ( = n).\n",
    "\n",
    "The second argument given is the integer B ( = r).\n",
    "\n",
    "The third argument given is the integer C ( = p).\n",
    "\n",
    "\n",
    "### Output Format\n",
    "Return the value of nCr % p.\n",
    "\n",
    "\n",
    "## Example Input\n",
    "### Input 1:\n",
    " A = 5\n",
    " \n",
    " B = 2\n",
    " \n",
    " C = 13\n",
    " \n",
    "### Input 2:\n",
    " A = 6\n",
    " \n",
    " B = 2\n",
    " \n",
    " C = 13\n",
    "  \n",
    "## Example Output\n",
    "### Output 1: \n",
    " 10\n",
    "\n",
    "### Output 2:\n",
    " 2\n",
    "       \n",
    "## Example Explanation\n",
    "### Explanation 1:\n",
    " nCr( n=5 and r=2) = 10.\n",
    " \n",
    " p=13. Therefore, nCr%p = 10."
   ]
  },
  {
   "cell_type": "code",
   "execution_count": 1,
   "metadata": {},
   "outputs": [
    {
     "name": "stdout",
     "output_type": "stream",
     "text": [
      "10\n"
     ]
    }
   ],
   "source": [
    "class Solution:\n",
    "    # @param A : integer\n",
    "    # @param B : integer\n",
    "    # @param C : integer\n",
    "    # @return an integer\n",
    "    def solve(self, n, r, p):\n",
    "        num = 1\n",
    "        den = 1\n",
    "        if n == r:\n",
    "            return 1%p\n",
    "        for i in range(min(r, (n-r))):\n",
    "            num = (num * (n-i)) % p\n",
    "            den = (den * (i+1)) % p\n",
    "        return (num * pow(den, p-2, p) ) % p\n",
    "        \n",
    "o = Solution()\n",
    "print(o.solve(5,2,13))"
   ]
  }
 ],
 "metadata": {
  "kernelspec": {
   "display_name": "Python 3",
   "language": "python",
   "name": "python3"
  },
  "language_info": {
   "codemirror_mode": {
    "name": "ipython",
    "version": 3
   },
   "file_extension": ".py",
   "mimetype": "text/x-python",
   "name": "python",
   "nbconvert_exporter": "python",
   "pygments_lexer": "ipython3",
   "version": "3.7.3"
  }
 },
 "nbformat": 4,
 "nbformat_minor": 2
}
