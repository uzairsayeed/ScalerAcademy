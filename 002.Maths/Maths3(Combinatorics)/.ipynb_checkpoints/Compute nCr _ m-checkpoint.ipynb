{
 "cells": [
  {
   "cell_type": "markdown",
   "metadata": {},
   "source": [
    "## Compute nCr % m:\n",
    "Problem Description\n",
    "Given three integers A, B and C, where A represents n, B represents r and C represents m, find and return the value of nCr % m where nCr % m = (n!/((n-r)!*r!))% m. x! means factorial of x i.e. x! = 1 * 2 * 3... * x.   \n",
    "\n",
    "\n",
    "### Problem Constraints\n",
    "\n",
    "1 <= A * B <= 106 1 <= B <= A 1 <= C <= 106   \n",
    "\n",
    "\n",
    "Input Format\n",
    "\n",
    "The first argument given is integer A ( = n).\n",
    "\n",
    "The second argument given is integer B ( = r).\n",
    "\n",
    "The third argument given is integer C ( = m).\n",
    "\n",
    "\n",
    "Output Format\n",
    "\n",
    "Return the value of nCr % m.\n",
    "\n",
    "\n",
    "Example Input\n",
    "\n",
    "Input 1:\n",
    " A = 5\n",
    "\n",
    " B = 2\n",
    " \n",
    " C = 13\n",
    "\n",
    "Input 2:\n",
    " \n",
    " A = 6\n",
    " \n",
    " B = 2\n",
    " \n",
    " C = 13\n",
    "  \n",
    "Example Output\n",
    "\n",
    "Output 1:\n",
    " 10\n",
    "\n",
    "Output 2:\n",
    " 2\n",
    "  \n",
    "Example Explanation\n",
    "\n",
    "Explanation 1:\n",
    "\n",
    "    The value of 5C2 % 11 is 10.\n",
    "\n",
    "Explanation 2:\n",
    " \n",
    "    The value of 6C2 % 13 is 2."
   ]
  },
  {
   "cell_type": "code",
   "execution_count": 31,
   "metadata": {},
   "outputs": [
    {
     "name": "stdout",
     "output_type": "stream",
     "text": [
      "2\n"
     ]
    }
   ],
   "source": [
    "# (a+b)%m = (a%m + b%m) % m\n",
    "\n",
    "class Solution:\n",
    "    def solve(self, n, r, m):\n",
    "        memo = [[1 if i==j else -1 for j in range(r+1)] for i in range(n+1)]\n",
    "        for i in range(n+1):\n",
    "            memo[i][0] = 1\n",
    "        for i in range(2, n+1):\n",
    "            for j in range(1, r+1):\n",
    "                if i != j:\n",
    "                    #print(i, j, memo[i-1][j-1], memo[i-1][j], memo[i-1][j-1]+memo[i-1][j])\n",
    "                    memo[i][j] = (memo[i-1][j-1]%m + memo[i-1][j]%m ) % m\n",
    "        return memo[n][r]\n",
    "        \n",
    "        \n",
    "o = Solution()\n",
    "print(o.solve(6, 2, 13))"
   ]
  }
 ],
 "metadata": {
  "kernelspec": {
   "display_name": "Python 3",
   "language": "python",
   "name": "python3"
  },
  "language_info": {
   "codemirror_mode": {
    "name": "ipython",
    "version": 3
   },
   "file_extension": ".py",
   "mimetype": "text/x-python",
   "name": "python",
   "nbconvert_exporter": "python",
   "pygments_lexer": "ipython3",
   "version": "3.7.3"
  }
 },
 "nbformat": 4,
 "nbformat_minor": 2
}
