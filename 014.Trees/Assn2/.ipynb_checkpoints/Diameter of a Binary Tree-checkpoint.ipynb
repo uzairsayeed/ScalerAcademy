{
 "cells": [
  {
   "cell_type": "code",
   "execution_count": null,
   "metadata": {},
   "outputs": [],
   "source": [
    "# Definition for a  binary tree node\n",
    "# class TreeNode:\n",
    "#    def __init__(self, x):\n",
    "#        self.val = x\n",
    "#        self.left = None\n",
    "#        self.right = None\n",
    "#Note : The diameter of a tree is the number of edges on the longest path between two nodes in the tree.\n",
    "class Solution:\n",
    "    # @param A : root node of tree\n",
    "    # @return an integer\n",
    "    def solve(self, root):\n",
    "        res = self.solveHelper(root)\n",
    "        return res[0]-1\n",
    "    def solveHelper(self, root):\n",
    "        if not root:\n",
    "            return 0, 0\n",
    "        lst_d, lst_h = self.solveHelper(root.left)\n",
    "        rst_d, rst_h = self.solveHelper(root.right)\n",
    "        return max(1+lst_h+rst_h, lst_d, rst_d), 1+max(lst_h, rst_h)"
   ]
  }
 ],
 "metadata": {
  "kernelspec": {
   "display_name": "Python 3",
   "language": "python",
   "name": "python3"
  },
  "language_info": {
   "codemirror_mode": {
    "name": "ipython",
    "version": 3
   },
   "file_extension": ".py",
   "mimetype": "text/x-python",
   "name": "python",
   "nbconvert_exporter": "python",
   "pygments_lexer": "ipython3",
   "version": "3.7.3"
  }
 },
 "nbformat": 4,
 "nbformat_minor": 2
}
