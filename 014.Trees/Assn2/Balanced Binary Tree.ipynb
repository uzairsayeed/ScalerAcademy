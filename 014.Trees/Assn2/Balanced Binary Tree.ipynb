{
 "cells": [
  {
   "cell_type": "markdown",
   "metadata": {},
   "source": [
    "## Balanced Binary Tree:\n",
    "Problem Description\n",
    "\n",
    "Given a root of binary tree A, determine if it is height-balanced.\n",
    "\n",
    "A height-balanced binary tree is defined as a binary tree in which the depth of the two subtrees of every node never differ by more than 1.\n",
    "### Problem Constraints\n",
    "1 <= size of tree <= 100000\n",
    "### Input Format\n",
    "First and only argument is the root of the tree A.\n",
    "### Output Format\n",
    "Return 0 / 1 ( 0 for false, 1 for true ) for this problem.\n",
    "## Example Input\n",
    "### Input 1:\n",
    "\n",
    "        1\n",
    "       \n",
    "       / \\\n",
    "      \n",
    "      2   3\n",
    "### Input 2:\n",
    " \n",
    "           1\n",
    "          \n",
    "          /\n",
    "         \n",
    "         2\n",
    "        \n",
    "        /\n",
    "       \n",
    "       3\n",
    "## Example Output\n",
    "### Output 1:\n",
    "1\n",
    "### Output 2:\n",
    "0\n",
    "## Example Explanation\n",
    "### Explanation 1:\n",
    "It is a complete binary tree.\n",
    "### Explanation 2:\n",
    "Because for the root node, left subtree has depth 2 and right subtree has depth 0. \n",
    "\n",
    "Difference = 2 > 1. "
   ]
  },
  {
   "cell_type": "code",
   "execution_count": null,
   "metadata": {},
   "outputs": [],
   "source": [
    "class Solution:\n",
    "    def isBalanced(self, root):\n",
    "        balanced, height = self.isBalanced2(root)\n",
    "        if balanced:\n",
    "            return 1\n",
    "        return 0\n",
    "\n",
    "    def isBalanced2(self, root):\n",
    "        if root is None:\n",
    "            return True, 0\n",
    "\n",
    "        left_balanced, left_height = self.isBalanced2(root.left)\n",
    "        right_balanced, right_height = self.isBalanced2(root.right)\n",
    "        \n",
    "        balanced = abs(left_height - right_height) < 2 and left_balanced and right_balanced\n",
    "        height = 1 + max(left_height, right_height)\n",
    "        return balanced, height"
   ]
  },
  {
   "cell_type": "code",
   "execution_count": null,
   "metadata": {},
   "outputs": [],
   "source": [
    "class Solution:\n",
    "    def isBalanced(self, root):\n",
    "        isBal, ht = self.isBalancedHelper(root)\n",
    "        if isBal:\n",
    "            return 1\n",
    "        return 0\n",
    "    def isBalancedHelper(self, root):\n",
    "        if not root:\n",
    "            return True, 0\n",
    "        isLSTBalanced, LST_ht = self.isBalancedHelper(root.left)\n",
    "        idRSTBalanced, RST_ht = self.isBalnacedHelper(root.right)\n",
    "        balanced = abs(LST_ht - RST_ht) >= 1 and isLSTBalanced and isRSTBalanced\n",
    "        ht = 1 + max(LST_ht, RST_ht)\n",
    "        return balnced, ht"
   ]
  }
 ],
 "metadata": {
  "kernelspec": {
   "display_name": "Python 3",
   "language": "python",
   "name": "python3"
  },
  "language_info": {
   "codemirror_mode": {
    "name": "ipython",
    "version": 3
   },
   "file_extension": ".py",
   "mimetype": "text/x-python",
   "name": "python",
   "nbconvert_exporter": "python",
   "pygments_lexer": "ipython3",
   "version": "3.9.0"
  }
 },
 "nbformat": 4,
 "nbformat_minor": 2
}
