{
 "cells": [
  {
   "cell_type": "markdown",
   "metadata": {},
   "source": [
    "## Identical Binary Trees:\n",
    "Problem Description\n",
    "\n",
    "Given two binary trees, check if they are equal or not.\n",
    "\n",
    "Two binary trees are considered equal if they are structurally identical and the nodes have the same value.\n",
    "### Problem Constraints\n",
    "1 <= number of nodes <= 105\n",
    "### Input Format\n",
    "First argument is a root node of first tree, A.\n",
    "\n",
    "Second argument is a root node of second tree, B.\n",
    "### Output Format\n",
    "Return 0 / 1 ( 0 for false, 1 for true ) for this problem.\n",
    "## Example Input\n",
    "### Input 1:\n",
    "\n",
    "       1       1\n",
    "      \n",
    "      / \\     / \\\n",
    "     \n",
    "     2   3   2   3\n",
    "### Input 2:\n",
    "\n",
    "       1       1\n",
    "      \n",
    "      / \\     / \\\n",
    "     \n",
    "     2   3   3   3\n",
    "## Example Output\n",
    "### Output 1:\n",
    " 1\n",
    "### Output 2:\n",
    " 0\n",
    "## Example Explanation\n",
    "### Explanation 1:\n",
    " Both trees are structurally identical and the nodes have the same value.\n",
    "### Explanation 2:\n",
    " Value of left child of the tree is different."
   ]
  },
  {
   "cell_type": "code",
   "execution_count": null,
   "metadata": {},
   "outputs": [],
   "source": [
    "# Definition for a  binary tree node\n",
    "# class TreeNode:\n",
    "#\tdef __init__(self, x):\n",
    "#\t\tself.val = x\n",
    "#\t\tself.left = None\n",
    "#\t\tself.right = None\n",
    "\n",
    "class Solution:\n",
    "    # @param A : root node of tree\n",
    "    # @param B : root node of tree\n",
    "    # @return an integer\n",
    "    def isSameTree(self, root1, root2):\n",
    "        if not root1 and not root2:\n",
    "            return 1\n",
    "        if not root1 or not root2:\n",
    "            return 0\n",
    "        if root1.val != root2.val:\n",
    "            return 0\n",
    "        return self.isSameTree(root1.left, root2.left) and self.isSameTree(root1.right, root2.right)"
   ]
  }
 ],
 "metadata": {
  "kernelspec": {
   "display_name": "Python 3",
   "language": "python",
   "name": "python3"
  },
  "language_info": {
   "codemirror_mode": {
    "name": "ipython",
    "version": 3
   },
   "file_extension": ".py",
   "mimetype": "text/x-python",
   "name": "python",
   "nbconvert_exporter": "python",
   "pygments_lexer": "ipython3",
   "version": "3.7.3"
  }
 },
 "nbformat": 4,
 "nbformat_minor": 2
}
