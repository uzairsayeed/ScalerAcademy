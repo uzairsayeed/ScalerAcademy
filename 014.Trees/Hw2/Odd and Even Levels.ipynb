{
 "cells": [
  {
   "cell_type": "markdown",
   "metadata": {},
   "source": [
    "## Odd and Even Levels:\n",
    "Problem Description\n",
    "\n",
    "Given a binary tree of integers. Find the difference between the sum of nodes at odd level and sum of nodes at even level.\n",
    "### NOTE: \n",
    "Consider the level of root node as 1.\n",
    "### Problem Constraints\n",
    "1 <= Number of nodes in binary tree <= 100000\n",
    "\n",
    "0 <= node values <= 109\n",
    "### Input Format\n",
    "First and only argument is a root node of the binary tree, A\n",
    "### Output Format\n",
    "Return an integer denoting the difference between the sum of nodes at odd level and sum of nodes at even level.\n",
    "## Example Input\n",
    "### Input 1:\n",
    "\n",
    "            1\n",
    "          \n",
    "          /   \\\n",
    "         \n",
    "         2     3\n",
    "        \n",
    "        / \\   / \\\n",
    "       \n",
    "       4   5 6   7\n",
    "      \n",
    "      /\n",
    "     \n",
    "     8 \n",
    "### Input 2:\n",
    "\n",
    "        1\n",
    "       \n",
    "       / \\\n",
    "      \n",
    "      2   10\n",
    "       \n",
    "       \\\n",
    "        \n",
    "        4\n",
    "## Example Output\n",
    "### Output 1:\n",
    " 10\n",
    "### Output 2:\n",
    " -7\n",
    "## Example Explanation\n",
    "### Explanation 1:\n",
    " Sum of nodes at odd level = 23\n",
    " \n",
    " Sum of ndoes at even level = 13\n",
    "### Explanation 2:\n",
    " Sum of nodes at odd level = 5\n",
    " \n",
    " Sum of ndoes at even level = 12\n"
   ]
  },
  {
   "cell_type": "code",
   "execution_count": null,
   "metadata": {},
   "outputs": [],
   "source": [
    "class Soution:\n",
    "    def solve(self, root):\n",
    "        if not root:\n",
    "            return 0\n",
    "        return root.val - self.solve(root.left) - self.solve(root.right)"
   ]
  }
 ],
 "metadata": {
  "kernelspec": {
   "display_name": "Python 3",
   "language": "python",
   "name": "python3"
  },
  "language_info": {
   "codemirror_mode": {
    "name": "ipython",
    "version": 3
   },
   "file_extension": ".py",
   "mimetype": "text/x-python",
   "name": "python",
   "nbconvert_exporter": "python",
   "pygments_lexer": "ipython3",
   "version": "3.7.3"
  }
 },
 "nbformat": 4,
 "nbformat_minor": 2
}
