{
 "cells": [
  {
   "cell_type": "markdown",
   "metadata": {},
   "source": [
    "## Symmetric Binary Tree:\n",
    "Problem Description\n",
    "\n",
    "Given a binary tree, check whether it is a mirror of itself (ie, symmetric around its center).\n",
    "### Problem Constraints\n",
    "1 <= number of nodes <= 105\n",
    "### Input Format\n",
    "First and only argument is the root node of the binary tree.\n",
    "### Output Format\n",
    "Return 0 / 1 ( 0 for false, 1 for true ).\n",
    "## Example Input\n",
    "### Input 1:\n",
    "\n",
    "        1\n",
    "       \n",
    "       / \\\n",
    "      \n",
    "      2   2\n",
    "     \n",
    "     / \\ / \\\n",
    "    \n",
    "    3  4 4  3\n",
    "### Input 2:\n",
    "\n",
    "        1\n",
    "       \n",
    "       / \\\n",
    "      \n",
    "      2   2\n",
    "       \n",
    "       \\   \\\n",
    "       \n",
    "       3    3\n",
    "## Example Output\n",
    "### Output 1:\n",
    " 1\n",
    "### Output 2:\n",
    " 0\n",
    "## Example Explanation\n",
    "### Explanation 1:\n",
    " The above binary tree is symmetric. \n",
    "### Explanation 2:\n",
    "The above binary tree is not symmetric."
   ]
  },
  {
   "cell_type": "code",
   "execution_count": null,
   "metadata": {},
   "outputs": [],
   "source": [
    "# Definition for a  binary tree node\n",
    "# class TreeNode:\n",
    "#\tdef __init__(self, x):\n",
    "#\t\tself.val = x\n",
    "#\t\tself.left = None\n",
    "#\t\tself.right = None\n",
    "\n",
    "class Solution:\n",
    "    # @param A : root node of tree\n",
    "    # @return an integer\n",
    "    def isSymmetric(self, root):\n",
    "        return self.check(root, root)\n",
    "    def check(self, root1, root2):\n",
    "        if not root1 and not root2:\n",
    "            return 1\n",
    "        if (root1 and not root2) or (not root1 and root2):\n",
    "            return 0\n",
    "        if root1.val != root2.val:\n",
    "            return 0\n",
    "        else:\n",
    "            return self.check(root1.left, root2.right) and self.check(root1.right, root2.left)"
   ]
  }
 ],
 "metadata": {
  "kernelspec": {
   "display_name": "Python 3",
   "language": "python",
   "name": "python3"
  },
  "language_info": {
   "codemirror_mode": {
    "name": "ipython",
    "version": 3
   },
   "file_extension": ".py",
   "mimetype": "text/x-python",
   "name": "python",
   "nbconvert_exporter": "python",
   "pygments_lexer": "ipython3",
   "version": "3.7.3"
  }
 },
 "nbformat": 4,
 "nbformat_minor": 2
}
