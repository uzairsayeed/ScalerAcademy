{
 "cells": [
  {
   "cell_type": "markdown",
   "metadata": {},
   "source": [
    "## Binary Tree From Inorder And Postorder:\n",
    "Problem Description\n",
    "\n",
    "Given inorder and postorder traversal of a tree, construct the binary tree.\n",
    "### NOTE: \n",
    "You may assume that duplicates do not exist in the tree.\n",
    "### Problem Constraints\n",
    "1 <= number of nodes <= 105\n",
    "### Input Format\n",
    "First argument is an integer array A denoting the inorder traversal of the tree.\n",
    "\n",
    "Second argument is an integer array B denoting the postorder traversal of the tree.\n",
    "### Output Format\n",
    "Return the root node of the binary tree.\n",
    "## Example Input\n",
    "### Input 1:\n",
    " A = [2, 1, 3]\n",
    " \n",
    " B = [2, 3, 1]\n",
    "### Input 2:\n",
    " A = [6, 1, 3, 2]\n",
    " \n",
    " B = [6, 3, 2, 1]\n",
    "## Example Output\n",
    "### Output 1:\n",
    "\n",
    "       1\n",
    "      \n",
    "      / \\\n",
    "     \n",
    "     2   3\n",
    "### Output 2:\n",
    "\n",
    "       1  \n",
    "      \n",
    "      / \\\n",
    "     \n",
    "     6   2\n",
    "        \n",
    "        /\n",
    "       \n",
    "       3\n",
    "## Example Explanation\n",
    "### Explanation 1:\n",
    " Create the binary tree and return the root node of the tree."
   ]
  },
  {
   "cell_type": "code",
   "execution_count": 3,
   "metadata": {},
   "outputs": [
    {
     "ename": "NameError",
     "evalue": "name 'TreeNode' is not defined",
     "output_type": "error",
     "traceback": [
      "\u001b[1;31m---------------------------------------------------------------------------\u001b[0m",
      "\u001b[1;31mNameError\u001b[0m                                 Traceback (most recent call last)",
      "\u001b[1;32m<ipython-input-3-1c0aa82d300a>\u001b[0m in \u001b[0;36m<module>\u001b[1;34m\u001b[0m\n\u001b[0;32m     61\u001b[0m \u001b[1;33m\u001b[0m\u001b[0m\n\u001b[0;32m     62\u001b[0m \u001b[0mB\u001b[0m \u001b[1;33m=\u001b[0m \u001b[1;33m[\u001b[0m\u001b[1;36m2\u001b[0m\u001b[1;33m,\u001b[0m \u001b[1;36m3\u001b[0m\u001b[1;33m,\u001b[0m \u001b[1;36m1\u001b[0m\u001b[1;33m]\u001b[0m\u001b[1;33m\u001b[0m\u001b[1;33m\u001b[0m\u001b[0m\n\u001b[1;32m---> 63\u001b[1;33m \u001b[0mprint\u001b[0m\u001b[1;33m(\u001b[0m\u001b[0mo\u001b[0m\u001b[1;33m.\u001b[0m\u001b[0mbuildTree\u001b[0m\u001b[1;33m(\u001b[0m\u001b[0mA\u001b[0m\u001b[1;33m,\u001b[0m \u001b[0mB\u001b[0m\u001b[1;33m)\u001b[0m\u001b[1;33m)\u001b[0m\u001b[1;33m\u001b[0m\u001b[1;33m\u001b[0m\u001b[0m\n\u001b[0m",
      "\u001b[1;32m<ipython-input-3-1c0aa82d300a>\u001b[0m in \u001b[0;36mbuildTree\u001b[1;34m(self, inorder, postorder)\u001b[0m\n\u001b[0;32m     23\u001b[0m         \u001b[0mleft_postorder\u001b[0m \u001b[1;33m=\u001b[0m \u001b[0mpostorder\u001b[0m\u001b[1;33m[\u001b[0m\u001b[1;33m:\u001b[0m \u001b[0m_len\u001b[0m\u001b[1;33m+\u001b[0m\u001b[1;36m1\u001b[0m\u001b[1;33m]\u001b[0m\u001b[1;33m\u001b[0m\u001b[1;33m\u001b[0m\u001b[0m\n\u001b[0;32m     24\u001b[0m         \u001b[0mright_postorder\u001b[0m \u001b[1;33m=\u001b[0m \u001b[0mpostorder\u001b[0m\u001b[1;33m[\u001b[0m\u001b[0m_len\u001b[0m\u001b[1;33m+\u001b[0m\u001b[1;36m1\u001b[0m\u001b[1;33m:\u001b[0m \u001b[1;33m]\u001b[0m\u001b[1;33m\u001b[0m\u001b[1;33m\u001b[0m\u001b[0m\n\u001b[1;32m---> 25\u001b[1;33m         \u001b[0mroot\u001b[0m \u001b[1;33m=\u001b[0m \u001b[0mTreeNode\u001b[0m\u001b[1;33m(\u001b[0m\u001b[0mroot_data\u001b[0m\u001b[1;33m)\u001b[0m\u001b[1;33m\u001b[0m\u001b[1;33m\u001b[0m\u001b[0m\n\u001b[0m\u001b[0;32m     26\u001b[0m         \u001b[0mroot\u001b[0m\u001b[1;33m.\u001b[0m\u001b[0mleft\u001b[0m \u001b[1;33m=\u001b[0m \u001b[0mself\u001b[0m\u001b[1;33m.\u001b[0m\u001b[0mbuildTree\u001b[0m\u001b[1;33m(\u001b[0m\u001b[0mleft_inorder\u001b[0m\u001b[1;33m,\u001b[0m \u001b[0mleft_postorder\u001b[0m\u001b[1;33m)\u001b[0m\u001b[1;33m\u001b[0m\u001b[1;33m\u001b[0m\u001b[0m\n\u001b[0;32m     27\u001b[0m         \u001b[0mroot\u001b[0m\u001b[1;33m.\u001b[0m\u001b[0mright\u001b[0m \u001b[1;33m=\u001b[0m \u001b[0mself\u001b[0m\u001b[1;33m.\u001b[0m\u001b[0mbuildTree\u001b[0m\u001b[1;33m(\u001b[0m\u001b[0mright_inorder\u001b[0m\u001b[1;33m,\u001b[0m \u001b[0mright_postorder\u001b[0m\u001b[1;33m)\u001b[0m\u001b[1;33m\u001b[0m\u001b[1;33m\u001b[0m\u001b[0m\n",
      "\u001b[1;31mNameError\u001b[0m: name 'TreeNode' is not defined"
     ]
    }
   ],
   "source": [
    "# Definition for a  binary tree node\n",
    "# class TreeNode:\n",
    "#\tdef __init__(self, x):\n",
    "#\t\tself.val = x\n",
    "#\t\tself.left = None\n",
    "#\t\tself.right = None\n",
    "from collections import defaultdict\n",
    "class Solution:\n",
    "    # @param A : list of integers\n",
    "    # @param B : list of integers\n",
    "    # @return the root node in the tree\n",
    "    def buildTree(self, inorder, postorder):\n",
    "        if postorder == [] or inorder == []:\n",
    "            return None\n",
    "        io, po = defaultdict(int), defaultdict(int)\n",
    "        for i in range(len(inorder)):\n",
    "            io[inorder[i]] = i\n",
    "        for i in range(len(postorder)):\n",
    "            po[postorder[i]] = i\n",
    "        #print(io, po)\n",
    "        root_data = postorder[-1]\n",
    "        root_pos = io[root_data]\n",
    "        left_inorder = inorder[: root_pos]\n",
    "        right_inorder = inorder[root_pos + 1: ]\n",
    "        _len = len(left_inorder)\n",
    "        left_postorder = postorder[: _len]\n",
    "        right_postorder = postorder[_len: -1]\n",
    "        root = TreeNode(root_data)\n",
    "        root.left = self.buildTree(left_inorder, left_postorder)\n",
    "        root.right = self.buildTree(right_inorder, right_postorder)\n",
    "        return root\n"
   ]
  }
 ],
 "metadata": {
  "kernelspec": {
   "display_name": "Python 3",
   "language": "python",
   "name": "python3"
  },
  "language_info": {
   "codemirror_mode": {
    "name": "ipython",
    "version": 3
   },
   "file_extension": ".py",
   "mimetype": "text/x-python",
   "name": "python",
   "nbconvert_exporter": "python",
   "pygments_lexer": "ipython3",
   "version": "3.9.0"
  }
 },
 "nbformat": 4,
 "nbformat_minor": 2
}
