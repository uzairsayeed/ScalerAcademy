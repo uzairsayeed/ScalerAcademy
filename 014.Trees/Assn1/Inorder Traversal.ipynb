{
 "cells": [
  {
   "cell_type": "markdown",
   "metadata": {},
   "source": [
    "## Inorder Traversal:\n",
    "Problem Description\n",
    "\n",
    "Given a binary tree, return the inorder traversal of its nodes values.\n",
    "### NOTE: Using recursion is not allowed.\n",
    "### Problem Constraints\n",
    "1 <= number of nodes <= 105\n",
    "### Input Format\n",
    "First and only argument is root node of the binary tree, A.\n",
    "### Output Format\n",
    "Return an integer array denoting the inorder traversal of the given binary tree.\n",
    "## Example Input\n",
    "### Input 1:\n",
    "\n",
    "       1\n",
    "\n",
    "        \\\n",
    "\n",
    "         2\n",
    "\n",
    "        /\n",
    "\n",
    "       3\n",
    "### Input 2:\n",
    "\n",
    "        1\n",
    "\n",
    "      /   \\\n",
    "\n",
    "     6      2\n",
    "\n",
    "           /\n",
    "\n",
    "         3\n",
    "## Example Output\n",
    "### Output 1:\n",
    " [1, 3, 2]\n",
    "### Output 2:\n",
    " [6, 1, 3, 2]\n",
    "## Example Explanation\n",
    "### Explanation 1:\n",
    " The Inorder Traversal of the given tree is [1, 3, 2].\n",
    "### Explanation 2:\n",
    " The Inorder Traversal of the given tree is [6, 1, 3, 2]."
   ]
  },
  {
   "cell_type": "code",
   "execution_count": null,
   "metadata": {},
   "outputs": [],
   "source": [
    "# Definition for a  binary tree node\n",
    "# class TreeNode:\n",
    "#\tdef __init__(self, x):\n",
    "#\t\tself.val = x\n",
    "#\t\tself.left = None\n",
    "#\t\tself.right = None\n",
    "\n",
    "class Solution:\n",
    "\t# @param A : root node of tree\n",
    "\t# @return a list of integers\n",
    "    def inorderTraversal(self, root):\n",
    "        if root is None:\n",
    "            return []\n",
    "        res = []\n",
    "        st = []\n",
    "        curr = root\n",
    "        while st or curr:\n",
    "            if curr:\n",
    "                st.append(curr)\n",
    "                curr = curr.left\n",
    "            else:\n",
    "                node = st.pop()\n",
    "                res.append(node.val)\n",
    "                curr = node.right\n",
    "        return res\n",
    "        \n"
   ]
  }
 ],
 "metadata": {
  "kernelspec": {
   "display_name": "Python 3",
   "language": "python",
   "name": "python3"
  },
  "language_info": {
   "codemirror_mode": {
    "name": "ipython",
    "version": 3
   },
   "file_extension": ".py",
   "mimetype": "text/x-python",
   "name": "python",
   "nbconvert_exporter": "python",
   "pygments_lexer": "ipython3",
   "version": "3.9.0"
  }
 },
 "nbformat": 4,
 "nbformat_minor": 2
}
