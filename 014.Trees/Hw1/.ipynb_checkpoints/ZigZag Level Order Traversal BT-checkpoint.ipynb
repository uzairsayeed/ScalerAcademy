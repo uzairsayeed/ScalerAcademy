{
 "cells": [
  {
   "cell_type": "code",
   "execution_count": null,
   "metadata": {},
   "outputs": [],
   "source": [
    "# Definition for a  binary tree node\n",
    "# class TreeNode:\n",
    "#\tdef __init__(self, x):\n",
    "#\t\tself.val = x\n",
    "#\t\tself.left = None\n",
    "#\t\tself.right = None\n",
    "from collections import deque\n",
    "class Solution:\n",
    "\t# @param A : root node of tree\n",
    "\t# @return a list of list of integers\n",
    "\tdef zigzagLevelOrder(self, root):\n",
    "\t    if not root:\n",
    "\t        return []\n",
    "        q = deque([root])\n",
    "        res = []\n",
    "        rev = False\n",
    "        while q:\n",
    "            size = len(q)\n",
    "            curr_level = []\n",
    "            for _ in range(size):\n",
    "                curr = q.popleft()\n",
    "                curr_level.append(curr.val)\n",
    "                if curr.left:\n",
    "                    q.append(curr.left)\n",
    "                if curr.right:\n",
    "                    q.append(curr.right)\n",
    "            if not rev:\n",
    "                res.append(curr_level)\n",
    "            else:\n",
    "                res.append(curr_level[::-1])\n",
    "            rev = not rev\n",
    "        return res    \n",
    "                \n"
   ]
  }
 ],
 "metadata": {
  "kernelspec": {
   "display_name": "Python 3",
   "language": "python",
   "name": "python3"
  },
  "language_info": {
   "codemirror_mode": {
    "name": "ipython",
    "version": 3
   },
   "file_extension": ".py",
   "mimetype": "text/x-python",
   "name": "python",
   "nbconvert_exporter": "python",
   "pygments_lexer": "ipython3",
   "version": "3.7.3"
  }
 },
 "nbformat": 4,
 "nbformat_minor": 2
}
