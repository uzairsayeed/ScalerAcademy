{
 "cells": [
  {
   "cell_type": "markdown",
   "metadata": {},
   "source": [
    "## Postorder Traversal:\n",
    "Problem Description\n",
    "\n",
    "Given a binary tree, return the Postorder traversal of its nodes values.\n",
    "### NOTE: Using recursion is not allowed.\n",
    "### Problem Constraints\n",
    "1 <= number of nodes <= 105\n",
    "### Input Format\n",
    "First and only argument is root node of the binary tree, A.\n",
    "### Output Format\n",
    "Return an integer array denoting the Postorder traversal of the given binary tree.\n",
    "## Example Input\n",
    "### Input 1:\n",
    "\n",
    "       1\n",
    "        \n",
    "        \\\n",
    "         \n",
    "         2\n",
    "        \n",
    "        /\n",
    "       \n",
    "       3\n",
    "### Input 2:\n",
    "\n",
    "        1\n",
    "      /   \\\n",
    "     \n",
    "     6      2\n",
    "          \n",
    "          /\n",
    "         3\n",
    "## Example Output\n",
    "### Output 1:\n",
    " [3, 2, 1]\n",
    "### Output 2:\n",
    " [6, 3, 2, 1]\n",
    "## Example Explanation\n",
    "### Explanation 1:\n",
    " The Preoder Traversal of the given tree is [3, 2, 1].\n",
    "### Explanation 2:\n",
    " The Preoder Traversal of the given tree is [6, 3, 2, 1].\n"
   ]
  },
  {
   "cell_type": "code",
   "execution_count": null,
   "metadata": {},
   "outputs": [],
   "source": [
    "# Definition for a  binary tree node\n",
    "# class TreeNode:\n",
    "#\tdef __init__(self, x):\n",
    "#\t\tself.val = x\n",
    "#\t\tself.left = None\n",
    "#\t\tself.right = None\n",
    "\n",
    "class Solution:\n",
    "\t# @param A : root node of tree\n",
    "\t# @return a list of integers\n",
    "    def postorderTraversal(self, root):\n",
    "        if not root:\n",
    "            return []     \n",
    "        stack, result = [root], []\n",
    "        while stack:\n",
    "            node = stack.pop()\n",
    "            result.append(node.val)\n",
    "            if node.left:\n",
    "                stack.append(node.left)\n",
    "            if node.right:\n",
    "                stack.append(node.right)\n",
    "        return result[::-1]\n",
    "\n"
   ]
  }
 ],
 "metadata": {
  "kernelspec": {
   "display_name": "Python 3",
   "language": "python",
   "name": "python3"
  },
  "language_info": {
   "codemirror_mode": {
    "name": "ipython",
    "version": 3
   },
   "file_extension": ".py",
   "mimetype": "text/x-python",
   "name": "python",
   "nbconvert_exporter": "python",
   "pygments_lexer": "ipython3",
   "version": "3.7.3"
  }
 },
 "nbformat": 4,
 "nbformat_minor": 2
}
