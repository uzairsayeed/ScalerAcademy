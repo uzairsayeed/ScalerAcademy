{
 "cells": [
  {
   "cell_type": "markdown",
   "metadata": {},
   "source": [
    "## Construct Binary Tree From Inorder And Preorder:\n",
    "Given preorder and inorder traversal of a tree, construct the binary tree.\n",
    "\n",
    "### Note: You may assume that duplicates do not exist in the tree. \n",
    "\n",
    "## Example :\n",
    "\n",
    "### Input :\n",
    "     \n",
    "     Preorder : [1, 2, 3]\n",
    "    \n",
    "     Inorder  : [2, 1, 3]\n",
    "\n",
    "### Return :\n",
    "            1\n",
    "           / \\\n",
    "          2   3"
   ]
  },
  {
   "cell_type": "code",
   "execution_count": null,
   "metadata": {},
   "outputs": [],
   "source": [
    "# Definition for a  binary tree node\n",
    "# class TreeNode:\n",
    "#\tdef __init__(self, x):\n",
    "#\t\tself.val = x\n",
    "#\t\tself.left = None\n",
    "#\t\tself.right = None\n",
    "\n",
    "class Solution:\n",
    "\t# @param A : list of integers\n",
    "\t# @param B : list of integers\n",
    "\t# @return the root node in the tree\n",
    "    def buildTree(self, preorder, inorder):\n",
    "        po = {}\n",
    "        for i in range(len(preorder)):\n",
    "            po[preorder[i]] = po.get(preorder[i], i)\n",
    "        io = {}\n",
    "        for i in range(len(inorder)):\n",
    "            io[inorder[i]] = io.get(inorder[i], i)\n",
    "        if preorder == [] or inorder == []:\n",
    "            return None\n",
    "        rootData = preorder[0]\n",
    "        rootIndex = io[rootData]\n",
    "        leftInorder = inorder[0:rootIndex]\n",
    "        rightInorder = inorder[rootIndex+1:]\n",
    "        length = len(leftInorder)\n",
    "        leftPreorder = preorder[1:length+1]\n",
    "        rightPreorder = preorder[length+1:]\n",
    "        root = TreeNode(rootData)\n",
    "        root.left = self.buildTree(leftPreorder, leftInorder)\n",
    "        root.right = self.buildTree(rightPreorder, rightInorder)\n",
    "\n",
    "        return root"
   ]
  }
 ],
 "metadata": {
  "kernelspec": {
   "display_name": "Python 3",
   "language": "python",
   "name": "python3"
  },
  "language_info": {
   "codemirror_mode": {
    "name": "ipython",
    "version": 3
   },
   "file_extension": ".py",
   "mimetype": "text/x-python",
   "name": "python",
   "nbconvert_exporter": "python",
   "pygments_lexer": "ipython3",
   "version": "3.7.3"
  }
 },
 "nbformat": 4,
 "nbformat_minor": 2
}
