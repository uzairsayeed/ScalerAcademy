{
 "cells": [
  {
   "cell_type": "code",
   "execution_count": null,
   "metadata": {},
   "outputs": [],
   "source": [
    "B. 01 Game\n",
    "time limit per test1 second\n",
    "memory limit per test256 megabytes\n",
    "inputstandard input\n",
    "outputstandard output\n",
    "Alica and Bob are playing a game.\n",
    "\n",
    "Initially they have a binary string s consisting of only characters 0 and 1.\n",
    "\n",
    "Alice and Bob make alternating moves: Alice makes the first move, Bob makes the second move, Alice makes the third one, and so on. During each move, the current player must choose two different adjacent characters of string s and delete them. For example, if s=1011001 then the following moves are possible:\n",
    "\n",
    "delete s1 and s2: 1011001→11001;\n",
    "delete s2 and s3: 1011001→11001;\n",
    "delete s4 and s5: 1011001→10101;\n",
    "delete s6 and s7: 1011001→10110.\n",
    "If a player can't make any move, they lose. Both players play optimally. You have to determine if Alice can win.\n",
    "\n",
    "Input\n",
    "First line contains one integer t (1≤t≤1000) — the number of test cases.\n",
    "\n",
    "Only line of each test case contains one string s (1≤|s|≤100), consisting of only characters 0 and 1.\n",
    "\n",
    "Output\n",
    "For each test case print answer in the single line.\n",
    "\n",
    "If Alice can win print DA (YES in Russian) in any register. Otherwise print NET (NO in Russian) in any register.\n",
    "\n",
    "Example\n",
    "inputCopy\n",
    "3\n",
    "01\n",
    "1111\n",
    "0011\n",
    "outputCopy\n",
    "DA\n",
    "NET\n",
    "NET\n",
    "Note\n",
    "In the first test case after Alice's move string s become empty and Bob can not make any move.\n",
    "\n",
    "In the second test case Alice can not make any move initially.\n",
    "\n",
    "In the third test case after Alice's move string s turn into 01. Then, after Bob's move string s become empty and Alice can not make any"
   ]
  },
  {
   "cell_type": "code",
   "execution_count": null,
   "metadata": {},
   "outputs": [],
   "source": [
    "def solve(a):\n",
    "    res = False\n",
    "    while len(a):\n",
    "        #print(a)\n",
    "        for i in range(0, len(a)):\n",
    "            if i+1 >= len(a):\n",
    "                a = ''\n",
    "                break\n",
    "            if a[i] != a[i+1]:\n",
    "                res = not res\n",
    "                if i+2 <= len(a):\n",
    "                    a = a[:i]+a[i+2:]\n",
    "                break\n",
    "    return res\n",
    "t = int(input())\n",
    "while t:\n",
    "    s = input()\n",
    "    if solve(s):\n",
    "        print('DA')\n",
    "    else:\n",
    "        print('NET')\n",
    "    t-=1\n",
    "    "
   ]
  }
 ],
 "metadata": {
  "kernelspec": {
   "display_name": "Python 3",
   "language": "python",
   "name": "python3"
  },
  "language_info": {
   "codemirror_mode": {
    "name": "ipython",
    "version": 3
   },
   "file_extension": ".py",
   "mimetype": "text/x-python",
   "name": "python",
   "nbconvert_exporter": "python",
   "pygments_lexer": "ipython3",
   "version": "3.7.3"
  }
 },
 "nbformat": 4,
 "nbformat_minor": 2
}
