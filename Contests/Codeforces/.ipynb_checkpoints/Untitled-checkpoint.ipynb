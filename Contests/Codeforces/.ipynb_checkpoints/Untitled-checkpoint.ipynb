{
 "cells": [
  {
   "cell_type": "code",
   "execution_count": 14,
   "metadata": {},
   "outputs": [
    {
     "name": "stdout",
     "output_type": "stream",
     "text": [
      "1\n",
      "++++\n",
      "4\n"
     ]
    }
   ],
   "source": [
    "def solve(a):\n",
    "    res = 0\n",
    "    for i in range(0, 10**8):\n",
    "        curr = i\n",
    "        ok = True\n",
    "        for j in range(0, len(a)):\n",
    "            res += 1\n",
    "            if a[j] == '+':\n",
    "                curr += 1\n",
    "            else:\n",
    "                curr -= 1\n",
    "            if curr < 0:\n",
    "                ok = False\n",
    "                break\n",
    "        if ok:\n",
    "            break\n",
    "    return res\n",
    "t = int(input())\n",
    "while t:\n",
    "    s = input()\n",
    "    print(solve(s))\n",
    "    t-=1\n",
    "    "
   ]
  }
 ],
 "metadata": {
  "kernelspec": {
   "display_name": "Python 3",
   "language": "python",
   "name": "python3"
  },
  "language_info": {
   "codemirror_mode": {
    "name": "ipython",
    "version": 3
   },
   "file_extension": ".py",
   "mimetype": "text/x-python",
   "name": "python",
   "nbconvert_exporter": "python",
   "pygments_lexer": "ipython3",
   "version": "3.7.3"
  }
 },
 "nbformat": 4,
 "nbformat_minor": 2
}
