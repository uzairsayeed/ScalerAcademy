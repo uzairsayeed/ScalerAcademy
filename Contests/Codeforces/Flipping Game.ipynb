{
 "cells": [
  {
   "cell_type": "code",
   "execution_count": 3,
   "metadata": {},
   "outputs": [
    {
     "name": "stdout",
     "output_type": "stream",
     "text": [
      "1\n",
      "9\n",
      "9 7 -4 -2 1 -3 9 -4 -5\n",
      "[-2, -11, 2, 3, -4, 12, -13, -1] 3 5\n",
      "None\n"
     ]
    }
   ],
   "source": [
    "def solve(a):\n",
    "    n = len(a)\n",
    "    x = (n-1) // 2\n",
    "    cnt_p, cnt_n = 0, 0\n",
    "    adj = []\n",
    "    for i in range(1, n):\n",
    "        curr = a[i]-a[i-1]\n",
    "        adj.append(curr)\n",
    "        if curr > 0:\n",
    "            cnt_p += 1\n",
    "        elif curr < 0:\n",
    "            cnt_n += 1\n",
    "        else:\n",
    "            cnt_p += 1\n",
    "            cnt_n += 1\n",
    "    print(adj, cnt_p, cnt_n)\n",
    "    for \n",
    "        \n",
    "\n",
    "t = int(input())\n",
    "while t:\n",
    "    n = int(input())\n",
    "    arr = [int(x) for x in input().split()[:n]]\n",
    "    print(solve(arr))\n",
    "    t -= 1"
   ]
  }
 ],
 "metadata": {
  "kernelspec": {
   "display_name": "Python 3",
   "language": "python",
   "name": "python3"
  },
  "language_info": {
   "codemirror_mode": {
    "name": "ipython",
    "version": 3
   },
   "file_extension": ".py",
   "mimetype": "text/x-python",
   "name": "python",
   "nbconvert_exporter": "python",
   "pygments_lexer": "ipython3",
   "version": "3.7.3"
  }
 },
 "nbformat": 4,
 "nbformat_minor": 2
}
