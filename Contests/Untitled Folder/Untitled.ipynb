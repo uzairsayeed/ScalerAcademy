{
 "cells": [
  {
   "cell_type": "code",
   "execution_count": 2,
   "metadata": {},
   "outputs": [
    {
     "name": "stdout",
     "output_type": "stream",
     "text": [
      "76\n"
     ]
    }
   ],
   "source": [
    "import bisect\n",
    "def jobScheduling(start, end, profit):\n",
    "\n",
    "    n = len(start)\n",
    "    start, end, profit = zip(*sorted(zip(start, end, profit)))\n",
    "    jump = {i: bisect.bisect_left(start, end[i]) for i in range(n)}\n",
    "\n",
    "    dp = [0 for _ in range(n+1)]\n",
    "    for i in range(n-1, -1, -1):\n",
    "        dp[i] = max(dp[i+1], profit[i] + dp[jump[i]])\n",
    "\n",
    "    return dp[0]\n",
    "\n",
    "print(jobScheduling([10,5,15,18,30], [40,17,35,53,65], [50,51,20,25,10]))"
   ]
  },
  {
   "cell_type": "code",
   "execution_count": 6,
   "metadata": {},
   "outputs": [
    {
     "name": "stdout",
     "output_type": "stream",
     "text": [
      "4\n"
     ]
    }
   ],
   "source": [
    "def universityCareerFair(arrival, duration):\n",
    "    events = [0]\n",
    "    arr_sorted, dur_sorted = zip(*sorted(zip(arrival, duration)))\n",
    "\n",
    "    for i in range(len(arrival)-1):\n",
    "        if arr_sorted[events[-1]]+dur_sorted[events[-1]] <= arr_sorted[i+1]:\n",
    "            events.append(i+1)\n",
    "        elif arr_sorted[events[-1]]+dur_sorted[events[-1]] >= arr_sorted[i+1]+dur_sorted[i+1]:\n",
    "            events.pop()\n",
    "            events.append(i+1)\n",
    "\n",
    "    return len(events)\n",
    "\n",
    "print(universityCareerFair([1,3,3,5,7], [2,2,1,2,1]))"
   ]
  }
 ],
 "metadata": {
  "kernelspec": {
   "display_name": "Python 3",
   "language": "python",
   "name": "python3"
  },
  "language_info": {
   "codemirror_mode": {
    "name": "ipython",
    "version": 3
   },
   "file_extension": ".py",
   "mimetype": "text/x-python",
   "name": "python",
   "nbconvert_exporter": "python",
   "pygments_lexer": "ipython3",
   "version": "3.9.0"
  }
 },
 "nbformat": 4,
 "nbformat_minor": 2
}
