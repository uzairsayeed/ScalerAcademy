{
 "cells": [
  {
   "cell_type": "code",
   "execution_count": 3,
   "metadata": {},
   "outputs": [
    {
     "name": "stdout",
     "output_type": "stream",
     "text": [
      "[528, 76]\n",
      "[45, 5]\n"
     ]
    }
   ],
   "source": [
    "import itertools\n",
    "class Solution:\n",
    "    # @param A : list of integers\n",
    "    # @return a list of list of integers\n",
    "    def solve(self, s):\n",
    "        s.sort()\n",
    "        ans = [float('-inf'), float('inf')]\n",
    "        r = list(itertools.combinations(s, len(s)//2)) \n",
    "        #print(r)\n",
    "        i, j = 0, len(r)-1\n",
    "        while i<j:\n",
    "            t = 0\n",
    "            for x in range(len(r[i])):\n",
    "                t += abs(r[i][x]-r[j][x])\n",
    "            if t > ans[0]:\n",
    "                ans[0] = t\n",
    "            elif t < ans[1]:\n",
    "                ans[1] = t\n",
    "            #print(curr)\n",
    "            i+=1\n",
    "            j-=1\n",
    "        #print(curr)\n",
    "        return ans\n",
    "\n",
    "o = Solution()\n",
    "print(o.solve([-98, 54, -52, 15, 23, -97, 12, -64, 52, 85]))\n",
    "print(o.solve([-1,-2,-3,-4,5,6,7,8,9,10]))\n"
   ]
  },
  {
   "cell_type": "code",
   "execution_count": 4,
   "metadata": {},
   "outputs": [
    {
     "name": "stdout",
     "output_type": "stream",
     "text": [
      "[-98, -97, -64, -52, 12, 15, 23, 52, 54, 85]\n",
      "[528, inf]\n",
      "[-4, -3, -2, -1, 5, 6, 7, 8, 9, 10]\n",
      "[45, inf]\n"
     ]
    }
   ],
   "source": [
    "import itertools\n",
    "class Solution:\n",
    "    # @param A : list of integers\n",
    "    # @return a list of list of integers\n",
    "    def solve(self, s):\n",
    "        s.sort()\n",
    "        print(s)\n",
    "        ans = [float('-inf'), float('inf')]\n",
    "        i, j = 0, len(s)-1\n",
    "        while i<j:\n",
    "            t = 0\n",
    "            for x in range(len(s)//2):\n",
    "                t += abs(s[i]-s[j])\n",
    "                #print(t)\n",
    "                if t > ans[0]:\n",
    "                    ans[0] = t\n",
    "                i+=1\n",
    "                j-=1\n",
    "        \n",
    "        return ans\n",
    "\n",
    "o = Solution()\n",
    "print(o.solve([-98, 54, -52, 15, 23, -97, 12, -64, 52, 85]))\n",
    "print(o.solve([-1,-2,-3,-4,5,6,7,8,9,10]))\n"
   ]
  },
  {
   "cell_type": "code",
   "execution_count": 137,
   "metadata": {
    "scrolled": true
   },
   "outputs": [
    {
     "name": "stdout",
     "output_type": "stream",
     "text": [
      "103 199 96\n"
     ]
    }
   ],
   "source": [
    "a = abs(-98+97+64+52-12)\n",
    "b = abs(15-23-52-54-85)\n",
    "print(a, b, abs(a-b))"
   ]
  },
  {
   "cell_type": "code",
   "execution_count": null,
   "metadata": {},
   "outputs": [],
   "source": [
    "class Solution:\n",
    "    def solve(self, a):\n",
    "        n = len(a)\n",
    "        ans = [-1, -1]\n",
    "        a.sort()\n",
    "        ans[0] = sum(a[n-1: n//2]) + sum(a[:n//2+1])"
   ]
  }
 ],
 "metadata": {
  "kernelspec": {
   "display_name": "Python 3",
   "language": "python",
   "name": "python3"
  },
  "language_info": {
   "codemirror_mode": {
    "name": "ipython",
    "version": 3
   },
   "file_extension": ".py",
   "mimetype": "text/x-python",
   "name": "python",
   "nbconvert_exporter": "python",
   "pygments_lexer": "ipython3",
   "version": "3.7.3"
  }
 },
 "nbformat": 4,
 "nbformat_minor": 2
}
