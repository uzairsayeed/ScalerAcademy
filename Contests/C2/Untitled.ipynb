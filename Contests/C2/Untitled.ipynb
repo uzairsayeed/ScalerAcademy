{
 "cells": [
  {
   "cell_type": "code",
   "execution_count": 42,
   "metadata": {
    "scrolled": true
   },
   "outputs": [
    {
     "name": "stdout",
     "output_type": "stream",
     "text": [
      "127\n",
      "3028\n",
      "3007\n"
     ]
    }
   ],
   "source": [
    "class Solution:\n",
    "    # @param A : integer\n",
    "    # @param B : integer\n",
    "    # @return an integer\n",
    "    def solve(self, a, b):\n",
    "        seq = self.getSequence(a, b)\n",
    "        print(sum(seq)-b)\n",
    "        if seq(sum) == b:\n",
    "            d = {}\n",
    "            for x in seq:\n",
    "                d[x] = d.get(x, 0)+1\n",
    "            print(max(d))\n",
    "            max_seq = max(d.values())\n",
    "            if max_seq == 1:\n",
    "                return 1\n",
    "            return max_seq-1\n",
    "    def getSequence(self, a, b):\n",
    "        seq = [i for i in range(1,a+1)]\n",
    "        i = 1\n",
    "        #print(seq)\n",
    "        for i in range(1, a):\n",
    "            curr_seq = [0]*a\n",
    "            prev_sum = 0\n",
    "            for j in range(i):\n",
    "                #print(j)\n",
    "                curr_seq[j] = seq[j]\n",
    "                prev_sum+= seq[j]\n",
    "            curr_sum = prev_sum + (seq[i-1]*(a-i))\n",
    "            #print(curr_sum)\n",
    "            if curr_sum >= b:\n",
    "                for x in range(i, a):\n",
    "                    curr_seq[x] = seq[i-1]\n",
    "                #print(curr_seq)\n",
    "                return curr_seq\n",
    "        \n",
    "        \n",
    "                \n",
    "\n",
    "o = Solution()\n",
    "print(o.solve(6035, 13690975))"
   ]
  },
  {
   "cell_type": "code",
   "execution_count": 5,
   "metadata": {},
   "outputs": [
    {
     "name": "stdout",
     "output_type": "stream",
     "text": [
      "36\n"
     ]
    }
   ],
   "source": [
    "a = [1,2]"
   ]
  }
 ],
 "metadata": {
  "kernelspec": {
   "display_name": "Python 3",
   "language": "python",
   "name": "python3"
  },
  "language_info": {
   "codemirror_mode": {
    "name": "ipython",
    "version": 3
   },
   "file_extension": ".py",
   "mimetype": "text/x-python",
   "name": "python",
   "nbconvert_exporter": "python",
   "pygments_lexer": "ipython3",
   "version": "3.7.3"
  }
 },
 "nbformat": 4,
 "nbformat_minor": 2
}
