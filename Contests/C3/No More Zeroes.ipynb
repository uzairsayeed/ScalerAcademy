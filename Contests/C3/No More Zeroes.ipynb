{
 "cells": [
  {
   "cell_type": "code",
   "execution_count": 16,
   "metadata": {},
   "outputs": [
    {
     "name": "stdout",
     "output_type": "stream",
     "text": [
      "121135\n"
     ]
    }
   ],
   "source": [
    "class Solution:\n",
    "    # @param A : integer\n",
    "    # @return a strings\n",
    "    def solve(self, n):\n",
    "        n +=1\n",
    "        a = list(str(n))\n",
    "        for i in range(len(a)):\n",
    "            if a[i] == '0':\n",
    "                a[i] = '1'\n",
    "        return int(''.join(a))\n",
    "o = Solution()\n",
    "print(o.solve(120034))"
   ]
  },
  {
   "cell_type": "code",
   "execution_count": 2,
   "metadata": {},
   "outputs": [
    {
     "name": "stdout",
     "output_type": "stream",
     "text": [
      "['1', '2', '0', '0', '3', '5']\n"
     ]
    }
   ],
   "source": [
    "n = 120034\n",
    "n+=1\n",
    "\n",
    "a = list(str(n))\n",
    "if \n",
    "print(a)"
   ]
  }
 ],
 "metadata": {
  "kernelspec": {
   "display_name": "Python 3",
   "language": "python",
   "name": "python3"
  },
  "language_info": {
   "codemirror_mode": {
    "name": "ipython",
    "version": 3
   },
   "file_extension": ".py",
   "mimetype": "text/x-python",
   "name": "python",
   "nbconvert_exporter": "python",
   "pygments_lexer": "ipython3",
   "version": "3.7.3"
  }
 },
 "nbformat": 4,
 "nbformat_minor": 2
}
