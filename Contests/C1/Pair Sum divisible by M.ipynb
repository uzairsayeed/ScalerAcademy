{
 "cells": [
  {
   "cell_type": "markdown",
   "metadata": {},
   "source": [
    "## Pair Sum divisible by M:\n",
    "Problem Description\n",
    "\n",
    "Given an array of integers A and an integer B, find and return the number of pairs in A whose sum is divisible by B. Since the answer may be large, return the answer modulo (109 + 7).     \n",
    "\n",
    "### Problem Constraints\n",
    "1 <= length of the array <= 100000\n",
    "\n",
    "1 <= A[i] <= 109\n",
    "\n",
    "1 <= B <= 106\n",
    "\n",
    "### Input Format\n",
    "The first argument given is the integer array A.\n",
    "\n",
    "The second argument given is the integer B.\n",
    "\n",
    "### Output Format\n",
    "Return the total number of pairs for which the sum is divisible by B modulo (109 + 7).\n",
    "\n",
    "## Example Input\n",
    "### Input 1:\n",
    " A = [1, 2, 3, 4, 5]\n",
    " \n",
    " B = 2\n",
    "\n",
    "### Input 2:\n",
    " A = [5, 17, 100, 11]\n",
    " \n",
    " B = 28\n",
    "    \n",
    "## Example Output\n",
    "### Output 1:\n",
    " 4\n",
    "\n",
    "### Output 2:\n",
    " 1\n",
    "    \n",
    "## Example Explanation\n",
    "### Explanation 1:\n",
    " All pairs which are divisible by 2 are (1,3), (1,5), (2,4), (3,5). \n",
    " \n",
    " So total 4 pairs."
   ]
  },
  {
   "cell_type": "code",
   "execution_count": 2,
   "metadata": {},
   "outputs": [
    {
     "name": "stdout",
     "output_type": "stream",
     "text": [
      "1\n"
     ]
    }
   ],
   "source": [
    "class Solution:\n",
    "    # @param A : list of integers\n",
    "    # @param B : integer\n",
    "    # @return an integer\n",
    "    def solve(self, a, b):\n",
    "        m = 10**9+7\n",
    "        n = len(a)\n",
    "        cnt = 0\n",
    "        for i in range(n-1):\n",
    "            for j in range(i+1, n):\n",
    "                curr = a[i]+a[j]\n",
    "                if curr%b == 0:\n",
    "                    cnt+=1\n",
    "        return cnt\n",
    "    \n",
    "o = Solution()\n",
    "a = [5,17,100,11]\n",
    "print(o.solve(a,28))\n"
   ]
  },
  {
   "cell_type": "code",
   "execution_count": 54,
   "metadata": {},
   "outputs": [
    {
     "name": "stdout",
     "output_type": "stream",
     "text": [
      "4\n"
     ]
    }
   ],
   "source": [
    "class Solution():\n",
    "    def solve(self, a, b):\n",
    "        m = 10**9+7\n",
    "        ans = 0\n",
    "        n = len(a)\n",
    "        cnt = [0]*b\n",
    "        for x in a:\n",
    "            cnt[x%b] += 1\n",
    "        #print(cnt)\n",
    "        ans += (cnt[0]*(cnt[0]-1)//2)\n",
    "        i, j = 1, b-1\n",
    "        while i<=j:\n",
    "            #print(i,j)\n",
    "            if i==j:\n",
    "                ans += (cnt[i]*(cnt[i]-1)//2)%m\n",
    "            else:\n",
    "                ans += (cnt[i]*cnt[j])%m\n",
    "            i+=1\n",
    "            j-=1\n",
    "        return ans%m          \n",
    "    \n",
    "o = Solution()\n",
    "a = [1,2,3,4,5]\n",
    "print(o.solve(a,2))\n"
   ]
  }
 ],
 "metadata": {
  "kernelspec": {
   "display_name": "Python 3",
   "language": "python",
   "name": "python3"
  },
  "language_info": {
   "codemirror_mode": {
    "name": "ipython",
    "version": 3
   },
   "file_extension": ".py",
   "mimetype": "text/x-python",
   "name": "python",
   "nbconvert_exporter": "python",
   "pygments_lexer": "ipython3",
   "version": "3.7.3"
  }
 },
 "nbformat": 4,
 "nbformat_minor": 2
}
