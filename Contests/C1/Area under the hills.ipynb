{
 "cells": [
  {
   "cell_type": "markdown",
   "metadata": {},
   "source": [
    "## Area under the hills:\n",
    "Problem Description\n",
    "\n",
    "Rishik likes to draw a lot. He starts at origin and chooses a single Y ordinate of each abscissa in [1-N] given in array A and then chooses 0 for N+1. He then joins each consecutive point with a straight line and found that he has drawn a masterpiece. But, It is incomplete without coloring. So, he wants you to tell him the area of hills that he will color. \n",
    "\n",
    "### Problem Constraints\n",
    "1 <= N <= 2e5 1 <= A[i] <= 2e9 \n",
    "\n",
    "### Input Format\n",
    "First and only argument of input contains a single integer array A.\n",
    "\n",
    "### Output Format\n",
    "Return a string denoting area of hills(with truncated/rounded down decimal).\n",
    "\n",
    "## Example Input\n",
    "### Input 1:\n",
    " [2, 1, 3]\n",
    "  \n",
    "### Input 2:\n",
    " [10]\n",
    "  \n",
    "## Example Output\n",
    "### Output 1:\n",
    " \"6\"\n",
    "  \n",
    "### Output 2:\n",
    " \"10\"\n",
    "  \n",
    "## Example Explanation\n",
    "### Explanation 1: \n",
    "See Image for diagram, Area under curve is 6. \n",
    "\n",
    "(image link: https://drive.google.com/file/d/1kVGe5GahWj3vcmDoNNZZ9iK_YerfdIBv/view?usp=sharing) "
   ]
  },
  {
   "cell_type": "code",
   "execution_count": 69,
   "metadata": {},
   "outputs": [
    {
     "name": "stdout",
     "output_type": "stream",
     "text": [
      "10\n"
     ]
    }
   ],
   "source": [
    "class Solution:\n",
    "    # @param A : list of integers\n",
    "    # @return a strings\n",
    "    def solve(self, H):\n",
    "        n = len(H)\n",
    "        area = 0.5 * H[0] * 1\n",
    "        #print(area)\n",
    "        i = 1\n",
    "        for i in range(1,n):\n",
    "            if H[i] == H[i-1]:\n",
    "                area += H[i]*1\n",
    "            else:\n",
    "                h1 = abs(H[i]-H[i-1])\n",
    "                if H[i] > H[i-1]:\n",
    "                    h2 = H[i-1]\n",
    "                else:\n",
    "                    h2 = H[i]\n",
    "                area += (0.5*h1*1)\n",
    "                #print(1,area)\n",
    "                area += (h2*1)\n",
    "                #print(2, area)\n",
    "            #print(area)\n",
    "        area += (0.5*H[n-1]*1)\n",
    "        return str(int(area))\n",
    "        \n",
    "        \n",
    "        \n",
    "        \n",
    "o = Solution()\n",
    "a = [10]\n",
    "print(o.solve(a))\n"
   ]
  }
 ],
 "metadata": {
  "kernelspec": {
   "display_name": "Python 3",
   "language": "python",
   "name": "python3"
  },
  "language_info": {
   "codemirror_mode": {
    "name": "ipython",
    "version": 3
   },
   "file_extension": ".py",
   "mimetype": "text/x-python",
   "name": "python",
   "nbconvert_exporter": "python",
   "pygments_lexer": "ipython3",
   "version": "3.7.3"
  }
 },
 "nbformat": 4,
 "nbformat_minor": 2
}
