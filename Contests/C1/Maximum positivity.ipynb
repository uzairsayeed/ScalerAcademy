{
 "cells": [
  {
   "cell_type": "markdown",
   "metadata": {},
   "source": [
    "## Maximum positivity:\n",
    "Problem Description\n",
    "\n",
    "Given an array of integers A of size N. Return maximum size subarray of A having only non-negative elements. If there are more than one such subarrays, return the one having earliest starting index in A.    \n",
    "\n",
    "### Problem Constraints\n",
    "1 <= N <= 105 -109 <= A[i] <= 109 \n",
    "\n",
    "### Input Format\n",
    "The first and only argument given is the integer array A.\n",
    "\n",
    "### Output Format\n",
    "Return maximum size subarray of A having only non-negative elements. If there are more than one such subarrays, return the one having earliest starting index in A.\n",
    "\n",
    "## Example Input\n",
    "### Input 1:\n",
    " A = [5, 6, -1, 7, 8]\n",
    "  \n",
    "### Input 2:\n",
    " A = [1, 2, 3, 4, 5, 6]\n",
    "  \n",
    "## Example Output\n",
    "### Output 1:\n",
    " [5, 6]\n",
    "  \n",
    "### Output 2:\n",
    " A = [1, 2, 3, 4, 5, 6]\n",
    "  \n",
    "## Example Explanation\n",
    "### Explanation 1:\n",
    " There are two subarrays of size 2 having only non-negative elements.\n",
    " \n",
    " 1. [5, 6]  starting point  = 0\n",
    " \n",
    " 2. [7, 8]  starting point  = 3\n",
    " \n",
    " As starting point of 1 is smaller, return [5, 6]\n",
    " \n",
    "### Explanation 2:\n",
    " There is only one subarray of size 6 having only non-negative elements:\n",
    " \n",
    " [1, 2, 3, 4, 5, 6]"
   ]
  },
  {
   "cell_type": "code",
   "execution_count": 14,
   "metadata": {},
   "outputs": [
    {
     "name": "stdout",
     "output_type": "stream",
     "text": [
      "[1, 2, 3, 4, 5, 6]\n"
     ]
    }
   ],
   "source": [
    "class Solution:\n",
    "    # @param A : list of integers\n",
    "    # @return a list of integers\n",
    "    def solve(self, a):\n",
    "        n = len(a)\n",
    "        i, j = 0, 0\n",
    "        ans = [float('-inf'), -1, -1]\n",
    "        while i <=j and j < n:\n",
    "            if a[j] >= 0:\n",
    "                j+=1\n",
    "            else:\n",
    "                l = j-i\n",
    "                if l > ans[0]:\n",
    "                    ans[0],ans[1],ans[2] = l, i, j-1\n",
    "                if l == ans[0]:\n",
    "                    if i < ans[1]:\n",
    "                        ans[1],ans[2] = i, j-1\n",
    "                j +=1\n",
    "                i = j\n",
    "        l = j-i\n",
    "        if l > ans[0]:\n",
    "            ans[0],ans[1],ans[2] = l, i, j-1\n",
    "        res = []\n",
    "        for i in range(ans[1], ans[2]+1):\n",
    "            res.append(a[i])\n",
    "        return res\n",
    "        \n",
    "o = Solution()\n",
    "a = [1,2,3,4,5,6]\n",
    "print(o.solve(a))"
   ]
  },
  {
   "cell_type": "code",
   "execution_count": 15,
   "metadata": {},
   "outputs": [
    {
     "name": "stdout",
     "output_type": "stream",
     "text": [
      "[[1, 2, 3, 4, 5, 6]]\n",
      "[1, 2, 3, 4, 5, 6]\n"
     ]
    }
   ],
   "source": [
    "# Editorial\n",
    "class Solution:\n",
    "    # @param A : list of integers\n",
    "    # @return a list of integers\n",
    "    def solve(self, A):\n",
    "        ret = [[]]\n",
    "        for i in A:\n",
    "            if i < 0:\n",
    "                ret.append([])\n",
    "            else:\n",
    "                ret[-1].append(i)\n",
    "        print(ret)\n",
    "        mxlen = max([len(i) for i in ret])\n",
    "        for i in ret:\n",
    "            if len(i) == mxlen:\n",
    "                return i\n",
    "            \n",
    "o = Solution()\n",
    "a = [1,2,3,4,5,6]\n",
    "print(o.solve(a))"
   ]
  }
 ],
 "metadata": {
  "kernelspec": {
   "display_name": "Python 3",
   "language": "python",
   "name": "python3"
  },
  "language_info": {
   "codemirror_mode": {
    "name": "ipython",
    "version": 3
   },
   "file_extension": ".py",
   "mimetype": "text/x-python",
   "name": "python",
   "nbconvert_exporter": "python",
   "pygments_lexer": "ipython3",
   "version": "3.7.3"
  }
 },
 "nbformat": 4,
 "nbformat_minor": 2
}
