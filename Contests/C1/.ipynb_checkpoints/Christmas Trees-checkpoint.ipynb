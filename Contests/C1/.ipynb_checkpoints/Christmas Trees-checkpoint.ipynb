{
 "cells": [
  {
   "cell_type": "markdown",
   "metadata": {},
   "source": [
    "## Christmas Trees:\n",
    "Problem Description\n",
    "\n",
    "You are given an aray A consisting of heights of Christmas trees, and an array B of same size consisting of the cost of each of the trees (Bi is the cost of tree Ai, where 1 ≤ i ≤ size(A)), and you are supposed to choose 3 trees (let's say, indices p, q and r), such that Ap < Aq < Ar, where p < q < r.\n",
    "The cost of these trees is Bp + Bq + Br. You are to choose 3 such trees such that they have the minimum cost, find the minimum cost. If not possible to choose 3 such trees, return -1.     \n",
    "\n",
    "### Problem Constraints\n",
    "1 <= A[i], B[i] <= 109\n",
    "\n",
    "3 <= size(A) = size(B) <= 3000\n",
    "\n",
    "### Input Format\n",
    "First argument is an integer array A.\n",
    "\n",
    "Second argument is an integer array B.\n",
    "\n",
    "### Output Format\n",
    "Return an integer denoting the minimum cost of choosing 3 trees whose heights are strictly in increasing order, if not possible, -1.\n",
    "\n",
    "## Example Input\n",
    "### Input 1:\n",
    " A = [1, 3, 5]\n",
    " \n",
    " B = [1, 2, 3]\n",
    " \n",
    "### Input 2:\n",
    " A = [1, 6, 4, 2, 6, 9]\n",
    " \n",
    " B = [2, 5, 7, 3, 2, 7]\n",
    "  \n",
    "## Example Output\n",
    "### Output 1:\n",
    " 6 \n",
    "\n",
    "### Output 2:\n",
    " 7 \n",
    "  \n",
    "## Example Explanation\n",
    "### Explanation 1:\n",
    " We can choose the trees with indices 1, 2 and 3, and the cost is 1 + 2 + 3 = 6. "
   ]
  },
  {
   "cell_type": "code",
   "execution_count": 10,
   "metadata": {},
   "outputs": [
    {
     "name": "stdout",
     "output_type": "stream",
     "text": [
      "12\n"
     ]
    }
   ],
   "source": [
    "class Solution:\n",
    "    # @param A : list of integers\n",
    "    # @param B : list of integers\n",
    "    # @return an integer\n",
    "    def solve(self, a, b):\n",
    "        n = len(a)\n",
    "        j =1\n",
    "        ans = float('inf')\n",
    "        for j in range(1, n-1):\n",
    "            mi = float('inf')\n",
    "            for i in range(0, j):\n",
    "                if a[i] < a[j]:\n",
    "                    mi = min(mi, b[i])\n",
    "                    #print(i,j,a[i],a[j],mi)\n",
    "            mk = float('inf')\n",
    "            for k in range(j+1, n):\n",
    "                if a[j] < a[k]:\n",
    "                    mk = min(mk, b[k])\n",
    "            #print(i,j,k,mi, b[j], mk)\n",
    "            ans = min(ans, mi+b[j]+mk)\n",
    "        if ans == float('inf'):\n",
    "            return -1\n",
    "        return ans\n",
    "                    \n",
    "o = Solution()\n",
    "a=[ 5, 9, 10, 4, 7, 8 ]\n",
    "b=[ 5, 6, 4, 7, 2, 5 ]\n",
    "print(o.solve(a,b))"
   ]
  }
 ],
 "metadata": {
  "kernelspec": {
   "display_name": "Python 3",
   "language": "python",
   "name": "python3"
  },
  "language_info": {
   "codemirror_mode": {
    "name": "ipython",
    "version": 3
   },
   "file_extension": ".py",
   "mimetype": "text/x-python",
   "name": "python",
   "nbconvert_exporter": "python",
   "pygments_lexer": "ipython3",
   "version": "3.7.3"
  }
 },
 "nbformat": 4,
 "nbformat_minor": 2
}
