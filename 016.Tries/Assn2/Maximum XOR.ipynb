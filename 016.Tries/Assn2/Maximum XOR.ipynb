{
 "cells": [
  {
   "cell_type": "markdown",
   "metadata": {},
   "source": [
    "## Maximum XOR:\n",
    "Problem Description\n",
    "\n",
    "Given an array of integers A, find and return the maximum result of A[i] XOR A[j], where i, j are the indexes of the array.\n",
    "### Problem Constraints\n",
    "1 <= length of the array <= 100000\n",
    "\n",
    "0 <= A[i] <= 109\n",
    "### Input Format\n",
    "The only argument given is the integer array A.\n",
    "### Output Format\n",
    "Return an integer denoting the maximum result of A[i] XOR A[j].\n",
    "## Example Input\n",
    "### Input 1:\n",
    " A = [1, 2, 3, 4, 5]\n",
    "### Input 2:\n",
    " A = [5, 17, 100, 11]\n",
    "## Example Output\n",
    "### Output 1:\n",
    " 7\n",
    "### Output 2:\n",
    " 117\n",
    "## Example Explanation\n",
    "### Explanation 1:\n",
    " Maximum XOR occurs between element of indicies(0-based) 1 and 4 i.e. 2 ^ 5 = 7.\n",
    "### Explanation 2:\n",
    " Maximum XOR occurs between element of indicies(0-based) 1 and 2 i.e. 17 ^ 100 = 117.\n"
   ]
  },
  {
   "cell_type": "code",
   "execution_count": 31,
   "metadata": {},
   "outputs": [
    {
     "name": "stdout",
     "output_type": "stream",
     "text": [
      "15\n"
     ]
    }
   ],
   "source": [
    "from collections import defaultdict\n",
    "class TrieNode():\n",
    "    def __init__(self):\n",
    "        self.children = defaultdict()\n",
    "        self.value = -1\n",
    "        \n",
    "class Trie():\n",
    "    def __init__(self):\n",
    "        self.root = self.get_node()\n",
    "\n",
    "    def get_node(self):\n",
    "        return TrieNode()\n",
    "\n",
    "    def insert(self, n):\n",
    "        root = self.root\n",
    "        #print(root.children)\n",
    "        num = '{:064b}'.format(n)\n",
    "        for i in range(64):\n",
    "            curr = int(num[i])\n",
    "            if curr not in root.children:\n",
    "                root.children[curr] = self.get_node()\n",
    "            root = root.children.get(curr)\n",
    "        root.value = n\n",
    "\n",
    "    def search(self, n):\n",
    "        root = self.root\n",
    "        num = '{:064b}'.format(n)\n",
    "        for i in range(64):\n",
    "            curr = int(num[i])\n",
    "            if not root:\n",
    "                return False\n",
    "            root = root.children.get(curr)\n",
    "        return root.value\n",
    "    \n",
    "    def getXorValue(self, n):\n",
    "        root = self.root\n",
    "        num = '{:064b}'.format(n)\n",
    "        for i in range(64):\n",
    "            curr = int(num[i])\n",
    "            look_up = 0 if curr else 1\n",
    "            if look_up in root.children:\n",
    "                root = root.children.get(look_up)\n",
    "            else:\n",
    "                root = root.children.get(curr)\n",
    "        return root.value\n",
    "\n",
    "class Solution:\n",
    "    # @param A : list of integers\n",
    "    # @return an integer\n",
    "    def solve(self, a):\n",
    "        t = Trie()\n",
    "        res = float('-inf')\n",
    "        t.insert(a[0])\n",
    "        for i in range(1, len(a)):\n",
    "            curr = t.getXorValue(a[i])\n",
    "            res = max(res, a[i]^curr)\n",
    "            t.insert(a[i])\n",
    "        return res\n",
    "            \n",
    "        \n",
    "o = Solution()\n",
    "A = [8,9,10,7]\n",
    "print(o.solve(A))\n"
   ]
  },
  {
   "cell_type": "code",
   "execution_count": 29,
   "metadata": {},
   "outputs": [
    {
     "name": "stdout",
     "output_type": "stream",
     "text": [
      "0000000000000000000000000000000000111011100110101100101000000000\n",
      "{1: 3}\n"
     ]
    }
   ],
   "source": [
    "a = '{:064b}'.format(10**9)\n",
    "print(a)\n",
    "x = {}\n",
    "x[1] = 3\n",
    "print(x)"
   ]
  }
 ],
 "metadata": {
  "kernelspec": {
   "display_name": "Python 3",
   "language": "python",
   "name": "python3"
  },
  "language_info": {
   "codemirror_mode": {
    "name": "ipython",
    "version": 3
   },
   "file_extension": ".py",
   "mimetype": "text/x-python",
   "name": "python",
   "nbconvert_exporter": "python",
   "pygments_lexer": "ipython3",
   "version": "3.7.3"
  }
 },
 "nbformat": 4,
 "nbformat_minor": 2
}
