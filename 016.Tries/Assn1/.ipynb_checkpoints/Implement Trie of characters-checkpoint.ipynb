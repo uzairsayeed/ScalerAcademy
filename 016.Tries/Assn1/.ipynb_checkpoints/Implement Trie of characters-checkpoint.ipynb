{
 "cells": [
  {
   "cell_type": "code",
   "execution_count": 34,
   "metadata": {},
   "outputs": [
    {
     "name": "stdout",
     "output_type": "stream",
     "text": [
      "True\n",
      "True\n",
      "False\n"
     ]
    }
   ],
   "source": [
    "from collections import defaultdict\n",
    "class TrieNode():\n",
    "    def __init__(self):\n",
    "        self.children = defaultdict()\n",
    "        self.terminating = False\n",
    "        \n",
    "class Trie():\n",
    "    def __init__(self):\n",
    "        self.root = self.get_node()\n",
    "\n",
    "    def get_node(self):\n",
    "        return TrieNode()\n",
    "\n",
    "    def get_index(self, ch):\n",
    "        return ord(ch) - ord('a')\n",
    "\n",
    "    def insert(self, word):\n",
    "        root = self.root\n",
    "        len1 = len(word)\n",
    "        for i in range(len1):\n",
    "            index = self.get_index(word[i])\n",
    "            if index not in root.children:\n",
    "                root.children[index] = self.get_node()\n",
    "            root = root.children.get(index)\n",
    "        root.terminating = True\n",
    "\n",
    "    def search(self, word):\n",
    "        root = self.root\n",
    "        len1 = len(word)\n",
    "        for i in range(len1):\n",
    "            index = self.get_index(word[i])\n",
    "            if not root:\n",
    "                return False\n",
    "            root = root.children.get(index)\n",
    "        return True if root and root.terminating else False\n",
    "\n",
    "    def delete(self, word):\n",
    "        root = self.root\n",
    "        len1 = len(word)\n",
    "        for i in range(len1):\n",
    "            index = self.get_index(word[i])\n",
    "            #print(word, word[i], index)\n",
    "            if not root:\n",
    "                print (\"Word not found\")\n",
    "                return -1\n",
    "            root = root.children.get(index)\n",
    "        if not root:\n",
    "            #print(123)\n",
    "            print (\"Word not found\")\n",
    "            return -1\n",
    "        else:\n",
    "            root.terminating = False\n",
    "            return 0\n",
    "\n",
    "    def update(self, old_word, new_word):\n",
    "        val = self.delete(old_word)\n",
    "        if val == 0:\n",
    "            self.insert(new_word)\n",
    "\n",
    "if __name__ == \"__main__\":\n",
    "    strings = [\"trie\", \"cap\", \"car\", \"cat\", \"apple\", \"ape\"]\n",
    "    t = Trie()\n",
    "    for word in strings:\n",
    "        t.insert(word)\n",
    "    print(t.search(\"ape\"))\n",
    "    print(t.search(\"cat\"))\n",
    "    t.delete(\"apple\")\n",
    "    print(t.search(\"babaa\"))\n"
   ]
  }
 ],
 "metadata": {
  "kernelspec": {
   "display_name": "Python 3",
   "language": "python",
   "name": "python3"
  },
  "language_info": {
   "codemirror_mode": {
    "name": "ipython",
    "version": 3
   },
   "file_extension": ".py",
   "mimetype": "text/x-python",
   "name": "python",
   "nbconvert_exporter": "python",
   "pygments_lexer": "ipython3",
   "version": "3.7.3"
  }
 },
 "nbformat": 4,
 "nbformat_minor": 2
}
