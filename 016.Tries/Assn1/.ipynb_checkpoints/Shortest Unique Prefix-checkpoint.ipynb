{
 "cells": [
  {
   "cell_type": "markdown",
   "metadata": {},
   "source": [
    "## Shortest Unique Prefix:\n",
    "Problem Description\n",
    "\n",
    "Given a list of N words. Find shortest unique prefix to represent each word in the list.\n",
    "### NOTE:\n",
    "Assume that no word is prefix of another. In other words, the representation is always possible\n",
    "### Problem Constraints\n",
    "1 <= Sum of length of all words <= 106\n",
    "### Input Format\n",
    "First and only argument is a string array of size N.\n",
    "### Output Format\n",
    "Return a string array B where B[i] denotes the shortest unique prefix to represent the ith word.\n",
    "## Example Input\n",
    "### Input 1:\n",
    " A = [\"zebra\", \"dog\", \"duck\", \"dove\"]\n",
    "### Input 2:\n",
    "A = [\"apple\", \"ball\", \"cat\"]\n",
    "## Example Output\n",
    "### Output 1:\n",
    " [\"z\", \"dog\", \"du\", \"dov\"]\n",
    "### Output 2:\n",
    " [\"a\", \"b\", \"c\"]\n",
    "## Example Explanation\n",
    "### Explanation 1:\n",
    " Shortest unique prefix of each word is:\n",
    " \n",
    " For word \"zebra\", we can only use \"z\" as \"z\" is not any prefix of any other word given.\n",
    " \n",
    " For word \"dog\", we have to use \"dog\" as \"d\" and \"do\" are prefixes of \"dov\".\n",
    " \n",
    " For word \"du\", we have to use \"du\" as \"d\" is prefix of \"dov\" and \"dog\".\n",
    " \n",
    " For word \"dov\", we have to use \"dov\" as \"d\" and do\" are prefixes of \"dog\".  \n",
    "### Explanation 2:\n",
    " \"a\", \"b\" and c\" are not prefixes of any other word. So, we can use of first letter of each to represent."
   ]
  },
  {
   "cell_type": "code",
   "execution_count": 9,
   "metadata": {},
   "outputs": [
    {
     "name": "stdout",
     "output_type": "stream",
     "text": [
      "['z', 'dog', 'du', 'dov']\n"
     ]
    }
   ],
   "source": [
    "from collections import defaultdict\n",
    "class Solution:\n",
    "    # @param A : list of strings\n",
    "    # @return a list of strings\n",
    "    def prefix(self, words):\n",
    "        d = defaultdict(int)\n",
    "        for word in words:\n",
    "            for i in range(len(word)):\n",
    "                d[word[:i]]+=1\n",
    "        #print(d)\n",
    "        res=[]\n",
    "        for word in words:\n",
    "            curr = word\n",
    "            for i in range(len(word)):\n",
    "                pref = word[:i]\n",
    "                if d[pref] == 1:\n",
    "                    curr = pref\n",
    "                    break\n",
    "            res.append(curr)                \n",
    "        return res\n",
    "    \n",
    "o = Solution()\n",
    "A = [\"zebra\", \"dog\", \"duck\", \"dove\"]\n",
    "print(o.prefix(A))"
   ]
  }
 ],
 "metadata": {
  "kernelspec": {
   "display_name": "Python 3",
   "language": "python",
   "name": "python3"
  },
  "language_info": {
   "codemirror_mode": {
    "name": "ipython",
    "version": 3
   },
   "file_extension": ".py",
   "mimetype": "text/x-python",
   "name": "python",
   "nbconvert_exporter": "python",
   "pygments_lexer": "ipython3",
   "version": "3.7.3"
  }
 },
 "nbformat": 4,
 "nbformat_minor": 2
}
