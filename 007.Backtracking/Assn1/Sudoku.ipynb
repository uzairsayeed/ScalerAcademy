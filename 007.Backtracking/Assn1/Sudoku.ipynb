{
 "cells": [
  {
   "cell_type": "markdown",
   "metadata": {},
   "source": [
    "## Sudoku:\n",
    "Problem Description\n",
    "\n",
    "Write a program to solve a Sudoku puzzle by filling the empty cells. Empty cells are indicated by the character '.' You may assume that there will be only one unique solution.  A sudoku puzzle,   and its solution numbers marked in red.      \n",
    "\n",
    "### Problem Constraints\n",
    "1 <= N <= 9\n",
    "\n",
    "### Input Format\n",
    "First argument is an array of array of characters representing the Sudoku puzzle.\n",
    "\n",
    "### Output Format\n",
    "Modify the given input to the required answer.\n",
    "\n",
    "## Example Input\n",
    "### Input 1:\n",
    "A = [[53..7....], [6..195...], [.98....6.], [8...6...3], [4..8.3..1], [7...2...6], [.6....28.], [...419..5], [....8..79]]\n",
    "     \n",
    "## Example Output\n",
    "### Output 1:\n",
    "[[534678912], [672195348], [198342567], [859761423], [426853791], [713924856], [961537284], [287419635], [345286179]]\n",
    "     \n",
    "## Example Explanation\n",
    "### Explanation 1:\n",
    "Look at the diagrams given in the question."
   ]
  },
  {
   "cell_type": "code",
   "execution_count": 3,
   "metadata": {},
   "outputs": [],
   "source": [
    "class Solution:\n",
    "    def solveSudoku(self, board):\n",
    "        curr = [-1, -1]\n",
    "        if not self.nextEmptyCell(board, curr):\n",
    "            #print(board)\n",
    "            return True\n",
    "        r, c = curr[0], curr[1]\n",
    "        for n in range(1, 10):\n",
    "            if self.isValid(n, r, c, board):\n",
    "                board[r][c] = str(n)\n",
    "                if self.solveSudoku(board):\n",
    "                    return True\n",
    "                board[r][c] = '.'\n",
    "    def nextEmptyCell(self, board, curr):\n",
    "        for i in range(9):\n",
    "            for j in range(9):\n",
    "                if board[i][j] == '.':\n",
    "                    curr[0], curr[1] = i, j\n",
    "                    return True\n",
    "        return False\n",
    "    def isValid(self, n, r, c, board):\n",
    "        for i in range(9):\n",
    "            if board[i][c] == str(n):\n",
    "                return False\n",
    "        for j in range(9):\n",
    "            if board[r][j] == str(n):\n",
    "                return False\n",
    "        r = r-r%3\n",
    "        c = c-c%3\n",
    "        for i in range(3):\n",
    "            for j in range(3):\n",
    "                if board[i+r][j+c] == str(n):\n",
    "                    return False\n",
    "        return True"
   ]
  }
 ],
 "metadata": {
  "kernelspec": {
   "display_name": "Python 3",
   "language": "python",
   "name": "python3"
  },
  "language_info": {
   "codemirror_mode": {
    "name": "ipython",
    "version": 3
   },
   "file_extension": ".py",
   "mimetype": "text/x-python",
   "name": "python",
   "nbconvert_exporter": "python",
   "pygments_lexer": "ipython3",
   "version": "3.7.3"
  }
 },
 "nbformat": 4,
 "nbformat_minor": 2
}
