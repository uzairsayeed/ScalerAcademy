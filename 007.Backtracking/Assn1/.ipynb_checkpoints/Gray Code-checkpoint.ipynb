{
 "cells": [
  {
   "cell_type": "markdown",
   "metadata": {},
   "source": [
    "## Gray Code:\n",
    "Problem Description\n",
    "\n",
    "The gray code is a binary numeral system where two successive values differ in only one bit.\n",
    "\n",
    "Given a non-negative integer A representing the total number of bits in the code, print the sequence of gray code. A gray code sequence must begin with 0.  \n",
    "\n",
    "### Problem Constraints\n",
    "1 <= A <= 16\n",
    "\n",
    "### Input Format\n",
    "First argument is an integer A.\n",
    "\n",
    "### Output Format\n",
    "Return an array of integers representing the gray code sequence.\n",
    "\n",
    "## Example Input\n",
    "### Input 1:\n",
    "A = 2\n",
    "\n",
    "### Input 1:  \n",
    "A = 1\n",
    "  \n",
    "## Example Output\n",
    "### output 1:\n",
    "[0, 1, 3, 2]\n",
    "\n",
    "### output 2:  \n",
    "[0, 1]\n",
    "  \n",
    "## Example Explanation\n",
    "### Explanation 1:\n",
    "for A = 2 the gray code sequence is:\n",
    "    \n",
    "    00 - 0\n",
    "    \n",
    "    01 - 1\n",
    "    \n",
    "    11 - 3\n",
    "    \n",
    "    10 - 2\n",
    "\n",
    "So, return [0,1,3,2].\n",
    "\n",
    "### Explanation 1:  \n",
    "for A = 1 the gray code sequence is:\n",
    "    \n",
    "    00 - 0\n",
    "    \n",
    "    01 - 1\n",
    "\n",
    "So, return [0, 1]."
   ]
  },
  {
   "cell_type": "code",
   "execution_count": 1,
   "metadata": {},
   "outputs": [
    {
     "name": "stdout",
     "output_type": "stream",
     "text": [
      "[0, 1, 3, 2]\n"
     ]
    }
   ],
   "source": [
    "class Solution:\n",
    "    # @param A : integer\n",
    "    # @return a list of integers\n",
    "    def grayCode(self, n):\n",
    "        res = []\n",
    "        for x in range(2**n):\n",
    "            res.append(x^(x>>1))\n",
    "        return res\n",
    "o = Solution()\n",
    "print(o.grayCode(2))"
   ]
  }
 ],
 "metadata": {
  "kernelspec": {
   "display_name": "Python 3",
   "language": "python",
   "name": "python3"
  },
  "language_info": {
   "codemirror_mode": {
    "name": "ipython",
    "version": 3
   },
   "file_extension": ".py",
   "mimetype": "text/x-python",
   "name": "python",
   "nbconvert_exporter": "python",
   "pygments_lexer": "ipython3",
   "version": "3.7.3"
  }
 },
 "nbformat": 4,
 "nbformat_minor": 2
}
