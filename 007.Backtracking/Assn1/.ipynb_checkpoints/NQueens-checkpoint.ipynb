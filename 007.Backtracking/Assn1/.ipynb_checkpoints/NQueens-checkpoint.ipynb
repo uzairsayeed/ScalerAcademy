{
 "cells": [
  {
   "cell_type": "markdown",
   "metadata": {},
   "source": [
    "## NQueens:\n",
    "Problem Description\n",
    "\n",
    "The n-queens puzzle is the problem of placing n queens on an n×n chessboard such that no two queens attack each other.  \n",
    "Given an integer A, return all distinct solutions to the n-queens puzzle.\n",
    "\n",
    "Each solution contains a distinct board configuration of the n-queens' placement, where 'Q' and '.' both indicate a queen and an empty space respectively.\n",
    "\n",
    "### Problem Constraints\n",
    "1 <= A <= 10\n",
    "\n",
    "### Input Format\n",
    "First argument is an integer n denoting the size of chessboard\n",
    "\n",
    "### Output Format\n",
    "Return an array consisting of all distinct solutions in which each element is a 2d char array representing a unique solution.\n",
    "\n",
    "## Example Input\n",
    "### Input 1:\n",
    "A = 4\n",
    "\n",
    "### Input 2: \n",
    "A = 1\n",
    " \n",
    "## Example Output\n",
    "### Output 1:\n",
    "\n",
    "[\n",
    " \n",
    " [\".Q..\",  // Solution 1\n",
    "  \"...Q\",\n",
    "  \"Q...\",\n",
    "  \"..Q.\"],\n",
    "\n",
    " [\"..Q.\",  // Solution 2\n",
    "  \"Q...\",\n",
    "  \"...Q\",\n",
    "  \".Q..\"]\n",
    "\n",
    "]\n",
    "\n",
    "### Output 1: \n",
    "\n",
    "[\n",
    " [Q]\n",
    "]\n",
    " \n",
    "\n",
    "## Example Explanation\n",
    "### Explanation 1:\n",
    "There exist only two distinct solutions to the 4-queens puzzle:\n",
    "\n",
    "### Explanation 1: \n",
    "There exist only one distinct solutions to the 1-queens puzzle:"
   ]
  },
  {
   "cell_type": "code",
   "execution_count": 7,
   "metadata": {},
   "outputs": [
    {
     "name": "stdout",
     "output_type": "stream",
     "text": [
      "True\n",
      "False\n",
      "False\n",
      "True\n",
      "True\n"
     ]
    }
   ],
   "source": [
    "# To check whether we can place n-queens on a n*n board\n",
    "class Solution:\n",
    "    def solve(self, n):\n",
    "        col = [0]*n\n",
    "        bFlag = True\n",
    "        for i in range(n):\n",
    "            if not self.nQueens(n, i, col):\n",
    "                bFlag = False\n",
    "                break\n",
    "        return bFlag\n",
    "    def nQueens(self, n, r, col):\n",
    "        if r==n:\n",
    "            return True\n",
    "        for i in range(n):\n",
    "            if self.isValid(r, i, col):\n",
    "                col[r] = i\n",
    "                if self.nQueens(n, r+1, col):\n",
    "                    return True\n",
    "        return False\n",
    "    def isValid(self, r, c, col):\n",
    "        for i in range(r):\n",
    "            if col[i] == c:\n",
    "                return False\n",
    "            if r+c == i+col[i] or r-c == i-col[i]:\n",
    "                return False\n",
    "        return True\n",
    "    \n",
    "o = Solution()\n",
    "print(o.solve(1))\n",
    "print(o.solve(2))\n",
    "print(o.solve(3))\n",
    "print(o.solve(4))\n",
    "print(o.solve(5))"
   ]
  },
  {
   "cell_type": "code",
   "execution_count": 114,
   "metadata": {},
   "outputs": [
    {
     "name": "stdout",
     "output_type": "stream",
     "text": [
      "[[], [[0, 1, 0, 0], [0, 0, 0, 1], [1, 0, 0, 0], [0, 0, 1, 0]]]\n",
      "[[], [[0, 0, 1, 0], [1, 0, 0, 0], [0, 0, 0, 1], [0, 1, 0, 0]], [[0, 0, 1, 0], [1, 0, 0, 0], [0, 0, 0, 1], [0, 1, 0, 0]]]\n",
      "None\n"
     ]
    }
   ],
   "source": [
    "# To return all possible solutions \n",
    "class Solution:\n",
    "    def solveNQueens(self, n):\n",
    "        board = [[0 for j in range(n)] for i in range(n)]\n",
    "        #print(board)\n",
    "        return self.nQueens(n, 0, board,[[]])\n",
    "        \n",
    "    def nQueens(self, n, r, board, res):\n",
    "        #print(res)\n",
    "        if r==n:\n",
    "            #print(board)\n",
    "            res.append(board)\n",
    "            print(res)\n",
    "            return res\n",
    "        for i in range(n):\n",
    "            if self.isValid(n, r, i, board):\n",
    "                board[r][i] = 1\n",
    "                self.nQueens(n, r+1, board, res)\n",
    "                board[r][i] = 0\n",
    "        return \n",
    "    def isValid(self, n, r, c, board):\n",
    "        for i in range(r):\n",
    "            if board[i][c]:\n",
    "                return False\n",
    "        i, j = r-1, c-1\n",
    "        while i>-1 and j>-1:\n",
    "            if board[i][j]:\n",
    "                return False\n",
    "            i-=1\n",
    "            j-=1\n",
    "        i, j = r-1, c+1\n",
    "        while i>-1 and j<n:\n",
    "            if board[i][j]:\n",
    "                return False\n",
    "            i-=1\n",
    "            j+=1\n",
    "        return True\n",
    "    \n",
    "o = Solution()\n",
    "print(o.solveNQueens(4))"
   ]
  },
  {
   "cell_type": "code",
   "execution_count": 115,
   "metadata": {},
   "outputs": [
    {
     "name": "stdout",
     "output_type": "stream",
     "text": [
      "[['.Q..', '...Q', 'Q...', '..Q.'], ['..Q.', 'Q...', '...Q', '.Q..']]\n"
     ]
    }
   ],
   "source": [
    "class Solution:\n",
    "    # @param A : integer\n",
    "    # @return a list of list of strings\n",
    "    def solveNQueens(self, A):\n",
    "        fin = []\n",
    "        def solve(A, res): \n",
    "            if len(res) == A: \n",
    "                fin.append(res)\n",
    "            for i in range(1, A+1):\n",
    "                if not self.attack(res, i): \n",
    "                    solve(A, res + [i]) \n",
    "        solve(A, []) \n",
    "        return [[ \".\"*(i-1)+\"Q\"+\".\"*(A-i) for i in cols] for cols in fin]\n",
    "            \n",
    "    def attack(self, prev, pos): \n",
    "        for i in range(len(prev)):\n",
    "            if prev[i] == pos or abs(len(prev)- i) == abs(prev[i]-pos): \n",
    "                return True\n",
    "        return False\n",
    "\n",
    "o = Solution()\n",
    "print(o.solveNQueens(4))           \n"
   ]
  }
 ],
 "metadata": {
  "kernelspec": {
   "display_name": "Python 3",
   "language": "python",
   "name": "python3"
  },
  "language_info": {
   "codemirror_mode": {
    "name": "ipython",
    "version": 3
   },
   "file_extension": ".py",
   "mimetype": "text/x-python",
   "name": "python",
   "nbconvert_exporter": "python",
   "pygments_lexer": "ipython3",
   "version": "3.7.3"
  }
 },
 "nbformat": 4,
 "nbformat_minor": 2
}
