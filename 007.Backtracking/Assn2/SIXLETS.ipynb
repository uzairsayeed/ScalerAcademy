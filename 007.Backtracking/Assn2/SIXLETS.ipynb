{
 "cells": [
  {
   "cell_type": "markdown",
   "metadata": {},
   "source": [
    "## SIXLETS:\n",
    "Problem Description\n",
    "\n",
    "Given a array of integers A of size N and an integer B. Return number of non-empty subsequences of A of size B having sum <= 1000.   \n",
    "\n",
    "### Problem Constraints\n",
    "1 <= N <= 20 1 <= A[i] <= 1000 1 <= B <= N   \n",
    "\n",
    "### Input Format\n",
    "The first argument given is the integer array A. The second argument given is the integer B.   \n",
    "\n",
    "### Output Format\n",
    "Return number of subsequences of A of size B having sum <= 1000.\n",
    "\n",
    "## Example Input\n",
    "### Input 1:\n",
    "    A = [1, 2, 8]\n",
    "    \n",
    "    B = 2\n",
    "\n",
    "### Input 2:\n",
    "    A = [5, 17, 1000, 11]\n",
    "    \n",
    "    B = 4\n",
    "  \n",
    "## Example Output\n",
    "### Output 1:\n",
    "3\n",
    "\n",
    "### Output 2:\n",
    "0\n",
    "  \n",
    "## Example Explanation\n",
    "### Explanation 1:\n",
    " {1, 2}, {1, 8}, {2, 8}\n",
    " \n",
    "### Explanation 1: \n",
    " No valid subsequence"
   ]
  },
  {
   "cell_type": "code",
   "execution_count": 2,
   "metadata": {},
   "outputs": [
    {
     "name": "stdout",
     "output_type": "stream",
     "text": [
      "[[400, 500, 100], [400, 300, 100], [500, 300, 100]]\n"
     ]
    }
   ],
   "source": [
    "class Solution:\n",
    "    def solve(self, a, b):\n",
    "        fin = []\n",
    "        def sixlets(a, i, sum, sub, b, fin):\n",
    "            #print(i, sub)\n",
    "            if sum < 0:\n",
    "                return \n",
    "            if b == 0:\n",
    "                fin.append(list(sub))\n",
    "                return\n",
    "            if i == len(a):\n",
    "                return \n",
    "            #DO Step --> Add a[i] to sub\n",
    "            sub.append(a[i])\n",
    "            #Recurr Step\n",
    "            sixlets(a, i+1, sum-a[i], sub, b-1, fin)\n",
    "            #print(3, so1, fin)\n",
    "            #Undo Step --> Pop from sub\n",
    "            sub.pop()\n",
    "            sixlets(a, i+1, sum, sub, b, fin)\n",
    "\n",
    "        sixlets(a, 0, 1000, [], b, fin)\n",
    "        return fin\n",
    "        \n",
    "o = Solution()\n",
    "a = [400, 500,300,800,100]\n",
    "b = 3\n",
    "print(o.solve(a, b))"
   ]
  },
  {
   "cell_type": "code",
   "execution_count": 36,
   "metadata": {},
   "outputs": [
    {
     "name": "stdout",
     "output_type": "stream",
     "text": [
      "[400, 500, 100, 400, 300, 100, 500, 300, 100]\n"
     ]
    }
   ],
   "source": [
    "class Solution:\n",
    "    def solve(self, a, b):\n",
    "        fin = []\n",
    "        def sixlets(a, i, sum, sub, b):\n",
    "            #print(i, sub)\n",
    "            if sum < 0:\n",
    "                return \n",
    "            if b == 0:\n",
    "                return sub                    \n",
    "            if i == len(a):\n",
    "                return \n",
    "            #DO Step --> Add a[i] to sub\n",
    "            sub.append(a[i])\n",
    "            #Recurr Step\n",
    "            so1 = sixlets(a, i+1, sum-a[i], sub, b-1)\n",
    "            #print(type(so1), so1)\n",
    "            if so1:\n",
    "                for x in so1:\n",
    "                    fin.append(x)\n",
    "                \n",
    "            #print(3, so1, fin)\n",
    "            #Undo Step --> Pop from sub\n",
    "            sub.pop()\n",
    "            sixlets(a, i+1, sum, sub, b)\n",
    "\n",
    "        sixlets(a, 0, 1000, [], b)\n",
    "        return fin\n",
    "        \n",
    "o = Solution()\n",
    "a = [400, 500,300,800,100]\n",
    "b = 3\n",
    "print(o.solve(a, b))"
   ]
  },
  {
   "cell_type": "code",
   "execution_count": 6,
   "metadata": {},
   "outputs": [
    {
     "name": "stdout",
     "output_type": "stream",
     "text": [
      "[[400, 500, 100], [400, 300, 100], [500, 300, 100]]\n"
     ]
    }
   ],
   "source": [
    "class Solution:\n",
    "    def solve(self, a, b):\n",
    "        ans = []\n",
    "        self.sixlets(a, 0, 1000, b, [], ans)\n",
    "        return ans\n",
    "    def sixlets(self, a, i, sum, b, sub, ans):\n",
    "        #print('yess', b)\n",
    "        if sum < 0:\n",
    "            return \n",
    "        if b == 0 :\n",
    "            #print('yes', sub)\n",
    "            ans.append(list(sub))\n",
    "            return\n",
    "        if b > len(a)-i:\n",
    "            return \n",
    "        for x in range(i, len(a)):\n",
    "            #print(i, x)\n",
    "            sub.append(a[x])\n",
    "            self.sixlets(a, x+1, sum-a[x], b-1, sub, ans)\n",
    "            sub.pop()\n",
    "            self.sixlets(a, x+1, sum-a[x], b, sub, ans)\n",
    "o = Solution()\n",
    "a = [400, 500,300,800,100]\n",
    "b = 3\n",
    "print(o.solve(a, b))"
   ]
  }
 ],
 "metadata": {
  "kernelspec": {
   "display_name": "Python 3",
   "language": "python",
   "name": "python3"
  },
  "language_info": {
   "codemirror_mode": {
    "name": "ipython",
    "version": 3
   },
   "file_extension": ".py",
   "mimetype": "text/x-python",
   "name": "python",
   "nbconvert_exporter": "python",
   "pygments_lexer": "ipython3",
   "version": "3.7.3"
  }
 },
 "nbformat": 4,
 "nbformat_minor": 2
}
