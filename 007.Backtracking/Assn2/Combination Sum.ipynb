{
 "cells": [
  {
   "cell_type": "markdown",
   "metadata": {},
   "source": [
    "## Combination Sum:\n",
    "Problem Description\n",
    "\n",
    "Given a set of candidate numbers A and a target number B, find all unique combinations in A where the candidate numbers sums to B. The same repeated number may be chosen from A unlimited number of times.\n",
    "\n",
    "### Note: \n",
    "1) All numbers (including target) will be positive integers. \n",
    "\n",
    "2) Elements in a combination (a1, a2, … , ak) must be in non-descending order. (ie, a1 ≤ a2 ≤ … ≤ ak). \n",
    "\n",
    "3) The combinations themselves must be sorted in ascending order. \n",
    "\n",
    "4) CombinationA > CombinationB iff (a1 > b1) OR (a1 = b1 AND a2 > b2) OR ... (a1 = b1 AND a2 = b2 AND ... ai = bi AND ai+1 > bi+1) \n",
    "\n",
    "5) The solution set must not contain duplicate combinations.     \n",
    "\n",
    "### Problem Constraints\n",
    "1 <= |A| <= 20 1 <= A[i] <= 50 1 <= B <= 500  \n",
    "\n",
    "### Input Format\n",
    "First argument is the vector A.       Second argument is the integer B.     \n",
    "\n",
    "### Output Format\n",
    "Return a vector of all combinations that sum up to B.\n",
    "\n",
    "## Example Input\n",
    "### Input 1:\n",
    "A = [2, 3]\n",
    "\n",
    "B = 2\n",
    "\n",
    "### Input 2:                \n",
    "A = [2, 3, 6, 7]\n",
    "\n",
    "B = 7\n",
    "         \n",
    "## Example Output\n",
    "### Output 1:\n",
    "[ [2] ]\n",
    "\n",
    "###  Output 2:                \n",
    "[ [2, 2, 3] , [7] ]\n",
    "         \n",
    "\n",
    "## Example Explanation\n",
    "### Explanation 1:\n",
    "All possible combinations are listed.\n",
    " \n",
    "### Explanation 2:                \n",
    "All possible combinations are listed."
   ]
  },
  {
   "cell_type": "code",
   "execution_count": 29,
   "metadata": {
    "scrolled": true
   },
   "outputs": [
    {
     "name": "stdout",
     "output_type": "stream",
     "text": [
      "[[2, 2, 3], [7]]\n"
     ]
    }
   ],
   "source": [
    "class Solution:\n",
    "    # @param A : list of integers\n",
    "    # @param B : integer\n",
    "    # @return a list of list of integers\n",
    "    def combinationSum(self, a, b):\n",
    "        res = []\n",
    "        a.sort()\n",
    "        n = len(a)\n",
    "        i = 1\n",
    "        while i < len(a):\n",
    "            if a[i] == a[i-1]:\n",
    "                a.remove(a[i-1])\n",
    "            i+=1\n",
    "        #print(a)\n",
    "        self.helper(a, 0, b, [],res)\n",
    "        return res\n",
    "    def helper(self, a , i, sum, sub, res):\n",
    "        if sum < 0:\n",
    "            return \n",
    "        if sum == 0:\n",
    "            res.append(sub.copy())\n",
    "            #print('yes', sub, res)\n",
    "            return \n",
    "        if i > len(a)-1:\n",
    "            return \n",
    "        sub.append(a[i])\n",
    "        self.helper(a, i, sum-a[i], sub, res)\n",
    "        sub.pop()\n",
    "        self.helper(a, i+1, sum, sub, res)\n",
    "                \n",
    "o = Solution()\n",
    "a = [2,2,3,3,7]\n",
    "b = 7\n",
    "print(o.combinationSum(a,b))"
   ]
  },
  {
   "cell_type": "code",
   "execution_count": 32,
   "metadata": {},
   "outputs": [
    {
     "name": "stdout",
     "output_type": "stream",
     "text": [
      "[[1, 1, 1, 1, 1, 1, 1, 1], [1, 1, 1, 1, 1, 1, 2], [1, 1, 1, 1, 2, 2], [1, 1, 1, 5], [1, 1, 2, 2, 2], [1, 1, 6], [1, 2, 5], [1, 7], [2, 2, 2, 2], [2, 6]]\n"
     ]
    }
   ],
   "source": [
    "class Solution:\n",
    "    def combinationSum(self, a, b):\n",
    "        res = []\n",
    "        a.sort()\n",
    "        n = len(a)\n",
    "        i = 1\n",
    "        while i < len(a):\n",
    "            if a[i] == a[i-1]:\n",
    "                a.remove(a[i-1])\n",
    "            else:\n",
    "                i+=1\n",
    "        #print(a)\n",
    "        self.dfs(a, b, 0, [], res)\n",
    "        return res\n",
    "\n",
    "    def dfs(self, nums, target, index, path, res):\n",
    "        if target < 0:\n",
    "            return  # backtracking\n",
    "        if target == 0:\n",
    "            res.append(path)\n",
    "            return \n",
    "        for i in range(index, len(nums)):\n",
    "            self.dfs(nums, target-nums[i], i, path+[nums[i]], res)\n",
    "            \n",
    "o = Solution()\n",
    "a = [10, 1, 2, 7, 6, 1, 5]\n",
    "b = 8\n",
    "print(o.combinationSum(a,b))"
   ]
  },
  {
   "cell_type": "code",
   "execution_count": null,
   "metadata": {},
   "outputs": [],
   "source": [
    "class Solution:\n",
    "    # @param A : list of integers\n",
    "    # @param B : integer\n",
    "    # @return a list of list of integers\n",
    "    def combinationSum(self, A, B):\n",
    "        def aux(ans, cur, A, B):\n",
    "            if sum(cur)>B:\n",
    "                return\n",
    "            elif sum(cur)==B:\n",
    "                if cur not in ans:\n",
    "                    ans.append(cur)\n",
    "                return\n",
    "            \n",
    "            for i in A:\n",
    "                aux(ans, sorted(cur+[i]), A, B)\n",
    "            return\n",
    "        A.sort()\n",
    "        ans=[]\n",
    "        aux(ans, [], A, B)"
   ]
  },
  {
   "cell_type": "code",
   "execution_count": 33,
   "metadata": {},
   "outputs": [
    {
     "name": "stdout",
     "output_type": "stream",
     "text": [
      "[[1, 1, 6], [1, 2, 5], [1, 7], [2, 6]]\n"
     ]
    }
   ],
   "source": [
    "class Solution:\n",
    "    def combinationSum2(self, candidates, target):\n",
    "        res = []\n",
    "        candidates.sort()\n",
    "        self.dfs(candidates, target, 0, [], res)\n",
    "        return res\n",
    "\n",
    "    def dfs(self, candidates, target, index, path, res):\n",
    "        if target < 0:\n",
    "            return  # backtracking\n",
    "        if target == 0:\n",
    "            res.append(path)\n",
    "            return  # backtracking \n",
    "        for i in range(index, len(candidates)):\n",
    "            if i > index and candidates[i] == candidates[i-1]:\n",
    "                continue\n",
    "            self.dfs(candidates, target-candidates[i], i+1, path+[candidates[i]], res)\n",
    "            \n",
    "o = Solution()\n",
    "a = [10, 1, 2, 7, 6, 1, 5]\n",
    "b = 8\n",
    "print(o.combinationSum2(a,b))"
   ]
  }
 ],
 "metadata": {
  "kernelspec": {
   "display_name": "Python 3",
   "language": "python",
   "name": "python3"
  },
  "language_info": {
   "codemirror_mode": {
    "name": "ipython",
    "version": 3
   },
   "file_extension": ".py",
   "mimetype": "text/x-python",
   "name": "python",
   "nbconvert_exporter": "python",
   "pygments_lexer": "ipython3",
   "version": "3.7.3"
  }
 },
 "nbformat": 4,
 "nbformat_minor": 2
}
