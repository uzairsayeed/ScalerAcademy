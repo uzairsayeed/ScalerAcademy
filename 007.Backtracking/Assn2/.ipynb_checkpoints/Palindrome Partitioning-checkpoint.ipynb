{
 "cells": [
  {
   "cell_type": "markdown",
   "metadata": {},
   "source": [
    "## Palindrome Partitioning:\n",
    "Problem Description\n",
    "\n",
    "Given a string A, partition s such that every string of the partition is a palindrome.\n",
    "\n",
    "Return all possible palindrome partitioning of s. \n",
    "\n",
    "Ordering the results in the answer :\n",
    "\n",
    "Entry i will come before Entry j if :\n",
    "len(Entryi[0]) < len(Entryj[0]) OR\n",
    "\n",
    "(len(Entryi[0]) == len(Entryj[0]) AND len(Entryi[1]) < len(Entryj[1])) OR * * *\n",
    "\n",
    "(len(Entryi[0]) == len(Entryj[0]) AND ... len(Entryi[k] < len(Entryj[k]))\n",
    "  \n",
    "### Problem Constraints\n",
    "1 <= len(A) <= 15\n",
    "\n",
    "### Input Format\n",
    "First argument is a string A of lowercase characters.\n",
    "\n",
    "### Output Format\n",
    "Return a list of all possible palindrome partitioning of s.\n",
    "\n",
    "## Example Input\n",
    "### Input 1:\n",
    "A = \"aab\"\n",
    "   \n",
    "### Input 2:  \n",
    "A = \"a\"\n",
    "   \n",
    "## Example Output\n",
    "### Output 1:\n",
    " [\n",
    "    [\"a\",\"a\",\"b\"]\n",
    "    [\"aa\",\"b\"],\n",
    "  ]\n",
    "  \n",
    "### Output 2:  \n",
    " [\n",
    "    [\"a\"]\n",
    "  ]\n",
    "   \n",
    "## Example Explanation\n",
    "### Explanation 1:\n",
    "In the given example, [\"a\", \"a\", \"b\"] comes before [\"aa\", \"b\"] because len(\"a\") < len(\"aa\").\n",
    "   \n",
    "### Explanation 2:  \n",
    "In the given example, only partition possible is \"a\" ."
   ]
  },
  {
   "cell_type": "code",
   "execution_count": 36,
   "metadata": {},
   "outputs": [
    {
     "name": "stdout",
     "output_type": "stream",
     "text": [
      "[['a', 'a', 'b'], ['aa', 'b']]\n"
     ]
    }
   ],
   "source": [
    "class Solution:\n",
    "    def partition(self, a):\n",
    "        res = []\n",
    "        self.helper(a, 0, [], res)\n",
    "        return res\n",
    "    def helper(self, a, i, part, res):\n",
    "        if i == len(a):\n",
    "            res.append(list(part))\n",
    "            #print(res)\n",
    "            return\n",
    "        for j in range(i, len(a)):\n",
    "            sub = a[i:j+1]\n",
    "            if self.isValid(sub):\n",
    "                part.append(sub)\n",
    "                self.helper(a, j+1, part, res)\n",
    "                part.pop()\n",
    "        \n",
    "    def isValid(self, a):\n",
    "        i, j = 0, len(a)-1\n",
    "        bFlag = True\n",
    "        while i<=j:\n",
    "            if a[i] != a[j]:\n",
    "                bFlag = False\n",
    "                break\n",
    "            i+=1\n",
    "            j-=1\n",
    "        return bFlag\n",
    "    \n",
    "o = Solution()\n",
    "a = 'aab'\n",
    "print(o.partition(a))"
   ]
  },
  {
   "cell_type": "code",
   "execution_count": 35,
   "metadata": {},
   "outputs": [
    {
     "name": "stdout",
     "output_type": "stream",
     "text": [
      "[['a', 'a', 'b'], ['aa', 'b']]\n"
     ]
    }
   ],
   "source": [
    "class Solution:\n",
    "    def partition(self, a):\n",
    "        def isValid(a):\n",
    "            i, j = 0, len(a)-1\n",
    "            bFlag = True\n",
    "            while i<=j:\n",
    "                if a[i] != a[j]:\n",
    "                    bFlag = False\n",
    "                    break\n",
    "                i+=1\n",
    "                j-=1\n",
    "            return bFlag\n",
    "        res = []\n",
    "        def helper(a, i, part, res):\n",
    "            if i == len(a):\n",
    "                res.append(part.copy())\n",
    "                #print(res)\n",
    "                return\n",
    "            for j in range(i, len(a)):\n",
    "                sub = a[i:j+1]\n",
    "                if isValid(sub):\n",
    "                    part.append(sub)\n",
    "                    helper(a, j+1, part, res)\n",
    "                    part.pop()\n",
    "     \n",
    "        helper(a, 0, [], res)\n",
    "        return res\n",
    "    \n",
    "    \n",
    "o = Solution()\n",
    "a = 'aab'\n",
    "print(o.partition(a))"
   ]
  },
  {
   "cell_type": "code",
   "execution_count": null,
   "metadata": {},
   "outputs": [],
   "source": [
    "class Solution:\n",
    "    # @param A : string\n",
    "    # @return a list of list of strings\n",
    "    def partition(self, A):\n",
    "        result = []\n",
    "        self.partition_2(result, [], A, 0)\n",
    "        return result\n",
    "\n",
    "    def partition_2(self, result, cur, A, i):\n",
    "        if i == len(A):\n",
    "            result.append(list(cur))\n",
    "\n",
    "        for j in range(i, len(A)):\n",
    "            if self.isPalindrome(A[i:j+1]):\n",
    "                cur.append(A[i:j+1])\n",
    "                self.partition_2(result, cur, A, j+1)\n",
    "                cur.pop()\n",
    "\n",
    "    def isPalindrome(self, A):\n",
    "        return list(A) == list(reversed(A))"
   ]
  }
 ],
 "metadata": {
  "kernelspec": {
   "display_name": "Python 3",
   "language": "python",
   "name": "python3"
  },
  "language_info": {
   "codemirror_mode": {
    "name": "ipython",
    "version": 3
   },
   "file_extension": ".py",
   "mimetype": "text/x-python",
   "name": "python",
   "nbconvert_exporter": "python",
   "pygments_lexer": "ipython3",
   "version": "3.7.3"
  }
 },
 "nbformat": 4,
 "nbformat_minor": 2
}
