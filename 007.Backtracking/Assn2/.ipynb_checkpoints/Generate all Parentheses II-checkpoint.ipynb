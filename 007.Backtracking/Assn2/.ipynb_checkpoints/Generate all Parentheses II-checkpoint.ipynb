{
 "cells": [
  {
   "cell_type": "markdown",
   "metadata": {},
   "source": [
    "## Generate all Parentheses II:\n",
    "Problem Description\n",
    "\n",
    "Given an integer A pairs of parentheses, write a function to generate all combinations of well-formed parentheses of length 2*A.\n",
    "\n",
    "### Problem Constraints\n",
    "1 <= A <= 20\n",
    "\n",
    "### Input Format\n",
    "First and only argument is integer A.\n",
    "\n",
    "### Output Format\n",
    "Return a sorted list of all possible paranthesis.\n",
    "\n",
    "## Example Input\n",
    "### Input 1:\n",
    "A = 3\n",
    "  \n",
    "### Input 2:          \n",
    "A = 1\n",
    "      \n",
    "## Example Output\n",
    "### Output 1:\n",
    "[ \"((()))\", \"(()())\", \"(())()\", \"()(())\", \"()()()\" ]\n",
    "  \n",
    "### Output 2:          \n",
    "[ \"()\" ]\n",
    "      \n",
    "## Example Explanation\n",
    "### Explanation 1:\n",
    " All paranthesis are given in the output list.\n",
    "  \n",
    "### Explanation 2:          \n",
    " All paranthesis are given in the output list."
   ]
  },
  {
   "cell_type": "code",
   "execution_count": 1,
   "metadata": {},
   "outputs": [
    {
     "name": "stdout",
     "output_type": "stream",
     "text": [
      "['((()))', '(()())', '(())()', '()(())', '()()()']\n"
     ]
    }
   ],
   "source": [
    "class Solution:\n",
    "    # @param A : integer\n",
    "    # @return a list of strings\n",
    "    def generateParenthesis(self, N):\n",
    "        res = []\n",
    "        self.helper(N, 0, 2*N, '', res)\n",
    "        return res\n",
    "    def helper(self, cnt, diff, n, s, res):\n",
    "        if n == 0:\n",
    "            res.append(s)\n",
    "            return \n",
    "        if cnt>0:\n",
    "            self.helper(cnt-1, diff+1, n-1, s+'(', res)\n",
    "        if diff>0:\n",
    "            self.helper(cnt, diff-1, n-1, s+')', res)\n",
    "            \n",
    "o = Solution()\n",
    "print(o.generateParenthesis(3))\n"
   ]
  },
  {
   "cell_type": "code",
   "execution_count": null,
   "metadata": {},
   "outputs": [],
   "source": [
    "class Solution:\n",
    "    def generateParenthesis(self, A):\n",
    "        self.output = set()\n",
    "        self.generate(A, ['('])\n",
    "        return sorted(self.output)\n",
    "\n",
    "    def generate(self, n, braces):\n",
    "        if len(braces) == 2*n:\n",
    "            self.output.add(''.join(braces))\n",
    "            return\n",
    "\n",
    "        if braces.count('(') < n:\n",
    "            self.generate(n, braces + ['('])\n",
    "\n",
    "        if braces.count(')') < braces.count('('):\n",
    "            self.generate(n, braces + [')'])"
   ]
  }
 ],
 "metadata": {
  "kernelspec": {
   "display_name": "Python 3",
   "language": "python",
   "name": "python3"
  },
  "language_info": {
   "codemirror_mode": {
    "name": "ipython",
    "version": 3
   },
   "file_extension": ".py",
   "mimetype": "text/x-python",
   "name": "python",
   "nbconvert_exporter": "python",
   "pygments_lexer": "ipython3",
   "version": "3.7.3"
  }
 },
 "nbformat": 4,
 "nbformat_minor": 2
}
