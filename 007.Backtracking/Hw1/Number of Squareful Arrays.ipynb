{
 "cells": [
  {
   "cell_type": "markdown",
   "metadata": {},
   "source": [
    "## Number of Squareful Arrays:\n",
    "Given an array of integers A, the array is squareful if for every pair of adjacent elements, their sum is a perfect square. Find and return the number of permutations of A that are squareful. Two permutations A1 and A2 differ if and only if there is some index i such that A1[ i ] != A2[ i ]. \n",
    "\n",
    "### Input Format\n",
    "The only argument given is the integer array A.\n",
    "\n",
    "### Output Format\n",
    "Return the number of permutations of A that are squareful.\n",
    "\n",
    "### Constraints\n",
    "1 <= length of the array <= 12\n",
    "\n",
    "1 <= A[i] <= 10^9 \n",
    "\n",
    "## For Example\n",
    "### Input 1:\n",
    "    A = [2, 2, 2]\n",
    "### Output 1:\n",
    "    1\n",
    "### Input 2:\n",
    "    A = [1, 17, 8]\n",
    "### Output 2:\n",
    "    2"
   ]
  },
  {
   "cell_type": "code",
   "execution_count": 9,
   "metadata": {},
   "outputs": [
    {
     "name": "stdout",
     "output_type": "stream",
     "text": [
      "1\n"
     ]
    }
   ],
   "source": [
    "class Solution:\n",
    "    def solve(self, A):\n",
    "        self.res = 0\n",
    "        A.sort()\n",
    "        self.dfs(A, [], set(), None, len(A))\n",
    "        return self.res    \n",
    "    def dfs(self, A, ans, used, lastused, n):        \n",
    "        if len(used) == n:\n",
    "            self.res += 1\n",
    "            return        \n",
    "        for i in range(n):\n",
    "            if i in used:\n",
    "                continue\n",
    "            if i > 0 and A[i] == A[i - 1] and i - 1 not in used:\n",
    "                    continue\n",
    "            if lastused is not None:\n",
    "                sqrt = (A[i] + A[lastused]) ** 0.5\n",
    "                if int(sqrt) != sqrt:\n",
    "                    continue\n",
    "            ans.append(A[i])\n",
    "            used.add(i)\n",
    "            self.dfs(A, ans, used, i, n)\n",
    "            used.remove(i)\n",
    "            ans.pop()\n",
    "            \n",
    "o = Solution()\n",
    "a = [41]\n",
    "print(o.solve(a))"
   ]
  }
 ],
 "metadata": {
  "kernelspec": {
   "display_name": "Python 3",
   "language": "python",
   "name": "python3"
  },
  "language_info": {
   "codemirror_mode": {
    "name": "ipython",
    "version": 3
   },
   "file_extension": ".py",
   "mimetype": "text/x-python",
   "name": "python",
   "nbconvert_exporter": "python",
   "pygments_lexer": "ipython3",
   "version": "3.7.3"
  }
 },
 "nbformat": 4,
 "nbformat_minor": 2
}
