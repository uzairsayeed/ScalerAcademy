{
 "cells": [
  {
   "cell_type": "markdown",
   "metadata": {},
   "source": [
    "## Letter Phone:\n",
    "Given a digit string, return all possible letter combinations that the number could represent. A mapping of digit to letters (just like on the telephone buttons) is given below.  The digit 0 maps to 0 itself. The digit 1 maps to 1 itself.\n",
    "\n",
    "### Input: \n",
    "Digit string \"23\"\n",
    "\n",
    "### Output: \n",
    "[\"ad\", \"ae\", \"af\", \"bd\", \"be\", \"bf\", \"cd\", \"ce\", \"cf\"].\n",
    "\n",
    "Make sure the returned strings are lexicographically sorted."
   ]
  },
  {
   "cell_type": "code",
   "execution_count": 21,
   "metadata": {},
   "outputs": [
    {
     "name": "stdout",
     "output_type": "stream",
     "text": [
      "['10']\n"
     ]
    }
   ],
   "source": [
    "class Solution:\n",
    "    # @param A : string\n",
    "    # @return a list of strings\n",
    "    def letterCombinations(self, A):\n",
    "        if A == '0' or A == '1':\n",
    "            return A\n",
    "        n = int(A)\n",
    "        h = {0:'0', 1:'1', 2:'abc', 3:'def', 4:'ghi', 5:'jkl', 6:'mno', 7:'pqrs', 8:'tuv', 9:'wxyz'}\n",
    "        ans = self.getKeyPad(n, [], h)\n",
    "        #print(ans)\n",
    "        if n >= 10:\n",
    "            res = []\n",
    "            for i in range(len(ans)):\n",
    "                if len(ans[i]) == len(str(n)):\n",
    "                    res.append(ans[i])\n",
    "            return res\n",
    "        for s in ans:\n",
    "            if s == '':\n",
    "                ans.remove(s)\n",
    "                break\n",
    "        return ans\n",
    "    def getKeyPad(self, n, ans, h):\n",
    "        if n == 0:\n",
    "            ans.append('')\n",
    "            return ans\n",
    "        t = n\n",
    "        curr = t%10\n",
    "        so = self.getKeyPad(n//10, ans, h)\n",
    "        for i in range(len(so)):\n",
    "            for j in range(len(h[curr])): \n",
    "                ans.append(so[i] + h[curr][j])\n",
    "        return ans\n",
    "\n",
    "o = Solution()\n",
    "print(o.letterCombinations('10'))"
   ]
  }
 ],
 "metadata": {
  "kernelspec": {
   "display_name": "Python 3",
   "language": "python",
   "name": "python3"
  },
  "language_info": {
   "codemirror_mode": {
    "name": "ipython",
    "version": 3
   },
   "file_extension": ".py",
   "mimetype": "text/x-python",
   "name": "python",
   "nbconvert_exporter": "python",
   "pygments_lexer": "ipython3",
   "version": "3.7.3"
  }
 },
 "nbformat": 4,
 "nbformat_minor": 2
}
