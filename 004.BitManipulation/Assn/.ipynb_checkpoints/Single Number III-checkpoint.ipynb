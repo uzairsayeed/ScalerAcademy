{
 "cells": [
  {
   "cell_type": "markdown",
   "metadata": {},
   "source": [
    "## Single Number III:\n",
    "Problem Description\n",
    "\n",
    "Given an array of numbers A , in which exactly two elements appear only once and all the other elements appear exactly twice. Find the two elements that appear only once. Note: Output array must be sorted.  \n",
    "\n",
    "### Problem Constraints\n",
    "2 <= |A| <= 100000\n",
    "\n",
    "1 <= A[i] <= 109\n",
    "\n",
    "### Input Format\n",
    "First argument is an array of interger of size N.\n",
    "\n",
    "### Output Format\n",
    "Return an array of two integers that appear only once.\n",
    "\n",
    "## Example Input\n",
    "### Input 1:\n",
    "A = [1, 2, 3, 1, 2, 4]\n",
    "  \n",
    "### Input 2:      \n",
    "A = [1, 2]\n",
    "   \n",
    "## Example Output\n",
    "### Output 1:\n",
    "[3, 4]\n",
    "  \n",
    "### Output 2:      \n",
    "[1, 2]\n",
    "    \n",
    "## Example Explanation\n",
    "### Explanation 1:\n",
    " 3 and 4 appear only once.\n",
    "  \n",
    "### Explanation 2:      \n",
    " 1 and 2 appear only once."
   ]
  },
  {
   "cell_type": "code",
   "execution_count": 6,
   "metadata": {
    "scrolled": true
   },
   "outputs": [
    {
     "name": "stdout",
     "output_type": "stream",
     "text": [
      "[3, 4]\n"
     ]
    }
   ],
   "source": [
    "class Solution:\n",
    "    # @param A : list of integers\n",
    "    # @return a list of integers\n",
    "    def solve(self, a):\n",
    "        n = len(a)\n",
    "        xor = a[0]\n",
    "        for i in range(1, n):\n",
    "            xor = xor ^ a[i]\n",
    "        #print(xor)\n",
    "        for i in range(32):\n",
    "            if xor & 1<<i:\n",
    "                pos = i\n",
    "                break\n",
    "        #print(pos)\n",
    "        n1, n2 = 0, 0\n",
    "        for i in range(n):\n",
    "            if a[i] & 1<<pos:\n",
    "                n1 = n1 ^ a[i]\n",
    "            else:\n",
    "                n2 = n2 ^ a[i]\n",
    "        if n1>n2:\n",
    "            return [n2,n1]\n",
    "        return [n1,n2]           \n",
    "        \n",
    "        \n",
    "o = Solution()\n",
    "a = [1,2,3,1,2,4]\n",
    "print(o.solve(a))"
   ]
  },
  {
   "cell_type": "code",
   "execution_count": 3,
   "metadata": {},
   "outputs": [
    {
     "name": "stdout",
     "output_type": "stream",
     "text": [
      "1\n"
     ]
    }
   ],
   "source": [
    "print(1<<0)"
   ]
  }
 ],
 "metadata": {
  "kernelspec": {
   "display_name": "Python 3",
   "language": "python",
   "name": "python3"
  },
  "language_info": {
   "codemirror_mode": {
    "name": "ipython",
    "version": 3
   },
   "file_extension": ".py",
   "mimetype": "text/x-python",
   "name": "python",
   "nbconvert_exporter": "python",
   "pygments_lexer": "ipython3",
   "version": "3.7.3"
  }
 },
 "nbformat": 4,
 "nbformat_minor": 2
}
