{
 "cells": [
  {
   "cell_type": "markdown",
   "metadata": {},
   "source": [
    "## Min XOR value:\n",
    "Given an array of N integers, find the pair of integers in the array which have minimum XOR value. Report the minimum XOR value.\n",
    "\n",
    "## Examples :\n",
    "### Input\n",
    "0 2 5 7\n",
    "\n",
    "### Output\n",
    "2 (0 XOR 2)\n",
    "\n",
    "### Input\n",
    "0 4 7 9\n",
    "\n",
    "### Output\n",
    "3 (4 XOR 7) \n",
    "\n",
    "### Constraints:\n",
    "2 <= N <= 100 000\n",
    "\n",
    "0 <= A[i] <= 1 000 000 000"
   ]
  },
  {
   "cell_type": "code",
   "execution_count": 2,
   "metadata": {},
   "outputs": [
    {
     "name": "stdout",
     "output_type": "stream",
     "text": [
      "3\n"
     ]
    }
   ],
   "source": [
    "class Solution:\n",
    "\t# @param A : list of integers\n",
    "\t# @return an integer\n",
    "    def findMinXor(self, a):\n",
    "        a.sort()\n",
    "        res = float('inf')\n",
    "        for i in range(1, len(a)):\n",
    "            curr = a[i-1]^a[i]\n",
    "            res = min(curr,res)\n",
    "        return res\n",
    "o = Solution()\n",
    "print(o.findMinXor([0,4,7,9]))"
   ]
  }
 ],
 "metadata": {
  "kernelspec": {
   "display_name": "Python 3",
   "language": "python",
   "name": "python3"
  },
  "language_info": {
   "codemirror_mode": {
    "name": "ipython",
    "version": 3
   },
   "file_extension": ".py",
   "mimetype": "text/x-python",
   "name": "python",
   "nbconvert_exporter": "python",
   "pygments_lexer": "ipython3",
   "version": "3.7.3"
  }
 },
 "nbformat": 4,
 "nbformat_minor": 2
}
