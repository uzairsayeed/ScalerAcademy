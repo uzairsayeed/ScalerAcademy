{
 "cells": [
  {
   "cell_type": "markdown",
   "metadata": {},
   "source": [
    "## Single Number II:\n",
    "Given an array of integers, every element appears thrice except for one which occurs once. Find that element which does not appear thrice. Note: Your algorithm should have a linear runtime complexity. Could you implement it without using extra memory?\n",
    "\n",
    "## Example :\n",
    "\n",
    "### Input : \n",
    "[1, 2, 4, 3, 3, 2, 2, 3, 1, 1]\n",
    "\n",
    "### Output : \n",
    "4"
   ]
  },
  {
   "cell_type": "code",
   "execution_count": 2,
   "metadata": {},
   "outputs": [
    {
     "name": "stdout",
     "output_type": "stream",
     "text": [
      "7\n"
     ]
    }
   ],
   "source": [
    "class Solution:\n",
    "\t# @param A : tuple of integers\n",
    "\t# @return an integer\n",
    "     def singleNumber(self, a):\n",
    "            res = []\n",
    "            m = max(a)\n",
    "            for i in range(32):\n",
    "                cnt_0, cnt_1 = 0, 0\n",
    "                for j in range(len(a)):\n",
    "                    if (a[j] & 1<<i) != 0:\n",
    "                        cnt_1 += 1\n",
    "                    else:\n",
    "                        cnt_0 += 1\n",
    "                #print(cnt_1, cnt_0)\n",
    "                if cnt_1%3 != 0:\n",
    "                    res.append('1')\n",
    "                elif cnt_0%3 != 0:\n",
    "                    res.append('0')\n",
    "            #print(res)\n",
    "            res = [ele for ele in reversed(res)]\n",
    "            ans = ''.join(res)\n",
    "            return int(ans,2)\n",
    "o = Solution()\n",
    "a = [2,2,2,1,1,1,5,5,5,7]\n",
    "print(o.singleNumber(a))"
   ]
  }
 ],
 "metadata": {
  "kernelspec": {
   "display_name": "Python 3",
   "language": "python",
   "name": "python3"
  },
  "language_info": {
   "codemirror_mode": {
    "name": "ipython",
    "version": 3
   },
   "file_extension": ".py",
   "mimetype": "text/x-python",
   "name": "python",
   "nbconvert_exporter": "python",
   "pygments_lexer": "ipython3",
   "version": "3.9.0"
  }
 },
 "nbformat": 4,
 "nbformat_minor": 2
}
