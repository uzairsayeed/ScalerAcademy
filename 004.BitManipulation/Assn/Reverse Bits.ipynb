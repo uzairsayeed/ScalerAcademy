{
 "cells": [
  {
   "cell_type": "markdown",
   "metadata": {},
   "source": [
    "## Reverse Bits:\n",
    "Reverse bits of an 32 bit unsigned integer \n",
    "\n",
    "### Example 1:\n",
    "x = 0,\n",
    "          00000000000000000000000000000000  \n",
    "=>        00000000000000000000000000000000\n",
    "\n",
    "return 0 \n",
    "\n",
    "### Example 2:\n",
    "x = 3,\n",
    "          00000000000000000000000000000011 \n",
    "=>        11000000000000000000000000000000\n",
    "\n",
    "return 3221225472 \n",
    "\n",
    "Since java does not have unsigned int, use long"
   ]
  },
  {
   "cell_type": "code",
   "execution_count": 8,
   "metadata": {},
   "outputs": [
    {
     "name": "stdout",
     "output_type": "stream",
     "text": [
      "0b11\n",
      "3221225472\n"
     ]
    }
   ],
   "source": [
    "class Solution:\n",
    "    # @param A : unsigned integer\n",
    "    # @return an unsigned integer\n",
    "    def reverse(self, n):\n",
    "        bi = bin(n)\n",
    "        print(bi)\n",
    "        rev = bi[-1:1:-1]\n",
    "        #print(rev)\n",
    "        rev = rev + (32 - len(rev)) * '0'\n",
    "        return int(rev, 2)\n",
    "        \n",
    "o = Solution()\n",
    "print(o.reverse(3))"
   ]
  },
  {
   "cell_type": "code",
   "execution_count": 1,
   "metadata": {},
   "outputs": [
    {
     "name": "stdout",
     "output_type": "stream",
     "text": [
      "0b101\n"
     ]
    }
   ],
   "source": [
    "n = 5\n",
    "print(bin(n))"
   ]
  }
 ],
 "metadata": {
  "kernelspec": {
   "display_name": "Python 3",
   "language": "python",
   "name": "python3"
  },
  "language_info": {
   "codemirror_mode": {
    "name": "ipython",
    "version": 3
   },
   "file_extension": ".py",
   "mimetype": "text/x-python",
   "name": "python",
   "nbconvert_exporter": "python",
   "pygments_lexer": "ipython3",
   "version": "3.7.3"
  }
 },
 "nbformat": 4,
 "nbformat_minor": 2
}
