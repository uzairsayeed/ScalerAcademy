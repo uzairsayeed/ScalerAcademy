{
 "cells": [
  {
   "cell_type": "markdown",
   "metadata": {},
   "source": [
    "## Strange Equality:\n",
    "Problem Description\n",
    "\n",
    "Given an integer A.\n",
    "\n",
    "Two numbers X and Y are defined as follows:\n",
    "\n",
    "X is the greatest number smaller than A such that XOR sum of X and A is the same as the sum of X and A.\n",
    "\n",
    "Y is the smallest number greater than A such that XOR sum of Y and A is the same as the sum of Y and A.\n",
    "\n",
    "Find and return the XOR of X and Y.\n",
    "\n",
    "NOTE 1: XOR of X and Y is defined as X ^ Y where '^' is the BITWISE XOR operator.\n",
    "\n",
    "NOTE 2: Your code will be run against a maximum of 100000 Test Cases.   \n",
    "\n",
    "### Problem Constraints\n",
    "1 <= A <= 109\n",
    "\n",
    "### Input Format\n",
    "First and only argument is an integer A.\n",
    "\n",
    "### Output Format\n",
    "Return an integer denoting the XOR of X and Y.\n",
    "\n",
    "### Example Input\n",
    "A = 5\n",
    "\n",
    "### Example Output\n",
    "10\n",
    "\n",
    "### Example Explanation\n",
    "The value of X will be 2 and the value of Y will be 8. The XOR of 2 and 8 is 10."
   ]
  },
  {
   "cell_type": "code",
   "execution_count": 1,
   "metadata": {},
   "outputs": [
    {
     "name": "stdout",
     "output_type": "stream",
     "text": [
      "10\n"
     ]
    }
   ],
   "source": [
    "class Solution:\n",
    "    # @param A : integer\n",
    "    # @return an integer\n",
    "    def solve(self, n):\n",
    "        i, j = n-1, n+1\n",
    "        n1, n2 = 0, 0\n",
    "        while i >=0:\n",
    "            xor = n^i\n",
    "            sum = n+i\n",
    "            if xor != sum:\n",
    "                i-=1\n",
    "            else:\n",
    "                n1b = i\n",
    "                break\n",
    "        while 1:\n",
    "            xor = n^j\n",
    "            sum = n+j\n",
    "            if xor != sum:\n",
    "                j+=1\n",
    "            else:\n",
    "                n2 = j\n",
    "                break\n",
    "        return n1^n2\n",
    "    \n",
    "o = Solution()\n",
    "print(o.solve(5))\n",
    "\n"
   ]
  },
  {
   "cell_type": "code",
   "execution_count": null,
   "metadata": {},
   "outputs": [],
   "source": [
    "Logic is simple\n",
    "\n",
    "when is  A^B = A+B , when A&B==0 right, they should be disjoint\n",
    "\n",
    "so for the largest number smaller than n just set the unset bits\n",
    "\n",
    "and for smallest number greater than N, just take 2^(lastsetbit+1)\n",
    "\n",
    "and return their xor as answer\n",
    "\n",
    "complexity is logN"
   ]
  },
  {
   "cell_type": "code",
   "execution_count": 68,
   "metadata": {},
   "outputs": [
    {
     "name": "stdout",
     "output_type": "stream",
     "text": [
      "10\n"
     ]
    }
   ],
   "source": [
    "class Solution:\n",
    "    # @param A : integer\n",
    "    # @return an integer\n",
    "    def solve(self, n):\n",
    "        n1 = []\n",
    "        last_set_bit = 0\n",
    "        for i in range(31,0,-1):\n",
    "            if n & 1<<i:\n",
    "                last_set_bit = i\n",
    "                break\n",
    "        #print(last_set_bit)\n",
    "        y = pow(2, last_set_bit+1)\n",
    "        for i in range(last_set_bit+1):\n",
    "            if n & 1<<i:\n",
    "                n1.append('0')\n",
    "            else:\n",
    "                n1.append('1')\n",
    "        n1.reverse()\n",
    "        x = ''.join(map(str, n1))\n",
    "        x = int(x,2)\n",
    "        return x^y\n",
    "    \n",
    "o = Solution()\n",
    "print(o.solve(5))\n",
    "\n"
   ]
  },
  {
   "cell_type": "code",
   "execution_count": null,
   "metadata": {},
   "outputs": [],
   "source": [
    "class Solution:\n",
    "    def solve(self, A):\n",
    "        bit=int(math.log(A,2))+1\n",
    "        x=0\n",
    "        for i in range(0,bit):\n",
    "            if(A & (1<<i)):\n",
    "                continue\n",
    "            else:\n",
    "                x+=(1<<i)\n",
    "        y=(1<<bit)\n",
    "        ans=x^y\n",
    "        return ans"
   ]
  }
 ],
 "metadata": {
  "kernelspec": {
   "display_name": "Python 3",
   "language": "python",
   "name": "python3"
  },
  "language_info": {
   "codemirror_mode": {
    "name": "ipython",
    "version": 3
   },
   "file_extension": ".py",
   "mimetype": "text/x-python",
   "name": "python",
   "nbconvert_exporter": "python",
   "pygments_lexer": "ipython3",
   "version": "3.7.3"
  }
 },
 "nbformat": 4,
 "nbformat_minor": 2
}
