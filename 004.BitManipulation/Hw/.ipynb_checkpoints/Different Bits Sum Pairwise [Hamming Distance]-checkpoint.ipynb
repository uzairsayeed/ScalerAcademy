{
 "cells": [
  {
   "cell_type": "markdown",
   "metadata": {},
   "source": [
    "## Different Bits Sum Pairwise:\n",
    "We define f(X, Y) as number of different corresponding bits in binary representation of X and Y. For example, f(2, 7) = 2, since binary representation of 2 and 7 are 010 and 111, respectively. The first and the third bit differ, so f(2, 7) = 2. You are given an array of N positive integers, A1, A2 ,..., AN. Find sum of f(Ai, Aj) for all pairs (i, j) such that 1 ≤ i, j ≤ N. Return the answer modulo 109+7.\n",
    "\n",
    "### For example,\n",
    "\n",
    "A=[1, 3, 5]\n",
    "\n",
    "We return\n",
    "\n",
    "f(1, 1) + f(1, 3) + f(1, 5) + \n",
    "\n",
    "f(3, 1) + f(3, 3) + f(3, 5) +\n",
    "\n",
    "f(5, 1) + f(5, 3) + f(5, 5) =\n",
    "\n",
    "0 + 1 + 1 +\n",
    "\n",
    "1 + 0 + 2 +\n",
    "\n",
    "1 + 2 + 0 = 8"
   ]
  },
  {
   "cell_type": "code",
   "execution_count": 1,
   "metadata": {},
   "outputs": [
    {
     "name": "stdout",
     "output_type": "stream",
     "text": [
      "8\n"
     ]
    }
   ],
   "source": [
    "class Solution:\n",
    "\t# @param A : tuple of integers\n",
    "\t# @return an integer\n",
    "     def cntBits(self, a):\n",
    "            res = 0\n",
    "            mod = 1000000007\n",
    "            for i in range(32):\n",
    "                cnt_0, cnt_1 = 0, 0\n",
    "                for j in range(len(a)):\n",
    "                    if (a[j] & 1<<i) != 0:\n",
    "                        cnt_1 += 1\n",
    "                    else:\n",
    "                        cnt_0 += 1\n",
    "                #print(cnt_1, cnt_0)\n",
    "                res += (cnt_0 * cnt_1 * 2)\n",
    "            return res%mod\n",
    "o = Solution()\n",
    "a = [1,3,5]\n",
    "print(o.cntBits(a))"
   ]
  }
 ],
 "metadata": {
  "kernelspec": {
   "display_name": "Python 3",
   "language": "python",
   "name": "python3"
  },
  "language_info": {
   "codemirror_mode": {
    "name": "ipython",
    "version": 3
   },
   "file_extension": ".py",
   "mimetype": "text/x-python",
   "name": "python",
   "nbconvert_exporter": "python",
   "pygments_lexer": "ipython3",
   "version": "3.7.3"
  }
 },
 "nbformat": 4,
 "nbformat_minor": 2
}
