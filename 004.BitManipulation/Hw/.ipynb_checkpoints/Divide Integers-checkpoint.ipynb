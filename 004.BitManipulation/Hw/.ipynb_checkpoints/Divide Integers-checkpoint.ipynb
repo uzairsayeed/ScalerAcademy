{
 "cells": [
  {
   "cell_type": "markdown",
   "metadata": {},
   "source": [
    "## Divide Integers:\n",
    "Divide two integers without using multiplication, division and mod operator. Return the floor of the result of the division.\n",
    "\n",
    "### Example:\n",
    "5 / 2 = 2"
   ]
  },
  {
   "cell_type": "code",
   "execution_count": 13,
   "metadata": {},
   "outputs": [
    {
     "name": "stdout",
     "output_type": "stream",
     "text": [
      "6\n"
     ]
    }
   ],
   "source": [
    "class Solution:\n",
    "\t# @param A : integer\n",
    "\t# @param B : integer\n",
    "\t# @return an integer\n",
    "    def divide(self, a, b):\n",
    "        sign = (-1 if((a<0) ^ (b<0)) else 1)\n",
    "        a, b = abs(a), abs(b)\n",
    "        q, t = 0, 0\n",
    "        for i in range(31, -1, -1): \n",
    "            if (t + (b << i) <= a): \n",
    "                t += b << i \n",
    "                q |= 1 << i\n",
    "        res = sign * q\n",
    "        if res > 2147483647:\n",
    "            res = 2147483647\n",
    "        elif res < -2147483648:\n",
    "            res = -2147483648\n",
    "        return res\n",
    "o = Solution()\n",
    "print(o.divide(30,5))"
   ]
  },
  {
   "cell_type": "code",
   "execution_count": 10,
   "metadata": {},
   "outputs": [
    {
     "name": "stdout",
     "output_type": "stream",
     "text": [
      "0b101\n"
     ]
    }
   ],
   "source": [
    "print(bin(5))"
   ]
  }
 ],
 "metadata": {
  "kernelspec": {
   "display_name": "Python 3",
   "language": "python",
   "name": "python3"
  },
  "language_info": {
   "codemirror_mode": {
    "name": "ipython",
    "version": 3
   },
   "file_extension": ".py",
   "mimetype": "text/x-python",
   "name": "python",
   "nbconvert_exporter": "python",
   "pygments_lexer": "ipython3",
   "version": "3.7.3"
  }
 },
 "nbformat": 4,
 "nbformat_minor": 2
}
