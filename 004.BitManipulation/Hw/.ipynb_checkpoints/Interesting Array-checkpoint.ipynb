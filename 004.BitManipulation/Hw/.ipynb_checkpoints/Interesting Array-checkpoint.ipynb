{
 "cells": [
  {
   "cell_type": "markdown",
   "metadata": {},
   "source": [
    "## Interesting Array:\n",
    "You have an array A[] with N elements. We have 2 types of operation available on this array :\n",
    "We can split a element B into 2 elements C and D such that B = C + D.\n",
    "We can merge 2 elements P and Q as one element R such that R = P^Q i.e XOR of P and Q.\n",
    "You have to determine whether it is possible to make array A[] containing only 1 element 0 after several splits and/or merge? \n",
    "\n",
    "### Input\n",
    "The first argument is an array of size N containing integer values Ai. \n",
    "\n",
    "(1<=N<=100000) \n",
    "\n",
    "(1<=Ai<=10^6) \n",
    "\n",
    "### Output\n",
    "Return \"Yes\" if it is possible otherwise return \"No\".\n",
    "\n",
    "## Examples\n",
    "\n",
    "### Input\n",
    "9 17\n",
    "\n",
    "### Output\n",
    "Yes\n",
    "\n",
    "### Explanation Testcase 1-\n",
    "Following is one possible sequence of operations -  \n",
    "1) Merge i.e 9 XOR 17 = 24  \n",
    "2) Split 24 into two parts each of size 12  \n",
    "3) Merge i.e 12 XOR 12 = 0  \n",
    "As there is only 1 element i.e 0. So it is possible."
   ]
  },
  {
   "cell_type": "code",
   "execution_count": 1,
   "metadata": {},
   "outputs": [
    {
     "name": "stdout",
     "output_type": "stream",
     "text": [
      "Yes\n"
     ]
    }
   ],
   "source": [
    "class Solution:\n",
    "    # @param A : list of integers\n",
    "    # @return a strings\n",
    "    def solve(self, a):\n",
    "        cnt = 0\n",
    "        for i in range(len(a)):\n",
    "            if a[i]&1 != 0:\n",
    "                cnt += 1\n",
    "        if cnt&1 != 0:\n",
    "            return 'No'\n",
    "        else:\n",
    "            return 'Yes'\n",
    "        \n",
    "o = Solution()\n",
    "print(o.solve([9,17]))"
   ]
  }
 ],
 "metadata": {
  "kernelspec": {
   "display_name": "Python 3",
   "language": "python",
   "name": "python3"
  },
  "language_info": {
   "codemirror_mode": {
    "name": "ipython",
    "version": 3
   },
   "file_extension": ".py",
   "mimetype": "text/x-python",
   "name": "python",
   "nbconvert_exporter": "python",
   "pygments_lexer": "ipython3",
   "version": "3.7.3"
  }
 },
 "nbformat": 4,
 "nbformat_minor": 2
}
