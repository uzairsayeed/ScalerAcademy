{
 "cells": [
  {
   "cell_type": "markdown",
   "metadata": {},
   "source": [
    "## Xor queries:\n",
    "You are given an array (containing only 0 and 1) as element of N length. Given L and R, you need to determine value of XOR of all elements from L to R (both inclusive) and number of unset bits (0's) in the given range of the array.\n",
    "\n",
    "### Input\n",
    "First argument contains the array of size N containing 0 and 1 only (1<=N<=100000). \n",
    "\n",
    "Second argument contains a 2D array with Q rows and 2 columns, each row represent a query with 2 columns representing L and R. \n",
    "\n",
    "(1<=Q<=100000), (1<=L<=R<=N).\n",
    "\n",
    "### Output\n",
    "Return an 2D array of Q rows and 2 columns i.e the xor value and number of unset bits in that range respectively for each query.\n",
    "\n",
    "## Examples\n",
    "### Input\n",
    "1 0 0 0 1\n",
    "\n",
    "2 4\n",
    "\n",
    "1 5 \n",
    "\n",
    "3 5\n",
    "\n",
    "### Output\n",
    "0 3\n",
    "\n",
    "0 3\n",
    "\n",
    "1 2\n",
    "\n",
    "### Explanation Testcase 1-\n",
    "In the given case the bit sequence is of length 5 and the sequence is 1 0 0 0 1. For query 1 the range is (2,4), and the answer is (array[2] xor array[3] xor array[4]) = 0, and number of zeroes are 3, so output is 0 3. Similarly for other queries."
   ]
  },
  {
   "cell_type": "code",
   "execution_count": 6,
   "metadata": {},
   "outputs": [
    {
     "name": "stdout",
     "output_type": "stream",
     "text": [
      "[[0, 3], [0, 3], [1, 2]]\n"
     ]
    }
   ],
   "source": [
    "class Solution:\n",
    "    # @param A : list of integers\n",
    "    # @param B : list of list of integers\n",
    "    # @return a list of list of integers\n",
    "    def solve(self, a, b):\n",
    "        q = len(b)\n",
    "        res = [[0 for i in range(2)] for j in range(q)]\n",
    "        t = 0\n",
    "        while t < q:\n",
    "            l = b[t][0]\n",
    "            r = b[t][1]\n",
    "            l -= 1\n",
    "            r -= 1\n",
    "            #print(l,r)\n",
    "            xor = a[l]\n",
    "            #print(xor)\n",
    "            cnt = 0\n",
    "            if a[l] == 0:\n",
    "                cnt += 1\n",
    "            for i in range(l+1,r+1):\n",
    "                if a[i] == 0:\n",
    "                    cnt += 1\n",
    "                xor = xor ^ a[i]\n",
    "            #print(xor, cnt)\n",
    "            res[t][0] = xor\n",
    "            res[t][1] = cnt\n",
    "            t += 1\n",
    "        return res\n",
    "    \n",
    "o = Solution()\n",
    "a = [1,0,0,0,1]\n",
    "b =[ [2,4],[1,5],[3,5]    \n",
    "]\n",
    "print(o.solve(a, b))\n"
   ]
  },
  {
   "cell_type": "code",
   "execution_count": null,
   "metadata": {},
   "outputs": [],
   "source": []
  }
 ],
 "metadata": {
  "kernelspec": {
   "display_name": "Python 3",
   "language": "python",
   "name": "python3"
  },
  "language_info": {
   "codemirror_mode": {
    "name": "ipython",
    "version": 3
   },
   "file_extension": ".py",
   "mimetype": "text/x-python",
   "name": "python",
   "nbconvert_exporter": "python",
   "pygments_lexer": "ipython3",
   "version": "3.7.3"
  }
 },
 "nbformat": 4,
 "nbformat_minor": 2
}
