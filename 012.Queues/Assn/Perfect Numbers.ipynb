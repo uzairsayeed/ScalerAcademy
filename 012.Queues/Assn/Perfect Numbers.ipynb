{
 "cells": [
  {
   "cell_type": "markdown",
   "metadata": {},
   "source": [
    "## Perfect Numbers:\n",
    "Problem Description\n",
    "\n",
    "Given an integer A, you have to find the Ath Perfect Number.\n",
    "\n",
    "A Perfect Number has the following properties:\n",
    "\n",
    "It comprises only 1 and 2.\n",
    "\n",
    "The number of digits in a Perfect number is even.\n",
    "\n",
    "It is a palindrome number.\n",
    "\n",
    "For example 11, 22, 112211 are Perfect numbers, where 123, 121, 782, 1 are not.\n",
    "### Problem Constraints\n",
    "1 <= A <= 100000\n",
    "### Input Format\n",
    "The only argument given is an integer A.\n",
    "### Output Format\n",
    "Return a string that denotes the Ath Perfect Number.\n",
    "## Example Input\n",
    "### Input 1:\n",
    " A = 2\n",
    "### Input 2:\n",
    " A = 3\n",
    "## Example Output\n",
    "### Output 1:\n",
    " 22\n",
    "### Output 2:\n",
    " 1111\n",
    "## Example Explanation\n",
    "### Explanation 1:\n",
    "First four perfect numbers are:\n",
    "\n",
    "1. 11\n",
    "\n",
    "2. 22\n",
    "\n",
    "3. 1111\n",
    "\n",
    "4. 1221\n",
    "### Explanation 2:\n",
    "First four perfect numbers are:\n",
    "\n",
    "1. 11\n",
    "\n",
    "2. 22\n",
    "\n",
    "3. 1111\n",
    "\n",
    "4. 1221"
   ]
  },
  {
   "cell_type": "code",
   "execution_count": 34,
   "metadata": {},
   "outputs": [
    {
     "name": "stdout",
     "output_type": "stream",
     "text": [
      "2222\n"
     ]
    }
   ],
   "source": [
    "import queue\n",
    "class Solution:\n",
    "    # @param A : integer\n",
    "    # @return a strings\n",
    "    def solve(self, a):\n",
    "        q = queue.Queue()\n",
    "        q.put([1,1])\n",
    "        q.put([2,2])\n",
    "        n = 2\n",
    "        while n <= a:\n",
    "            x = q.get()\n",
    "            n += 1\n",
    "            q.put([x[0]*10+1, n])\n",
    "            n += 1\n",
    "            q.put([x[0]*10+2, n])\n",
    "        #print(q.queue[0][1])\n",
    "        while q.queue[0][1] != a:\n",
    "            q.get()\n",
    "        res = str(q.queue[0][0])\n",
    "        return res+res[::-1]\n",
    "o = Solution()\n",
    "print(o.solve(6))"
   ]
  }
 ],
 "metadata": {
  "kernelspec": {
   "display_name": "Python 3",
   "language": "python",
   "name": "python3"
  },
  "language_info": {
   "codemirror_mode": {
    "name": "ipython",
    "version": 3
   },
   "file_extension": ".py",
   "mimetype": "text/x-python",
   "name": "python",
   "nbconvert_exporter": "python",
   "pygments_lexer": "ipython3",
   "version": "3.7.3"
  }
 },
 "nbformat": 4,
 "nbformat_minor": 2
}
