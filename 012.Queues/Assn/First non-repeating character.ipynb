{
 "cells": [
  {
   "cell_type": "markdown",
   "metadata": {},
   "source": [
    "## First non-repeating character:\n",
    "Problem Description\n",
    "\n",
    "Given a string A denoting a stream of lowercase alphabets.\n",
    "\n",
    "You have to make new string B. B is formed such that we have to find first non-repeating character each time a character is inserted to the stream and append it at the end to B. if no non-repeating character is found then append '#' at the end of B.\n",
    "### Problem Constraints\n",
    "1 <= |A| <= 100000\n",
    "### Input Format\n",
    "The only argument given is string A.\n",
    "### Output Format\n",
    "Return a string B after processing the stream of lowercase alphabets A.\n",
    "## Example Input\n",
    "### Input 1:\n",
    " A = \"abadbc\"\n",
    "### Input 2:\n",
    " A = \"abcabc\"\n",
    "## Example Output\n",
    "### Output 1:\n",
    "\"aabbdd\"\n",
    "### Output 2:\n",
    "\"aaabc#\"\n",
    "## Example Explanation\n",
    "### Explanation 1:\n",
    "\"a\"      -   first non repeating character 'a'\n",
    "\n",
    "\"ab\"     -   first non repeating character 'a'\n",
    "\n",
    "\"aba\"    -   first non repeating character 'b'\n",
    "\n",
    "\"abad\"   -   first non repeating character 'b'\n",
    "\n",
    "\"abadb\"  -   first non repeating character 'd'\n",
    "\n",
    "\"abadbc\" -   first non repeating character 'd'\n",
    "### Explanation 2:\n",
    "\"a\"      -   first non repeating character 'a'\n",
    "\n",
    "\"ab\"     -   first non repeating character 'a'\n",
    "\n",
    "\"abc\"    -   first non repeating character 'a'\n",
    "\n",
    "\"abca\"   -   first non repeating character 'b'\n",
    "\n",
    "\"abcab\"  -   first non repeating character 'c'\n",
    "\n",
    "\"abcabc\" -   no non repeating character so '#'\n"
   ]
  },
  {
   "cell_type": "code",
   "execution_count": 20,
   "metadata": {},
   "outputs": [
    {
     "name": "stdout",
     "output_type": "stream",
     "text": [
      "aaaac#dd\n"
     ]
    }
   ],
   "source": [
    "from collections import defaultdict, deque\n",
    "class Solution:\n",
    "    # @param A : string\n",
    "    # @return a strings\n",
    "    def solve(self, a):\n",
    "        n = len(a)\n",
    "        res = []\n",
    "        d = defaultdict(int)\n",
    "        d[a[0]] += 1\n",
    "        q = deque()\n",
    "        q.append(a[0])\n",
    "        res.append(a[0])\n",
    "        for i in range(1, n):\n",
    "            d[a[i]] += 1\n",
    "            q.append(a[i])\n",
    "            if d[q[0]] == 1:\n",
    "                res.append(q[0])\n",
    "            else:\n",
    "                while len(q) != 0 and d[q[0]] != 1:\n",
    "                    q.popleft()\n",
    "                if len(q) != 0:\n",
    "                    res.append(q[0])\n",
    "                else:\n",
    "                    res.append('#')\n",
    "        return ''.join(res)\n",
    "o = Solution()\n",
    "A = \"abcbacdc\"\n",
    "print(o.solve(A))"
   ]
  }
 ],
 "metadata": {
  "kernelspec": {
   "display_name": "Python 3",
   "language": "python",
   "name": "python3"
  },
  "language_info": {
   "codemirror_mode": {
    "name": "ipython",
    "version": 3
   },
   "file_extension": ".py",
   "mimetype": "text/x-python",
   "name": "python",
   "nbconvert_exporter": "python",
   "pygments_lexer": "ipython3",
   "version": "3.7.3"
  }
 },
 "nbformat": 4,
 "nbformat_minor": 2
}
