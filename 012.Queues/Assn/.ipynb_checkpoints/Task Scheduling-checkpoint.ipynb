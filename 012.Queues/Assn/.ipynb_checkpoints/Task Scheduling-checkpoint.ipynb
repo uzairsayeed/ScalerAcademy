{
 "cells": [
  {
   "cell_type": "markdown",
   "metadata": {},
   "source": [
    "## Task Scheduling:\n",
    "Problem Description\n",
    "\n",
    "A CPU has N tasks to be performed. It is to be noted that the tasks have to be performed in a specific order to avoid deadlock. In every clock cycle the CPU can either perform a task or move it to the back of the queue. You are given the current state of the scheduler queue in an array A and the required order of the tasks in an array B.\n",
    "\n",
    "Determine the minimum number of clock cycles to complete all the tasks.\n",
    "### Problem Constraints\n",
    "1 <= N <= 1000\n",
    "\n",
    "1 <= A[i], B[i] <= N\n",
    "### Input Format\n",
    "First argument consist of integer array A.\n",
    "\n",
    "Second argument consist of integer array B.\n",
    "### Output Format\n",
    "Return an integer denoting the minimum number of clock cycles required to complete all the tasks.\n",
    "## Example Input\n",
    "### Input 1:\n",
    "A = [2, 3, 1, 5, 4]\n",
    "\n",
    "B = [1, 3, 5, 4, 2]\n",
    "### Input 2:\n",
    "A = [1]\n",
    "\n",
    "B = [1]\n",
    "## Example Output\n",
    "### Output 1:\n",
    " 10\n",
    "### Output 2:\n",
    " 1\n",
    "## Example Explanation\n",
    "### Explanation 1:\n",
    "According to the order array B task 1 has to be performed first, so the CPU will move tasks 2 and 3 to the end of the queue (in 2 clock cycles).\n",
    "\n",
    "Total clock cycles till now = 2\n",
    "\n",
    "Now CPU will perform task 1.\n",
    "\n",
    "Total clock cycles till now = 3\n",
    "\n",
    "Now, queue becomes [5, 4, 2, 3]\n",
    "\n",
    "Now, CPU has to perform task 3. So it moves tasks 5, 4, and 2 to the back one-by-one.\n",
    "\n",
    "Total clock cycles till now = 6\n",
    "\n",
    "Now all the tasks in the queue are as in the required order so the CPU will perform them one-by-one.\n",
    "\n",
    "Total clock cycles = 10\n",
    "### Explanation 2:\n",
    "Directly task 1 is completed."
   ]
  },
  {
   "cell_type": "code",
   "execution_count": 40,
   "metadata": {},
   "outputs": [
    {
     "name": "stdout",
     "output_type": "stream",
     "text": [
      "10\n"
     ]
    }
   ],
   "source": [
    "import queue as Q\n",
    "class Solution:\n",
    "    # @param A : list of integers\n",
    "    # @param B : list of integers\n",
    "    # @return an integer\n",
    "    def solve(self, a, b):\n",
    "        n = len(a)\n",
    "        cnt = 0\n",
    "        q = Q.Queue()\n",
    "        for x in a:\n",
    "            q.put(x)\n",
    "        for x in b:\n",
    "            if x == q.queue[0]:\n",
    "                q.get()\n",
    "                cnt += 1\n",
    "            else:\n",
    "                while q.queue[0] != x:\n",
    "                    q.put(q.get())\n",
    "                    cnt += 1\n",
    "                q.get()\n",
    "                cnt += 1\n",
    "        return cnt\n",
    "\n",
    "        \n",
    "o = Solution()\n",
    "A = [2, 3, 1, 5, 4]\n",
    "\n",
    "B = [1, 3, 5, 4, 2]\n",
    "print(o.solve(A, B))"
   ]
  }
 ],
 "metadata": {
  "kernelspec": {
   "display_name": "Python 3",
   "language": "python",
   "name": "python3"
  },
  "language_info": {
   "codemirror_mode": {
    "name": "ipython",
    "version": 3
   },
   "file_extension": ".py",
   "mimetype": "text/x-python",
   "name": "python",
   "nbconvert_exporter": "python",
   "pygments_lexer": "ipython3",
   "version": "3.7.3"
  }
 },
 "nbformat": 4,
 "nbformat_minor": 2
}
