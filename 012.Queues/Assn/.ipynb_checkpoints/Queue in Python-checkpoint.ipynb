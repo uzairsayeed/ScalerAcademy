{
 "cells": [
  {
   "cell_type": "markdown",
   "metadata": {},
   "source": [
    "### Implementation using collections.deque:\n",
    "\n",
    "Queue in Python can be implemented using deque class from the collections module. Deque is preferred over list in the cases where we need quicker append and pop operations from both the ends of container, as deque provides an O(1) time complexity for append and pop operations as compared to list which provides O(n) time complexity. Instead of enqueue and deque, append() and popleft() functions are used.\n"
   ]
  },
  {
   "cell_type": "code",
   "execution_count": null,
   "metadata": {},
   "outputs": [],
   "source": [
    "\n",
    "# Python program to \n",
    "# demonstrate queue implementation \n",
    "# using collections.dequeue \n",
    "\n",
    "\n",
    "from collections import deque \n",
    "\n",
    "# Initializing a queue \n",
    "q = deque() \n",
    "\n",
    "# Adding elements to a queue \n",
    "q.append('a') \n",
    "q.append('b') \n",
    "q.append('c') \n",
    "\n",
    "print(\"Initial queue\") \n",
    "print(q) \n",
    "\n",
    "# Removing elements from a queue \n",
    "print(\"\\nElements dequeued from the queue\") \n",
    "print(q.popleft()) \n",
    "print(q.popleft()) \n",
    "print(q.popleft()) \n",
    "\n",
    "print(\"\\nQueue after removing elements\") \n",
    "print(q) \n",
    "\n",
    "# Uncommenting q.popleft() \n",
    "# will raise an IndexError \n",
    "# as queue is now empty \n"
   ]
  },
  {
   "cell_type": "markdown",
   "metadata": {},
   "source": [
    "### Implementation using queue.Queue:\n",
    "\n",
    "Queue is built-in module of Python which is used to implement a queue. queue.Queue(maxsize) initializes a variable to a maximum size of maxsize. A maxsize of zero ‘0’ means a infinite queue. This Queue follows FIFO rule.\n",
    "There are various functions available in this module:\n",
    "\n",
    "maxsize – Number of items allowed in the queue.\n",
    "\n",
    "empty() – Return True if the queue is empty, False otherwise.\n",
    "\n",
    "full() – Return True if there are maxsize items in the queue. If the queue was initialized with maxsize=0 (the default), \n",
    "then full() never returns True.\n",
    "\n",
    "get() – Remove and return an item from the queue. If queue is empty, wait until an item is available.\n",
    "\n",
    "get_nowait() – Return an item if one is immediately available, else raise QueueEmpty.\n",
    "\n",
    "put(item) – Put an item into the queue. If the queue is full, wait until a free slot is available before adding the item.\n",
    "\n",
    "put_nowait(item) – Put an item into the queue without blocking.\n",
    "\n",
    "qsize() – Return the number of items in the queue. If no free slot is immediately available, raise QueueFull.\n"
   ]
  },
  {
   "cell_type": "code",
   "execution_count": null,
   "metadata": {},
   "outputs": [],
   "source": [
    "# Python program to \n",
    "# demonstrate implementation of \n",
    "# queue using queue module \n",
    "\n",
    "\n",
    "from queue import Queue \n",
    "\n",
    "# Initializing a queue \n",
    "q = Queue(maxsize = 3) \n",
    "\n",
    "# qsize() give the maxsize \n",
    "# of the Queue \n",
    "print(q.qsize()) \n",
    "\n",
    "# Adding of element to queue \n",
    "q.put('a') \n",
    "q.put('b') \n",
    "q.put('c') \n",
    "\n",
    "# Return Boolean for Full \n",
    "# Queue \n",
    "print(\"\\nFull: \", q.full()) \n",
    "\n",
    "# Removing element from queue \n",
    "print(\"\\nElements dequeued from the queue\") \n",
    "print(q.get()) \n",
    "print(q.get()) \n",
    "print(q.get()) \n",
    "\n",
    "# Return Boolean for Empty \n",
    "# Queue \n",
    "print(\"\\nEmpty: \", q.empty()) \n",
    "\n",
    "q.put(1) \n",
    "print(\"\\nEmpty: \", q.empty()) \n",
    "print(\"Full: \", q.full()) \n",
    "\n",
    "# This would result into Infinite \n",
    "# Loop as the Queue is empty. \n",
    "# print(q.get()) \n"
   ]
  }
 ],
 "metadata": {
  "kernelspec": {
   "display_name": "Python 3",
   "language": "python",
   "name": "python3"
  },
  "language_info": {
   "codemirror_mode": {
    "name": "ipython",
    "version": 3
   },
   "file_extension": ".py",
   "mimetype": "text/x-python",
   "name": "python",
   "nbconvert_exporter": "python",
   "pygments_lexer": "ipython3",
   "version": "3.7.3"
  }
 },
 "nbformat": 4,
 "nbformat_minor": 2
}
