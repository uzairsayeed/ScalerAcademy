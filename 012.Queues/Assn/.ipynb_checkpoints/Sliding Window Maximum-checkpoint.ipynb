{
 "cells": [
  {
   "cell_type": "markdown",
   "metadata": {},
   "source": [
    "## Sliding Window Maximum:\n",
    "Problem Description\n",
    "\n",
    "Given an array of integers A. There is a sliding window of size B which is moving from the very left of the array to the very right. You can only see the B numbers in the window. Each time the sliding window moves rightwards by one position. You have to find the maximum for each window.\n",
    "\n",
    "Return an array C, where C[i] is the maximum value in the array from A[i] to A[i+B-1].\n",
    "\n",
    "Refer to the given example for clarity.\n",
    "### NOTE: \n",
    "If B > length of the array, return 1 element with the max of the array.\n",
    "### Problem Constraints\n",
    "1 <= |A|, B <= 106\n",
    "### Input Format\n",
    "The first argument given is the integer array A.\n",
    "\n",
    "The second argument given is the integer B.\n",
    "### Output Format\n",
    "Return an array C, where C[i] is the maximum value of from A[i] to A[i+B-1].\n",
    "## Example Input\n",
    "### Input 1:\n",
    " A = [1, 3, -1, -3, 5, 3, 6, 7]\n",
    " \n",
    " B = 3\n",
    "### Input 2:\n",
    " A = [1, 2, 3, 4, 2, 7, 1, 3, 6]\n",
    " \n",
    " B = 6\n",
    "## Example Output\n",
    "### Output 1:\n",
    " [3, 3, 5, 5, 6, 7]\n",
    "### Output 2:\n",
    " [7, 7, 7, 7]\n",
    "## Example Explanation\n",
    "### Explanation 1:\n",
    " Window position     | Max\n",
    " --------------------|-------\n",
    " [1 3 -1] -3 5 3 6 7 | 3\n",
    " 1 [3 -1 -3] 5 3 6 7 | 3\n",
    " 1 3 [-1 -3 5] 3 6 7 | 5\n",
    " 1 3 -1 [-3 5 3] 6 7 | 5\n",
    " 1 3 -1 -3 [5 3 6] 7 | 6\n",
    " 1 3 -1 -3 5 [3 6 7] | 7\n",
    " \n",
    "### Explanation 2:\n",
    " Window position     | Max\n",
    " --------------------|-------\n",
    " [1 2 3 4 2 7] 1 3 6 | 7\n",
    " 1 [2 3 4 2 7 1] 3 6 | 7\n",
    " 1 2 [3 4 2 7 1 3] 6 | 7\n",
    " 1 2 3 [4 2 7 1 3 6] | 7"
   ]
  },
  {
   "cell_type": "code",
   "execution_count": 16,
   "metadata": {
    "scrolled": true
   },
   "outputs": [
    {
     "name": "stdout",
     "output_type": "stream",
     "text": [
      "[7, 7, 7, 7]\n"
     ]
    }
   ],
   "source": [
    "from collections import deque\n",
    "class Solution:\n",
    "    # @param A : tuple of integers\n",
    "    # @param B : integer\n",
    "    # @return a list of integers\n",
    "    def slidingMaximum(self, a, k):\n",
    "        n = len(a)\n",
    "        if k >= n:\n",
    "            return [max(a)]\n",
    "        q = deque()\n",
    "        res = []\n",
    "        q.append(0)\n",
    "        if k == 1:\n",
    "            res.append(a[0])\n",
    "        for i in range(1, n):\n",
    "            while len(q) != 0 and a[q[-1]] < a[i]:\n",
    "                q.pop()\n",
    "            q.append(i)\n",
    "            if q[0] == i-k:\n",
    "                q.popleft()\n",
    "            if i >= k-1:\n",
    "                res.append(a[q[0]])\n",
    "        return res\n",
    "o = Solution()\n",
    "A = [2, 5, -1, 7, -3, -1, -2]\n",
    "B = 4\n",
    "print(o.slidingMaximum(A,B))"
   ]
  }
 ],
 "metadata": {
  "kernelspec": {
   "display_name": "Python 3",
   "language": "python",
   "name": "python3"
  },
  "language_info": {
   "codemirror_mode": {
    "name": "ipython",
    "version": 3
   },
   "file_extension": ".py",
   "mimetype": "text/x-python",
   "name": "python",
   "nbconvert_exporter": "python",
   "pygments_lexer": "ipython3",
   "version": "3.7.3"
  }
 },
 "nbformat": 4,
 "nbformat_minor": 2
}
