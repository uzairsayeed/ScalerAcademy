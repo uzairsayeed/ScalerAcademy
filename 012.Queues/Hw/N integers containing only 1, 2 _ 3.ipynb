{
 "cells": [
  {
   "cell_type": "markdown",
   "metadata": {},
   "source": [
    "## N integers containing only 1, 2 & 3:\n",
    "Problem Description\n",
    "\n",
    "Given an integer A. Find and Return first positive A integers in ascending order containing only digits 1, 2 and 3.\n",
    "### NOTE: \n",
    "All the A integers will fit in 32 bit integer.\n",
    "### Problem Constraints\n",
    "1 <= A <= 29500\n",
    "### Input Format\n",
    "The only argument given is integer A.\n",
    "### Output Format\n",
    "Return an integer array denoting the first positive A integers in ascending order containing only digits 1, 2 and 3.\n",
    "## Example Input\n",
    "### Input 1:\n",
    " A = 3\n",
    "### Input 2:\n",
    " A = 7\n",
    "## Example Output\n",
    "### Output 1:\n",
    " [1, 2, 3]\n",
    "### Output 2:\n",
    " [1, 2, 3, 11, 12, 13, 21]\n",
    "## Example Explanation\n",
    "### Explanation 1:\n",
    " Output denotes the first 3 integers that contains only digits 1, 2 and 3.\n",
    "### Explanation 2:\n",
    " Output denotes the first 3 integers that contains only digits 1, 2 and 3.\n"
   ]
  },
  {
   "cell_type": "code",
   "execution_count": 121,
   "metadata": {},
   "outputs": [
    {
     "name": "stdout",
     "output_type": "stream",
     "text": [
      "[1, 2, 3, 11, 12, 13, 21, 22, 23, 31, 32, 33, 111, 112, 113, 121]\n"
     ]
    }
   ],
   "source": [
    "from collections import deque\n",
    "class Solution:\n",
    "    # @param A : integer\n",
    "    # @return a list of integers\n",
    "    def solve(self, a):\n",
    "        q = deque()\n",
    "        q.append([1,1])\n",
    "        q.append([2,2])\n",
    "        q.append([3,3])\n",
    "        n = 3\n",
    "        res = []\n",
    "        bFlag = True\n",
    "        while n <= a:\n",
    "            if bFlag:\n",
    "                res.append(1)\n",
    "                res.append(2)\n",
    "                res.append(3)\n",
    "                bFlag = False\n",
    "            x = q.popleft()\n",
    "            if x[1] > 3:\n",
    "                res.append(x[0])\n",
    "            n += 1\n",
    "            q.append([x[0]*10+1, n])\n",
    "            n += 1\n",
    "            q.append([x[0]*10+2, n])\n",
    "            n += 1\n",
    "            q.append([x[0]*10+3, n])\n",
    "        if bFlag:\n",
    "            for i in range(a):\n",
    "                res.append(i+1)\n",
    "        #print(q[0][1])\n",
    "        while q[0][1] <= a:\n",
    "            x = q.popleft()\n",
    "            if x[1] > 3:\n",
    "                res.append(x[0])\n",
    "        return res\n",
    "o = Solution()\n",
    "A = 16\n",
    "\n",
    "print(o.solve(A))\n",
    "        \n"
   ]
  },
  {
   "cell_type": "code",
   "execution_count": 122,
   "metadata": {},
   "outputs": [
    {
     "name": "stdout",
     "output_type": "stream",
     "text": [
      "[1, 2, 3, 11, 12, 13, 21, 22, 23, 31, 32, 33, 111, 112, 113, 121]\n"
     ]
    }
   ],
   "source": [
    "from collections import deque \n",
    "class Solution:\n",
    "    # @param A : integer\n",
    "    # @return a list of integers\n",
    "    def solve(self, A):\n",
    "        ans = []\n",
    "        q = deque()\n",
    "        q.append(1);\n",
    "        q.append(2);\n",
    "        q.append(3);    \n",
    "        while(len(ans) < A):\n",
    "            x = q.popleft()            \n",
    "            ans.append(x)\n",
    "            x1 = x*10 + 1\n",
    "            x2 = x*10 + 2\n",
    "            x3 = x*10 + 3\n",
    "            q.append(x1)\n",
    "            q.append(x2)\n",
    "            q.append(x3)        \n",
    "        return ans\n",
    "o = Solution()\n",
    "A = 16\n",
    "\n",
    "print(o.solve(A))"
   ]
  },
  {
   "cell_type": "code",
   "execution_count": null,
   "metadata": {},
   "outputs": [],
   "source": [
    "6 1 3 3 3 6 6 \n",
    "0 --> 31\n",
    "\n",
    "1 1 0\n",
    "0 0 1\n",
    "0 1 1\n",
    "0 1 1"
   ]
  }
 ],
 "metadata": {
  "kernelspec": {
   "display_name": "Python 3",
   "language": "python",
   "name": "python3"
  },
  "language_info": {
   "codemirror_mode": {
    "name": "ipython",
    "version": 3
   },
   "file_extension": ".py",
   "mimetype": "text/x-python",
   "name": "python",
   "nbconvert_exporter": "python",
   "pygments_lexer": "ipython3",
   "version": "3.7.3"
  }
 },
 "nbformat": 4,
 "nbformat_minor": 2
}
