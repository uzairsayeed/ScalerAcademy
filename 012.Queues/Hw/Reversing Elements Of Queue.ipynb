{
 "cells": [
  {
   "cell_type": "markdown",
   "metadata": {},
   "source": [
    "## Reversing Elements Of Queue:\n",
    "Problem Description\n",
    "\n",
    "Given an array of integers A and an integer B. We need to reverse the order of the first B elements of the array, leaving the other elements in the same relative order.\n",
    "### NOTE: \n",
    "You are required to first insert elements into an auxiliary queue then perform Reversal of first B elements.\n",
    "### Problem Constraints\n",
    "1 <= B <= length of the array <= 200000\n",
    "\n",
    "1 <= A[i] <= 100000\n",
    "### Input Format\n",
    "The argument given is the integer array A and an integer B.\n",
    "### Output Format\n",
    "Return an array of integer after reversing the first B elements of A using queue.\n",
    "## Example Input\n",
    "### Input 1:\n",
    " A = [1, 2, 3, 4, 5]\n",
    " \n",
    " B = 3\n",
    "### Input 2:\n",
    " A = [5, 17, 100, 11]\n",
    "\n",
    " B = 2\n",
    "## Example Output\n",
    "### Output 1:\n",
    " [3, 2, 1, 4, 5]\n",
    "### Output 2:\n",
    " [17, 5, 100, 11]\n",
    "## Example Explanation\n",
    "### Explanation 1:\n",
    " Reverse first 3 elements so the array becomes [3, 2, 1, 4, 5]\n",
    "### Explanation 2:\n",
    " Reverse first 2 elements so the array becomes [17, 5, 100, 11]"
   ]
  },
  {
   "cell_type": "code",
   "execution_count": 11,
   "metadata": {},
   "outputs": [
    {
     "name": "stdout",
     "output_type": "stream",
     "text": [
      "deque([17, 5, 100, 11])\n"
     ]
    }
   ],
   "source": [
    "from collections import deque\n",
    "class Solution:\n",
    "    # @param A : list of integers\n",
    "    # @param B : integer\n",
    "    # @return a list of integers\n",
    "    def solve(self, a, k):\n",
    "        n = len(a)\n",
    "        q = deque()\n",
    "        for i in range(k):\n",
    "            q.append(a[i])\n",
    "        for i in range(k, n):\n",
    "            q.append(a[i])\n",
    "        while len(s) != 0:\n",
    "            q.append(s.pop())\n",
    "        #print(q)\n",
    "        t = n-k\n",
    "        while t != 0:\n",
    "            q.append(q.popleft())\n",
    "            t-=1\n",
    "        return q                  \n",
    "o = Solution()\n",
    "A = [5, 17, 100, 11]\n",
    "\n",
    "B = 2\n",
    "print(o.solve(A,B))\n"
   ]
  },
  {
   "cell_type": "code",
   "execution_count": 16,
   "metadata": {},
   "outputs": [
    {
     "name": "stdout",
     "output_type": "stream",
     "text": [
      "deque([5, 17])\n",
      "[17, 5, 100, 11]\n"
     ]
    }
   ],
   "source": [
    "from collections import deque\n",
    "\n",
    "class Solution:\n",
    "    # @param A : list of integers\n",
    "    # @param B : integer\n",
    "    # @return a list of integers\n",
    "    def solve(self, A, B):\n",
    "        n = len(A)\n",
    "        if n < 2: \n",
    "            return A\n",
    "        q = deque()\n",
    "        for i in range(B):\n",
    "            q.append(A[i])\n",
    "        print(q)\n",
    "        i = B-1    \n",
    "        while(len(q) != 0):\n",
    "            A[i] = q.popleft()\n",
    "            i-=1\n",
    "            \n",
    "        return A\n",
    "o = Solution()\n",
    "A = [5, 17, 100, 11]\n",
    "\n",
    "B = 2\n",
    "print(o.solve(A,B))\n"
   ]
  }
 ],
 "metadata": {
  "kernelspec": {
   "display_name": "Python 3",
   "language": "python",
   "name": "python3"
  },
  "language_info": {
   "codemirror_mode": {
    "name": "ipython",
    "version": 3
   },
   "file_extension": ".py",
   "mimetype": "text/x-python",
   "name": "python",
   "nbconvert_exporter": "python",
   "pygments_lexer": "ipython3",
   "version": "3.7.3"
  }
 },
 "nbformat": 4,
 "nbformat_minor": 2
}
