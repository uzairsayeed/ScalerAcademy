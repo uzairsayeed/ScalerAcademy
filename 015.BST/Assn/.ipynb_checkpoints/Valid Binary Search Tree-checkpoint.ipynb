{
 "cells": [
  {
   "cell_type": "markdown",
   "metadata": {},
   "source": [
    "## Valid Binary Search Tree:\n",
    "Problem Description\n",
    "\n",
    "Given a binary tree represented by root A.\n",
    "\n",
    "Assume a BST is defined as follows:\n",
    "\n",
    "1) The left subtree of a node contains only nodes with keys less than the node's key.\n",
    "\n",
    "2) The right subtree of a node contains only nodes with keys greater than the node's key.\n",
    "\n",
    "3) Both the left and right subtrees must also be binary search trees.\n",
    "### Problem Constraints\n",
    "1 <= Number of nodes in binary tree <= 100000\n",
    "\n",
    "0 <= node values <= 10^9\n",
    "### Input Format\n",
    "First and only argument is head of the binary tree A.\n",
    "### Output Format\n",
    "Return 0 if false and 1 if true.\n",
    "## Example Input\n",
    "### Input 1:\n",
    " \n",
    "       1\n",
    "      \n",
    "      /  \\\n",
    "     \n",
    "     2    3\n",
    "### Input 2:\n",
    " \n",
    "      2\n",
    "     \n",
    "     / \\\n",
    "    \n",
    "    1   3\n",
    "## Example Output\n",
    "### Output 1:\n",
    " 0\n",
    "### Output 2:\n",
    " 1\n",
    "## Example Explanation\n",
    "### Explanation 1:\n",
    " 2 is not less than 1 but is in left subtree of 1.\n",
    "### Explanation 2:\n",
    "Satisfies all conditions."
   ]
  },
  {
   "cell_type": "code",
   "execution_count": null,
   "metadata": {},
   "outputs": [],
   "source": [
    "# Definition for a  binary tree node\n",
    "# class TreeNode:\n",
    "#\tdef __init__(self, x):\n",
    "#\t\tself.val = x\n",
    "#\t\tself.left = None\n",
    "#\t\tself.right = None\n",
    "# Note: Inorder traversal of a BST will always be sorted\n",
    "class Solution:\n",
    "    # @param A : root node of tree\n",
    "    # @return an integer\n",
    "    def isValidBST(self, root):\n",
    "        res = self.isValidBSTHelper(root)\n",
    "        return res[2]\n",
    "    def isValidBSTHelper(self, root):\n",
    "        if not root:\n",
    "            return [float('-inf'), float('inf'), True]\n",
    "        lst = self.isValidBSTHelper(root.left)\n",
    "        rst = self.isValidBSTHelper(root.right)\n",
    "        if root.val < lst[0] or root.val > rst[1]:\n",
    "            isBST = False\n",
    "            return [-1, -1, False]\n",
    "        return [max(root.val, rst[0]), min(root.val, lst[1]), True]\n",
    "        \n"
   ]
  }
 ],
 "metadata": {
  "kernelspec": {
   "display_name": "Python 3",
   "language": "python",
   "name": "python3"
  },
  "language_info": {
   "codemirror_mode": {
    "name": "ipython",
    "version": 3
   },
   "file_extension": ".py",
   "mimetype": "text/x-python",
   "name": "python",
   "nbconvert_exporter": "python",
   "pygments_lexer": "ipython3",
   "version": "3.7.3"
  }
 },
 "nbformat": 4,
 "nbformat_minor": 2
}
